{
 "cells": [
  {
   "cell_type": "markdown",
   "metadata": {},
   "source": [
    "# Q Find sum of marks of the school\n",
    "Q Count students Genderwise\n",
    "    F  : 5\n",
    "    M  : 6\n",
    "Q Classwise sum of marks\n",
    "10   240\n",
    "11    360\n",
    "12    450\n",
    "\n",
    "Q 10  Cricket  3\n",
    "10    Chess    2\n",
    "10     Hockey  1\n",
    "11     Cricket  1\n",
    "\n",
    "Q  10 Cricket M   1\n",
    "10    Cricket F   2\n",
    "10    Chess   M   1\n",
    "10    chess   F   1\n",
    "\n",
    "#summarised data\n",
    "1 column\n",
    "2 column\n",
    "\n",
    "select sum(salary) from emp group by class\n",
    "10   30303030\n",
    "11   303030\n",
    "12   33030"
   ]
  },
  {
   "cell_type": "markdown",
   "metadata": {},
   "source": [
    "# Q make a new data frame containing class 10 male students\n",
    "Q Make a new dataframe of students playing cricket\n",
    "Q Find the average of marks of all sports students\n",
    "Q Find the average of marks of students playing hockey\n",
    "Q Find the max marks secured by a girl student playing cricket"
   ]
  },
  {
   "cell_type": "code",
   "execution_count": 2,
   "metadata": {},
   "outputs": [
    {
     "data": {
      "text/html": [
       "<div>\n",
       "<style scoped>\n",
       "    .dataframe tbody tr th:only-of-type {\n",
       "        vertical-align: middle;\n",
       "    }\n",
       "\n",
       "    .dataframe tbody tr th {\n",
       "        vertical-align: top;\n",
       "    }\n",
       "\n",
       "    .dataframe thead th {\n",
       "        text-align: right;\n",
       "    }\n",
       "</style>\n",
       "<table border=\"1\" class=\"dataframe\">\n",
       "  <thead>\n",
       "    <tr style=\"text-align: right;\">\n",
       "      <th></th>\n",
       "      <th>RollNo</th>\n",
       "      <th>Name</th>\n",
       "      <th>Class</th>\n",
       "      <th>Game</th>\n",
       "      <th>Gender</th>\n",
       "      <th>Marks</th>\n",
       "    </tr>\n",
       "  </thead>\n",
       "  <tbody>\n",
       "    <tr>\n",
       "      <th>0</th>\n",
       "      <td>10001</td>\n",
       "      <td>abc</td>\n",
       "      <td>10</td>\n",
       "      <td>Cricket</td>\n",
       "      <td>M</td>\n",
       "      <td>99</td>\n",
       "    </tr>\n",
       "    <tr>\n",
       "      <th>1</th>\n",
       "      <td>10002</td>\n",
       "      <td>rahul</td>\n",
       "      <td>10</td>\n",
       "      <td>Hockey</td>\n",
       "      <td>F</td>\n",
       "      <td>88</td>\n",
       "    </tr>\n",
       "    <tr>\n",
       "      <th>2</th>\n",
       "      <td>10003</td>\n",
       "      <td>seema</td>\n",
       "      <td>11</td>\n",
       "      <td>Cricket</td>\n",
       "      <td>M</td>\n",
       "      <td>77</td>\n",
       "    </tr>\n",
       "    <tr>\n",
       "      <th>3</th>\n",
       "      <td>10004</td>\n",
       "      <td>anu</td>\n",
       "      <td>11</td>\n",
       "      <td>Cricket</td>\n",
       "      <td>M</td>\n",
       "      <td>99</td>\n",
       "    </tr>\n",
       "    <tr>\n",
       "      <th>4</th>\n",
       "      <td>10005</td>\n",
       "      <td>rita</td>\n",
       "      <td>12</td>\n",
       "      <td>Hockey</td>\n",
       "      <td>M</td>\n",
       "      <td>66</td>\n",
       "    </tr>\n",
       "    <tr>\n",
       "      <th>5</th>\n",
       "      <td>10006</td>\n",
       "      <td>manju</td>\n",
       "      <td>12</td>\n",
       "      <td>Chess</td>\n",
       "      <td>F</td>\n",
       "      <td>77</td>\n",
       "    </tr>\n",
       "    <tr>\n",
       "      <th>6</th>\n",
       "      <td>10007</td>\n",
       "      <td>tina</td>\n",
       "      <td>12</td>\n",
       "      <td>Cricket</td>\n",
       "      <td>F</td>\n",
       "      <td>87</td>\n",
       "    </tr>\n",
       "    <tr>\n",
       "      <th>7</th>\n",
       "      <td>10008</td>\n",
       "      <td>anil</td>\n",
       "      <td>10</td>\n",
       "      <td>Hockey</td>\n",
       "      <td>M</td>\n",
       "      <td>76</td>\n",
       "    </tr>\n",
       "    <tr>\n",
       "      <th>8</th>\n",
       "      <td>10009</td>\n",
       "      <td>rajan</td>\n",
       "      <td>11</td>\n",
       "      <td>Chess</td>\n",
       "      <td>F</td>\n",
       "      <td>34</td>\n",
       "    </tr>\n",
       "    <tr>\n",
       "      <th>9</th>\n",
       "      <td>10010</td>\n",
       "      <td>deepak</td>\n",
       "      <td>10</td>\n",
       "      <td>Chess</td>\n",
       "      <td>M</td>\n",
       "      <td>46</td>\n",
       "    </tr>\n",
       "    <tr>\n",
       "      <th>10</th>\n",
       "      <td>10011</td>\n",
       "      <td>manish</td>\n",
       "      <td>12</td>\n",
       "      <td>Hockey</td>\n",
       "      <td>F</td>\n",
       "      <td>58</td>\n",
       "    </tr>\n",
       "    <tr>\n",
       "      <th>11</th>\n",
       "      <td>10012</td>\n",
       "      <td>hina</td>\n",
       "      <td>12</td>\n",
       "      <td>Hockey</td>\n",
       "      <td>M</td>\n",
       "      <td>58</td>\n",
       "    </tr>\n",
       "    <tr>\n",
       "      <th>12</th>\n",
       "      <td>10013</td>\n",
       "      <td>rqtyui</td>\n",
       "      <td>10</td>\n",
       "      <td>Cricket</td>\n",
       "      <td>M</td>\n",
       "      <td>99</td>\n",
       "    </tr>\n",
       "    <tr>\n",
       "      <th>13</th>\n",
       "      <td>10014</td>\n",
       "      <td>sushil</td>\n",
       "      <td>10</td>\n",
       "      <td>Hockey</td>\n",
       "      <td>F</td>\n",
       "      <td>88</td>\n",
       "    </tr>\n",
       "    <tr>\n",
       "      <th>14</th>\n",
       "      <td>10015</td>\n",
       "      <td>rajat</td>\n",
       "      <td>11</td>\n",
       "      <td>Cricket</td>\n",
       "      <td>M</td>\n",
       "      <td>77</td>\n",
       "    </tr>\n",
       "    <tr>\n",
       "      <th>15</th>\n",
       "      <td>10016</td>\n",
       "      <td>rajeev</td>\n",
       "      <td>11</td>\n",
       "      <td>Cricket</td>\n",
       "      <td>M</td>\n",
       "      <td>99</td>\n",
       "    </tr>\n",
       "    <tr>\n",
       "      <th>16</th>\n",
       "      <td>10017</td>\n",
       "      <td>tina</td>\n",
       "      <td>12</td>\n",
       "      <td>Hockey</td>\n",
       "      <td>M</td>\n",
       "      <td>66</td>\n",
       "    </tr>\n",
       "    <tr>\n",
       "      <th>17</th>\n",
       "      <td>10018</td>\n",
       "      <td>ranju</td>\n",
       "      <td>12</td>\n",
       "      <td>Chess</td>\n",
       "      <td>F</td>\n",
       "      <td>77</td>\n",
       "    </tr>\n",
       "    <tr>\n",
       "      <th>18</th>\n",
       "      <td>10019</td>\n",
       "      <td>jini</td>\n",
       "      <td>12</td>\n",
       "      <td>Cricket</td>\n",
       "      <td>F</td>\n",
       "      <td>87</td>\n",
       "    </tr>\n",
       "    <tr>\n",
       "      <th>19</th>\n",
       "      <td>10020</td>\n",
       "      <td>kini</td>\n",
       "      <td>10</td>\n",
       "      <td>Hockey</td>\n",
       "      <td>M</td>\n",
       "      <td>76</td>\n",
       "    </tr>\n",
       "    <tr>\n",
       "      <th>20</th>\n",
       "      <td>10021</td>\n",
       "      <td>kamna</td>\n",
       "      <td>11</td>\n",
       "      <td>Chess</td>\n",
       "      <td>F</td>\n",
       "      <td>34</td>\n",
       "    </tr>\n",
       "    <tr>\n",
       "      <th>21</th>\n",
       "      <td>10022</td>\n",
       "      <td>ranju</td>\n",
       "      <td>10</td>\n",
       "      <td>Chess</td>\n",
       "      <td>M</td>\n",
       "      <td>46</td>\n",
       "    </tr>\n",
       "    <tr>\n",
       "      <th>22</th>\n",
       "      <td>10023</td>\n",
       "      <td>arti</td>\n",
       "      <td>12</td>\n",
       "      <td>Hockey</td>\n",
       "      <td>F</td>\n",
       "      <td>58</td>\n",
       "    </tr>\n",
       "    <tr>\n",
       "      <th>23</th>\n",
       "      <td>10024</td>\n",
       "      <td>mini</td>\n",
       "      <td>12</td>\n",
       "      <td>Hockey</td>\n",
       "      <td>M</td>\n",
       "      <td>58</td>\n",
       "    </tr>\n",
       "  </tbody>\n",
       "</table>\n",
       "</div>"
      ],
      "text/plain": [
       "    RollNo    Name  Class     Game Gender  Marks\n",
       "0    10001     abc     10  Cricket      M     99\n",
       "1    10002   rahul     10   Hockey      F     88\n",
       "2    10003   seema     11  Cricket      M     77\n",
       "3    10004     anu     11  Cricket      M     99\n",
       "4    10005    rita     12   Hockey      M     66\n",
       "5    10006   manju     12    Chess      F     77\n",
       "6    10007    tina     12  Cricket      F     87\n",
       "7    10008    anil     10   Hockey      M     76\n",
       "8    10009   rajan     11    Chess      F     34\n",
       "9    10010  deepak     10    Chess      M     46\n",
       "10   10011  manish     12   Hockey      F     58\n",
       "11   10012    hina     12   Hockey      M     58\n",
       "12   10013  rqtyui     10  Cricket      M     99\n",
       "13   10014  sushil     10   Hockey      F     88\n",
       "14   10015   rajat     11  Cricket      M     77\n",
       "15   10016  rajeev     11  Cricket      M     99\n",
       "16   10017    tina     12   Hockey      M     66\n",
       "17   10018   ranju     12    Chess      F     77\n",
       "18   10019    jini     12  Cricket      F     87\n",
       "19   10020    kini     10   Hockey      M     76\n",
       "20   10021   kamna     11    Chess      F     34\n",
       "21   10022   ranju     10    Chess      M     46\n",
       "22   10023    arti     12   Hockey      F     58\n",
       "23   10024    mini     12   Hockey      M     58"
      ]
     },
     "execution_count": 2,
     "metadata": {},
     "output_type": "execute_result"
    }
   ],
   "source": [
    "import pandas as pd\n",
    "import numpy as np\n",
    "df1 =pd.read_csv(\"marks.csv\") \n",
    "df1.info()"
   ]
  },
  {
   "cell_type": "code",
   "execution_count": 13,
   "metadata": {},
   "outputs": [],
   "source": [
    "df10 = df[ (df[\"Class\"]==10) & (df[\"Gender\"]==\"F\")]\n",
    "df11 = df[ df[\"Class\"]==11]\n",
    "df12 = df[ df[\"Class\"]==12]\n"
   ]
  },
  {
   "cell_type": "code",
   "execution_count": 14,
   "metadata": {},
   "outputs": [
    {
     "data": {
      "text/html": [
       "<div>\n",
       "<style scoped>\n",
       "    .dataframe tbody tr th:only-of-type {\n",
       "        vertical-align: middle;\n",
       "    }\n",
       "\n",
       "    .dataframe tbody tr th {\n",
       "        vertical-align: top;\n",
       "    }\n",
       "\n",
       "    .dataframe thead th {\n",
       "        text-align: right;\n",
       "    }\n",
       "</style>\n",
       "<table border=\"1\" class=\"dataframe\">\n",
       "  <thead>\n",
       "    <tr style=\"text-align: right;\">\n",
       "      <th></th>\n",
       "      <th>RollNo</th>\n",
       "      <th>Name</th>\n",
       "      <th>Class</th>\n",
       "      <th>Game</th>\n",
       "      <th>Gender</th>\n",
       "      <th>Marks</th>\n",
       "    </tr>\n",
       "  </thead>\n",
       "  <tbody>\n",
       "    <tr>\n",
       "      <th>1</th>\n",
       "      <td>10002</td>\n",
       "      <td>rahul</td>\n",
       "      <td>10</td>\n",
       "      <td>Hockey</td>\n",
       "      <td>F</td>\n",
       "      <td>88</td>\n",
       "    </tr>\n",
       "    <tr>\n",
       "      <th>13</th>\n",
       "      <td>10014</td>\n",
       "      <td>sushil</td>\n",
       "      <td>10</td>\n",
       "      <td>Hockey</td>\n",
       "      <td>F</td>\n",
       "      <td>88</td>\n",
       "    </tr>\n",
       "  </tbody>\n",
       "</table>\n",
       "</div>"
      ],
      "text/plain": [
       "    RollNo    Name  Class    Game Gender  Marks\n",
       "1    10002   rahul     10  Hockey      F     88\n",
       "13   10014  sushil     10  Hockey      F     88"
      ]
     },
     "execution_count": 14,
     "metadata": {},
     "output_type": "execute_result"
    }
   ],
   "source": [
    "df10"
   ]
  },
  {
   "cell_type": "code",
   "execution_count": null,
   "metadata": {},
   "outputs": [],
   "source": [
    "import pandas as pd\n",
    "import numpy as np\n",
    "df1 =pd.read_csv(\"marks.csv\") \n",
    "df1.info()"
   ]
  },
  {
   "cell_type": "code",
   "execution_count": null,
   "metadata": {},
   "outputs": [],
   "source": []
  },
  {
   "cell_type": "code",
   "execution_count": null,
   "metadata": {},
   "outputs": [],
   "source": []
  },
  {
   "cell_type": "code",
   "execution_count": 15,
   "metadata": {},
   "outputs": [
    {
     "data": {
      "text/plain": [
       "{('Chess', 'F'): [5, 8, 17, 20], ('Chess', 'M'): [9, 21], ('Cricket', 'F'): [6, 18], ('Cricket', 'M'): [0, 2, 3, 12, 14, 15], ('Hockey', 'F'): [1, 10, 13, 22], ('Hockey', 'M'): [4, 7, 11, 16, 19, 23]}"
      ]
     },
     "execution_count": 15,
     "metadata": {},
     "output_type": "execute_result"
    }
   ],
   "source": [
    "g = df.groupby([\"Game\",\"Gender\"]).groups\n",
    "g"
   ]
  },
  {
   "cell_type": "code",
   "execution_count": 21,
   "metadata": {},
   "outputs": [
    {
     "data": {
      "text/plain": [
       "Chess      6\n",
       "Cricket    8\n",
       "Name: Game, dtype: int64"
      ]
     },
     "execution_count": 21,
     "metadata": {},
     "output_type": "execute_result"
    }
   ],
   "source": [
    "countchesscricket = df[\"Game\"].value_counts()  \n",
    "(countchesscricket) [[\"Chess\",\"Cricket\"]]"
   ]
  },
  {
   "cell_type": "code",
   "execution_count": 44,
   "metadata": {},
   "outputs": [],
   "source": [
    "#df.iloc[:10][[\"Class\",\"Game\"]]\n",
    "df[\"Game\"]==\"Cricket\"\n",
    "df_cricket = df[df[\"Game\"]==\"Cricket\"]\n",
    "df_chess=df[df[\"Game\"]==\"Chess\"]\n",
    "df_hockey=df[df[\"Game\"]==\"Hockey\"]"
   ]
  },
  {
   "cell_type": "code",
   "execution_count": 30,
   "metadata": {},
   "outputs": [],
   "source": [
    "c=df_cricket[\"Marks\"].sum()\n",
    "h=df_hockey[\"Marks\"].sum()\n",
    "s=df_chess[\"Marks\"].sum()"
   ]
  },
  {
   "cell_type": "code",
   "execution_count": 32,
   "metadata": {},
   "outputs": [
    {
     "data": {
      "text/plain": [
       "<BarContainer object of 3 artists>"
      ]
     },
     "execution_count": 32,
     "metadata": {},
     "output_type": "execute_result"
    },
    {
     "data": {
      "image/png": "[encoded data removed]",
      "text/plain": [
       "<Figure size 432x288 with 1 Axes>"
      ]
     },
     "metadata": {
      "needs_background": "light"
     },
     "output_type": "display_data"
    }
   ],
   "source": [
    "from matplotlib import pyplot\n",
    "\n",
    "pyplot.bar([\"Cricket\", \"Hockey\", \"Chess\"],[c,h,s], \n",
    "           color=[\"red\",\"blue\",\"cyan\"])"
   ]
  },
  {
   "cell_type": "code",
   "execution_count": 39,
   "metadata": {},
   "outputs": [],
   "source": [
    "#FILTERING\n",
    "males10 = df[(df['Class']== 10) & (df['Gender']== 'F') ]\n",
    "malescricket=df[df[\"Game\"]==\"Cricket\"]\n",
    "mh=df[df[\"Game\"]==\"Hockey\"] [\"Marks\"].mean()\n",
    "mc=df[df[\"Game\"]==\"Cricket\"] [\"Marks\"].mean()\n",
    "ms=df[df[\"Game\"]==\"Chess\"] [\"Marks\"].mean()\n",
    "\n",
    "\n"
   ]
  },
  {
   "cell_type": "code",
   "execution_count": 62,
   "metadata": {},
   "outputs": [
    {
     "data": {
      "text/plain": [
       "{('Chess', 'F'): [5, 8, 17, 20], ('Chess', 'M'): [9, 21], ('Cricket', 'F'): [6, 18], ('Cricket', 'M'): [0, 2, 3, 12, 14, 15], ('Hockey', 'F'): [1, 10, 13, 22], ('Hockey', 'M'): [4, 7, 11, 16, 19, 23]}"
      ]
     },
     "execution_count": 62,
     "metadata": {},
     "output_type": "execute_result"
    }
   ],
   "source": [
    "girlscricket = df[(df['Game']== \"Cricket\") & (df['Gender']== 'F') ][\"Marks\"].sum()\n",
    "girlschess = df[(df['Game']== \"Chess\") & (df['Gender']== 'F') ][\"Marks\"].sum()\n",
    "girlshockey = df[(df['Game']== \"Hockey\") & (df['Gender']== 'F') ][\"Marks\"].sum()\n",
    "\n",
    "df.groupby([\"Game\",\"Gender\"]).groups"
   ]
  },
  {
   "cell_type": "code",
   "execution_count": 63,
   "metadata": {},
   "outputs": [
    {
     "data": {
      "text/plain": [
       "{('Chess', 'F'): 12}"
      ]
     },
     "execution_count": 63,
     "metadata": {},
     "output_type": "execute_result"
    }
   ],
   "source": [
    "d={('Chess', 'F'):12}\n",
    "d"
   ]
  },
  {
   "cell_type": "code",
   "execution_count": 42,
   "metadata": {},
   "outputs": [
    {
     "data": {
      "text/plain": [
       "Name     tina\n",
       "Marks      87\n",
       "dtype: object"
      ]
     },
     "execution_count": 42,
     "metadata": {},
     "output_type": "execute_result"
    }
   ],
   "source": [
    "m =df[(df['Game']== \"Cricket\") & (df['Gender']== 'F') ][[\"Name\",\"Marks\"]].max()\n",
    "#m =df[(df['Game']== \"Cricket\") & (df['Gender']== 'F') ][\"Marks\"].max()\n",
    "m"
   ]
  },
  {
   "cell_type": "markdown",
   "metadata": {},
   "source": [
    "# Group by"
   ]
  },
  {
   "cell_type": "markdown",
   "metadata": {},
   "source": [
    "framed questions\n",
    "Q how many students play cricket\n",
    "Q show me count of students gamewise\n",
    "Q find the sum of marks of students of class 10"
   ]
  },
  {
   "cell_type": "code",
   "execution_count": 72,
   "metadata": {},
   "outputs": [
    {
     "data": {
      "text/plain": [
       "618"
      ]
     },
     "execution_count": 72,
     "metadata": {},
     "output_type": "execute_result"
    }
   ],
   "source": [
    "df[df[\"Class\"]==10] [\"Marks\"].sum()"
   ]
  },
  {
   "cell_type": "code",
   "execution_count": 71,
   "metadata": {},
   "outputs": [
    {
     "data": {
      "text/plain": [
       "Game\n",
       "Chess       6\n",
       "Cricket     8\n",
       "Hockey     10\n",
       "dtype: int64"
      ]
     },
     "execution_count": 71,
     "metadata": {},
     "output_type": "execute_result"
    }
   ],
   "source": [
    "df[df[\"Game\"]==\"Cricket\"].count()\n",
    "df.groupby(\"Game\").size()\n",
    "#df.groupby([\"Class\",\"Gender\"]).groups"
   ]
  },
  {
   "cell_type": "code",
   "execution_count": null,
   "metadata": {},
   "outputs": [],
   "source": [
    "#group by\n"
   ]
  },
  {
   "cell_type": "code",
   "execution_count": null,
   "metadata": {},
   "outputs": [],
   "source": [
    "#stringOfJsonData = '{\"fields\":[{\"id\":\"a\",\"label\":\"State_Name\",\"type\":\"string\"},{\"id\":\"b\",\"label\":\"District\",\"type\":\"string\"},{\"id\":\"c\",\"label\":\"Sub-District\",\"type\":\"string\"},{\"id\":\"d\",\"label\":\"Financial_Year\",\"type\":\"string\"},{\"id\":\"e\",\"label\":\"Month\",\"type\":\"string\"},{\"id\":\"f\",\"label\":\"Indicator_Code\",\"type\":\"string\"},{\"id\":\"g\",\"label\":\"Indicator_Name\",\"type\":\"string\"},{\"id\":\"h\",\"label\":\"Code_And_Section\",\"type\":\"string\"},{\"id\":\"i\",\"label\":\"Reported_Value_for_Public_Facility\",\"type\":\"string\"},{\"id\":\"j\",\"label\":\"Reported_Value_for_Private_Facility\",\"type\":\"string\"},{\"id\":\"k\",\"label\":\"Reported_Value_for_Rural\",\"type\":\"string\"},{\"id\":\"l\",\"label\":\"Reported_Value_for_Urban\",\"type\":\"string\"}],\"data\":[[\"Chandigarh\",\"Chandigarh\",\"zone1 GMSH-16\",\"2019-2020\",\"February\",\"9.4.5\",\"Child immunisation - Measles, Mumps, Rubella (MMR) Vaccine\",\"M9 [CHILD IMMUNISATION]\",\"8\",\"NA\",\"8\",\"NA\"],[\"Chandigarh\",\"Chandigarh\",\"zone2 CHC-22\",\"2019-2020\",\"February\",\"12.1.3.b\",\"Out of registered, Boys received counselling\",\"M12 [Adolscent Health]\",\"61\",\"NA\",\"NA\",\"61\"],[\"Chandigarh\",\"Chandigarh\",\"zone2 CHC-22\",\"2019-2020\",\"February\",\"14.14.2\",\"Number of children discharged with target weight gain from the NRCs\",\"M14 [Patient Services]\",\"NA\",\"NA\",\"NA\",\"NA\"],[\"Chandigarh\",\"Chandigarh\",\"zone2 CHC-22\",\"2019-2020\",\"February\",\"14.2.1\",\"Allopathic- Outpatient attendance\",\"M14 [Patient Services]\",\"52200\",\"NA\",\"NA\",\"52200\"],[\"Chandigarh\",\"Chandigarh\",\"zone2 CHC-22\",\"2019-2020\",\"February\",\"14.4.3\",\"Inpatient - Typhoid\",\"M14 [Patient Services]\",\"0\",\"NA\",\"NA\",\"0\"],[\"Chandigarh\",\"Chandigarh\",\"zone2 CHC-22\",\"2019-2020\",\"February\",\"14.8.7\",\"Number of blood transfusions done\",\"M14 [Patient Services]\",\"0\",\"NA\",\"NA\",\"0\"],[\"Chandigarh\",\"Chandigarh\",\"zone2 CHC-22\",\"2019-2020\",\"February\",\"15.1\",\"Number of Lab Tests done\",\"M15 [Laboratory Testing]\",\"30960\",\"NA\",\"NA\",\"30960\"],[\"Chandigarh\",\"Chandigarh\",\"zone2 CHC-22\",\"2019-2020\",\"February\",\"16.7.6\",\"Number of Adolscent \\/ Adult deaths due to Heart disease\\/Hypertension related\",\"M16 [Details of deaths reported with probable causes:]\",\"NA\",\"NA\",\"NA\",\"NA\"],[\"Chandigarh\",\"Chandigarh\",\"zone1 GMSH-16\",\"2019-2020\",\"February\",\"10.5\",\"Childhood Diseases - Pertussis\",\"M10 [Number of cases of Childhood Diseases (0-5 years)]\",\"0\",\"NA\",\"0\",\"0\"],[\"Chandigarh\",\"Chandigarh\",\"zone1 GMSH-16\",\"2019-2020\",\"February\",\"11.4.2\",\"Tests Positive for JE\",\"M11 [NVBDCP]\",\"0\",\"NA\",\"0\",\"NA\"],[\"Chandigarh\",\"Chandigarh\",\"zone1 GMSH-16\",\"2019-2020\",\"February\",\"12.1.1.b\",\"Boys registered in AFHC\",\"M12 [Adolscent Health]\",\"95\",\"NA\",\"43\",\"52\"],[\"Chandigarh\",\"Chandigarh\",\"zone1 GMSH-16\",\"2019-2020\",\"February\",\"10.11\",\"Childhood Diseases - Diarrhoea\",\"M10 [Number of cases of Childhood Diseases (0-5 years)]\",\"387\",\"NA\",\"365\",\"22\"],[\"Chandigarh\",\"Chandigarh\",\"zone1 GMSH-16\",\"2019-2020\",\"February\",\"14.9.2\",\"Inpatient Deaths - Female\",\"M14 [Patient Services]\",\"152\",\"NA\",\"152\",\"NA\"],[\"Chandigarh\",\"Chandigarh\",\"zone1 GMSH-16\",\"2019-2020\",\"February\",\"14.6.5\",\"Emergency - Acute Caridiac Emergencies\",\"M14 [Patient Services]\",\"65\",\"NA\",\"65\",\"NA\"],[\"Chandigarh\",\"Chandigarh\",\"zone1 GMSH-16\",\"2019-2020\",\"February\",\"14.18\",\"Blood Units Issued on replacement (Family Donors to be considered as replacement donations)\",\"M14 [Patient Services]\",\"936\",\"NA\",\"936\",\"NA\"],[\"Chandigarh\",\"Chandigarh\",\"zone1 GMSH-16\",\"2019-2020\",\"February\",\"1.2.6\",\"Number of PW given one Albendazole tablet after 1st  trimester\",\"M1 [Ante Natal Care (ANC)]\",\"412\",\"NA\",\"224\",\"188\"],[\"Chandigarh\",\"Chandigarh\",\"zone1 GMSH-16\",\"2019-2020\",\"February\",\"2.2.2\",\"Number of newborns received 6 HBNC\\u00a0 visits after Institutional Delivery\",\"M2 [Deliveries]\",\"112\",\"NA\",\"NA\",\"112\"],[\"Chandigarh\",\"Chandigarh\",\"zone1 GMSH-16\",\"2019-2020\",\"February\",\"9.1.5\",\"Child immunisation - DPT3\",\"M9 [CHILD IMMUNISATION]\",\"0\",\"NA\",\"0\",\"0\"],[\"Chandigarh\",\"Chandigarh\",\"zone1 GMSH-16\",\"2019-2020\",\"February\",\"16.5.2\",\"Number of Maternal Deaths due to High fever\",\"M16 [Details of deaths reported with probable causes:]\",\"0\",\"NA\",\"0\",\"NA\"],[\"Chandigarh\",\"Chandigarh\",\"zone3 Mani-Majra\",\"2019-2020\",\"February\",\"2.1.1.b\",\"Number of Home Deliveries attended by Non SBA (Trained Birth Attendant(TBA) \\/Relatives\\/etc.)\",\"M2 [Deliveries]\",\"3\",\"NA\",\"NA\",\"3\"],[\"Chandigarh\",\"Chandigarh\",\"zone2 CHC-22\",\"2019-2020\",\"February\",\"16.2.3\",\"Infant Deaths up to 4 weeks due to Other causes\",\"M16 [Details of deaths reported with probable causes:]\",\"NA\",\"NA\",\"NA\",\"NA\"],[\"Chandigarh\",\"Chandigarh\",\"zone2 CHC-22\",\"2019-2020\",\"February\",\"16.8.6\",\"Number of Deaths due to Japanese  Encephalitis (JE)\",\"M16 [Details of deaths reported with probable causes:]\",\"NA\",\"NA\",\"NA\",\"NA\"],[\"Chandigarh\",\"Chandigarh\",\"zone3 Mani-Majra\",\"2019-2020\",\"February\",\"8.2.3\",\"Number of Postpartum sterilizations (within 7 days of delivery by minilap or concurrent with caesarean section) conducted\",\"M8 [Family Planning]\",\"2\",\"NA\",\"NA\",\"2\"],[\"Chandigarh\",\"Chandigarh\",\"zone3 Mani-Majra\",\"2019-2020\",\"February\",\"9.5.4\",\"Children more than 16 years received TT16\",\"M9 [CHILD IMMUNISATION]\",\"90\",\"NA\",\"NA\",\"90\"],[\"Chandigarh\",\"Chandigarh\",\"zone3 Mani-Majra\",\"2019-2020\",\"February\",\"16.8.1\",\"Number of Deaths due to Malaria- Plasmodium Vivax\",\"M16 [Details of deaths reported with probable causes:]\",\"0\",\"NA\",\"NA\",\"0\"],[\"Chandigarh\",\"Chandigarh\",\"zone4 Polyclinic 45\",\"2019-2020\",\"February\",\"1.2.5\",\"Number of PW given 360 Calcium tablets\",\"M1 [Ante Natal Care (ANC)]\",\"440\",\"NA\",\"19\",\"421\"],[\"Chandigarh\",\"Chandigarh\",\"zone4 Polyclinic 45\",\"2019-2020\",\"February\",\"1.2.1\",\"Number of PW given\\u00a0TT1\",\"M1 [Ante Natal Care (ANC)]\",\"522\",\"NA\",\"1\",\"521\"],[\"Chandigarh\",\"Chandigarh\",\"zone4 Polyclinic 45\",\"2019-2020\",\"February\",\"1.2.2\",\"Number of PW given\\u00a0TT2\",\"M1 [Ante Natal Care (ANC)]\",\"445\",\"NA\",\"3\",\"442\"],[\"Chandigarh\",\"Chandigarh\",\"zone4 Polyclinic 45\",\"2019-2020\",\"February\",\"1.6.2.b\",\"Number of pregnant women tested found sero positive for Syphilis\",\"M1 [Ante Natal Care (ANC)]\",\"0\",\"NA\",\"0\",\"0\"],[\"Chandigarh\",\"Chandigarh\",\"zone4 Polyclinic 45\",\"2019-2020\",\"February\",\"4.3.2.a\",\"Post Abortion\\/ MTP Complications Identified\",\"M4 [Pregnancy outcome & details of new-born]\",\"0\",\"NA\",\"0\",\"0\"],[\"Chandigarh\",\"Chandigarh\",\"zone4 Polyclinic 45\",\"2019-2020\",\"February\",\"14.1.4\",\"Outpatient - Acute Heart Diseases\",\"M14 [Patient Services]\",\"29\",\"NA\",\"10\",\"19\"],[\"Chandigarh\",\"Chandigarh\",\"zone4 Polyclinic 45\",\"2019-2020\",\"February\",\"15.4.1\",\"Widal tests - Number Tested\",\"M15 [Laboratory Testing]\",\"609\",\"NA\",\"80\",\"529\"],[\"Chandigarh\",\"Chandigarh\",\"zone4 Polyclinic 45\",\"2019-2020\",\"February\",\"14.6.7\",\"Emergency - CVA ( Cerebovascular Disease)\",\"M14 [Patient Services]\",\"0\",\"NA\",\"0\",\"0\"],[\"Chandigarh\",\"Chandigarh\",\"zone1 GMSH-16\",\"2019-2020\",\"February\",\"4.3.3\",\"Number of women provided with post abortion\\/ MTP contraception\",\"M4 [Pregnancy outcome & details of new-born]\",\"35\",\"NA\",\"35\",\"NA\"],[\"Chandigarh\",\"Chandigarh\",\"zone4 Polyclinic 45\",\"2019-2020\",\"February\",\"8.16\",\"Number of Pregnancy Test Kits (PTK) used\",\"M8 [Family Planning]\",\"1002\",\"NA\",\"0\",\"1002\"],[\"Chandigarh\",\"Chandigarh\",\"zone1 GMSH-16\",\"2019-2020\",\"February\",\"9.2.3\",\"Child immunisation (9-11months) - JE 1st dose\",\"M9 [CHILD IMMUNISATION]\",\"0\",\"NA\",\"0\",\"NA\"],[\"Chandigarh\",\"Chandigarh\",\"zone3 Mani-Majra\",\"2019-2020\",\"February\",\"8.16\",\"Number of Pregnancy Test Kits (PTK) used\",\"M8 [Family Planning]\",\"762\",\"NA\",\"NA\",\"762\"],[\"Chandigarh\",\"Chandigarh\",\"zone4 Polyclinic 45\",\"2019-2020\",\"February\",\"9.1.18\",\"Child immunisation - Inactivated Polio Vaccine 2 (IPV 2)\",\"M9 [CHILD IMMUNISATION]\",\"418\",\"NA\",\"9\",\"409\"],[\"Chandigarh\",\"Chandigarh\",\"zone3 Mani-Majra\",\"2019-2020\",\"February\",\"9.1.14\",\"Child immunisation - Hepatitis-B1\",\"M9 [CHILD IMMUNISATION]\",\"0\",\"NA\",\"NA\",\"0\"],[\"Chandigarh\",\"Chandigarh\",\"zone3 Mani-Majra\",\"2019-2020\",\"February\",\"9.4.3\",\"Child immunisation - DPT 1st Booster\",\"M9 [CHILD IMMUNISATION]\",\"389\",\"NA\",\"NA\",\"389\"],[\"Chandigarh\",\"Chandigarh\",\"zone3 Mani-Majra\",\"2019-2020\",\"February\",\"14.12.1\",\"Special Newborn Care Unit (SNCU Admissions) - Inborn Male\",\"M14 [Patient Services]\",\"2\",\"NA\",\"NA\",\"2\"],[\"Chandigarh\",\"Chandigarh\",\"zone3 Mani-Majra\",\"2019-2020\",\"February\",\"10.8\",\"Childhood Diseases - Acute Flaccid Paralysis(AFP)\",\"M10 [Number of cases of Childhood Diseases (0-5 years)]\",\"0\",\"NA\",\"NA\",\"0\"],[\"Chandigarh\",\"Chandigarh\",\"zone3 Mani-Majra\",\"2019-2020\",\"February\",\"16.7.10\",\"Number of Adolscent \\/ Adult deaths due to Suicide\",\"M16 [Details of deaths reported with probable causes:]\",\"0\",\"NA\",\"NA\",\"0\"],[\"Chandigarh\",\"Chandigarh\",\"zone4 Polyclinic 45\",\"2019-2020\",\"February\",\"16.8.3\",\"Number of Deaths due to Kala Azar\",\"M16 [Details of deaths reported with probable causes:]\",\"0\",\"NA\",\"0\",\"0\"],[\"Chandigarh\",\"Chandigarh\",\"zone4 Polyclinic 45\",\"2019-2020\",\"February\",\"14.16\",\"Number of Anganwadi centres\\/ UPHCs reported to have conducted Village Health & Nutrition Day (VHNDs)\\/ Urban Health & Nutrition Day (UHNDs)\\/ Outreach \\/ Special Outreach\",\"M14 [Patient Services]\",\"1\",\"NA\",\"NA\",\"1\"],[\"Chandigarh\",\"Chandigarh\",\"zone1 GMSH-16\",\"2019-2020\",\"February\",\"11.1.1.a\",\"Total Blood Smears Examined for Malaria\",\"M11 [NVBDCP]\",\"1412\",\"NA\",\"1030\",\"382\"],[\"Chandigarh\",\"Chandigarh\",\"zone1 GMSH-16\",\"2019-2020\",\"February\",\"6.2\",\"Women receiving 1st post partum checkup between 48 hours and 14 days\",\"M6 [Post Natal Care (PNC)]\",\"0\",\"NA\",\"0\",\"0\"],[\"Chandigarh\",\"Chandigarh\",\"zone1 GMSH-16\",\"2019-2020\",\"February\",\"9.4.1\",\"Child immunisation - Measles & Rubella (MR)- 2nd Dose (16-24 months)\",\"M9 [CHILD IMMUNISATION]\",\"239\",\"NA\",\"44\",\"195\"],[\"Chandigarh\",\"Chandigarh\",\"zone1 GMSH-16\",\"2019-2020\",\"February\",\"9.2.4.b\",\"Children aged between 9 and 11 months fully immunized - Female\",\"M9 [CHILD IMMUNISATION]\",\"102\",\"NA\",\"34\",\"68\"],[\"Chandigarh\",\"Chandigarh\",\"zone1 GMSH-16\",\"2019-2020\",\"February\",\"8.9\",\"Injectable Contraceptive-Antara Program- Second Dose\",\"M8 [Family Planning]\",\"20\",\"NA\",\"15\",\"5\"],[\"Chandigarh\",\"Chandigarh\",\"zone1 GMSH-16\",\"2019-2020\",\"February\",\"14.1.3\",\"Outpatient - Stroke (Paralysis)\",\"M14 [Patient Services]\",\"1\",\"NA\",\"0\",\"1\"],[\"Chandigarh\",\"Chandigarh\",\"zone1 GMSH-16\",\"2019-2020\",\"February\",\"14.1.7\",\"Outpatient - Ophthalmic Related\",\"M14 [Patient Services]\",\"12721\",\"NA\",\"12670\",\"51\"],[\"Chandigarh\",\"Chandigarh\",\"zone1 GMSH-16\",\"2019-2020\",\"February\",\"13.2\",\"Number of DOTS cases completed successfully\",\"M13 [Directly Observed Treatment, Short-course (DOTS)]\",\"31\",\"NA\",\"16\",\"15\"],[\"Chandigarh\",\"Chandigarh\",\"zone2 CHC-22\",\"2019-2020\",\"February\",\"1.5.1\",\"Number of PW tested for blood sugar using OGTT (Oral Glucose Tolerance Test)\",\"M1 [Ante Natal Care (ANC)]\",\"229\",\"NA\",\"NA\",\"229\"],[\"Chandigarh\",\"Chandigarh\",\"zone2 CHC-22\",\"2019-2020\",\"February\",\"8.6\",\"Number of IUCD Removals\",\"M8 [Family Planning]\",\"14\",\"NA\",\"NA\",\"14\"],[\"Chandigarh\",\"Chandigarh\",\"zone2 CHC-22\",\"2019-2020\",\"February\",\"9.1.2\",\"Child immunisation - BCG\",\"M9 [CHILD IMMUNISATION]\",\"342\",\"NA\",\"NA\",\"342\"],[\"Chandigarh\",\"Chandigarh\",\"zone2 CHC-22\",\"2019-2020\",\"February\",\"9.5.4\",\"Children more than 16 years received TT16\",\"M9 [CHILD IMMUNISATION]\",\"75\",\"NA\",\"NA\",\"75\"],[\"Chandigarh\",\"Chandigarh\",\"zone2 CHC-22\",\"2019-2020\",\"February\",\"9.7.1\",\"Immunisation sessions planned\",\"M9 [CHILD IMMUNISATION]\",\"219\",\"NA\",\"NA\",\"219\"],[\"Chandigarh\",\"Chandigarh\",\"zone2 CHC-22\",\"2019-2020\",\"February\",\"7.2.2\",\"RTI\\/STI for which treatment initiated -Female\",\"M7 [Reproductive Tract Infections\\/Sexually Transmitted Infections (RTI\\/STI) Cases]\",\"134\",\"NA\",\"NA\",\"134\"],[\"Chandigarh\",\"Chandigarh\",\"zone2 CHC-22\",\"2019-2020\",\"February\",\"4.3.2.b\",\"Post Abortion\\/ MTP Complications Treated\",\"M4 [Pregnancy outcome & details of new-born]\",\"0\",\"NA\",\"NA\",\"0\"],[\"Chandigarh\",\"Chandigarh\",\"zone2 CHC-22\",\"2019-2020\",\"February\",\"2.1.1.b\",\"Number of Home Deliveries attended by Non SBA (Trained Birth Attendant(TBA) \\/Relatives\\/etc.)\",\"M2 [Deliveries]\",\"0\",\"NA\",\"NA\",\"0\"],[\"Chandigarh\",\"Chandigarh\",\"zone3 Mani-Majra\",\"2019-2020\",\"February\",\"1.4.3\",\"Number of PW having Hb level<7 (tested cases)\",\"M1 [Ante Natal Care (ANC)]\",\"13\",\"NA\",\"NA\",\"13\"],[\"Chandigarh\",\"Chandigarh\",\"zone2 CHC-22\",\"2019-2020\",\"February\",\"14.1.4\",\"Outpatient - Acute Heart Diseases\",\"M14 [Patient Services]\",\"0\",\"NA\",\"NA\",\"0\"],[\"Chandigarh\",\"Chandigarh\",\"zone2 CHC-22\",\"2019-2020\",\"February\",\"11.3.1\",\"Dengue - RDT Test Positive\",\"M11 [NVBDCP]\",\"NA\",\"NA\",\"NA\",\"NA\"],[\"Chandigarh\",\"Chandigarh\",\"zone2 CHC-22\",\"2019-2020\",\"February\",\"14.3.1.b\",\"Inpatient (Male)- Adults\",\"M14 [Patient Services]\",\"26\",\"NA\",\"NA\",\"26\"],[\"Chandigarh\",\"Chandigarh\",\"zone1 GMSH-16\",\"2019-2020\",\"February\",\"15.3.4.a\",\"Number of Male STI\\/RTI attendees tested for syphilis\",\"M15 [Laboratory Testing]\",\"224\",\"NA\",\"187\",\"37\"],[\"Chandigarh\",\"Chandigarh\",\"zone2 CHC-22\",\"2019-2020\",\"February\",\"7.1.1\",\"New RTI\\/STI cases identified - Male\",\"M7 [Reproductive Tract Infections\\/Sexually Transmitted Infections (RTI\\/STI) Cases]\",\"19\",\"NA\",\"NA\",\"19\"],[\"Chandigarh\",\"Chandigarh\",\"zone2 CHC-22\",\"2019-2020\",\"February\",\"9.6.2\",\"Number of cases of AEFI - Death\",\"M9 [CHILD IMMUNISATION]\",\"0\",\"NA\",\"NA\",\"0\"],[\"Chandigarh\",\"Chandigarh\",\"zone2 CHC-22\",\"2019-2020\",\"February\",\"9.1.6\",\"Child immunisation - Pentavalent 1\",\"M9 [CHILD IMMUNISATION]\",\"345\",\"NA\",\"NA\",\"345\"],[\"Chandigarh\",\"Chandigarh\",\"zone2 CHC-22\",\"2019-2020\",\"February\",\"15.3.4.a\",\"Number of Male STI\\/RTI attendees tested for syphilis\",\"M15 [Laboratory Testing]\",\"6\",\"NA\",\"NA\",\"6\"],[\"Chandigarh\",\"Chandigarh\",\"zone2 CHC-22\",\"2019-2020\",\"February\",\"16.3.2\",\"Number of Infant Deaths (1 -12 months) due to Diarrhoea\",\"M16 [Details of deaths reported with probable causes:]\",\"NA\",\"NA\",\"NA\",\"NA\"],[\"Chandigarh\",\"Chandigarh\",\"zone2 CHC-22\",\"2019-2020\",\"February\",\"14.4.8\",\"Inpatient - Hepatitis\",\"M14 [Patient Services]\",\"NA\",\"NA\",\"NA\",\"NA\"],[\"Chandigarh\",\"Chandigarh\",\"zone2 CHC-22\",\"2019-2020\",\"February\",\"10.8\",\"Childhood Diseases - Acute Flaccid Paralysis(AFP)\",\"M10 [Number of cases of Childhood Diseases (0-5 years)]\",\"0\",\"NA\",\"NA\",\"0\"],[\"Chandigarh\",\"Chandigarh\",\"zone2 CHC-22\",\"2019-2020\",\"February\",\"14.1.3\",\"Outpatient - Stroke (Paralysis)\",\"M14 [Patient Services]\",\"0\",\"NA\",\"NA\",\"0\"],[\"Chandigarh\",\"Chandigarh\",\"zone2 CHC-22\",\"2019-2020\",\"February\",\"16.4.2\",\"Number of Child Deaths (1 -5 years) due to Diarrhoea\",\"M16 [Details of deaths reported with probable causes:]\",\"NA\",\"NA\",\"NA\",\"NA\"],[\"Chandigarh\",\"Chandigarh\",\"zone3 Mani-Majra\",\"2019-2020\",\"February\",\"2.1.1.a\",\"Number of Home Deliveries attended by Skill Birth Attendant(SBA) (Doctor\\/Nurse\\/ANM)\",\"M2 [Deliveries]\",\"0\",\"NA\",\"NA\",\"0\"],[\"Chandigarh\",\"Chandigarh\",\"zone3 Mani-Majra\",\"2019-2020\",\"February\",\"9.1.16\",\"Child immunisation - Hepatitis-B3\",\"M9 [CHILD IMMUNISATION]\",\"0\",\"NA\",\"NA\",\"0\"],[\"Chandigarh\",\"Chandigarh\",\"zone3 Mani-Majra\",\"2019-2020\",\"February\",\"9.6.2\",\"Number of cases of AEFI - Death\",\"M9 [CHILD IMMUNISATION]\",\"0\",\"NA\",\"NA\",\"0\"],[\"Chandigarh\",\"Chandigarh\",\"zone3 Mani-Majra\",\"2019-2020\",\"February\",\"10.10\",\"Childhood Diseases - Malaria\",\"M10 [Number of cases of Childhood Diseases (0-5 years)]\",\"0\",\"NA\",\"NA\",\"0\"],[\"Chandigarh\",\"Chandigarh\",\"zone3 Mani-Majra\",\"2019-2020\",\"February\",\"16.4.2\",\"Number of Child Deaths (1 -5 years) due to Diarrhoea\",\"M16 [Details of deaths reported with probable causes:]\",\"0\",\"NA\",\"NA\",\"0\"],[\"Chandigarh\",\"Chandigarh\",\"zone3 Mani-Majra\",\"2019-2020\",\"February\",\"16.3.2\",\"Number of Infant Deaths (1 -12 months) due to Diarrhoea\",\"M16 [Details of deaths reported with probable causes:]\",\"0\",\"NA\",\"NA\",\"0\"],[\"Chandigarh\",\"Chandigarh\",\"zone3 Mani-Majra\",\"2019-2020\",\"February\",\"16.2.1\",\"Infant Deaths up to 4 weeks due to Sepsis\",\"M16 [Details of deaths reported with probable causes:]\",\"0\",\"NA\",\"NA\",\"0\"],[\"Chandigarh\",\"Chandigarh\",\"zone3 Mani-Majra\",\"2019-2020\",\"February\",\"15.4.1\",\"Widal tests - Number Tested\",\"M15 [Laboratory Testing]\",\"430\",\"NA\",\"NA\",\"430\"],[\"Chandigarh\",\"Chandigarh\",\"zone3 Mani-Majra\",\"2019-2020\",\"February\",\"15.3.4.a\",\"Number of Male STI\\/RTI attendees tested for syphilis\",\"M15 [Laboratory Testing]\",\"39\",\"NA\",\"NA\",\"39\"],[\"Chandigarh\",\"Chandigarh\",\"zone4 Polyclinic 45\",\"2019-2020\",\"February\",\"9.1.7\",\"Child immunisation - Pentavalent 2\",\"M9 [CHILD IMMUNISATION]\",\"376\",\"NA\",\"6\",\"370\"],[\"Chandigarh\",\"Chandigarh\",\"zone4 Polyclinic 45\",\"2019-2020\",\"February\",\"4.3.2.b\",\"Post Abortion\\/ MTP Complications Treated\",\"M4 [Pregnancy outcome & details of new-born]\",\"0\",\"NA\",\"0\",\"0\"],[\"Chandigarh\",\"Chandigarh\",\"zone4 Polyclinic 45\",\"2019-2020\",\"February\",\"4.1.1.a\",\"Live Birth - Male\",\"M4 [Pregnancy outcome & details of new-born]\",\"63\",\"NA\",\"18\",\"45\"],[\"Chandigarh\",\"Chandigarh\",\"zone4 Polyclinic 45\",\"2019-2020\",\"February\",\"14.8.2\",\"Out of Operation major, Gynecology- Hysterectomy surgeries\",\"M14 [Patient Services]\",\"1\",\"NA\",\"1\",\"0\"],[\"Chandigarh\",\"Chandigarh\",\"zone1 GMSH-16\",\"2019-2020\",\"February\",\"14.5\",\"Patients registered at Emergency Department\",\"M14 [Patient Services]\",\"11497\",\"NA\",\"11497\",\"NA\"],[\"Chandigarh\",\"Chandigarh\",\"zone2 CHC-22\",\"2019-2020\",\"February\",\"1.6.2.e\",\"Number of babies treated for congenital Syphilis\",\"M1 [Ante Natal Care (ANC)]\",\"0\",\"NA\",\"NA\",\"0\"],[\"Chandigarh\",\"Chandigarh\",\"zone1 GMSH-16\",\"2019-2020\",\"February\",\"16.7.12\",\"Number of Adolscent \\/ Adult deaths due to Known Acute Disease\",\"M16 [Details of deaths reported with probable causes:]\",\"5\",\"NA\",\"5\",\"NA\"],[\"Chandigarh\",\"Chandigarh\",\"zone1 GMSH-16\",\"2019-2020\",\"February\",\"16.5.6\",\"Number of Maternal Deaths due to Other Causes (including causes not known)\",\"M16 [Details of deaths reported with probable causes:]\",\"0\",\"NA\",\"0\",\"NA\"],[\"Chandigarh\",\"Chandigarh\",\"zone2 CHC-22\",\"2019-2020\",\"February\",\"4.3.1.b\",\"MTP more than 12 weeks of pregnancy\",\"M4 [Pregnancy outcome & details of new-born]\",\"4\",\"NA\",\"NA\",\"4\"],[\"Chandigarh\",\"Chandigarh\",\"zone2 CHC-22\",\"2019-2020\",\"February\",\"8.17.2\",\"Complications following female sterilization\",\"M8 [Family Planning]\",\"0\",\"NA\",\"NA\",\"0\"],[\"Chandigarh\",\"Chandigarh\",\"zone2 CHC-22\",\"2019-2020\",\"February\",\"8.8\",\"Injectable Contraceptive-Antara Program- First Dose\",\"M8 [Family Planning]\",\"35\",\"NA\",\"NA\",\"35\"],[\"Chandigarh\",\"Chandigarh\",\"zone2 CHC-22\",\"2019-2020\",\"February\",\"14.6.2\",\"Emergency - Burn\",\"M14 [Patient Services]\",\"NA\",\"NA\",\"NA\",\"NA\"],[\"Chandigarh\",\"Chandigarh\",\"zone2 CHC-22\",\"2019-2020\",\"February\",\"14.6.5\",\"Emergency - Acute Caridiac Emergencies\",\"M14 [Patient Services]\",\"0\",\"NA\",\"NA\",\"0\"],[\"Chandigarh\",\"Chandigarh\",\"zone2 CHC-22\",\"2019-2020\",\"February\",\"14.13\",\"Number of deaths occurring at SNCU\",\"M14 [Patient Services]\",\"NA\",\"NA\",\"NA\",\"NA\"],[\"Chandigarh\",\"Chandigarh\",\"zone3 Mani-Majra\",\"2019-2020\",\"February\",\"9.1.18\",\"Child immunisation - Inactivated Polio Vaccine 2 (IPV 2)\",\"M9 [CHILD IMMUNISATION]\",\"441\",\"NA\",\"NA\",\"441\"],[\"Chandigarh\",\"Chandigarh\",\"zone3 Mani-Majra\",\"2019-2020\",\"February\",\"9.4.4\",\"Child immunisation - OPV Booster\",\"M9 [CHILD IMMUNISATION]\",\"389\",\"NA\",\"NA\",\"389\"],[\"Chandigarh\",\"Chandigarh\",\"zone3 Mani-Majra\",\"2019-2020\",\"February\",\"9.4.1\",\"Child immunisation - Measles & Rubella (MR)- 2nd Dose (16-24 months)\",\"M9 [CHILD IMMUNISATION]\",\"389\",\"NA\",\"NA\",\"389\"],[\"Chandigarh\",\"Chandigarh\",\"zone3 Mani-Majra\",\"2019-2020\",\"February\",\"14.6.4\",\"Emergency - Snake Bite\",\"M14 [Patient Services]\",\"0\",\"NA\",\"NA\",\"0\"],[\"Chandigarh\",\"Chandigarh\",\"zone3 Mani-Majra\",\"2019-2020\",\"February\",\"14.6.7\",\"Emergency - CVA ( Cerebovascular Disease)\",\"M14 [Patient Services]\",\"0\",\"NA\",\"NA\",\"0\"],[\"Chandigarh\",\"Chandigarh\",\"zone3 Mani-Majra\",\"2019-2020\",\"February\",\"8.4\",\"Number of Postpartum (within 48 hours of delivery) IUCD insertions\",\"M8 [Family Planning]\",\"31\",\"NA\",\"NA\",\"31\"],[\"Chandigarh\",\"Chandigarh\",\"zone3 Mani-Majra\",\"2019-2020\",\"February\",\"9.7.2\",\"Immunisation sessions held\",\"M9 [CHILD IMMUNISATION]\",\"122\",\"NA\",\"NA\",\"122\"],[\"Chandigarh\",\"Chandigarh\",\"zone3 Mani-Majra\",\"2019-2020\",\"February\",\"14.4.3\",\"Inpatient - Typhoid\",\"M14 [Patient Services]\",\"6\",\"NA\",\"NA\",\"6\"],[\"Chandigarh\",\"Chandigarh\",\"zone3 Mani-Majra\",\"2019-2020\",\"February\",\"11.2.3\",\"Post-kala-azar dermal leishmaniasis (PKDL) cases\",\"M11 [NVBDCP]\",\"NA\",\"NA\",\"NA\",\"NA\"],[\"Chandigarh\",\"Chandigarh\",\"zone3 Mani-Majra\",\"2019-2020\",\"February\",\"11.2.2\",\"Kala Azar Positive Cases\",\"M11 [NVBDCP]\",\"NA\",\"NA\",\"NA\",\"NA\"],[\"Chandigarh\",\"Chandigarh\",\"zone3 Mani-Majra\",\"2019-2020\",\"February\",\"16.2.2\",\"Infant Deaths up to 4 weeks due to Asphyxia\",\"M16 [Details of deaths reported with probable causes:]\",\"0\",\"NA\",\"NA\",\"0\"],[\"Chandigarh\",\"Chandigarh\",\"zone3 Mani-Majra\",\"2019-2020\",\"February\",\"8.12\",\"Number of Combined Oral Pill cycles distributed\",\"M8 [Family Planning]\",\"579\",\"NA\",\"NA\",\"579\"],[\"Chandigarh\",\"Chandigarh\",\"zone3 Mani-Majra\",\"2019-2020\",\"February\",\"16.7.5\",\"Number of Adolscent \\/ Adult deaths due to HIV\\/AIDS\",\"M16 [Details of deaths reported with probable causes:]\",\"0\",\"NA\",\"NA\",\"0\"],[\"Chandigarh\",\"Chandigarh\",\"zone3 Mani-Majra\",\"2019-2020\",\"February\",\"14.18\",\"Blood Units Issued on replacement (Family Donors to be considered as replacement donations)\",\"M14 [Patient Services]\",\"NA\",\"NA\",\"NA\",\"NA\"],[\"Chandigarh\",\"Chandigarh\",\"zone4 Polyclinic 45\",\"2019-2020\",\"February\",\"1.1\",\"Total number of pregnant women registered for ANC\",\"M1 [Ante Natal Care (ANC)]\",\"616\",\"NA\",\"47\",\"569\"],[\"Chandigarh\",\"Chandigarh\",\"zone4 Polyclinic 45\",\"2019-2020\",\"February\",\"1.4.2\",\"Number of PW having Hb level<11 (tested cases)(7.1 to 10.9)\",\"M1 [Ante Natal Care (ANC)]\",\"230\",\"NA\",\"14\",\"216\"],[\"Chandigarh\",\"Chandigarh\",\"zone4 Polyclinic 45\",\"2019-2020\",\"February\",\"1.5.1\",\"Number of PW tested for blood sugar using OGTT (Oral Glucose Tolerance Test)\",\"M1 [Ante Natal Care (ANC)]\",\"172\",\"NA\",\"37\",\"135\"],[\"Chandigarh\",\"Chandigarh\",\"zone4 Polyclinic 45\",\"2019-2020\",\"February\",\"9.7.1\",\"Immunisation sessions planned\",\"M9 [CHILD IMMUNISATION]\",\"157\",\"NA\",\"4\",\"153\"],[\"Chandigarh\",\"Chandigarh\",\"zone4 Polyclinic 45\",\"2019-2020\",\"February\",\"14.3.1.b\",\"Inpatient (Male)- Adults\",\"M14 [Patient Services]\",\"207\",\"NA\",\"80\",\"127\"],[\"Chandigarh\",\"Chandigarh\",\"zone4 Polyclinic 45\",\"2019-2020\",\"February\",\"16.4.2\",\"Number of Child Deaths (1 -5 years) due to Diarrhoea\",\"M16 [Details of deaths reported with probable causes:]\",\"0\",\"NA\",\"0\",\"0\"],[\"Chandigarh\",\"Chandigarh\",\"zone4 Polyclinic 45\",\"2019-2020\",\"February\",\"14.8.4\",\"Operation minor (No or local anaesthesia)\",\"M14 [Patient Services]\",\"725\",\"NA\",\"236\",\"489\"],[\"Chandigarh\",\"Chandigarh\",\"zone1 GMSH-16\",\"2019-2020\",\"February\",\"8.8\",\"Injectable Contraceptive-Antara Program- First Dose\",\"M8 [Family Planning]\",\"58\",\"NA\",\"48\",\"10\"],[\"Chandigarh\",\"Chandigarh\",\"zone1 GMSH-16\",\"2019-2020\",\"February\",\"5.2\",\"Number of Complicated pregnancies treated with Blood Transfusion\",\"M5 [Complicated Pregnancies]\",\"82\",\"NA\",\"82\",\"NA\"],[\"Chandigarh\",\"Chandigarh\",\"zone1 GMSH-16\",\"2019-2020\",\"February\",\"8.11\",\"Injectable Contraceptive-Antara Program- Fourth or more than fourth\",\"M8 [Family Planning]\",\"12\",\"NA\",\"10\",\"2\"],[\"Chandigarh\",\"Chandigarh\",\"zone1 GMSH-16\",\"2019-2020\",\"February\",\"8.17.2\",\"Complications following female sterilization\",\"M8 [Family Planning]\",\"0\",\"NA\",\"0\",\"NA\"],[\"Chandigarh\",\"Chandigarh\",\"zone1 GMSH-16\",\"2019-2020\",\"February\",\"9.7.3\",\"Number of Immunisation sessions where ASHAs were present\",\"M9 [CHILD IMMUNISATION]\",\"NA\",\"NA\",\"NA\",\"NA\"],[\"Chandigarh\",\"Chandigarh\",\"zone1 GMSH-16\",\"2019-2020\",\"February\",\"9.5.2\",\"Children more than 5 years received DPT5 (2nd Booster)\",\"M9 [CHILD IMMUNISATION]\",\"192\",\"NA\",\"75\",\"117\"],[\"Chandigarh\",\"Chandigarh\",\"zone1 GMSH-16\",\"2019-2020\",\"February\",\"11.2.1\",\"Kala Azar (RDT) - Tests Conducted\",\"M11 [NVBDCP]\",\"16\",\"NA\",\"16\",\"NA\"],[\"Chandigarh\",\"Chandigarh\",\"zone1 GMSH-16\",\"2019-2020\",\"February\",\"12.1.3.a\",\"Out of registered, Girls received counselling\",\"M12 [Adolscent Health]\",\"115\",\"NA\",\"52\",\"63\"],[\"Chandigarh\",\"Chandigarh\",\"zone1 GMSH-16\",\"2019-2020\",\"February\",\"15.3.4.c\",\"Number of Female (Non ANC)STI\\/RTI attendees tested for syphilis\",\"M15 [Laboratory Testing]\",\"255\",\"NA\",\"202\",\"53\"],[\"Chandigarh\",\"Chandigarh\",\"zone4 Polyclinic 45\",\"2019-2020\",\"February\",\"9.8.2\",\"Child immunisation - Vitamin A Dose - 5\",\"M9 [CHILD IMMUNISATION]\",\"452\",\"NA\",\"0\",\"452\"],[\"Chandigarh\",\"Chandigarh\",\"zone4 Polyclinic 45\",\"2019-2020\",\"February\",\"16.8.5\",\"Number of Deaths due to Acute Encephelitis Syndrome (AES)\",\"M16 [Details of deaths reported with probable causes:]\",\"0\",\"NA\",\"0\",\"0\"],[\"Chandigarh\",\"Chandigarh\",\"zone1 GMSH-16\",\"2019-2020\",\"February\",\"1.3.1\",\"New cases of PW with hypertension detected\",\"M1 [Ante Natal Care (ANC)]\",\"171\",\"NA\",\"171\",\"0\"],[\"Chandigarh\",\"Chandigarh\",\"zone1 GMSH-16\",\"2019-2020\",\"February\",\"13.1\",\"Number of on-going DOTS patients registered\",\"M13 [Directly Observed Treatment, Short-course (DOTS)]\",\"104\",\"NA\",\"26\",\"78\"],[\"Chandigarh\",\"Chandigarh\",\"zone1 GMSH-16\",\"2019-2020\",\"February\",\"7.2.1\",\"RTI\\/STI for which treatment initiated - Male\",\"M7 [Reproductive Tract Infections\\/Sexually Transmitted Infections (RTI\\/STI) Cases]\",\"207\",\"NA\",\"200\",\"7\"],[\"Chandigarh\",\"Chandigarh\",\"zone1 GMSH-16\",\"2019-2020\",\"February\",\"9.1.17\",\"Child immunisation - Inactivated Polio Vaccine 1 (IPV 1)\",\"M9 [CHILD IMMUNISATION]\",\"404\",\"NA\",\"232\",\"172\"],[\"Chandigarh\",\"Chandigarh\",\"zone1 GMSH-16\",\"2019-2020\",\"February\",\"15.3.3.a\",\"Number of pregnant women screened for HIV\",\"M15 [Laboratory Testing]\",\"1091\",\"NA\",\"1029\",\"62\"],[\"Chandigarh\",\"Chandigarh\",\"zone2 CHC-22\",\"2019-2020\",\"February\",\"1.3.1.a\",\"Out of the new cases of PW with hypertension detected, cases managed at institution\",\"M1 [Ante Natal Care (ANC)]\",\"27\",\"NA\",\"NA\",\"27\"],[\"Chandigarh\",\"Chandigarh\",\"zone2 CHC-22\",\"2019-2020\",\"February\",\"4.4.3\",\"Number of Newborns breast fed within 1 hour of birth\\u00a0\",\"M4 [Pregnancy outcome & details of new-born]\",\"303\",\"NA\",\"NA\",\"303\"],[\"Chandigarh\",\"Chandigarh\",\"zone2 CHC-22\",\"2019-2020\",\"February\",\"3.1.1\",\"C-sections, performed at night (8 PM- 8 AM)\",\"M3 [Number of Caesarean (C-Section) deliveries]\",\"12\",\"NA\",\"NA\",\"12\"],[\"Chandigarh\",\"Chandigarh\",\"zone2 CHC-22\",\"2019-2020\",\"February\",\"11.2.1\",\"Kala Azar (RDT) - Tests Conducted\",\"M11 [NVBDCP]\",\"NA\",\"NA\",\"NA\",\"NA\"],[\"Chandigarh\",\"Chandigarh\",\"zone2 CHC-22\",\"2019-2020\",\"February\",\"10.9\",\"Childhood Diseases - Measles\",\"M10 [Number of cases of Childhood Diseases (0-5 years)]\",\"0\",\"NA\",\"NA\",\"0\"],[\"Chandigarh\",\"Chandigarh\",\"zone2 CHC-22\",\"2019-2020\",\"February\",\"14.18\",\"Blood Units Issued on replacement (Family Donors to be considered as replacement donations)\",\"M14 [Patient Services]\",\"NA\",\"NA\",\"NA\",\"NA\"],[\"Chandigarh\",\"Chandigarh\",\"zone2 CHC-22\",\"2019-2020\",\"February\",\"16.7.13\",\"Number of Adolscent \\/ Adult deaths due to Known Chronic Disease\",\"M16 [Details of deaths reported with probable causes:]\",\"NA\",\"NA\",\"NA\",\"NA\"],[\"Chandigarh\",\"Chandigarh\",\"zone3 Mani-Majra\",\"2019-2020\",\"February\",\"2.2.2\",\"Number of newborns received 6 HBNC\\u00a0 visits after Institutional Delivery\",\"M2 [Deliveries]\",\"363\",\"NA\",\"NA\",\"363\"],[\"Chandigarh\",\"Chandigarh\",\"zone3 Mani-Majra\",\"2019-2020\",\"February\",\"8.17.3\",\"Failures following male sterilization\",\"M8 [Family Planning]\",\"0\",\"NA\",\"NA\",\"0\"],[\"Chandigarh\",\"Chandigarh\",\"zone3 Mani-Majra\",\"2019-2020\",\"February\",\"9.1.5\",\"Child immunisation - DPT3\",\"M9 [CHILD IMMUNISATION]\",\"0\",\"NA\",\"NA\",\"0\"],[\"Chandigarh\",\"Chandigarh\",\"zone3 Mani-Majra\",\"2019-2020\",\"February\",\"16.1\",\"Infant deaths within 24 hrs(1 to 23 Hrs) of birth\",\"M16 [Details of deaths reported with probable causes:]\",\"1\",\"NA\",\"NA\",\"1\"],[\"Chandigarh\",\"Chandigarh\",\"zone3 Mani-Majra\",\"2019-2020\",\"February\",\"16.3.1\",\"Number of Infant Deaths (1 -12 months) due to Pneumonia\",\"M16 [Details of deaths reported with probable causes:]\",\"0\",\"NA\",\"NA\",\"0\"],[\"Chandigarh\",\"Chandigarh\",\"zone4 Polyclinic 45\",\"2019-2020\",\"February\",\"1.6.2.d\",\"Number of babies diagnosed with  Congenital Syphilis\",\"M1 [Ante Natal Care (ANC)]\",\"0\",\"NA\",\"0\",\"0\"],[\"Chandigarh\",\"Chandigarh\",\"zone4 Polyclinic 45\",\"2019-2020\",\"February\",\"2.1.2\",\"Number of PW given Tablet Misoprostol during home delivery\",\"M2 [Deliveries]\",\"0\",\"NA\",\"NA\",\"0\"],[\"Chandigarh\",\"Chandigarh\",\"zone3 Mani-Majra\",\"2019-2020\",\"February\",\"16.7.4\",\"Number of Adolscent \\/ Adult deaths due to Other Fever Related\",\"M16 [Details of deaths reported with probable causes:]\",\"0\",\"NA\",\"NA\",\"0\"],[\"Chandigarh\",\"Chandigarh\",\"zone4 Polyclinic 45\",\"2019-2020\",\"February\",\"5.2\",\"Number of Complicated pregnancies treated with Blood Transfusion\",\"M5 [Complicated Pregnancies]\",\"9\",\"NA\",\"NA\",\"9\"],[\"Chandigarh\",\"Chandigarh\",\"zone4 Polyclinic 45\",\"2019-2020\",\"February\",\"16.7.7\",\"Number of Adolscent \\/ Adult deaths due to Cancer\",\"M16 [Details of deaths reported with probable causes:]\",\"0\",\"NA\",\"0\",\"0\"],[\"Chandigarh\",\"Chandigarh\",\"zone4 Polyclinic 45\",\"2019-2020\",\"February\",\"14.12.2\",\"Special Newborn Care Unit (SNCU Admissions) - Inborn Female\",\"M14 [Patient Services]\",\"NA\",\"NA\",\"NA\",\"NA\"],[\"Chandigarh\",\"Chandigarh\",\"zone4 Polyclinic 45\",\"2019-2020\",\"February\",\"14.12.1\",\"Special Newborn Care Unit (SNCU Admissions) - Inborn Male\",\"M14 [Patient Services]\",\"NA\",\"NA\",\"NA\",\"NA\"],[\"Chandigarh\",\"Chandigarh\",\"zone1 GMSH-16\",\"2019-2020\",\"February\",\"1.6.1.a\",\"Number of PW tested using POC test for Syphilis\",\"M1 [Ante Natal Care (ANC)]\",\"NA\",\"NA\",\"NA\",\"NA\"],[\"Chandigarh\",\"Chandigarh\",\"zone1 GMSH-16\",\"2019-2020\",\"February\",\"11.2.2\",\"Kala Azar Positive Cases\",\"M11 [NVBDCP]\",\"1\",\"NA\",\"1\",\"NA\"],[\"Chandigarh\",\"Chandigarh\",\"zone1 GMSH-16\",\"2019-2020\",\"February\",\"11.1.2.c\",\"Malaria (RDT) - Plamodium Falciparum test positive\",\"M11 [NVBDCP]\",\"0\",\"NA\",\"0\",\"NA\"],[\"Chandigarh\",\"Chandigarh\",\"zone1 GMSH-16\",\"2019-2020\",\"February\",\"14.19\",\"Total number of blood units issued in year\",\"M14 [Patient Services]\",\"12382\",\"NA\",\"12382\",\"NA\"],[\"Chandigarh\",\"Chandigarh\",\"zone1 GMSH-16\",\"2019-2020\",\"February\",\"8.12\",\"Number of Combined Oral Pill cycles distributed\",\"M8 [Family Planning]\",\"654\",\"NA\",\"298\",\"356\"],[\"Chandigarh\",\"Chandigarh\",\"zone2 CHC-22\",\"2019-2020\",\"February\",\"9.10\",\"Number of children (12-59 months) provided Albendazole\",\"M9 [CHILD IMMUNISATION]\",\"974\",\"NA\",\"NA\",\"974\"],[\"Chandigarh\",\"Chandigarh\",\"zone2 CHC-22\",\"2019-2020\",\"February\",\"11.2.2\",\"Kala Azar Positive Cases\",\"M11 [NVBDCP]\",\"NA\",\"NA\",\"NA\",\"NA\"],[\"Chandigarh\",\"Chandigarh\",\"zone3 Mani-Majra\",\"2019-2020\",\"February\",\"1.1.1\",\"Out of the total ANC registered, number registered within 1st trimester (within 12 weeks)\",\"M1 [Ante Natal Care (ANC)]\",\"515\",\"NA\",\"NA\",\"515\"],[\"Chandigarh\",\"Chandigarh\",\"zone2 CHC-22\",\"2019-2020\",\"February\",\"8.12\",\"Number of Combined Oral Pill cycles distributed\",\"M8 [Family Planning]\",\"359\",\"NA\",\"NA\",\"359\"],[\"Chandigarh\",\"Chandigarh\",\"zone3 Mani-Majra\",\"2019-2020\",\"February\",\"6.2\",\"Women receiving 1st post partum checkup between 48 hours and 14 days\",\"M6 [Post Natal Care (PNC)]\",\"0\",\"NA\",\"NA\",\"0\"],[\"Chandigarh\",\"Chandigarh\",\"zone3 Mani-Majra\",\"2019-2020\",\"February\",\"2.2\",\"Number of Institutional Deliveries conducted (Including C-Sections)\",\"M2 [Deliveries]\",\"151\",\"NA\",\"NA\",\"151\"],[\"Chandigarh\",\"Chandigarh\",\"zone3 Mani-Majra\",\"2019-2020\",\"February\",\"9.4.6\",\"Number of children more than 16 months of age who received Japanese Encephalitis (JE) vaccine\",\"M9 [CHILD IMMUNISATION]\",\"NA\",\"NA\",\"NA\",\"NA\"],[\"Chandigarh\",\"Chandigarh\",\"zone3 Mani-Majra\",\"2019-2020\",\"February\",\"9.3.3\",\"Child immunisation - JE 1st dose\",\"M9 [CHILD IMMUNISATION]\",\"NA\",\"NA\",\"NA\",\"NA\"],[\"Chandigarh\",\"Chandigarh\",\"zone3 Mani-Majra\",\"2019-2020\",\"February\",\"15.3.3.b\",\"Out of the above, number screened positive\",\"M15 [Laboratory Testing]\",\"0\",\"NA\",\"NA\",\"0\"],[\"Chandigarh\",\"Chandigarh\",\"zone4 Polyclinic 45\",\"2019-2020\",\"February\",\"1.2.6\",\"Number of PW given one Albendazole tablet after 1st  trimester\",\"M1 [Ante Natal Care (ANC)]\",\"441\",\"NA\",\"29\",\"412\"],[\"Chandigarh\",\"Chandigarh\",\"zone4 Polyclinic 45\",\"2019-2020\",\"February\",\"4.4.2\",\"Number of newborns having weight less than 2.5 kg\",\"M4 [Pregnancy outcome & details of new-born]\",\"14\",\"NA\",\"4\",\"10\"],[\"Chandigarh\",\"Chandigarh\",\"zone4 Polyclinic 45\",\"2019-2020\",\"February\",\"4.2\",\"Abortion (spontaneous)\",\"M4 [Pregnancy outcome & details of new-born]\",\"9\",\"NA\",\"8\",\"1\"],[\"Chandigarh\",\"Chandigarh\",\"zone4 Polyclinic 45\",\"2019-2020\",\"February\",\"9.4.5\",\"Child immunisation - Measles, Mumps, Rubella (MMR) Vaccine\",\"M9 [CHILD IMMUNISATION]\",\"0\",\"NA\",\"NA\",\"0\"],[\"Chandigarh\",\"Chandigarh\",\"zone4 Polyclinic 45\",\"2019-2020\",\"February\",\"12.1.3.b\",\"Out of registered, Boys received counselling\",\"M12 [Adolscent Health]\",\"77\",\"NA\",\"0\",\"77\"],[\"Chandigarh\",\"Chandigarh\",\"zone4 Polyclinic 45\",\"2019-2020\",\"February\",\"14.8.7\",\"Number of blood transfusions done\",\"M14 [Patient Services]\",\"0\",\"NA\",\"NA\",\"0\"],[\"Chandigarh\",\"Chandigarh\",\"zone4 Polyclinic 45\",\"2019-2020\",\"February\",\"14.2.2\",\"Ayush - Outpatient attendance\",\"M14 [Patient Services]\",\"4271\",\"NA\",\"1340\",\"2931\"],[\"Chandigarh\",\"Chandigarh\",\"zone1 GMSH-16\",\"2019-2020\",\"February\",\"1.5.2\",\"Number of PW tested positive for GDM\",\"M1 [Ante Natal Care (ANC)]\",\"20\",\"NA\",\"20\",\"0\"],[\"Chandigarh\",\"Chandigarh\",\"zone4 Polyclinic 45\",\"2019-2020\",\"February\",\"16.7.9\",\"Number of Adolscent \\/ Adult deaths due to Accidents\\/Burn cases\",\"M16 [Details of deaths reported with probable causes:]\",\"0\",\"NA\",\"0\",\"0\"],[\"Chandigarh\",\"Chandigarh\",\"zone4 Polyclinic 45\",\"2019-2020\",\"February\",\"16.7.12\",\"Number of Adolscent \\/ Adult deaths due to Known Acute Disease\",\"M16 [Details of deaths reported with probable causes:]\",\"0\",\"NA\",\"0\",\"0\"],[\"Chandigarh\",\"Chandigarh\",\"zone4 Polyclinic 45\",\"2019-2020\",\"February\",\"16.7.11\",\"Number of Adolscent \\/ Adult deaths due to Animal bites and stings\",\"M16 [Details of deaths reported with probable causes:]\",\"0\",\"NA\",\"0\",\"0\"],[\"Chandigarh\",\"Chandigarh\",\"zone4 Polyclinic 45\",\"2019-2020\",\"February\",\"16.5.2\",\"Number of Maternal Deaths due to High fever\",\"M16 [Details of deaths reported with probable causes:]\",\"0\",\"NA\",\"0\",\"0\"],[\"Chandigarh\",\"Chandigarh\",\"zone1 GMSH-16\",\"2019-2020\",\"February\",\"4.4.2\",\"Number of newborns having weight less than 2.5 kg\",\"M4 [Pregnancy outcome & details of new-born]\",\"500\",\"NA\",\"500\",\"0\"],[\"Chandigarh\",\"Chandigarh\",\"zone1 GMSH-16\",\"2019-2020\",\"February\",\"7.2.2\",\"RTI\\/STI for which treatment initiated -Female\",\"M7 [Reproductive Tract Infections\\/Sexually Transmitted Infections (RTI\\/STI) Cases]\",\"339\",\"NA\",\"265\",\"74\"],[\"Chandigarh\",\"Chandigarh\",\"zone1 GMSH-16\",\"2019-2020\",\"February\",\"9.1.2\",\"Child immunisation - BCG\",\"M9 [CHILD IMMUNISATION]\",\"1506\",\"NA\",\"1506\",\"0\"],[\"Chandigarh\",\"Chandigarh\",\"zone1 GMSH-16\",\"2019-2020\",\"February\",\"15.1\",\"Number of Lab Tests done\",\"M15 [Laboratory Testing]\",\"141081\",\"NA\",\"134020\",\"7061\"],[\"Chandigarh\",\"Chandigarh\",\"zone2 CHC-22\",\"2019-2020\",\"February\",\"1.1\",\"Total number of pregnant women registered for ANC\",\"M1 [Ante Natal Care (ANC)]\",\"517\",\"NA\",\"NA\",\"517\"],[\"Chandigarh\",\"Chandigarh\",\"zone2 CHC-22\",\"2019-2020\",\"February\",\"13.2\",\"Number of DOTS cases completed successfully\",\"M13 [Directly Observed Treatment, Short-course (DOTS)]\",\"56\",\"NA\",\"NA\",\"56\"],[\"Chandigarh\",\"Chandigarh\",\"zone2 CHC-22\",\"2019-2020\",\"February\",\"14.2.2\",\"Ayush - Outpatient attendance\",\"M14 [Patient Services]\",\"9550\",\"NA\",\"NA\",\"9550\"],[\"Chandigarh\",\"Chandigarh\",\"zone2 CHC-22\",\"2019-2020\",\"February\",\"14.12.4\",\"Outborn - Female\",\"M14 [Patient Services]\",\"NA\",\"NA\",\"NA\",\"NA\"],[\"Chandigarh\",\"Chandigarh\",\"zone2 CHC-22\",\"2019-2020\",\"February\",\"14.12.3\",\"Outborn \\u2013 Male\",\"M14 [Patient Services]\",\"NA\",\"NA\",\"NA\",\"NA\"],[\"Chandigarh\",\"Chandigarh\",\"zone2 CHC-22\",\"2019-2020\",\"February\",\"15.3.2.a\",\"Female Non ANC HIV - Number Tested\",\"M15 [Laboratory Testing]\",\"135\",\"NA\",\"NA\",\"135\"],[\"Chandigarh\",\"Chandigarh\",\"zone2 CHC-22\",\"2019-2020\",\"February\",\"15.3.3.c\",\"Out of the above number screened positive, number confirmed with HIV infection at Integrated Counselling and Testing Centre (ICTC)\",\"M15 [Laboratory Testing]\",\"0\",\"NA\",\"NA\",\"0\"],[\"Chandigarh\",\"Chandigarh\",\"zone3 Mani-Majra\",\"2019-2020\",\"February\",\"15.5.2\",\"Radiology - Ultrasonography (USG)\",\"M15 [Laboratory Testing]\",\"331\",\"NA\",\"NA\",\"331\"],[\"Chandigarh\",\"Chandigarh\",\"zone3 Mani-Majra\",\"2019-2020\",\"February\",\"15.3.1.a\",\"Male HIV - Number Tested\",\"M15 [Laboratory Testing]\",\"1165\",\"NA\",\"NA\",\"1165\"],[\"Chandigarh\",\"Chandigarh\",\"zone3 Mani-Majra\",\"2019-2020\",\"February\",\"16.5.4\",\"Number of Maternal Deaths due to Obstructed\\/prolonged labour\",\"M16 [Details of deaths reported with probable causes:]\",\"0\",\"NA\",\"NA\",\"0\"],[\"Chandigarh\",\"Chandigarh\",\"zone4 Polyclinic 45\",\"2019-2020\",\"February\",\"7.2.2\",\"RTI\\/STI for which treatment initiated -Female\",\"M7 [Reproductive Tract Infections\\/Sexually Transmitted Infections (RTI\\/STI) Cases]\",\"159\",\"NA\",\"15\",\"144\"],[\"Chandigarh\",\"Chandigarh\",\"zone4 Polyclinic 45\",\"2019-2020\",\"February\",\"1.6.1.a\",\"Number of PW tested using POC test for Syphilis\",\"M1 [Ante Natal Care (ANC)]\",\"NA\",\"NA\",\"NA\",\"NA\"],[\"Chandigarh\",\"Chandigarh\",\"zone4 Polyclinic 45\",\"2019-2020\",\"February\",\"15.3.2.b\",\"Female Non ANC HIV - Number Positive\",\"M15 [Laboratory Testing]\",\"1\",\"NA\",\"0\",\"1\"],[\"Chandigarh\",\"Chandigarh\",\"zone4 Polyclinic 45\",\"2019-2020\",\"February\",\"16.7.1\",\"Number of Adolscent \\/ Adult deaths due to Diarrhoeal diseases\",\"M16 [Details of deaths reported with probable causes:]\",\"0\",\"NA\",\"0\",\"0\"],[\"Chandigarh\",\"Chandigarh\",\"zone1 GMSH-16\",\"2019-2020\",\"February\",\"4.4.1\",\"Number of newborns weighed at birth\",\"M4 [Pregnancy outcome & details of new-born]\",\"1620\",\"NA\",\"1620\",\"0\"],[\"Chandigarh\",\"Chandigarh\",\"zone1 GMSH-16\",\"2019-2020\",\"February\",\"16.7.10\",\"Number of Adolscent \\/ Adult deaths due to Suicide\",\"M16 [Details of deaths reported with probable causes:]\",\"1\",\"NA\",\"1\",\"NA\"],[\"Chandigarh\",\"Chandigarh\",\"zone2 CHC-22\",\"2019-2020\",\"February\",\"7.1.2\",\"New RTI\\/STI cases identified - Female\",\"M7 [Reproductive Tract Infections\\/Sexually Transmitted Infections (RTI\\/STI) Cases]\",\"138\",\"NA\",\"NA\",\"138\"],[\"Chandigarh\",\"Chandigarh\",\"zone2 CHC-22\",\"2019-2020\",\"February\",\"6.2\",\"Women receiving 1st post partum checkup between 48 hours and 14 days\",\"M6 [Post Natal Care (PNC)]\",\"327\",\"NA\",\"NA\",\"327\"],[\"Chandigarh\",\"Chandigarh\",\"zone2 CHC-22\",\"2019-2020\",\"February\",\"1.6.2.a\",\"Number of pregnant women tested  for Syphilis\",\"M1 [Ante Natal Care (ANC)]\",\"456\",\"NA\",\"NA\",\"456\"],[\"Chandigarh\",\"Chandigarh\",\"zone2 CHC-22\",\"2019-2020\",\"February\",\"1.6.2.d\",\"Number of babies diagnosed with  Congenital Syphilis\",\"M1 [Ante Natal Care (ANC)]\",\"0\",\"NA\",\"NA\",\"0\"],[\"Chandigarh\",\"Chandigarh\",\"zone2 CHC-22\",\"2019-2020\",\"February\",\"8.9\",\"Injectable Contraceptive-Antara Program- Second Dose\",\"M8 [Family Planning]\",\"16\",\"NA\",\"NA\",\"16\"],[\"Chandigarh\",\"Chandigarh\",\"zone2 CHC-22\",\"2019-2020\",\"February\",\"9.4.2\",\"Child immunisation - Measles 2nd dose (More than 16 months)\",\"M9 [CHILD IMMUNISATION]\",\"0\",\"NA\",\"NA\",\"0\"],[\"Chandigarh\",\"Chandigarh\",\"zone2 CHC-22\",\"2019-2020\",\"February\",\"9.2.4.b\",\"Children aged between 9 and 11 months fully immunized - Female\",\"M9 [CHILD IMMUNISATION]\",\"156\",\"NA\",\"NA\",\"156\"],[\"Chandigarh\",\"Chandigarh\",\"zone2 CHC-22\",\"2019-2020\",\"February\",\"16.7.11\",\"Number of Adolscent \\/ Adult deaths due to Animal bites and stings\",\"M16 [Details of deaths reported with probable causes:]\",\"NA\",\"NA\",\"NA\",\"NA\"],[\"Chandigarh\",\"Chandigarh\",\"zone2 CHC-22\",\"2019-2020\",\"February\",\"14.1.7\",\"Outpatient - Ophthalmic Related\",\"M14 [Patient Services]\",\"1695\",\"NA\",\"NA\",\"1695\"],[\"Chandigarh\",\"Chandigarh\",\"zone2 CHC-22\",\"2019-2020\",\"February\",\"14.1.9\",\"Outpatient - Oncology\",\"M14 [Patient Services]\",\"NA\",\"NA\",\"NA\",\"NA\"],[\"Chandigarh\",\"Chandigarh\",\"zone2 CHC-22\",\"2019-2020\",\"February\",\"14.8.5\",\"Number of post operative Surgical Site infection\",\"M14 [Patient Services]\",\"NA\",\"NA\",\"NA\",\"NA\"],[\"Chandigarh\",\"Chandigarh\",\"zone3 Mani-Majra\",\"2019-2020\",\"February\",\"4.4.2\",\"Number of newborns having weight less than 2.5 kg\",\"M4 [Pregnancy outcome & details of new-born]\",\"13\",\"NA\",\"NA\",\"13\"],[\"Chandigarh\",\"Chandigarh\",\"zone3 Mani-Majra\",\"2019-2020\",\"February\",\"9.1.7\",\"Child immunisation - Pentavalent 2\",\"M9 [CHILD IMMUNISATION]\",\"347\",\"NA\",\"NA\",\"347\"],[\"Chandigarh\",\"Chandigarh\",\"zone3 Mani-Majra\",\"2019-2020\",\"February\",\"9.4.5\",\"Child immunisation - Measles, Mumps, Rubella (MMR) Vaccine\",\"M9 [CHILD IMMUNISATION]\",\"NA\",\"NA\",\"NA\",\"NA\"],[\"Chandigarh\",\"Chandigarh\",\"zone3 Mani-Majra\",\"2019-2020\",\"February\",\"9.5.1\",\"Child immunisation - Typhoid\",\"M9 [CHILD IMMUNISATION]\",\"NA\",\"NA\",\"NA\",\"NA\"],[\"Chandigarh\",\"Chandigarh\",\"zone3 Mani-Majra\",\"2019-2020\",\"February\",\"12.1.3.a\",\"Out of registered, Girls received counselling\",\"M12 [Adolscent Health]\",\"38\",\"NA\",\"NA\",\"38\"],[\"Chandigarh\",\"Chandigarh\",\"zone3 Mani-Majra\",\"2019-2020\",\"February\",\"12.1.1.b\",\"Boys registered in AFHC\",\"M12 [Adolscent Health]\",\"36\",\"NA\",\"NA\",\"36\"],[\"Chandigarh\",\"Chandigarh\",\"zone3 Mani-Majra\",\"2019-2020\",\"February\",\"14.12.3\",\"Outborn \\u2013 Male\",\"M14 [Patient Services]\",\"2\",\"NA\",\"NA\",\"2\"],[\"Chandigarh\",\"Chandigarh\",\"zone3 Mani-Majra\",\"2019-2020\",\"February\",\"14.12.2\",\"Special Newborn Care Unit (SNCU Admissions) - Inborn Female\",\"M14 [Patient Services]\",\"1\",\"NA\",\"NA\",\"1\"],[\"Chandigarh\",\"Chandigarh\",\"zone4 Polyclinic 45\",\"2019-2020\",\"February\",\"7.2.1\",\"RTI\\/STI for which treatment initiated - Male\",\"M7 [Reproductive Tract Infections\\/Sexually Transmitted Infections (RTI\\/STI) Cases]\",\"17\",\"NA\",\"0\",\"17\"],[\"Chandigarh\",\"Chandigarh\",\"zone4 Polyclinic 45\",\"2019-2020\",\"February\",\"8.17.3\",\"Failures following male sterilization\",\"M8 [Family Planning]\",\"0\",\"NA\",\"0\",\"0\"],[\"Chandigarh\",\"Chandigarh\",\"zone4 Polyclinic 45\",\"2019-2020\",\"February\",\"14.19\",\"Total number of blood units issued in year\",\"M14 [Patient Services]\",\"0\",\"NA\",\"0\",\"NA\"],[\"Chandigarh\",\"Chandigarh\",\"zone4 Polyclinic 45\",\"2019-2020\",\"February\",\"14.3.2.a\",\"Inpatient (Female)- Children<18yrs\",\"M14 [Patient Services]\",\"160\",\"NA\",\"110\",\"50\"],[\"Chandigarh\",\"Chandigarh\",\"zone4 Polyclinic 45\",\"2019-2020\",\"February\",\"14.1.6\",\"Outpatient - Epilepsy\",\"M14 [Patient Services]\",\"4\",\"NA\",\"4\",\"0\"],[\"Chandigarh\",\"Chandigarh\",\"zone4 Polyclinic 45\",\"2019-2020\",\"February\",\"16.2.1\",\"Infant Deaths up to 4 weeks due to Sepsis\",\"M16 [Details of deaths reported with probable causes:]\",\"0\",\"NA\",\"0\",\"0\"],[\"Chandigarh\",\"Chandigarh\",\"zone4 Polyclinic 45\",\"2019-2020\",\"February\",\"16.7.2\",\"Number of Adolscent \\/ Adult deaths due to Tuberculosis\",\"M16 [Details of deaths reported with probable causes:]\",\"0\",\"NA\",\"0\",\"0\"],[\"Chandigarh\",\"Chandigarh\",\"zone1 GMSH-16\",\"2019-2020\",\"February\",\"9.1.13\",\"Child immunisation - Hepatitis-B0 (Birth Dose)\",\"M9 [CHILD IMMUNISATION]\",\"1405\",\"NA\",\"1405\",\"NA\"],[\"Chandigarh\",\"Chandigarh\",\"zone1 GMSH-16\",\"2019-2020\",\"February\",\"9.1.12\",\"Child immunisation - OPV3\",\"M9 [CHILD IMMUNISATION]\",\"334\",\"NA\",\"151\",\"183\"],[\"Chandigarh\",\"Chandigarh\",\"zone1 GMSH-16\",\"2019-2020\",\"February\",\"1.6.2.d\",\"Number of babies diagnosed with  Congenital Syphilis\",\"M1 [Ante Natal Care (ANC)]\",\"0\",\"NA\",\"0\",\"0\"],[\"Chandigarh\",\"Chandigarh\",\"zone1 GMSH-16\",\"2019-2020\",\"February\",\"14.1.4\",\"Outpatient - Acute Heart Diseases\",\"M14 [Patient Services]\",\"16436\",\"NA\",\"16434\",\"2\"],[\"Chandigarh\",\"Chandigarh\",\"zone1 GMSH-16\",\"2019-2020\",\"February\",\"16.3.4\",\"Number of Infant Deaths (1 -12 months) due to Measles\",\"M16 [Details of deaths reported with probable causes:]\",\"0\",\"NA\",\"0\",\"NA\"],[\"Chandigarh\",\"Chandigarh\",\"zone2 CHC-22\",\"2019-2020\",\"February\",\"1.2.6\",\"Number of PW given one Albendazole tablet after 1st  trimester\",\"M1 [Ante Natal Care (ANC)]\",\"318\",\"NA\",\"NA\",\"318\"],[\"Chandigarh\",\"Chandigarh\",\"zone2 CHC-22\",\"2019-2020\",\"February\",\"1.3.1\",\"New cases of PW with hypertension detected\",\"M1 [Ante Natal Care (ANC)]\",\"27\",\"NA\",\"NA\",\"27\"],[\"Chandigarh\",\"Chandigarh\",\"zone1 GMSH-16\",\"2019-2020\",\"February\",\"16.7.6\",\"Number of Adolscent \\/ Adult deaths due to Heart disease\\/Hypertension related\",\"M16 [Details of deaths reported with probable causes:]\",\"11\",\"NA\",\"11\",\"NA\"],[\"Chandigarh\",\"Chandigarh\",\"zone1 GMSH-16\",\"2019-2020\",\"February\",\"16.8.5\",\"Number of Deaths due to Acute Encephelitis Syndrome (AES)\",\"M16 [Details of deaths reported with probable causes:]\",\"2\",\"NA\",\"2\",\"NA\"],[\"Chandigarh\",\"Chandigarh\",\"zone2 CHC-22\",\"2019-2020\",\"February\",\"5.1\",\"Number of cases of pregnant women with Obstetric Complications attended (Antepartum haemorrhage (APH), Post-Partum Hemorrhage (PPH), Sepsis, Eclampsia and others)\",\"M5 [Complicated Pregnancies]\",\"98\",\"NA\",\"NA\",\"98\"],[\"Chandigarh\",\"Chandigarh\",\"zone2 CHC-22\",\"2019-2020\",\"February\",\"4.1.1.b\",\"Live Birth - Female\",\"M4 [Pregnancy outcome & details of new-born]\",\"160\",\"NA\",\"NA\",\"160\"],[\"Chandigarh\",\"Chandigarh\",\"zone2 CHC-22\",\"2019-2020\",\"February\",\"9.1.5\",\"Child immunisation - DPT3\",\"M9 [CHILD IMMUNISATION]\",\"3\",\"NA\",\"NA\",\"3\"],[\"Chandigarh\",\"Chandigarh\",\"zone2 CHC-22\",\"2019-2020\",\"February\",\"9.6.1\",\"Number of cases of AEFI - Abscess\",\"M9 [CHILD IMMUNISATION]\",\"0\",\"NA\",\"NA\",\"0\"],[\"Chandigarh\",\"Chandigarh\",\"zone2 CHC-22\",\"2019-2020\",\"February\",\"12.1.1.a\",\"Girls registered in AFHC\",\"M12 [Adolscent Health]\",\"177\",\"NA\",\"NA\",\"177\"],[\"Chandigarh\",\"Chandigarh\",\"zone3 Mani-Majra\",\"2019-2020\",\"February\",\"1.3.1\",\"New cases of PW with hypertension detected\",\"M1 [Ante Natal Care (ANC)]\",\"8\",\"NA\",\"NA\",\"8\"],[\"Chandigarh\",\"Chandigarh\",\"zone3 Mani-Majra\",\"2019-2020\",\"February\",\"9.5.2\",\"Children more than 5 years received DPT5 (2nd Booster)\",\"M9 [CHILD IMMUNISATION]\",\"319\",\"NA\",\"NA\",\"319\"],[\"Chandigarh\",\"Chandigarh\",\"zone3 Mani-Majra\",\"2019-2020\",\"February\",\"14.11\",\"Number of Admission in NBSU ( New Born Stabilisation Unit)\",\"M14 [Patient Services]\",\"6\",\"NA\",\"NA\",\"6\"],[\"Chandigarh\",\"Chandigarh\",\"zone3 Mani-Majra\",\"2019-2020\",\"February\",\"14.8.4\",\"Operation minor (No or local anaesthesia)\",\"M14 [Patient Services]\",\"53\",\"NA\",\"NA\",\"53\"],[\"Chandigarh\",\"Chandigarh\",\"zone3 Mani-Majra\",\"2019-2020\",\"February\",\"15.3.1.b\",\"Male HIV - Number Positive\",\"M15 [Laboratory Testing]\",\"1\",\"NA\",\"NA\",\"1\"],[\"Chandigarh\",\"Chandigarh\",\"zone3 Mani-Majra\",\"2019-2020\",\"February\",\"15.3.4.d\",\"Number of Female (Non ANC) STI\\/RTI attendees found sero Positive for syphilis\",\"M15 [Laboratory Testing]\",\"0\",\"NA\",\"NA\",\"0\"],[\"Chandigarh\",\"Chandigarh\",\"zone3 Mani-Majra\",\"2019-2020\",\"February\",\"16.7.11\",\"Number of Adolscent \\/ Adult deaths due to Animal bites and stings\",\"M16 [Details of deaths reported with probable causes:]\",\"0\",\"NA\",\"NA\",\"0\"],[\"Chandigarh\",\"Chandigarh\",\"zone4 Polyclinic 45\",\"2019-2020\",\"February\",\"4.3.1.b\",\"MTP more than 12 weeks of pregnancy\",\"M4 [Pregnancy outcome & details of new-born]\",\"1\",\"NA\",\"1\",\"0\"],[\"Chandigarh\",\"Chandigarh\",\"zone4 Polyclinic 45\",\"2019-2020\",\"February\",\"9.5.3\",\"Children more than 10 years received TT10\",\"M9 [CHILD IMMUNISATION]\",\"195\",\"NA\",\"4\",\"191\"],[\"Chandigarh\",\"Chandigarh\",\"zone4 Polyclinic 45\",\"2019-2020\",\"February\",\"9.4.1\",\"Child immunisation - Measles & Rubella (MR)- 2nd Dose (16-24 months)\",\"M9 [CHILD IMMUNISATION]\",\"454\",\"NA\",\"5\",\"449\"],[\"Chandigarh\",\"Chandigarh\",\"zone4 Polyclinic 45\",\"2019-2020\",\"February\",\"9.8.1\",\"Child immunisation - Vitamin A Dose - 1\",\"M9 [CHILD IMMUNISATION]\",\"313\",\"NA\",\"7\",\"306\"],[\"Chandigarh\",\"Chandigarh\",\"zone4 Polyclinic 45\",\"2019-2020\",\"February\",\"14.1.3\",\"Outpatient - Stroke (Paralysis)\",\"M14 [Patient Services]\",\"1\",\"NA\",\"1\",\"0\"],[\"Chandigarh\",\"Chandigarh\",\"zone4 Polyclinic 45\",\"2019-2020\",\"February\",\"13.2\",\"Number of DOTS cases completed successfully\",\"M13 [Directly Observed Treatment, Short-course (DOTS)]\",\"47\",\"NA\",\"0\",\"47\"],[\"Chandigarh\",\"Chandigarh\",\"zone4 Polyclinic 45\",\"2019-2020\",\"February\",\"11.1.1.c\",\"Malaria (Microscopy Tests ) - Plasmodium Falciparum test positive\",\"M11 [NVBDCP]\",\"0\",\"NA\",\"NA\",\"0\"],[\"Chandigarh\",\"Chandigarh\",\"zone4 Polyclinic 45\",\"2019-2020\",\"February\",\"14.4.7\",\"Inpatient - Diarrhea with dehydration\",\"M14 [Patient Services]\",\"44\",\"NA\",\"33\",\"11\"],[\"Chandigarh\",\"Chandigarh\",\"zone4 Polyclinic 45\",\"2019-2020\",\"February\",\"14.13\",\"Number of deaths occurring at SNCU\",\"M14 [Patient Services]\",\"NA\",\"NA\",\"NA\",\"NA\"],[\"Chandigarh\",\"Chandigarh\",\"zone4 Polyclinic 45\",\"2019-2020\",\"February\",\"16.5.5\",\"Number of Maternal Deaths due to Severe hypertesnion\\/fits\",\"M16 [Details of deaths reported with probable causes:]\",\"0\",\"NA\",\"0\",\"0\"],[\"Chandigarh\",\"Chandigarh\",\"zone4 Polyclinic 45\",\"2019-2020\",\"February\",\"16.5.3\",\"Number of Maternal Deaths due to Abortion\",\"M16 [Details of deaths reported with probable causes:]\",\"0\",\"NA\",\"0\",\"0\"],[\"Chandigarh\",\"Chandigarh\",\"zone1 GMSH-16\",\"2019-2020\",\"February\",\"9.3.2\",\"Child immunisation - Measles-1st dose\",\"M9 [CHILD IMMUNISATION]\",\"0\",\"NA\",\"0\",\"NA\"],[\"Chandigarh\",\"Chandigarh\",\"zone1 GMSH-16\",\"2019-2020\",\"February\",\"16.6\",\"Total Facility Based Maternal Death Reviews (FBMDR) done\",\"M16 [Details of deaths reported with probable causes:]\",\"0\",\"NA\",\"0\",\"NA\"],[\"Chandigarh\",\"Chandigarh\",\"zone2 CHC-22\",\"2019-2020\",\"February\",\"8.11\",\"Injectable Contraceptive-Antara Program- Fourth or more than fourth\",\"M8 [Family Planning]\",\"16\",\"NA\",\"NA\",\"16\"],[\"Chandigarh\",\"Chandigarh\",\"zone2 CHC-22\",\"2019-2020\",\"February\",\"9.1.17\",\"Child immunisation - Inactivated Polio Vaccine 1 (IPV 1)\",\"M9 [CHILD IMMUNISATION]\",\"343\",\"NA\",\"NA\",\"343\"],[\"Chandigarh\",\"Chandigarh\",\"zone2 CHC-22\",\"2019-2020\",\"February\",\"14.14.1\",\"Number of children admitted in NRC\",\"M14 [Patient Services]\",\"NA\",\"NA\",\"NA\",\"NA\"],[\"Chandigarh\",\"Chandigarh\",\"zone3 Mani-Majra\",\"2019-2020\",\"February\",\"4.3.3\",\"Number of women provided with post abortion\\/ MTP contraception\",\"M4 [Pregnancy outcome & details of new-born]\",\"12\",\"NA\",\"NA\",\"12\"],[\"Chandigarh\",\"Chandigarh\",\"zone3 Mani-Majra\",\"2019-2020\",\"February\",\"7.1.2\",\"New RTI\\/STI cases identified - Female\",\"M7 [Reproductive Tract Infections\\/Sexually Transmitted Infections (RTI\\/STI) Cases]\",\"220\",\"NA\",\"NA\",\"220\"],[\"Chandigarh\",\"Chandigarh\",\"zone3 Mani-Majra\",\"2019-2020\",\"February\",\"8.17.6\",\"Deaths following female sterilization\",\"M8 [Family Planning]\",\"0\",\"NA\",\"NA\",\"0\"],[\"Chandigarh\",\"Chandigarh\",\"zone3 Mani-Majra\",\"2019-2020\",\"February\",\"10.2\",\"Childhood Diseases - Asthma\",\"M10 [Number of cases of Childhood Diseases (0-5 years)]\",\"5\",\"NA\",\"NA\",\"5\"],[\"Chandigarh\",\"Chandigarh\",\"zone4 Polyclinic 45\",\"2019-2020\",\"February\",\"1.6.2.c\",\"Number of syphilis positive pregnant women treated for Syphilis\",\"M1 [Ante Natal Care (ANC)]\",\"0\",\"NA\",\"0\",\"0\"],[\"Chandigarh\",\"Chandigarh\",\"zone4 Polyclinic 45\",\"2019-2020\",\"February\",\"4.1.1.b\",\"Live Birth - Female\",\"M4 [Pregnancy outcome & details of new-born]\",\"57\",\"NA\",\"12\",\"45\"],[\"Chandigarh\",\"Chandigarh\",\"zone4 Polyclinic 45\",\"2019-2020\",\"February\",\"10.12\",\"Childhood Diseases - Diarrhoea treated in Inpatients\",\"M10 [Number of cases of Childhood Diseases (0-5 years)]\",\"15\",\"NA\",\"15\",\"0\"],[\"Chandigarh\",\"Chandigarh\",\"zone4 Polyclinic 45\",\"2019-2020\",\"February\",\"12.1.1.b\",\"Boys registered in AFHC\",\"M12 [Adolscent Health]\",\"43\",\"NA\",\"0\",\"43\"],[\"Chandigarh\",\"Chandigarh\",\"zone4 Polyclinic 45\",\"2019-2020\",\"February\",\"15.4.2\",\"Widal tests - Number Positive\",\"M15 [Laboratory Testing]\",\"95\",\"NA\",\"6\",\"89\"],[\"Chandigarh\",\"Chandigarh\",\"zone4 Polyclinic 45\",\"2019-2020\",\"February\",\"16.3.2\",\"Number of Infant Deaths (1 -12 months) due to Diarrhoea\",\"M16 [Details of deaths reported with probable causes:]\",\"0\",\"NA\",\"0\",\"0\"],[\"Chandigarh\",\"Chandigarh\",\"zone1 GMSH-16\",\"2019-2020\",\"February\",\"1.4.2\",\"Number of PW having Hb level<11 (tested cases)(7.1 to 10.9)\",\"M1 [Ante Natal Care (ANC)]\",\"714\",\"NA\",\"675\",\"39\"],[\"Chandigarh\",\"Chandigarh\",\"zone1 GMSH-16\",\"2019-2020\",\"February\",\"4.1.1.a\",\"Live Birth - Male\",\"M4 [Pregnancy outcome & details of new-born]\",\"828\",\"NA\",\"828\",\"0\"],[\"Chandigarh\",\"Chandigarh\",\"zone1 GMSH-16\",\"2019-2020\",\"February\",\"3.1.1\",\"C-sections, performed at night (8 PM- 8 AM)\",\"M3 [Number of Caesarean (C-Section) deliveries]\",\"251\",\"NA\",\"251\",\"NA\"],[\"Chandigarh\",\"Chandigarh\",\"zone1 GMSH-16\",\"2019-2020\",\"February\",\"16.8.6\",\"Number of Deaths due to Japanese  Encephalitis (JE)\",\"M16 [Details of deaths reported with probable causes:]\",\"0\",\"NA\",\"0\",\"NA\"],[\"Chandigarh\",\"Chandigarh\",\"zone3 Mani-Majra\",\"2019-2020\",\"February\",\"11.1.1.b\",\"Malaria (Microscopy Tests ) - Plasmodium Vivax test positive\",\"M11 [NVBDCP]\",\"1\",\"NA\",\"NA\",\"1\"],[\"Chandigarh\",\"Chandigarh\",\"zone3 Mani-Majra\",\"2019-2020\",\"February\",\"11.3.2\",\"Dengue - Enzyme- Linked Immuno Sorbent Assay (ELISA) Test Positive\",\"M11 [NVBDCP]\",\"1\",\"NA\",\"NA\",\"1\"],[\"Chandigarh\",\"Chandigarh\",\"zone4 Polyclinic 45\",\"2019-2020\",\"February\",\"2.1.1.b\",\"Number of Home Deliveries attended by Non SBA (Trained Birth Attendant(TBA) \\/Relatives\\/etc.)\",\"M2 [Deliveries]\",\"1\",\"NA\",\"NA\",\"1\"],[\"Chandigarh\",\"Chandigarh\",\"zone3 Mani-Majra\",\"2019-2020\",\"February\",\"16.6\",\"Total Facility Based Maternal Death Reviews (FBMDR) done\",\"M16 [Details of deaths reported with probable causes:]\",\"0\",\"NA\",\"NA\",\"0\"],[\"Chandigarh\",\"Chandigarh\",\"zone4 Polyclinic 45\",\"2019-2020\",\"February\",\"9.2.3\",\"Child immunisation (9-11months) - JE 1st dose\",\"M9 [CHILD IMMUNISATION]\",\"0\",\"NA\",\"NA\",\"0\"],[\"Chandigarh\",\"Chandigarh\",\"zone4 Polyclinic 45\",\"2019-2020\",\"February\",\"11.3.1\",\"Dengue - RDT Test Positive\",\"M11 [NVBDCP]\",\"0\",\"NA\",\"0\",\"0\"],[\"Chandigarh\",\"Chandigarh\",\"zone4 Polyclinic 45\",\"2019-2020\",\"February\",\"10.7\",\"Childhood Diseases - Tuberculosis (TB)\",\"M10 [Number of cases of Childhood Diseases (0-5 years)]\",\"0\",\"NA\",\"0\",\"0\"],[\"Chandigarh\",\"Chandigarh\",\"zone4 Polyclinic 45\",\"2019-2020\",\"February\",\"14.9.1\",\"Inpatient Deaths - Male\",\"M14 [Patient Services]\",\"0\",\"NA\",\"0\",\"0\"],[\"Chandigarh\",\"Chandigarh\",\"zone1 GMSH-16\",\"2019-2020\",\"February\",\"1.2.1\",\"Number of PW given\\u00a0TT1\",\"M1 [Ante Natal Care (ANC)]\",\"775\",\"NA\",\"625\",\"150\"],[\"Chandigarh\",\"Chandigarh\",\"zone1 GMSH-16\",\"2019-2020\",\"February\",\"9.5.1\",\"Child immunisation - Typhoid\",\"M9 [CHILD IMMUNISATION]\",\"0\",\"NA\",\"0\",\"NA\"],[\"Chandigarh\",\"Chandigarh\",\"zone1 GMSH-16\",\"2019-2020\",\"February\",\"9.1.9\",\"Child immunisation - OPV 0 (Birth Dose)\",\"M9 [CHILD IMMUNISATION]\",\"1506\",\"NA\",\"1506\",\"0\"],[\"Chandigarh\",\"Chandigarh\",\"zone1 GMSH-16\",\"2019-2020\",\"February\",\"11.2.3\",\"Post-kala-azar dermal leishmaniasis (PKDL) cases\",\"M11 [NVBDCP]\",\"0\",\"NA\",\"0\",\"NA\"],[\"Chandigarh\",\"Chandigarh\",\"zone1 GMSH-16\",\"2019-2020\",\"February\",\"14.6.7\",\"Emergency - CVA ( Cerebovascular Disease)\",\"M14 [Patient Services]\",\"47\",\"NA\",\"47\",\"NA\"],[\"Chandigarh\",\"Chandigarh\",\"zone1 GMSH-16\",\"2019-2020\",\"February\",\"16.4.1\",\"Number of Child Deaths (1 -5 years) due to Pneumonia\",\"M16 [Details of deaths reported with probable causes:]\",\"1\",\"NA\",\"1\",\"NA\"],[\"Chandigarh\",\"Chandigarh\",\"zone2 CHC-22\",\"2019-2020\",\"February\",\"1.6.2.b\",\"Number of pregnant women tested found sero positive for Syphilis\",\"M1 [Ante Natal Care (ANC)]\",\"0\",\"NA\",\"NA\",\"0\"],[\"Chandigarh\",\"Chandigarh\",\"zone2 CHC-22\",\"2019-2020\",\"February\",\"9.1.8\",\"Child immunisation - Pentavalent 3\",\"M9 [CHILD IMMUNISATION]\",\"354\",\"NA\",\"NA\",\"354\"],[\"Chandigarh\",\"Chandigarh\",\"zone2 CHC-22\",\"2019-2020\",\"February\",\"4.4.1\",\"Number of newborns weighed at birth\",\"M4 [Pregnancy outcome & details of new-born]\",\"329\",\"NA\",\"NA\",\"329\"],[\"Chandigarh\",\"Chandigarh\",\"zone2 CHC-22\",\"2019-2020\",\"February\",\"14.7\",\"Number of deaths occurring at Emergency Department\",\"M14 [Patient Services]\",\"0\",\"NA\",\"NA\",\"0\"],[\"Chandigarh\",\"Chandigarh\",\"zone2 CHC-22\",\"2019-2020\",\"February\",\"15.3.4.b\",\"Number of Male STI\\/RTI attendees found sero Positive for syphilis\",\"M15 [Laboratory Testing]\",\"0\",\"NA\",\"NA\",\"0\"],[\"Chandigarh\",\"Chandigarh\",\"zone3 Mani-Majra\",\"2019-2020\",\"February\",\"1.2.2\",\"Number of PW given\\u00a0TT2\",\"M1 [Ante Natal Care (ANC)]\",\"309\",\"NA\",\"NA\",\"309\"],[\"Chandigarh\",\"Chandigarh\",\"zone3 Mani-Majra\",\"2019-2020\",\"February\",\"8.2.2\",\"Number of Interval Mini-lap (other than post-partum and post abortion) sterilizations conducted\",\"M8 [Family Planning]\",\"0\",\"NA\",\"NA\",\"0\"],[\"Chandigarh\",\"Chandigarh\",\"zone3 Mani-Majra\",\"2019-2020\",\"February\",\"9.2.2\",\"Child immunisation (9-11months) - Measles 1st dose\",\"M9 [CHILD IMMUNISATION]\",\"NA\",\"NA\",\"NA\",\"NA\"],[\"Chandigarh\",\"Chandigarh\",\"zone3 Mani-Majra\",\"2019-2020\",\"February\",\"9.2.4.a\",\"Children aged between 9 and 11 months fully immunized- Male\",\"M9 [CHILD IMMUNISATION]\",\"149\",\"NA\",\"NA\",\"149\"],[\"Chandigarh\",\"Chandigarh\",\"zone3 Mani-Majra\",\"2019-2020\",\"February\",\"16.5.3\",\"Number of Maternal Deaths due to Abortion\",\"M16 [Details of deaths reported with probable causes:]\",\"0\",\"NA\",\"NA\",\"0\"],[\"Chandigarh\",\"Chandigarh\",\"zone3 Mani-Majra\",\"2019-2020\",\"February\",\"16.8.5\",\"Number of Deaths due to Acute Encephelitis Syndrome (AES)\",\"M16 [Details of deaths reported with probable causes:]\",\"0\",\"NA\",\"NA\",\"0\"],[\"Chandigarh\",\"Chandigarh\",\"zone4 Polyclinic 45\",\"2019-2020\",\"February\",\"9.5.4\",\"Children more than 16 years received TT16\",\"M9 [CHILD IMMUNISATION]\",\"125\",\"NA\",\"3\",\"122\"],[\"Chandigarh\",\"Chandigarh\",\"zone4 Polyclinic 45\",\"2019-2020\",\"February\",\"9.6.3\",\"Number of cases of AEFI - Others\",\"M9 [CHILD IMMUNISATION]\",\"0\",\"NA\",\"0\",\"0\"],[\"Chandigarh\",\"Chandigarh\",\"zone4 Polyclinic 45\",\"2019-2020\",\"February\",\"8.6\",\"Number of IUCD Removals\",\"M8 [Family Planning]\",\"27\",\"NA\",\"4\",\"23\"],[\"Chandigarh\",\"Chandigarh\",\"zone4 Polyclinic 45\",\"2019-2020\",\"February\",\"14.14.1\",\"Number of children admitted in NRC\",\"M14 [Patient Services]\",\"0\",\"NA\",\"0\",\"0\"],[\"Chandigarh\",\"Chandigarh\",\"zone1 GMSH-16\",\"2019-2020\",\"February\",\"12.1.2.b\",\"Out of registered, Boys received clinical services\",\"M12 [Adolscent Health]\",\"93\",\"NA\",\"43\",\"50\"],[\"Chandigarh\",\"Chandigarh\",\"zone1 GMSH-16\",\"2019-2020\",\"February\",\"8.6\",\"Number of IUCD Removals\",\"M8 [Family Planning]\",\"31\",\"NA\",\"27\",\"4\"],[\"Chandigarh\",\"Chandigarh\",\"zone1 GMSH-16\",\"2019-2020\",\"February\",\"8.2.3\",\"Number of Postpartum sterilizations (within 7 days of delivery by minilap or concurrent with caesarean section) conducted\",\"M8 [Family Planning]\",\"120\",\"NA\",\"120\",\"NA\"],[\"Chandigarh\",\"Chandigarh\",\"zone1 GMSH-16\",\"2019-2020\",\"February\",\"14.4.3\",\"Inpatient - Typhoid\",\"M14 [Patient Services]\",\"9\",\"NA\",\"9\",\"NA\"],[\"Chandigarh\",\"Chandigarh\",\"zone1 GMSH-16\",\"2019-2020\",\"February\",\"15.3.1.b\",\"Male HIV - Number Positive\",\"M15 [Laboratory Testing]\",\"18\",\"NA\",\"18\",\"0\"],[\"Chandigarh\",\"Chandigarh\",\"zone2 CHC-22\",\"2019-2020\",\"February\",\"1.2.1\",\"Number of PW given\\u00a0TT1\",\"M1 [Ante Natal Care (ANC)]\",\"481\",\"NA\",\"NA\",\"481\"],[\"Chandigarh\",\"Chandigarh\",\"zone2 CHC-22\",\"2019-2020\",\"February\",\"9.3.2\",\"Child immunisation - Measles-1st dose\",\"M9 [CHILD IMMUNISATION]\",\"0\",\"NA\",\"NA\",\"0\"],[\"Chandigarh\",\"Chandigarh\",\"zone2 CHC-22\",\"2019-2020\",\"February\",\"7.2.1\",\"RTI\\/STI for which treatment initiated - Male\",\"M7 [Reproductive Tract Infections\\/Sexually Transmitted Infections (RTI\\/STI) Cases]\",\"19\",\"NA\",\"NA\",\"19\"],[\"Chandigarh\",\"Chandigarh\",\"zone2 CHC-22\",\"2019-2020\",\"February\",\"14.4.6\",\"Inpatient - Pyrexia of unknown origin (PUO)\",\"M14 [Patient Services]\",\"14\",\"NA\",\"NA\",\"14\"],[\"Chandigarh\",\"Chandigarh\",\"zone3 Mani-Majra\",\"2019-2020\",\"February\",\"1.2.6\",\"Number of PW given one Albendazole tablet after 1st  trimester\",\"M1 [Ante Natal Care (ANC)]\",\"453\",\"NA\",\"NA\",\"453\"],[\"Chandigarh\",\"Chandigarh\",\"zone3 Mani-Majra\",\"2019-2020\",\"February\",\"4.1.1.b\",\"Live Birth - Female\",\"M4 [Pregnancy outcome & details of new-born]\",\"62\",\"NA\",\"NA\",\"62\"],[\"Chandigarh\",\"Chandigarh\",\"zone3 Mani-Majra\",\"2019-2020\",\"February\",\"10.9\",\"Childhood Diseases - Measles\",\"M10 [Number of cases of Childhood Diseases (0-5 years)]\",\"0\",\"NA\",\"NA\",\"0\"],[\"Chandigarh\",\"Chandigarh\",\"zone3 Mani-Majra\",\"2019-2020\",\"February\",\"13.2\",\"Number of DOTS cases completed successfully\",\"M13 [Directly Observed Treatment, Short-course (DOTS)]\",\"77\",\"NA\",\"NA\",\"77\"],[\"Chandigarh\",\"Chandigarh\",\"zone3 Mani-Majra\",\"2019-2020\",\"February\",\"14.1.7\",\"Outpatient - Ophthalmic Related\",\"M14 [Patient Services]\",\"1594\",\"NA\",\"NA\",\"1594\"],[\"Chandigarh\",\"Chandigarh\",\"zone3 Mani-Majra\",\"2019-2020\",\"February\",\"14.6.5\",\"Emergency - Acute Caridiac Emergencies\",\"M14 [Patient Services]\",\"0\",\"NA\",\"NA\",\"0\"],[\"Chandigarh\",\"Chandigarh\",\"zone3 Mani-Majra\",\"2019-2020\",\"February\",\"14.2.2\",\"Ayush - Outpatient attendance\",\"M14 [Patient Services]\",\"3672\",\"NA\",\"NA\",\"3672\"],[\"Chandigarh\",\"Chandigarh\",\"zone4 Polyclinic 45\",\"2019-2020\",\"February\",\"4.1.3\",\"Still Birth\",\"M4 [Pregnancy outcome & details of new-born]\",\"1\",\"NA\",\"0\",\"1\"],[\"Chandigarh\",\"Chandigarh\",\"zone3 Mani-Majra\",\"2019-2020\",\"February\",\"8.2.4\",\"Number of Post Abortion sterilizations (within 7 days of spontaneous or surgical abortion) conducted\",\"M8 [Family Planning]\",\"5\",\"NA\",\"NA\",\"5\"],[\"Chandigarh\",\"Chandigarh\",\"zone4 Polyclinic 45\",\"2019-2020\",\"February\",\"8.5\",\"Number of Post Abortion (within 12 days of spontaneous or surgical abortion) IUCD insertions\",\"M8 [Family Planning]\",\"2\",\"NA\",\"2\",\"0\"],[\"Chandigarh\",\"Chandigarh\",\"zone4 Polyclinic 45\",\"2019-2020\",\"February\",\"9.1.4\",\"Child immunisation - DPT2\",\"M9 [CHILD IMMUNISATION]\",\"2\",\"NA\",\"NA\",\"2\"],[\"Chandigarh\",\"Chandigarh\",\"zone4 Polyclinic 45\",\"2019-2020\",\"February\",\"9.4.2\",\"Child immunisation - Measles 2nd dose (More than 16 months)\",\"M9 [CHILD IMMUNISATION]\",\"0\",\"NA\",\"0\",\"0\"],[\"Chandigarh\",\"Chandigarh\",\"zone4 Polyclinic 45\",\"2019-2020\",\"February\",\"8.10\",\"Injectable Contraceptive-Antara Program- Third Dose\",\"M8 [Family Planning]\",\"8\",\"NA\",\"1\",\"7\"],[\"Chandigarh\",\"Chandigarh\",\"zone4 Polyclinic 45\",\"2019-2020\",\"February\",\"14.4.8\",\"Inpatient - Hepatitis\",\"M14 [Patient Services]\",\"9\",\"NA\",\"4\",\"5\"],[\"Chandigarh\",\"Chandigarh\",\"zone4 Polyclinic 45\",\"2019-2020\",\"February\",\"14.3.3\",\"Number of Left Against Medical Advice (LAMA) cases\",\"M14 [Patient Services]\",\"11\",\"NA\",\"0\",\"11\"],[\"Chandigarh\",\"Chandigarh\",\"zone4 Polyclinic 45\",\"2019-2020\",\"February\",\"14.8.5\",\"Number of post operative Surgical Site infection\",\"M14 [Patient Services]\",\"0\",\"NA\",\"0\",\"NA\"],[\"Chandigarh\",\"Chandigarh\",\"zone4 Polyclinic 45\",\"2019-2020\",\"February\",\"16.2.2\",\"Infant Deaths up to 4 weeks due to Asphyxia\",\"M16 [Details of deaths reported with probable causes:]\",\"0\",\"NA\",\"0\",\"0\"],[\"Chandigarh\",\"Chandigarh\",\"zone1 GMSH-16\",\"2019-2020\",\"February\",\"1.4.4\",\"Number of PW having severe anaemia (Hb<7) treated\",\"M1 [Ante Natal Care (ANC)]\",\"15\",\"NA\",\"15\",\"0\"],[\"Chandigarh\",\"Chandigarh\",\"zone1 GMSH-16\",\"2019-2020\",\"February\",\"14.1.6\",\"Outpatient - Epilepsy\",\"M14 [Patient Services]\",\"453\",\"NA\",\"452\",\"1\"],[\"Chandigarh\",\"Chandigarh\",\"zone1 GMSH-16\",\"2019-2020\",\"February\",\"12.1.2.a\",\"Out of registered, Girls received clinical services\",\"M12 [Adolscent Health]\",\"120\",\"NA\",\"52\",\"68\"],[\"Chandigarh\",\"Chandigarh\",\"zone1 GMSH-16\",\"2019-2020\",\"February\",\"6.4\",\"Number of mothers provided 360 Calcium tablets after delivery\",\"M6 [Post Natal Care (PNC)]\",\"647\",\"NA\",\"479\",\"168\"],[\"Chandigarh\",\"Chandigarh\",\"zone1 GMSH-16\",\"2019-2020\",\"February\",\"16.4.3\",\"Number of Child Deaths (1 -5 years) due to Fever related\",\"M16 [Details of deaths reported with probable causes:]\",\"0\",\"NA\",\"0\",\"NA\"],[\"Chandigarh\",\"Chandigarh\",\"zone1 GMSH-16\",\"2019-2020\",\"February\",\"15.3.3.b\",\"Out of the above, number screened positive\",\"M15 [Laboratory Testing]\",\"0\",\"NA\",\"0\",\"0\"],[\"Chandigarh\",\"Chandigarh\",\"zone1 GMSH-16\",\"2019-2020\",\"February\",\"16.7.2\",\"Number of Adolscent \\/ Adult deaths due to Tuberculosis\",\"M16 [Details of deaths reported with probable causes:]\",\"6\",\"NA\",\"6\",\"NA\"],[\"Chandigarh\",\"Chandigarh\",\"zone2 CHC-22\",\"2019-2020\",\"February\",\"2.2\",\"Number of Institutional Deliveries conducted (Including C-Sections)\",\"M2 [Deliveries]\",\"327\",\"NA\",\"NA\",\"327\"],[\"Chandigarh\",\"Chandigarh\",\"zone1 GMSH-16\",\"2019-2020\",\"February\",\"8.14\",\"Number of Centchroman (weekly) pill strips distributed\",\"M8 [Family Planning]\",\"32\",\"NA\",\"32\",\"NA\"],[\"Chandigarh\",\"Chandigarh\",\"zone2 CHC-22\",\"2019-2020\",\"February\",\"4.1.3\",\"Still Birth\",\"M4 [Pregnancy outcome & details of new-born]\",\"1\",\"NA\",\"NA\",\"1\"],[\"Chandigarh\",\"Chandigarh\",\"zone2 CHC-22\",\"2019-2020\",\"February\",\"4.1.2\",\"Number of Pre term newborns ( < 37 weeks of pregnancy)\",\"M4 [Pregnancy outcome & details of new-born]\",\"25\",\"NA\",\"NA\",\"25\"],[\"Chandigarh\",\"Chandigarh\",\"zone2 CHC-22\",\"2019-2020\",\"February\",\"9.4.3\",\"Child immunisation - DPT 1st Booster\",\"M9 [CHILD IMMUNISATION]\",\"349\",\"NA\",\"NA\",\"349\"],[\"Chandigarh\",\"Chandigarh\",\"zone2 CHC-22\",\"2019-2020\",\"February\",\"9.8.1\",\"Child immunisation - Vitamin A Dose - 1\",\"M9 [CHILD IMMUNISATION]\",\"218\",\"NA\",\"NA\",\"218\"],[\"Chandigarh\",\"Chandigarh\",\"zone2 CHC-22\",\"2019-2020\",\"February\",\"10.3\",\"Childhood Diseases - Sepsis\",\"M10 [Number of cases of Childhood Diseases (0-5 years)]\",\"0\",\"NA\",\"NA\",\"0\"],[\"Chandigarh\",\"Chandigarh\",\"zone2 CHC-22\",\"2019-2020\",\"February\",\"10.4\",\"Childhood Diseases - Diphtheria\",\"M10 [Number of cases of Childhood Diseases (0-5 years)]\",\"0\",\"NA\",\"NA\",\"0\"],[\"Chandigarh\",\"Chandigarh\",\"zone2 CHC-22\",\"2019-2020\",\"February\",\"11.3.2\",\"Dengue - Enzyme- Linked Immuno Sorbent Assay (ELISA) Test Positive\",\"M11 [NVBDCP]\",\"NA\",\"NA\",\"NA\",\"NA\"],[\"Chandigarh\",\"Chandigarh\",\"zone2 CHC-22\",\"2019-2020\",\"February\",\"14.3.2.b\",\"Inpatient (Female)- Adults\",\"M14 [Patient Services]\",\"487\",\"NA\",\"NA\",\"487\"],[\"Chandigarh\",\"Chandigarh\",\"zone3 Mani-Majra\",\"2019-2020\",\"February\",\"9.7.3\",\"Number of Immunisation sessions where ASHAs were present\",\"M9 [CHILD IMMUNISATION]\",\"0\",\"NA\",\"NA\",\"0\"],[\"Chandigarh\",\"Chandigarh\",\"zone3 Mani-Majra\",\"2019-2020\",\"February\",\"8.3\",\"Number of Interval IUCD Insertions (excluding PPIUCD and PAIUCD)\",\"M8 [Family Planning]\",\"40\",\"NA\",\"NA\",\"40\"],[\"Chandigarh\",\"Chandigarh\",\"zone3 Mani-Majra\",\"2019-2020\",\"February\",\"9.1.1\",\"Child immunisation - Vitamin K1 (Birth Dose)\",\"M9 [CHILD IMMUNISATION]\",\"149\",\"NA\",\"NA\",\"149\"],[\"Chandigarh\",\"Chandigarh\",\"zone3 Mani-Majra\",\"2019-2020\",\"February\",\"8.8\",\"Injectable Contraceptive-Antara Program- First Dose\",\"M8 [Family Planning]\",\"43\",\"NA\",\"NA\",\"43\"],[\"Chandigarh\",\"Chandigarh\",\"zone3 Mani-Majra\",\"2019-2020\",\"February\",\"15.1\",\"Number of Lab Tests done\",\"M15 [Laboratory Testing]\",\"42651\",\"NA\",\"NA\",\"42651\"],[\"Chandigarh\",\"Chandigarh\",\"zone3 Mani-Majra\",\"2019-2020\",\"February\",\"14.1.9\",\"Outpatient - Oncology\",\"M14 [Patient Services]\",\"1\",\"NA\",\"NA\",\"1\"],[\"Chandigarh\",\"Chandigarh\",\"zone3 Mani-Majra\",\"2019-2020\",\"February\",\"8.15\",\"Number of Emergency Contraceptive Pills (ECP) given\",\"M8 [Family Planning]\",\"106\",\"NA\",\"NA\",\"106\"],[\"Chandigarh\",\"Chandigarh\",\"zone4 Polyclinic 45\",\"2019-2020\",\"February\",\"9.1.8\",\"Child immunisation - Pentavalent 3\",\"M9 [CHILD IMMUNISATION]\",\"418\",\"NA\",\"9\",\"409\"],[\"Chandigarh\",\"Chandigarh\",\"zone4 Polyclinic 45\",\"2019-2020\",\"February\",\"9.1.5\",\"Child immunisation - DPT3\",\"M9 [CHILD IMMUNISATION]\",\"0\",\"NA\",\"NA\",\"0\"],[\"Chandigarh\",\"Chandigarh\",\"zone4 Polyclinic 45\",\"2019-2020\",\"February\",\"9.2.1\",\"Child immunisation (9-11months) - Measles & Rubella (MR)- 1st Dose\",\"M9 [CHILD IMMUNISATION]\",\"343\",\"NA\",\"7\",\"336\"],[\"Chandigarh\",\"Chandigarh\",\"zone4 Polyclinic 45\",\"2019-2020\",\"February\",\"11.4.2\",\"Tests Positive for JE\",\"M11 [NVBDCP]\",\"NA\",\"NA\",\"NA\",\"NA\"],[\"Chandigarh\",\"Chandigarh\",\"zone4 Polyclinic 45\",\"2019-2020\",\"February\",\"14.4.3\",\"Inpatient - Typhoid\",\"M14 [Patient Services]\",\"111\",\"NA\",\"0\",\"111\"],[\"Chandigarh\",\"Chandigarh\",\"zone4 Polyclinic 45\",\"2019-2020\",\"February\",\"14.7\",\"Number of deaths occurring at Emergency Department\",\"M14 [Patient Services]\",\"0\",\"NA\",\"0\",\"0\"],[\"Chandigarh\",\"Chandigarh\",\"zone4 Polyclinic 45\",\"2019-2020\",\"February\",\"16.4.4\",\"Number of Child Deaths (1 -5 years) due to Measles\",\"M16 [Details of deaths reported with probable causes:]\",\"0\",\"NA\",\"0\",\"0\"],[\"Chandigarh\",\"Chandigarh\",\"zone4 Polyclinic 45\",\"2019-2020\",\"February\",\"16.5.4\",\"Number of Maternal Deaths due to Obstructed\\/prolonged labour\",\"M16 [Details of deaths reported with probable causes:]\",\"0\",\"NA\",\"0\",\"0\"],[\"Chandigarh\",\"Chandigarh\",\"zone1 GMSH-16\",\"2019-2020\",\"February\",\"3.1\",\"Total C -Section deliveries performed\",\"M3 [Number of Caesarean (C-Section) deliveries]\",\"672\",\"NA\",\"672\",\"NA\"],[\"Chandigarh\",\"Chandigarh\",\"zone1 GMSH-16\",\"2019-2020\",\"February\",\"9.9\",\"Number of children (6-59 months) provided 8-10 doses (1ml) of IFA syrup (Bi weekly)\",\"M9 [CHILD IMMUNISATION]\",\"0\",\"NA\",\"NA\",\"0\"],[\"Chandigarh\",\"Chandigarh\",\"zone1 GMSH-16\",\"2019-2020\",\"February\",\"15.5.2\",\"Radiology - Ultrasonography (USG)\",\"M15 [Laboratory Testing]\",\"10123\",\"NA\",\"10123\",\"NA\"],[\"Chandigarh\",\"Chandigarh\",\"zone1 GMSH-16\",\"2019-2020\",\"February\",\"10.14\",\"Childhood Diseases - Severe Acute Malnutrition (SAM)\",\"M10 [Number of cases of Childhood Diseases (0-5 years)]\",\"68\",\"NA\",\"57\",\"11\"],[\"Chandigarh\",\"Chandigarh\",\"zone2 CHC-22\",\"2019-2020\",\"February\",\"15.3.3.b\",\"Out of the above, number screened positive\",\"M15 [Laboratory Testing]\",\"2\",\"NA\",\"NA\",\"2\"],[\"Chandigarh\",\"Chandigarh\",\"zone2 CHC-22\",\"2019-2020\",\"February\",\"16.3.3\",\"Number of Infant Deaths (1 -12 months) due to Fever related\",\"M16 [Details of deaths reported with probable causes:]\",\"NA\",\"NA\",\"NA\",\"NA\"],[\"Chandigarh\",\"Chandigarh\",\"zone2 CHC-22\",\"2019-2020\",\"February\",\"16.7.2\",\"Number of Adolscent \\/ Adult deaths due to Tuberculosis\",\"M16 [Details of deaths reported with probable causes:]\",\"NA\",\"NA\",\"NA\",\"NA\"],[\"Chandigarh\",\"Chandigarh\",\"zone3 Mani-Majra\",\"2019-2020\",\"February\",\"8.17.1\",\"Complications following male sterilization\",\"M8 [Family Planning]\",\"0\",\"NA\",\"NA\",\"0\"],[\"Chandigarh\",\"Chandigarh\",\"zone3 Mani-Majra\",\"2019-2020\",\"February\",\"11.1.2.a\",\"RDT conducted for Malaria\",\"M11 [NVBDCP]\",\"0\",\"NA\",\"NA\",\"0\"],[\"Chandigarh\",\"Chandigarh\",\"zone3 Mani-Majra\",\"2019-2020\",\"February\",\"14.1.5\",\"Outpatient - Mental illness\",\"M14 [Patient Services]\",\"372\",\"NA\",\"NA\",\"372\"],[\"Chandigarh\",\"Chandigarh\",\"zone3 Mani-Majra\",\"2019-2020\",\"February\",\"12.1.3.b\",\"Out of registered, Boys received counselling\",\"M12 [Adolscent Health]\",\"36\",\"NA\",\"NA\",\"36\"],[\"Chandigarh\",\"Chandigarh\",\"zone3 Mani-Majra\",\"2019-2020\",\"February\",\"14.1.2\",\"Outpatient - Hypertension\",\"M14 [Patient Services]\",\"707\",\"NA\",\"NA\",\"707\"],[\"Chandigarh\",\"Chandigarh\",\"zone3 Mani-Majra\",\"2019-2020\",\"February\",\"14.12.4\",\"Outborn - Female\",\"M14 [Patient Services]\",\"1\",\"NA\",\"NA\",\"1\"],[\"Chandigarh\",\"Chandigarh\",\"zone3 Mani-Majra\",\"2019-2020\",\"February\",\"15.3.3.c\",\"Out of the above number screened positive, number confirmed with HIV infection at Integrated Counselling and Testing Centre (ICTC)\",\"M15 [Laboratory Testing]\",\"0\",\"NA\",\"NA\",\"0\"],[\"Chandigarh\",\"Chandigarh\",\"zone4 Polyclinic 45\",\"2019-2020\",\"February\",\"3.1\",\"Total C -Section deliveries performed\",\"M3 [Number of Caesarean (C-Section) deliveries]\",\"19\",\"NA\",\"8\",\"11\"],[\"Chandigarh\",\"Chandigarh\",\"zone4 Polyclinic 45\",\"2019-2020\",\"February\",\"4.1.2\",\"Number of Pre term newborns ( < 37 weeks of pregnancy)\",\"M4 [Pregnancy outcome & details of new-born]\",\"10\",\"NA\",\"2\",\"8\"],[\"Chandigarh\",\"Chandigarh\",\"zone3 Mani-Majra\",\"2019-2020\",\"February\",\"16.7.9\",\"Number of Adolscent \\/ Adult deaths due to Accidents\\/Burn cases\",\"M16 [Details of deaths reported with probable causes:]\",\"0\",\"NA\",\"NA\",\"0\"],[\"Chandigarh\",\"Chandigarh\",\"zone4 Polyclinic 45\",\"2019-2020\",\"February\",\"9.8.3\",\"Child immunisation - Vitamin A Dose - 9\",\"M9 [CHILD IMMUNISATION]\",\"439\",\"NA\",\"4\",\"435\"],[\"Chandigarh\",\"Chandigarh\",\"zone4 Polyclinic 45\",\"2019-2020\",\"February\",\"14.8.1\",\"Operation major (General and spinal anaesthesia)\",\"M14 [Patient Services]\",\"25\",\"NA\",\"25\",\"0\"],[\"Chandigarh\",\"Chandigarh\",\"zone4 Polyclinic 45\",\"2019-2020\",\"February\",\"14.4.4\",\"Inpatient - Asthma, Chronic Obstructive Pulmonary Disease (COPD), Respiratory infections\",\"M14 [Patient Services]\",\"9\",\"NA\",\"1\",\"8\"],[\"Chandigarh\",\"Chandigarh\",\"zone4 Polyclinic 45\",\"2019-2020\",\"February\",\"14.15\",\"Number of Rogi Kalyan Samiti (RKS) meetings held\",\"M14 [Patient Services]\",\"2\",\"NA\",\"0\",\"2\"],[\"Chandigarh\",\"Chandigarh\",\"zone4 Polyclinic 45\",\"2019-2020\",\"February\",\"14.17\",\"Stock out rate of essential Drugs\",\"M14 [Patient Services]\",\"0\",\"NA\",\"0\",\"NA\"],[\"Chandigarh\",\"Chandigarh\",\"zone4 Polyclinic 45\",\"2019-2020\",\"February\",\"15.3.1.a\",\"Male HIV - Number Tested\",\"M15 [Laboratory Testing]\",\"660\",\"NA\",\"280\",\"380\"],[\"Chandigarh\",\"Chandigarh\",\"zone1 GMSH-16\",\"2019-2020\",\"February\",\"1.6.2.c\",\"Number of syphilis positive pregnant women treated for Syphilis\",\"M1 [Ante Natal Care (ANC)]\",\"0\",\"NA\",\"0\",\"0\"],[\"Chandigarh\",\"Chandigarh\",\"zone1 GMSH-16\",\"2019-2020\",\"February\",\"8.2.2\",\"Number of Interval Mini-lap (other than post-partum and post abortion) sterilizations conducted\",\"M8 [Family Planning]\",\"4\",\"NA\",\"4\",\"NA\"],[\"Chandigarh\",\"Chandigarh\",\"zone1 GMSH-16\",\"2019-2020\",\"February\",\"9.6.1\",\"Number of cases of AEFI - Abscess\",\"M9 [CHILD IMMUNISATION]\",\"0\",\"NA\",\"0\",\"0\"],[\"Chandigarh\",\"Chandigarh\",\"zone1 GMSH-16\",\"2019-2020\",\"February\",\"10.12\",\"Childhood Diseases - Diarrhoea treated in Inpatients\",\"M10 [Number of cases of Childhood Diseases (0-5 years)]\",\"66\",\"NA\",\"66\",\"NA\"],[\"Chandigarh\",\"Chandigarh\",\"zone1 GMSH-16\",\"2019-2020\",\"February\",\"11.1.2.a\",\"RDT conducted for Malaria\",\"M11 [NVBDCP]\",\"82\",\"NA\",\"82\",\"NA\"],[\"Chandigarh\",\"Chandigarh\",\"zone1 GMSH-16\",\"2019-2020\",\"February\",\"14.8.3\",\"Major Surgeries excluding Obstetrics, Gynaecology and Opthalmology etc.\",\"M14 [Patient Services]\",\"3112\",\"NA\",\"3112\",\"NA\"],[\"Chandigarh\",\"Chandigarh\",\"zone1 GMSH-16\",\"2019-2020\",\"February\",\"16.7.4\",\"Number of Adolscent \\/ Adult deaths due to Other Fever Related\",\"M16 [Details of deaths reported with probable causes:]\",\"2\",\"NA\",\"2\",\"NA\"],[\"Chandigarh\",\"Chandigarh\",\"zone2 CHC-22\",\"2019-2020\",\"February\",\"9.1.13\",\"Child immunisation - Hepatitis-B0 (Birth Dose)\",\"M9 [CHILD IMMUNISATION]\",\"328\",\"NA\",\"NA\",\"328\"],[\"Chandigarh\",\"Chandigarh\",\"zone2 CHC-22\",\"2019-2020\",\"February\",\"9.1.16\",\"Child immunisation - Hepatitis-B3\",\"M9 [CHILD IMMUNISATION]\",\"0\",\"NA\",\"NA\",\"0\"],[\"Chandigarh\",\"Chandigarh\",\"zone2 CHC-22\",\"2019-2020\",\"February\",\"9.1.19\",\"Child immunisation - Rotavirus 1\",\"M9 [CHILD IMMUNISATION]\",\"345\",\"NA\",\"NA\",\"345\"],[\"Chandigarh\",\"Chandigarh\",\"zone2 CHC-22\",\"2019-2020\",\"February\",\"1.4.4\",\"Number of PW having severe anaemia (Hb<7) treated\",\"M1 [Ante Natal Care (ANC)]\",\"3\",\"NA\",\"NA\",\"3\"],[\"Chandigarh\",\"Chandigarh\",\"zone2 CHC-22\",\"2019-2020\",\"February\",\"1.4.3\",\"Number of PW having Hb level<7 (tested cases)\",\"M1 [Ante Natal Care (ANC)]\",\"3\",\"NA\",\"NA\",\"3\"],[\"Chandigarh\",\"Chandigarh\",\"zone2 CHC-22\",\"2019-2020\",\"February\",\"14.4.5\",\"Inpatient - Tuberculosis\",\"M14 [Patient Services]\",\"0\",\"NA\",\"NA\",\"0\"],[\"Chandigarh\",\"Chandigarh\",\"zone2 CHC-22\",\"2019-2020\",\"February\",\"15.5.1\",\"Radiology - X-ray\",\"M15 [Laboratory Testing]\",\"609\",\"NA\",\"NA\",\"609\"],[\"Chandigarh\",\"Chandigarh\",\"zone3 Mani-Majra\",\"2019-2020\",\"February\",\"9.1.6\",\"Child immunisation - Pentavalent 1\",\"M9 [CHILD IMMUNISATION]\",\"342\",\"NA\",\"NA\",\"342\"],[\"Chandigarh\",\"Chandigarh\",\"zone3 Mani-Majra\",\"2019-2020\",\"February\",\"4.4.3\",\"Number of Newborns breast fed within 1 hour of birth\\u00a0\",\"M4 [Pregnancy outcome & details of new-born]\",\"152\",\"NA\",\"NA\",\"152\"],[\"Chandigarh\",\"Chandigarh\",\"zone3 Mani-Majra\",\"2019-2020\",\"February\",\"14.5\",\"Patients registered at Emergency Department\",\"M14 [Patient Services]\",\"178\",\"NA\",\"NA\",\"178\"],[\"Chandigarh\",\"Chandigarh\",\"zone3 Mani-Majra\",\"2019-2020\",\"February\",\"10.7\",\"Childhood Diseases - Tuberculosis (TB)\",\"M10 [Number of cases of Childhood Diseases (0-5 years)]\",\"0\",\"NA\",\"NA\",\"0\"],[\"Chandigarh\",\"Chandigarh\",\"zone3 Mani-Majra\",\"2019-2020\",\"February\",\"11.3.1\",\"Dengue - RDT Test Positive\",\"M11 [NVBDCP]\",\"0\",\"NA\",\"NA\",\"0\"],[\"Chandigarh\",\"Chandigarh\",\"zone4 Polyclinic 45\",\"2019-2020\",\"February\",\"1.3.1.a\",\"Out of the new cases of PW with hypertension detected, cases managed at institution\",\"M1 [Ante Natal Care (ANC)]\",\"4\",\"NA\",\"3\",\"1\"],[\"Chandigarh\",\"Chandigarh\",\"zone4 Polyclinic 45\",\"2019-2020\",\"February\",\"10.9\",\"Childhood Diseases - Measles\",\"M10 [Number of cases of Childhood Diseases (0-5 years)]\",\"0\",\"NA\",\"0\",\"0\"],[\"Chandigarh\",\"Chandigarh\",\"zone4 Polyclinic 45\",\"2019-2020\",\"February\",\"8.17.4\",\"Failures following female sterilization\",\"M8 [Family Planning]\",\"0\",\"NA\",\"0\",\"0\"],[\"Chandigarh\",\"Chandigarh\",\"zone4 Polyclinic 45\",\"2019-2020\",\"February\",\"9.1.11\",\"Child immunisation - OPV2\",\"M9 [CHILD IMMUNISATION]\",\"378\",\"NA\",\"6\",\"372\"],[\"Chandigarh\",\"Chandigarh\",\"zone4 Polyclinic 45\",\"2019-2020\",\"February\",\"8.17.6\",\"Deaths following female sterilization\",\"M8 [Family Planning]\",\"0\",\"NA\",\"0\",\"0\"],[\"Chandigarh\",\"Chandigarh\",\"zone4 Polyclinic 45\",\"2019-2020\",\"February\",\"9.3.2\",\"Child immunisation - Measles-1st dose\",\"M9 [CHILD IMMUNISATION]\",\"0\",\"NA\",\"NA\",\"0\"],[\"Chandigarh\",\"Chandigarh\",\"zone4 Polyclinic 45\",\"2019-2020\",\"February\",\"16.7.3\",\"Number of Adolscent \\/ Adult deaths due to Respiratory diseases including infections (other than TB)\",\"M16 [Details of deaths reported with probable causes:]\",\"0\",\"NA\",\"0\",\"0\"],[\"Chandigarh\",\"Chandigarh\",\"zone4 Polyclinic 45\",\"2019-2020\",\"February\",\"14.4.6\",\"Inpatient - Pyrexia of unknown origin (PUO)\",\"M14 [Patient Services]\",\"171\",\"NA\",\"73\",\"98\"],[\"Chandigarh\",\"Chandigarh\",\"zone1 GMSH-16\",\"2019-2020\",\"February\",\"2.1.2\",\"Number of PW given Tablet Misoprostol during home delivery\",\"M2 [Deliveries]\",\"NA\",\"NA\",\"NA\",\"NA\"],[\"Chandigarh\",\"Chandigarh\",\"zone1 GMSH-16\",\"2019-2020\",\"February\",\"9.4.2\",\"Child immunisation - Measles 2nd dose (More than 16 months)\",\"M9 [CHILD IMMUNISATION]\",\"0\",\"NA\",\"0\",\"NA\"],[\"Chandigarh\",\"Chandigarh\",\"zone1 GMSH-16\",\"2019-2020\",\"February\",\"8.17.5\",\"Deaths following male sterilization\",\"M8 [Family Planning]\",\"0\",\"NA\",\"0\",\"NA\"],[\"Chandigarh\",\"Chandigarh\",\"zone1 GMSH-16\",\"2019-2020\",\"February\",\"8.5\",\"Number of Post Abortion (within 12 days of spontaneous or surgical abortion) IUCD insertions\",\"M8 [Family Planning]\",\"12\",\"NA\",\"12\",\"NA\"],[\"Chandigarh\",\"Chandigarh\",\"zone1 GMSH-16\",\"2019-2020\",\"February\",\"14.12.5\",\"Number of newborns admitted in SNCU - referred by ASHA\",\"M14 [Patient Services]\",\"0\",\"NA\",\"0\",\"NA\"],[\"Chandigarh\",\"Chandigarh\",\"zone1 GMSH-16\",\"2019-2020\",\"February\",\"14.8.5\",\"Number of post operative Surgical Site infection\",\"M14 [Patient Services]\",\"9\",\"NA\",\"9\",\"NA\"],[\"Chandigarh\",\"Chandigarh\",\"zone1 GMSH-16\",\"2019-2020\",\"February\",\"11.1.1.c\",\"Malaria (Microscopy Tests ) - Plasmodium Falciparum test positive\",\"M11 [NVBDCP]\",\"0\",\"NA\",\"0\",\"0\"],[\"Chandigarh\",\"Chandigarh\",\"zone2 CHC-22\",\"2019-2020\",\"February\",\"1.4.2\",\"Number of PW having Hb level<11 (tested cases)(7.1 to 10.9)\",\"M1 [Ante Natal Care (ANC)]\",\"256\",\"NA\",\"NA\",\"256\"],[\"Chandigarh\",\"Chandigarh\",\"zone1 GMSH-16\",\"2019-2020\",\"February\",\"16.3.1\",\"Number of Infant Deaths (1 -12 months) due to Pneumonia\",\"M16 [Details of deaths reported with probable causes:]\",\"0\",\"NA\",\"0\",\"NA\"],[\"Chandigarh\",\"Chandigarh\",\"zone1 GMSH-16\",\"2019-2020\",\"February\",\"16.5.3\",\"Number of Maternal Deaths due to Abortion\",\"M16 [Details of deaths reported with probable causes:]\",\"0\",\"NA\",\"0\",\"NA\"],[\"Chandigarh\",\"Chandigarh\",\"zone2 CHC-22\",\"2019-2020\",\"February\",\"4.3.2.a\",\"Post Abortion\\/ MTP Complications Identified\",\"M4 [Pregnancy outcome & details of new-born]\",\"0\",\"NA\",\"NA\",\"0\"],[\"Chandigarh\",\"Chandigarh\",\"zone2 CHC-22\",\"2019-2020\",\"February\",\"9.7.2\",\"Immunisation sessions held\",\"M9 [CHILD IMMUNISATION]\",\"219\",\"NA\",\"NA\",\"219\"],[\"Chandigarh\",\"Chandigarh\",\"zone3 Mani-Majra\",\"2019-2020\",\"February\",\"8.6\",\"Number of IUCD Removals\",\"M8 [Family Planning]\",\"14\",\"NA\",\"NA\",\"14\"],[\"Chandigarh\",\"Chandigarh\",\"zone3 Mani-Majra\",\"2019-2020\",\"February\",\"4.2\",\"Abortion (spontaneous)\",\"M4 [Pregnancy outcome & details of new-born]\",\"4\",\"NA\",\"NA\",\"4\"],[\"Chandigarh\",\"Chandigarh\",\"zone3 Mani-Majra\",\"2019-2020\",\"February\",\"1.5.1\",\"Number of PW tested for blood sugar using OGTT (Oral Glucose Tolerance Test)\",\"M1 [Ante Natal Care (ANC)]\",\"564\",\"NA\",\"NA\",\"564\"],[\"Chandigarh\",\"Chandigarh\",\"zone3 Mani-Majra\",\"2019-2020\",\"February\",\"14.3.1.b\",\"Inpatient (Male)- Adults\",\"M14 [Patient Services]\",\"108\",\"NA\",\"NA\",\"108\"],[\"Chandigarh\",\"Chandigarh\",\"zone3 Mani-Majra\",\"2019-2020\",\"February\",\"14.4.2\",\"Inpatient - Dengue\",\"M14 [Patient Services]\",\"0\",\"NA\",\"NA\",\"0\"],[\"Chandigarh\",\"Chandigarh\",\"zone3 Mani-Majra\",\"2019-2020\",\"February\",\"14.6.2\",\"Emergency - Burn\",\"M14 [Patient Services]\",\"0\",\"NA\",\"NA\",\"0\"],[\"Chandigarh\",\"Chandigarh\",\"zone3 Mani-Majra\",\"2019-2020\",\"February\",\"9.1.19\",\"Child immunisation - Rotavirus 1\",\"M9 [CHILD IMMUNISATION]\",\"342\",\"NA\",\"NA\",\"342\"],[\"Chandigarh\",\"Chandigarh\",\"zone3 Mani-Majra\",\"2019-2020\",\"February\",\"16.2.3\",\"Infant Deaths up to 4 weeks due to Other causes\",\"M16 [Details of deaths reported with probable causes:]\",\"0\",\"NA\",\"NA\",\"0\"],[\"Chandigarh\",\"Chandigarh\",\"zone4 Polyclinic 45\",\"2019-2020\",\"February\",\"1.2.3\",\"Number of PW given\\u00a0TT Booster\",\"M1 [Ante Natal Care (ANC)]\",\"126\",\"NA\",\"3\",\"123\"],[\"Chandigarh\",\"Chandigarh\",\"zone4 Polyclinic 45\",\"2019-2020\",\"February\",\"4.4.1\",\"Number of newborns weighed at birth\",\"M4 [Pregnancy outcome & details of new-born]\",\"120\",\"NA\",\"30\",\"90\"],[\"Chandigarh\",\"Chandigarh\",\"zone4 Polyclinic 45\",\"2019-2020\",\"February\",\"10.4\",\"Childhood Diseases - Diphtheria\",\"M10 [Number of cases of Childhood Diseases (0-5 years)]\",\"0\",\"NA\",\"0\",\"0\"],[\"Chandigarh\",\"Chandigarh\",\"zone1 GMSH-16\",\"2019-2020\",\"February\",\"1.2.8\",\"Number of PW given ANC Corticosteroids in Pre Term Labour\",\"M1 [Ante Natal Care (ANC)]\",\"79\",\"NA\",\"79\",\"NA\"],[\"Chandigarh\",\"Chandigarh\",\"zone1 GMSH-16\",\"2019-2020\",\"February\",\"1.3.2\",\"Number of Eclampsia cases managed during delivery\",\"M1 [Ante Natal Care (ANC)]\",\"3\",\"NA\",\"3\",\"0\"],[\"Chandigarh\",\"Chandigarh\",\"zone1 GMSH-16\",\"2019-2020\",\"February\",\"6.1\",\"Women receiving 1st post partum checkup within 48 hours of home delivery\",\"M6 [Post Natal Care (PNC)]\",\"0\",\"NA\",\"0\",\"0\"],[\"Chandigarh\",\"Chandigarh\",\"zone1 GMSH-16\",\"2019-2020\",\"February\",\"8.2.1\",\"Number of Laparoscopic sterilizations (excluding post abortion) conducted\",\"M8 [Family Planning]\",\"14\",\"NA\",\"14\",\"NA\"],[\"Chandigarh\",\"Chandigarh\",\"zone1 GMSH-16\",\"2019-2020\",\"February\",\"11.3.2\",\"Dengue - Enzyme- Linked Immuno Sorbent Assay (ELISA) Test Positive\",\"M11 [NVBDCP]\",\"22\",\"NA\",\"22\",\"NA\"],[\"Chandigarh\",\"Chandigarh\",\"zone1 GMSH-16\",\"2019-2020\",\"February\",\"8.2.4\",\"Number of Post Abortion sterilizations (within 7 days of spontaneous or surgical abortion) conducted\",\"M8 [Family Planning]\",\"7\",\"NA\",\"7\",\"NA\"],[\"Chandigarh\",\"Chandigarh\",\"zone2 CHC-22\",\"2019-2020\",\"February\",\"4.1.1.a\",\"Live Birth - Male\",\"M4 [Pregnancy outcome & details of new-born]\",\"169\",\"NA\",\"NA\",\"169\"],[\"Chandigarh\",\"Chandigarh\",\"zone2 CHC-22\",\"2019-2020\",\"February\",\"8.17.3\",\"Failures following male sterilization\",\"M8 [Family Planning]\",\"0\",\"NA\",\"NA\",\"0\"],[\"Chandigarh\",\"Chandigarh\",\"zone2 CHC-22\",\"2019-2020\",\"February\",\"9.8.2\",\"Child immunisation - Vitamin A Dose - 5\",\"M9 [CHILD IMMUNISATION]\",\"206\",\"NA\",\"NA\",\"206\"],[\"Chandigarh\",\"Chandigarh\",\"zone2 CHC-22\",\"2019-2020\",\"February\",\"14.8.6\",\"Number of blood units issued\",\"M14 [Patient Services]\",\"0\",\"NA\",\"NA\",\"0\"],[\"Chandigarh\",\"Chandigarh\",\"zone2 CHC-22\",\"2019-2020\",\"February\",\"16.5.6\",\"Number of Maternal Deaths due to Other Causes (including causes not known)\",\"M16 [Details of deaths reported with probable causes:]\",\"NA\",\"NA\",\"NA\",\"NA\"],[\"Chandigarh\",\"Chandigarh\",\"zone3 Mani-Majra\",\"2019-2020\",\"February\",\"8.1.1\",\"Number of Non Scalpel Vasectomy (NSV) \\/ Conventional Vasectomy conducted\",\"M8 [Family Planning]\",\"0\",\"NA\",\"NA\",\"0\"],[\"Chandigarh\",\"Chandigarh\",\"zone3 Mani-Majra\",\"2019-2020\",\"February\",\"9.1.12\",\"Child immunisation - OPV3\",\"M9 [CHILD IMMUNISATION]\",\"441\",\"NA\",\"NA\",\"441\"],[\"Chandigarh\",\"Chandigarh\",\"zone3 Mani-Majra\",\"2019-2020\",\"February\",\"15.5.1\",\"Radiology - X-ray\",\"M15 [Laboratory Testing]\",\"460\",\"NA\",\"NA\",\"460\"],[\"Chandigarh\",\"Chandigarh\",\"zone3 Mani-Majra\",\"2019-2020\",\"February\",\"15.3.4.b\",\"Number of Male STI\\/RTI attendees found sero Positive for syphilis\",\"M15 [Laboratory Testing]\",\"2\",\"NA\",\"NA\",\"2\"],[\"Chandigarh\",\"Chandigarh\",\"zone3 Mani-Majra\",\"2019-2020\",\"February\",\"14.6.1\",\"Emergency - Trauma ( accident, injury, poisoning etc)\",\"M14 [Patient Services]\",\"0\",\"NA\",\"NA\",\"0\"],[\"Chandigarh\",\"Chandigarh\",\"zone4 Polyclinic 45\",\"2019-2020\",\"February\",\"10.10\",\"Childhood Diseases - Malaria\",\"M10 [Number of cases of Childhood Diseases (0-5 years)]\",\"0\",\"NA\",\"0\",\"0\"],[\"Chandigarh\",\"Chandigarh\",\"zone4 Polyclinic 45\",\"2019-2020\",\"February\",\"9.1.16\",\"Child immunisation - Hepatitis-B3\",\"M9 [CHILD IMMUNISATION]\",\"0\",\"NA\",\"NA\",\"0\"],[\"Chandigarh\",\"Chandigarh\",\"zone4 Polyclinic 45\",\"2019-2020\",\"February\",\"9.1.9\",\"Child immunisation - OPV 0 (Birth Dose)\",\"M9 [CHILD IMMUNISATION]\",\"119\",\"NA\",\"30\",\"89\"],[\"Chandigarh\",\"Chandigarh\",\"zone4 Polyclinic 45\",\"2019-2020\",\"February\",\"9.2.2\",\"Child immunisation (9-11months) - Measles 1st dose\",\"M9 [CHILD IMMUNISATION]\",\"0\",\"NA\",\"NA\",\"0\"],[\"Chandigarh\",\"Chandigarh\",\"zone4 Polyclinic 45\",\"2019-2020\",\"February\",\"7.1.1\",\"New RTI\\/STI cases identified - Male\",\"M7 [Reproductive Tract Infections\\/Sexually Transmitted Infections (RTI\\/STI) Cases]\",\"17\",\"NA\",\"0\",\"17\"],[\"Chandigarh\",\"Chandigarh\",\"zone4 Polyclinic 45\",\"2019-2020\",\"February\",\"14.11\",\"Number of Admission in NBSU ( New Born Stabilisation Unit)\",\"M14 [Patient Services]\",\"89\",\"NA\",\"NA\",\"89\"],[\"Chandigarh\",\"Chandigarh\",\"zone4 Polyclinic 45\",\"2019-2020\",\"February\",\"16.1\",\"Infant deaths within 24 hrs(1 to 23 Hrs) of birth\",\"M16 [Details of deaths reported with probable causes:]\",\"0\",\"NA\",\"0\",\"0\"],[\"Chandigarh\",\"Chandigarh\",\"zone1 GMSH-16\",\"2019-2020\",\"February\",\"7.1.2\",\"New RTI\\/STI cases identified - Female\",\"M7 [Reproductive Tract Infections\\/Sexually Transmitted Infections (RTI\\/STI) Cases]\",\"339\",\"NA\",\"265\",\"74\"],[\"Chandigarh\",\"Chandigarh\",\"zone1 GMSH-16\",\"2019-2020\",\"February\",\"9.4.4\",\"Child immunisation - OPV Booster\",\"M9 [CHILD IMMUNISATION]\",\"267\",\"NA\",\"72\",\"195\"],[\"Chandigarh\",\"Chandigarh\",\"zone2 CHC-22\",\"2019-2020\",\"February\",\"5.2\",\"Number of Complicated pregnancies treated with Blood Transfusion\",\"M5 [Complicated Pregnancies]\",\"30\",\"NA\",\"NA\",\"30\"],[\"Chandigarh\",\"Chandigarh\",\"zone2 CHC-22\",\"2019-2020\",\"February\",\"9.4.1\",\"Child immunisation - Measles & Rubella (MR)- 2nd Dose (16-24 months)\",\"M9 [CHILD IMMUNISATION]\",\"349\",\"NA\",\"NA\",\"349\"],[\"Chandigarh\",\"Chandigarh\",\"zone2 CHC-22\",\"2019-2020\",\"February\",\"16.6\",\"Total Facility Based Maternal Death Reviews (FBMDR) done\",\"M16 [Details of deaths reported with probable causes:]\",\"NA\",\"NA\",\"NA\",\"NA\"],[\"Chandigarh\",\"Chandigarh\",\"zone2 CHC-22\",\"2019-2020\",\"February\",\"16.7.8\",\"Number of Adolscent \\/ Adult deaths due to Neurological disease including strokes\",\"M16 [Details of deaths reported with probable causes:]\",\"NA\",\"NA\",\"NA\",\"NA\"],[\"Chandigarh\",\"Chandigarh\",\"zone2 CHC-22\",\"2019-2020\",\"February\",\"15.4.1\",\"Widal tests - Number Tested\",\"M15 [Laboratory Testing]\",\"212\",\"NA\",\"NA\",\"212\"],[\"Chandigarh\",\"Chandigarh\",\"zone2 CHC-22\",\"2019-2020\",\"February\",\"15.2.1\",\"Number of Hb tests conducted\",\"M15 [Laboratory Testing]\",\"2486\",\"NA\",\"NA\",\"2486\"],[\"Chandigarh\",\"Chandigarh\",\"zone3 Mani-Majra\",\"2019-2020\",\"February\",\"1.3.2\",\"Number of Eclampsia cases managed during delivery\",\"M1 [Ante Natal Care (ANC)]\",\"0\",\"NA\",\"NA\",\"0\"],[\"Chandigarh\",\"Chandigarh\",\"zone3 Mani-Majra\",\"2019-2020\",\"February\",\"1.4.2\",\"Number of PW having Hb level<11 (tested cases)(7.1 to 10.9)\",\"M1 [Ante Natal Care (ANC)]\",\"158\",\"NA\",\"NA\",\"158\"],[\"Chandigarh\",\"Chandigarh\",\"zone3 Mani-Majra\",\"2019-2020\",\"February\",\"7.1.1\",\"New RTI\\/STI cases identified - Male\",\"M7 [Reproductive Tract Infections\\/Sexually Transmitted Infections (RTI\\/STI) Cases]\",\"41\",\"NA\",\"NA\",\"41\"],[\"Chandigarh\",\"Chandigarh\",\"zone2 CHC-22\",\"2019-2020\",\"February\",\"8.16\",\"Number of Pregnancy Test Kits (PTK) used\",\"M8 [Family Planning]\",\"705\",\"NA\",\"NA\",\"705\"],[\"Chandigarh\",\"Chandigarh\",\"zone3 Mani-Majra\",\"2019-2020\",\"February\",\"9.10\",\"Number of children (12-59 months) provided Albendazole\",\"M9 [CHILD IMMUNISATION]\",\"204\",\"NA\",\"NA\",\"204\"],[\"Chandigarh\",\"Chandigarh\",\"zone4 Polyclinic 45\",\"2019-2020\",\"February\",\"9.1.15\",\"Child immunisation - Hepatitis-B2\",\"M9 [CHILD IMMUNISATION]\",\"0\",\"NA\",\"NA\",\"0\"],[\"Chandigarh\",\"Chandigarh\",\"zone4 Polyclinic 45\",\"2019-2020\",\"February\",\"6.3\",\"Number of mothers provided full course of 180 IFA tablets after delivery\",\"M6 [Post Natal Care (PNC)]\",\"355\",\"NA\",\"30\",\"325\"],[\"Chandigarh\",\"Chandigarh\",\"zone4 Polyclinic 45\",\"2019-2020\",\"February\",\"16.7.14\",\"Number of Adolscent \\/ Adult deaths due to Causes not known\",\"M16 [Details of deaths reported with probable causes:]\",\"0\",\"NA\",\"0\",\"0\"],[\"Chandigarh\",\"Chandigarh\",\"zone1 GMSH-16\",\"2019-2020\",\"February\",\"1.2.7\",\"Number of PW received 4 or more ANC check ups\",\"M1 [Ante Natal Care (ANC)]\",\"1530\",\"NA\",\"1347\",\"183\"],[\"Chandigarh\",\"Chandigarh\",\"zone4 Polyclinic 45\",\"2019-2020\",\"February\",\"15.5.1\",\"Radiology - X-ray\",\"M15 [Laboratory Testing]\",\"3183\",\"NA\",\"1835\",\"1348\"],[\"Chandigarh\",\"Chandigarh\",\"zone1 GMSH-16\",\"2019-2020\",\"February\",\"9.1.7\",\"Child immunisation - Pentavalent 2\",\"M9 [CHILD IMMUNISATION]\",\"329\",\"NA\",\"139\",\"190\"],[\"Chandigarh\",\"Chandigarh\",\"zone1 GMSH-16\",\"2019-2020\",\"February\",\"16.7.5\",\"Number of Adolscent \\/ Adult deaths due to HIV\\/AIDS\",\"M16 [Details of deaths reported with probable causes:]\",\"1\",\"NA\",\"1\",\"NA\"],[\"Chandigarh\",\"Chandigarh\",\"zone1 GMSH-16\",\"2019-2020\",\"February\",\"16.5.1\",\"Number of Maternal Deaths due to Bleeding\",\"M16 [Details of deaths reported with probable causes:]\",\"0\",\"NA\",\"0\",\"NA\"],[\"Chandigarh\",\"Chandigarh\",\"zone1 GMSH-16\",\"2019-2020\",\"February\",\"15.4.2\",\"Widal tests - Number Positive\",\"M15 [Laboratory Testing]\",\"175\",\"NA\",\"142\",\"33\"],[\"Chandigarh\",\"Chandigarh\",\"zone1 GMSH-16\",\"2019-2020\",\"February\",\"14.8.7\",\"Number of blood transfusions done\",\"M14 [Patient Services]\",\"6525\",\"NA\",\"6525\",\"NA\"],[\"Chandigarh\",\"Chandigarh\",\"zone1 GMSH-16\",\"2019-2020\",\"February\",\"14.12.1\",\"Special Newborn Care Unit (SNCU Admissions) - Inborn Male\",\"M14 [Patient Services]\",\"58\",\"NA\",\"58\",\"NA\"],[\"Chandigarh\",\"Chandigarh\",\"zone2 CHC-22\",\"2019-2020\",\"February\",\"1.4.1\",\"Number of PW tested for Haemoglobin (Hb ) 4 or more than 4 times for respective ANCs\",\"M1 [Ante Natal Care (ANC)]\",\"683\",\"NA\",\"NA\",\"683\"],[\"Chandigarh\",\"Chandigarh\",\"zone2 CHC-22\",\"2019-2020\",\"February\",\"9.1.1\",\"Child immunisation - Vitamin K1 (Birth Dose)\",\"M9 [CHILD IMMUNISATION]\",\"329\",\"NA\",\"NA\",\"329\"],[\"Chandigarh\",\"Chandigarh\",\"zone2 CHC-22\",\"2019-2020\",\"February\",\"9.2.2\",\"Child immunisation (9-11months) - Measles 1st dose\",\"M9 [CHILD IMMUNISATION]\",\"0\",\"NA\",\"NA\",\"0\"],[\"Chandigarh\",\"Chandigarh\",\"zone2 CHC-22\",\"2019-2020\",\"February\",\"14.3.1.a\",\"Inpatient (Male)- Children<18yrs\",\"M14 [Patient Services]\",\"188\",\"NA\",\"NA\",\"188\"],[\"Chandigarh\",\"Chandigarh\",\"zone2 CHC-22\",\"2019-2020\",\"February\",\"16.8.1\",\"Number of Deaths due to Malaria- Plasmodium Vivax\",\"M16 [Details of deaths reported with probable causes:]\",\"NA\",\"NA\",\"NA\",\"NA\"],[\"Chandigarh\",\"Chandigarh\",\"zone3 Mani-Majra\",\"2019-2020\",\"February\",\"8.17.2\",\"Complications following female sterilization\",\"M8 [Family Planning]\",\"0\",\"NA\",\"NA\",\"0\"],[\"Chandigarh\",\"Chandigarh\",\"zone3 Mani-Majra\",\"2019-2020\",\"February\",\"4.4.1\",\"Number of newborns weighed at birth\",\"M4 [Pregnancy outcome & details of new-born]\",\"152\",\"NA\",\"NA\",\"152\"],[\"Chandigarh\",\"Chandigarh\",\"zone3 Mani-Majra\",\"2019-2020\",\"February\",\"16.5.5\",\"Number of Maternal Deaths due to Severe hypertesnion\\/fits\",\"M16 [Details of deaths reported with probable causes:]\",\"0\",\"NA\",\"NA\",\"0\"],[\"Chandigarh\",\"Chandigarh\",\"zone4 Polyclinic 45\",\"2019-2020\",\"February\",\"5.1\",\"Number of cases of pregnant women with Obstetric Complications attended (Antepartum haemorrhage (APH), Post-Partum Hemorrhage (PPH), Sepsis, Eclampsia and others)\",\"M5 [Complicated Pregnancies]\",\"13\",\"NA\",\"0\",\"13\"],[\"Chandigarh\",\"Chandigarh\",\"zone4 Polyclinic 45\",\"2019-2020\",\"February\",\"9.5.2\",\"Children more than 5 years received DPT5 (2nd Booster)\",\"M9 [CHILD IMMUNISATION]\",\"312\",\"NA\",\"4\",\"308\"],[\"Chandigarh\",\"Chandigarh\",\"zone4 Polyclinic 45\",\"2019-2020\",\"February\",\"9.7.2\",\"Immunisation sessions held\",\"M9 [CHILD IMMUNISATION]\",\"157\",\"NA\",\"4\",\"153\"],[\"Chandigarh\",\"Chandigarh\",\"zone4 Polyclinic 45\",\"2019-2020\",\"February\",\"8.4\",\"Number of Postpartum (within 48 hours of delivery) IUCD insertions\",\"M8 [Family Planning]\",\"29\",\"NA\",\"16\",\"13\"],[\"Chandigarh\",\"Chandigarh\",\"zone4 Polyclinic 45\",\"2019-2020\",\"February\",\"11.2.2\",\"Kala Azar Positive Cases\",\"M11 [NVBDCP]\",\"0\",\"NA\",\"NA\",\"0\"],[\"Chandigarh\",\"Chandigarh\",\"zone4 Polyclinic 45\",\"2019-2020\",\"February\",\"11.1.2.c\",\"Malaria (RDT) - Plamodium Falciparum test positive\",\"M11 [NVBDCP]\",\"0\",\"NA\",\"NA\",\"0\"],[\"Chandigarh\",\"Chandigarh\",\"zone1 GMSH-16\",\"2019-2020\",\"February\",\"1.5.1\",\"Number of PW tested for blood sugar using OGTT (Oral Glucose Tolerance Test)\",\"M1 [Ante Natal Care (ANC)]\",\"575\",\"NA\",\"542\",\"33\"],[\"Chandigarh\",\"Chandigarh\",\"zone4 Polyclinic 45\",\"2019-2020\",\"February\",\"8.12\",\"Number of Combined Oral Pill cycles distributed\",\"M8 [Family Planning]\",\"295\",\"NA\",\"0\",\"295\"],[\"Chandigarh\",\"Chandigarh\",\"zone1 GMSH-16\",\"2019-2020\",\"February\",\"4.4.3\",\"Number of Newborns breast fed within 1 hour of birth\\u00a0\",\"M4 [Pregnancy outcome & details of new-born]\",\"1173\",\"NA\",\"1173\",\"0\"],[\"Chandigarh\",\"Chandigarh\",\"zone1 GMSH-16\",\"2019-2020\",\"February\",\"4.3.1.b\",\"MTP more than 12 weeks of pregnancy\",\"M4 [Pregnancy outcome & details of new-born]\",\"28\",\"NA\",\"28\",\"NA\"],[\"Chandigarh\",\"Chandigarh\",\"zone1 GMSH-16\",\"2019-2020\",\"February\",\"8.7\",\"Number of complications following IUCD Insertion\",\"M8 [Family Planning]\",\"22\",\"NA\",\"22\",\"0\"],[\"Chandigarh\",\"Chandigarh\",\"zone1 GMSH-16\",\"2019-2020\",\"February\",\"14.12.2\",\"Special Newborn Care Unit (SNCU Admissions) - Inborn Female\",\"M14 [Patient Services]\",\"21\",\"NA\",\"21\",\"NA\"],[\"Chandigarh\",\"Chandigarh\",\"zone1 GMSH-16\",\"2019-2020\",\"February\",\"14.13\",\"Number of deaths occurring at SNCU\",\"M14 [Patient Services]\",\"1\",\"NA\",\"1\",\"NA\"],[\"Chandigarh\",\"Chandigarh\",\"zone1 GMSH-16\",\"2019-2020\",\"February\",\"14.6.2\",\"Emergency - Burn\",\"M14 [Patient Services]\",\"13\",\"NA\",\"13\",\"NA\"],[\"Chandigarh\",\"Chandigarh\",\"zone1 GMSH-16\",\"2019-2020\",\"February\",\"14.4.7\",\"Inpatient - Diarrhea with dehydration\",\"M14 [Patient Services]\",\"71\",\"NA\",\"71\",\"NA\"],[\"Chandigarh\",\"Chandigarh\",\"zone1 GMSH-16\",\"2019-2020\",\"February\",\"14.8.4\",\"Operation minor (No or local anaesthesia)\",\"M14 [Patient Services]\",\"19625\",\"NA\",\"19625\",\"NA\"],[\"Chandigarh\",\"Chandigarh\",\"zone1 GMSH-16\",\"2019-2020\",\"February\",\"15.2.1\",\"Number of Hb tests conducted\",\"M15 [Laboratory Testing]\",\"54677\",\"NA\",\"53803\",\"874\"],[\"Chandigarh\",\"Chandigarh\",\"zone2 CHC-22\",\"2019-2020\",\"February\",\"1.6.1.a\",\"Number of PW tested using POC test for Syphilis\",\"M1 [Ante Natal Care (ANC)]\",\"NA\",\"NA\",\"NA\",\"NA\"],[\"Chandigarh\",\"Chandigarh\",\"zone2 CHC-22\",\"2019-2020\",\"February\",\"15.3.2.b\",\"Female Non ANC HIV - Number Positive\",\"M15 [Laboratory Testing]\",\"0\",\"NA\",\"NA\",\"0\"],[\"Chandigarh\",\"Chandigarh\",\"zone2 CHC-22\",\"2019-2020\",\"February\",\"8.2.4\",\"Number of Post Abortion sterilizations (within 7 days of spontaneous or surgical abortion) conducted\",\"M8 [Family Planning]\",\"4\",\"NA\",\"NA\",\"4\"],[\"Chandigarh\",\"Chandigarh\",\"zone3 Mani-Majra\",\"2019-2020\",\"February\",\"4.1.3\",\"Still Birth\",\"M4 [Pregnancy outcome & details of new-born]\",\"2\",\"NA\",\"NA\",\"2\"],[\"Chandigarh\",\"Chandigarh\",\"zone3 Mani-Majra\",\"2019-2020\",\"February\",\"9.1.8\",\"Child immunisation - Pentavalent 3\",\"M9 [CHILD IMMUNISATION]\",\"441\",\"NA\",\"NA\",\"441\"],[\"Chandigarh\",\"Chandigarh\",\"zone3 Mani-Majra\",\"2019-2020\",\"February\",\"9.5.3\",\"Children more than 10 years received TT10\",\"M9 [CHILD IMMUNISATION]\",\"201\",\"NA\",\"NA\",\"201\"],[\"Chandigarh\",\"Chandigarh\",\"zone3 Mani-Majra\",\"2019-2020\",\"February\",\"14.4.6\",\"Inpatient - Pyrexia of unknown origin (PUO)\",\"M14 [Patient Services]\",\"98\",\"NA\",\"NA\",\"98\"],[\"Chandigarh\",\"Chandigarh\",\"zone3 Mani-Majra\",\"2019-2020\",\"February\",\"14.4.1\",\"Inpatient - Malaria\",\"M14 [Patient Services]\",\"0\",\"NA\",\"NA\",\"0\"],[\"Chandigarh\",\"Chandigarh\",\"zone3 Mani-Majra\",\"2019-2020\",\"February\",\"14.7\",\"Number of deaths occurring at Emergency Department\",\"M14 [Patient Services]\",\"0\",\"NA\",\"NA\",\"0\"],[\"Chandigarh\",\"Chandigarh\",\"zone3 Mani-Majra\",\"2019-2020\",\"February\",\"11.2.1\",\"Kala Azar (RDT) - Tests Conducted\",\"M11 [NVBDCP]\",\"NA\",\"NA\",\"NA\",\"NA\"],[\"Chandigarh\",\"Chandigarh\",\"zone3 Mani-Majra\",\"2019-2020\",\"February\",\"11.4.2\",\"Tests Positive for JE\",\"M11 [NVBDCP]\",\"NA\",\"NA\",\"NA\",\"NA\"],[\"Chandigarh\",\"Chandigarh\",\"zone4 Polyclinic 45\",\"2019-2020\",\"February\",\"8.11\",\"Injectable Contraceptive-Antara Program- Fourth or more than fourth\",\"M8 [Family Planning]\",\"10\",\"NA\",\"0\",\"10\"],[\"Chandigarh\",\"Chandigarh\",\"zone4 Polyclinic 45\",\"2019-2020\",\"February\",\"9.1.14\",\"Child immunisation - Hepatitis-B1\",\"M9 [CHILD IMMUNISATION]\",\"0\",\"NA\",\"NA\",\"0\"],[\"Chandigarh\",\"Chandigarh\",\"zone4 Polyclinic 45\",\"2019-2020\",\"February\",\"11.1.2.b\",\"Malaria (RDT) - Plasmodium Vivax test positive\",\"M11 [NVBDCP]\",\"0\",\"NA\",\"NA\",\"0\"],[\"Chandigarh\",\"Chandigarh\",\"zone4 Polyclinic 45\",\"2019-2020\",\"February\",\"12.1.3.a\",\"Out of registered, Girls received counselling\",\"M12 [Adolscent Health]\",\"94\",\"NA\",\"0\",\"94\"],[\"Chandigarh\",\"Chandigarh\",\"zone4 Polyclinic 45\",\"2019-2020\",\"February\",\"14.4.2\",\"Inpatient - Dengue\",\"M14 [Patient Services]\",\"0\",\"NA\",\"NA\",\"0\"],[\"Chandigarh\",\"Chandigarh\",\"zone1 GMSH-16\",\"2019-2020\",\"February\",\"1.1\",\"Total number of pregnant women registered for ANC\",\"M1 [Ante Natal Care (ANC)]\",\"1424\",\"NA\",\"1225\",\"199\"],[\"Chandigarh\",\"Chandigarh\",\"zone1 GMSH-16\",\"2019-2020\",\"February\",\"8.3\",\"Number of Interval IUCD Insertions (excluding PPIUCD and PAIUCD)\",\"M8 [Family Planning]\",\"54\",\"NA\",\"31\",\"23\"],[\"Chandigarh\",\"Chandigarh\",\"zone1 GMSH-16\",\"2019-2020\",\"February\",\"14.3.1.b\",\"Inpatient (Male)- Adults\",\"M14 [Patient Services]\",\"4409\",\"NA\",\"4409\",\"NA\"],[\"Chandigarh\",\"Chandigarh\",\"zone1 GMSH-16\",\"2019-2020\",\"February\",\"15.3.3.c\",\"Out of the above number screened positive, number confirmed with HIV infection at Integrated Counselling and Testing Centre (ICTC)\",\"M15 [Laboratory Testing]\",\"0\",\"NA\",\"0\",\"0\"],[\"Chandigarh\",\"Chandigarh\",\"zone2 CHC-22\",\"2019-2020\",\"February\",\"14.4.2\",\"Inpatient - Dengue\",\"M14 [Patient Services]\",\"0\",\"NA\",\"NA\",\"0\"],[\"Chandigarh\",\"Chandigarh\",\"zone2 CHC-22\",\"2019-2020\",\"February\",\"9.5.2\",\"Children more than 5 years received DPT5 (2nd Booster)\",\"M9 [CHILD IMMUNISATION]\",\"225\",\"NA\",\"NA\",\"225\"],[\"Chandigarh\",\"Chandigarh\",\"zone2 CHC-22\",\"2019-2020\",\"February\",\"16.5.3\",\"Number of Maternal Deaths due to Abortion\",\"M16 [Details of deaths reported with probable causes:]\",\"NA\",\"NA\",\"NA\",\"NA\"],[\"Chandigarh\",\"Chandigarh\",\"zone2 CHC-22\",\"2019-2020\",\"February\",\"14.6.3\",\"Emergency - Obstetrics complications\",\"M14 [Patient Services]\",\"98\",\"NA\",\"NA\",\"98\"],[\"Chandigarh\",\"Chandigarh\",\"zone2 CHC-22\",\"2019-2020\",\"February\",\"14.12.2\",\"Special Newborn Care Unit (SNCU Admissions) - Inborn Female\",\"M14 [Patient Services]\",\"NA\",\"NA\",\"NA\",\"NA\"],[\"Chandigarh\",\"Chandigarh\",\"zone2 CHC-22\",\"2019-2020\",\"February\",\"14.8.4\",\"Operation minor (No or local anaesthesia)\",\"M14 [Patient Services]\",\"48\",\"NA\",\"NA\",\"48\"],[\"Chandigarh\",\"Chandigarh\",\"zone2 CHC-22\",\"2019-2020\",\"February\",\"14.10\",\"In-Patient Head Count at midnight\",\"M14 [Patient Services]\",\"74\",\"NA\",\"NA\",\"74\"],[\"Chandigarh\",\"Chandigarh\",\"zone3 Mani-Majra\",\"2019-2020\",\"February\",\"1.4.4\",\"Number of PW having severe anaemia (Hb<7) treated\",\"M1 [Ante Natal Care (ANC)]\",\"13\",\"NA\",\"NA\",\"13\"],[\"Chandigarh\",\"Chandigarh\",\"zone3 Mani-Majra\",\"2019-2020\",\"February\",\"2.1.3\",\"Number of newborns received 7 Home Based Newborn Care (HBNC) visits in case of Home delivery\",\"M2 [Deliveries]\",\"2\",\"NA\",\"NA\",\"2\"],[\"Chandigarh\",\"Chandigarh\",\"zone3 Mani-Majra\",\"2019-2020\",\"February\",\"4.3.1.a\",\"MTP up to 12 weeks of pregnancy\",\"M4 [Pregnancy outcome & details of new-born]\",\"21\",\"NA\",\"NA\",\"21\"],[\"Chandigarh\",\"Chandigarh\",\"zone3 Mani-Majra\",\"2019-2020\",\"February\",\"9.2.4.b\",\"Children aged between 9 and 11 months fully immunized - Female\",\"M9 [CHILD IMMUNISATION]\",\"144\",\"NA\",\"NA\",\"144\"],[\"Chandigarh\",\"Chandigarh\",\"zone3 Mani-Majra\",\"2019-2020\",\"February\",\"9.4.2\",\"Child immunisation - Measles 2nd dose (More than 16 months)\",\"M9 [CHILD IMMUNISATION]\",\"0\",\"NA\",\"NA\",\"0\"],[\"Chandigarh\",\"Chandigarh\",\"zone3 Mani-Majra\",\"2019-2020\",\"February\",\"9.9\",\"Number of children (6-59 months) provided 8-10 doses (1ml) of IFA syrup (Bi weekly)\",\"M9 [CHILD IMMUNISATION]\",\"0\",\"NA\",\"NA\",\"0\"],[\"Chandigarh\",\"Chandigarh\",\"zone3 Mani-Majra\",\"2019-2020\",\"February\",\"14.1.6\",\"Outpatient - Epilepsy\",\"M14 [Patient Services]\",\"4\",\"NA\",\"NA\",\"4\"],[\"Chandigarh\",\"Chandigarh\",\"zone3 Mani-Majra\",\"2019-2020\",\"February\",\"12.1.2.a\",\"Out of registered, Girls received clinical services\",\"M12 [Adolscent Health]\",\"38\",\"NA\",\"NA\",\"38\"],[\"Chandigarh\",\"Chandigarh\",\"zone3 Mani-Majra\",\"2019-2020\",\"February\",\"14.4.5\",\"Inpatient - Tuberculosis\",\"M14 [Patient Services]\",\"10\",\"NA\",\"NA\",\"10\"],[\"Chandigarh\",\"Chandigarh\",\"zone3 Mani-Majra\",\"2019-2020\",\"February\",\"14.15\",\"Number of Rogi Kalyan Samiti (RKS) meetings held\",\"M14 [Patient Services]\",\"0\",\"NA\",\"NA\",\"0\"],[\"Chandigarh\",\"Chandigarh\",\"zone3 Mani-Majra\",\"2019-2020\",\"February\",\"14.14.2\",\"Number of children discharged with target weight gain from the NRCs\",\"M14 [Patient Services]\",\"0\",\"NA\",\"NA\",\"0\"],[\"Chandigarh\",\"Chandigarh\",\"zone3 Mani-Majra\",\"2019-2020\",\"February\",\"14.8.5\",\"Number of post operative Surgical Site infection\",\"M14 [Patient Services]\",\"NA\",\"NA\",\"NA\",\"NA\"],[\"Chandigarh\",\"Chandigarh\",\"zone3 Mani-Majra\",\"2019-2020\",\"February\",\"14.8.1\",\"Operation major (General and spinal anaesthesia)\",\"M14 [Patient Services]\",\"20\",\"NA\",\"NA\",\"20\"],[\"Chandigarh\",\"Chandigarh\",\"zone3 Mani-Majra\",\"2019-2020\",\"February\",\"16.3.3\",\"Number of Infant Deaths (1 -12 months) due to Fever related\",\"M16 [Details of deaths reported with probable causes:]\",\"0\",\"NA\",\"NA\",\"0\"],[\"Chandigarh\",\"Chandigarh\",\"zone4 Polyclinic 45\",\"2019-2020\",\"February\",\"1.2.7\",\"Number of PW received 4 or more ANC check ups\",\"M1 [Ante Natal Care (ANC)]\",\"566\",\"NA\",\"19\",\"547\"],[\"Chandigarh\",\"Chandigarh\",\"zone4 Polyclinic 45\",\"2019-2020\",\"February\",\"1.5.3\",\"Number of PW given insulin out of total tested positive for GDM\",\"M1 [Ante Natal Care (ANC)]\",\"1\",\"NA\",\"0\",\"1\"],[\"Chandigarh\",\"Chandigarh\",\"zone4 Polyclinic 45\",\"2019-2020\",\"February\",\"9.1.3\",\"Child immunisation - DPT1\",\"M9 [CHILD IMMUNISATION]\",\"0\",\"NA\",\"NA\",\"0\"],[\"Chandigarh\",\"Chandigarh\",\"zone4 Polyclinic 45\",\"2019-2020\",\"February\",\"8.17.2\",\"Complications following female sterilization\",\"M8 [Family Planning]\",\"0\",\"NA\",\"0\",\"0\"],[\"Chandigarh\",\"Chandigarh\",\"zone4 Polyclinic 45\",\"2019-2020\",\"February\",\"8.17.1\",\"Complications following male sterilization\",\"M8 [Family Planning]\",\"0\",\"NA\",\"0\",\"0\"],[\"Chandigarh\",\"Chandigarh\",\"zone4 Polyclinic 45\",\"2019-2020\",\"February\",\"9.1.21\",\"Child immunisation - Rotavirus 3\",\"M9 [CHILD IMMUNISATION]\",\"414\",\"NA\",\"9\",\"405\"],[\"Chandigarh\",\"Chandigarh\",\"zone4 Polyclinic 45\",\"2019-2020\",\"February\",\"14.1.8\",\"Outpatient - Dental\",\"M14 [Patient Services]\",\"2666\",\"NA\",\"730\",\"1936\"],[\"Chandigarh\",\"Chandigarh\",\"zone4 Polyclinic 45\",\"2019-2020\",\"February\",\"11.1.2.a\",\"RDT conducted for Malaria\",\"M11 [NVBDCP]\",\"109\",\"NA\",\"109\",\"0\"],[\"Chandigarh\",\"Chandigarh\",\"zone4 Polyclinic 45\",\"2019-2020\",\"February\",\"15.3.4.c\",\"Number of Female (Non ANC)STI\\/RTI attendees tested for syphilis\",\"M15 [Laboratory Testing]\",\"18\",\"NA\",\"4\",\"14\"],[\"Chandigarh\",\"Chandigarh\",\"zone4 Polyclinic 45\",\"2019-2020\",\"February\",\"15.3.2.a\",\"Female Non ANC HIV - Number Tested\",\"M15 [Laboratory Testing]\",\"275\",\"NA\",\"136\",\"139\"],[\"Chandigarh\",\"Chandigarh\",\"zone4 Polyclinic 45\",\"2019-2020\",\"February\",\"14.12.4\",\"Outborn - Female\",\"M14 [Patient Services]\",\"NA\",\"NA\",\"NA\",\"NA\"],[\"Chandigarh\",\"Chandigarh\",\"zone4 Polyclinic 45\",\"2019-2020\",\"February\",\"14.6.5\",\"Emergency - Acute Caridiac Emergencies\",\"M14 [Patient Services]\",\"0\",\"NA\",\"0\",\"0\"],[\"Chandigarh\",\"Chandigarh\",\"zone1 GMSH-16\",\"2019-2020\",\"February\",\"8.17.1\",\"Complications following male sterilization\",\"M8 [Family Planning]\",\"0\",\"NA\",\"0\",\"NA\"],[\"Chandigarh\",\"Chandigarh\",\"zone1 GMSH-16\",\"2019-2020\",\"February\",\"14.6.3\",\"Emergency - Obstetrics complications\",\"M14 [Patient Services]\",\"771\",\"NA\",\"771\",\"NA\"],[\"Chandigarh\",\"Chandigarh\",\"zone1 GMSH-16\",\"2019-2020\",\"February\",\"14.10\",\"In-Patient Head Count at midnight\",\"M14 [Patient Services]\",\"70280\",\"NA\",\"70280\",\"NA\"],[\"Chandigarh\",\"Chandigarh\",\"zone1 GMSH-16\",\"2019-2020\",\"February\",\"14.1.5\",\"Outpatient - Mental illness\",\"M14 [Patient Services]\",\"8384\",\"NA\",\"8383\",\"1\"],[\"Chandigarh\",\"Chandigarh\",\"zone1 GMSH-16\",\"2019-2020\",\"February\",\"8.15\",\"Number of Emergency Contraceptive Pills (ECP) given\",\"M8 [Family Planning]\",\"41\",\"NA\",\"31\",\"10\"],[\"Chandigarh\",\"Chandigarh\",\"zone2 CHC-22\",\"2019-2020\",\"February\",\"8.3\",\"Number of Interval IUCD Insertions (excluding PPIUCD and PAIUCD)\",\"M8 [Family Planning]\",\"41\",\"NA\",\"NA\",\"41\"],[\"Chandigarh\",\"Chandigarh\",\"zone2 CHC-22\",\"2019-2020\",\"February\",\"9.1.21\",\"Child immunisation - Rotavirus 3\",\"M9 [CHILD IMMUNISATION]\",\"352\",\"NA\",\"NA\",\"352\"],[\"Chandigarh\",\"Chandigarh\",\"zone2 CHC-22\",\"2019-2020\",\"February\",\"14.1.5\",\"Outpatient - Mental illness\",\"M14 [Patient Services]\",\"338\",\"NA\",\"NA\",\"338\"],[\"Chandigarh\",\"Chandigarh\",\"zone2 CHC-22\",\"2019-2020\",\"February\",\"14.1.2\",\"Outpatient - Hypertension\",\"M14 [Patient Services]\",\"1378\",\"NA\",\"NA\",\"1378\"],[\"Chandigarh\",\"Chandigarh\",\"zone2 CHC-22\",\"2019-2020\",\"February\",\"10.1\",\"Childhood Diseases - Pneumonia\",\"M10 [Number of cases of Childhood Diseases (0-5 years)]\",\"9\",\"NA\",\"NA\",\"9\"],[\"Chandigarh\",\"Chandigarh\",\"zone3 Mani-Majra\",\"2019-2020\",\"February\",\"4.3.2.b\",\"Post Abortion\\/ MTP Complications Treated\",\"M4 [Pregnancy outcome & details of new-born]\",\"0\",\"NA\",\"NA\",\"0\"],[\"Chandigarh\",\"Chandigarh\",\"zone2 CHC-22\",\"2019-2020\",\"February\",\"16.3.4\",\"Number of Infant Deaths (1 -12 months) due to Measles\",\"M16 [Details of deaths reported with probable causes:]\",\"NA\",\"NA\",\"NA\",\"NA\"],[\"Chandigarh\",\"Chandigarh\",\"zone3 Mani-Majra\",\"2019-2020\",\"February\",\"8.17.4\",\"Failures following female sterilization\",\"M8 [Family Planning]\",\"0\",\"NA\",\"NA\",\"0\"],[\"Chandigarh\",\"Chandigarh\",\"zone3 Mani-Majra\",\"2019-2020\",\"February\",\"9.8.3\",\"Child immunisation - Vitamin A Dose - 9\",\"M9 [CHILD IMMUNISATION]\",\"263\",\"NA\",\"NA\",\"263\"],[\"Chandigarh\",\"Chandigarh\",\"zone3 Mani-Majra\",\"2019-2020\",\"February\",\"14.8.6\",\"Number of blood units issued\",\"M14 [Patient Services]\",\"8\",\"NA\",\"NA\",\"8\"],[\"Chandigarh\",\"Chandigarh\",\"zone4 Polyclinic 45\",\"2019-2020\",\"February\",\"1.5.2\",\"Number of PW tested positive for GDM\",\"M1 [Ante Natal Care (ANC)]\",\"26\",\"NA\",\"8\",\"18\"],[\"Chandigarh\",\"Chandigarh\",\"zone3 Mani-Majra\",\"2019-2020\",\"February\",\"8.14\",\"Number of Centchroman (weekly) pill strips distributed\",\"M8 [Family Planning]\",\"15\",\"NA\",\"NA\",\"15\"],[\"Chandigarh\",\"Chandigarh\",\"zone3 Mani-Majra\",\"2019-2020\",\"February\",\"16.4.4\",\"Number of Child Deaths (1 -5 years) due to Measles\",\"M16 [Details of deaths reported with probable causes:]\",\"0\",\"NA\",\"NA\",\"0\"],[\"Chandigarh\",\"Chandigarh\",\"zone4 Polyclinic 45\",\"2019-2020\",\"February\",\"9.1.2\",\"Child immunisation - BCG\",\"M9 [CHILD IMMUNISATION]\",\"120\",\"NA\",\"28\",\"92\"],[\"Chandigarh\",\"Chandigarh\",\"zone4 Polyclinic 45\",\"2019-2020\",\"February\",\"8.2.2\",\"Number of Interval Mini-lap (other than post-partum and post abortion) sterilizations conducted\",\"M8 [Family Planning]\",\"0\",\"NA\",\"0\",\"0\"],[\"Chandigarh\",\"Chandigarh\",\"zone4 Polyclinic 45\",\"2019-2020\",\"February\",\"9.1.1\",\"Child immunisation - Vitamin K1 (Birth Dose)\",\"M9 [CHILD IMMUNISATION]\",\"119\",\"NA\",\"30\",\"89\"],[\"Chandigarh\",\"Chandigarh\",\"zone4 Polyclinic 45\",\"2019-2020\",\"February\",\"14.10\",\"In-Patient Head Count at midnight\",\"M14 [Patient Services]\",\"1810\",\"NA\",\"1789\",\"21\"],[\"Chandigarh\",\"Chandigarh\",\"zone4 Polyclinic 45\",\"2019-2020\",\"February\",\"14.1.9\",\"Outpatient - Oncology\",\"M14 [Patient Services]\",\"0\",\"NA\",\"0\",\"0\"],[\"Chandigarh\",\"Chandigarh\",\"zone4 Polyclinic 45\",\"2019-2020\",\"February\",\"14.6.3\",\"Emergency - Obstetrics complications\",\"M14 [Patient Services]\",\"0\",\"NA\",\"0\",\"0\"],[\"Chandigarh\",\"Chandigarh\",\"zone1 GMSH-16\",\"2019-2020\",\"February\",\"1.6.2.b\",\"Number of pregnant women tested found sero positive for Syphilis\",\"M1 [Ante Natal Care (ANC)]\",\"0\",\"NA\",\"0\",\"0\"],[\"Chandigarh\",\"Chandigarh\",\"zone1 GMSH-16\",\"2019-2020\",\"February\",\"9.1.21\",\"Child immunisation - Rotavirus 3\",\"M9 [CHILD IMMUNISATION]\",\"332\",\"NA\",\"151\",\"181\"],[\"Chandigarh\",\"Chandigarh\",\"zone1 GMSH-16\",\"2019-2020\",\"February\",\"7.1.1\",\"New RTI\\/STI cases identified - Male\",\"M7 [Reproductive Tract Infections\\/Sexually Transmitted Infections (RTI\\/STI) Cases]\",\"207\",\"NA\",\"200\",\"7\"],[\"Chandigarh\",\"Chandigarh\",\"zone1 GMSH-16\",\"2019-2020\",\"February\",\"9.8.2\",\"Child immunisation - Vitamin A Dose - 5\",\"M9 [CHILD IMMUNISATION]\",\"248\",\"NA\",\"13\",\"235\"],[\"Chandigarh\",\"Chandigarh\",\"zone1 GMSH-16\",\"2019-2020\",\"February\",\"14.1.8\",\"Outpatient - Dental\",\"M14 [Patient Services]\",\"8091\",\"NA\",\"7413\",\"678\"],[\"Chandigarh\",\"Chandigarh\",\"zone1 GMSH-16\",\"2019-2020\",\"February\",\"14.7\",\"Number of deaths occurring at Emergency Department\",\"M14 [Patient Services]\",\"238\",\"NA\",\"238\",\"NA\"],[\"Chandigarh\",\"Chandigarh\",\"zone1 GMSH-16\",\"2019-2020\",\"February\",\"15.4.1\",\"Widal tests - Number Tested\",\"M15 [Laboratory Testing]\",\"1319\",\"NA\",\"1252\",\"67\"],[\"Chandigarh\",\"Chandigarh\",\"zone1 GMSH-16\",\"2019-2020\",\"February\",\"16.5.4\",\"Number of Maternal Deaths due to Obstructed\\/prolonged labour\",\"M16 [Details of deaths reported with probable causes:]\",\"0\",\"NA\",\"0\",\"NA\"],[\"Chandigarh\",\"Chandigarh\",\"zone2 CHC-22\",\"2019-2020\",\"February\",\"2.1.2\",\"Number of PW given Tablet Misoprostol during home delivery\",\"M2 [Deliveries]\",\"0\",\"NA\",\"NA\",\"0\"],[\"Chandigarh\",\"Chandigarh\",\"zone2 CHC-22\",\"2019-2020\",\"February\",\"4.3.3\",\"Number of women provided with post abortion\\/ MTP contraception\",\"M4 [Pregnancy outcome & details of new-born]\",\"12\",\"NA\",\"NA\",\"12\"],[\"Chandigarh\",\"Chandigarh\",\"zone2 CHC-22\",\"2019-2020\",\"February\",\"4.4.2\",\"Number of newborns having weight less than 2.5 kg\",\"M4 [Pregnancy outcome & details of new-born]\",\"47\",\"NA\",\"NA\",\"47\"],[\"Chandigarh\",\"Chandigarh\",\"zone2 CHC-22\",\"2019-2020\",\"February\",\"9.1.7\",\"Child immunisation - Pentavalent 2\",\"M9 [CHILD IMMUNISATION]\",\"329\",\"NA\",\"NA\",\"329\"],[\"Chandigarh\",\"Chandigarh\",\"zone2 CHC-22\",\"2019-2020\",\"February\",\"8.17.5\",\"Deaths following male sterilization\",\"M8 [Family Planning]\",\"0\",\"NA\",\"NA\",\"0\"],[\"Chandigarh\",\"Chandigarh\",\"zone2 CHC-22\",\"2019-2020\",\"February\",\"14.3.3\",\"Number of Left Against Medical Advice (LAMA) cases\",\"M14 [Patient Services]\",\"6\",\"NA\",\"NA\",\"6\"],[\"Chandigarh\",\"Chandigarh\",\"zone2 CHC-22\",\"2019-2020\",\"February\",\"13.1\",\"Number of on-going DOTS patients registered\",\"M13 [Directly Observed Treatment, Short-course (DOTS)]\",\"88\",\"NA\",\"NA\",\"88\"],[\"Chandigarh\",\"Chandigarh\",\"zone3 Mani-Majra\",\"2019-2020\",\"February\",\"1.6.1.b\",\"Out of above, number of PW found sero positive for syphilis\",\"M1 [Ante Natal Care (ANC)]\",\"NA\",\"NA\",\"NA\",\"NA\"],[\"Chandigarh\",\"Chandigarh\",\"zone2 CHC-22\",\"2019-2020\",\"February\",\"16.3.1\",\"Number of Infant Deaths (1 -12 months) due to Pneumonia\",\"M16 [Details of deaths reported with probable causes:]\",\"NA\",\"NA\",\"NA\",\"NA\"],[\"Chandigarh\",\"Chandigarh\",\"zone3 Mani-Majra\",\"2019-2020\",\"February\",\"8.11\",\"Injectable Contraceptive-Antara Program- Fourth or more than fourth\",\"M8 [Family Planning]\",\"12\",\"NA\",\"NA\",\"12\"],[\"Chandigarh\",\"Chandigarh\",\"zone3 Mani-Majra\",\"2019-2020\",\"February\",\"14.3.2.b\",\"Inpatient (Female)- Adults\",\"M14 [Patient Services]\",\"385\",\"NA\",\"NA\",\"385\"],[\"Chandigarh\",\"Chandigarh\",\"zone3 Mani-Majra\",\"2019-2020\",\"February\",\"14.6.3\",\"Emergency - Obstetrics complications\",\"M14 [Patient Services]\",\"0\",\"NA\",\"NA\",\"0\"],[\"Chandigarh\",\"Chandigarh\",\"zone3 Mani-Majra\",\"2019-2020\",\"February\",\"16.4.1\",\"Number of Child Deaths (1 -5 years) due to Pneumonia\",\"M16 [Details of deaths reported with probable causes:]\",\"0\",\"NA\",\"NA\",\"0\"],[\"Chandigarh\",\"Chandigarh\",\"zone3 Mani-Majra\",\"2019-2020\",\"February\",\"15.3.2.b\",\"Female Non ANC HIV - Number Positive\",\"M15 [Laboratory Testing]\",\"0\",\"NA\",\"NA\",\"0\"],[\"Chandigarh\",\"Chandigarh\",\"zone3 Mani-Majra\",\"2019-2020\",\"February\",\"10.14\",\"Childhood Diseases - Severe Acute Malnutrition (SAM)\",\"M10 [Number of cases of Childhood Diseases (0-5 years)]\",\"3\",\"NA\",\"NA\",\"3\"],[\"Chandigarh\",\"Chandigarh\",\"zone3 Mani-Majra\",\"2019-2020\",\"February\",\"16.8.2\",\"Number of Deaths due to Malaria- Plasmodium Falciparum\",\"M16 [Details of deaths reported with probable causes:]\",\"0\",\"NA\",\"NA\",\"0\"],[\"Chandigarh\",\"Chandigarh\",\"zone3 Mani-Majra\",\"2019-2020\",\"February\",\"16.4.5\",\"Number of Child Deaths (1 -5 years) due to Others\",\"M16 [Details of deaths reported with probable causes:]\",\"0\",\"NA\",\"NA\",\"0\"],[\"Chandigarh\",\"Chandigarh\",\"zone4 Polyclinic 45\",\"2019-2020\",\"February\",\"12.1.2.a\",\"Out of registered, Girls received clinical services\",\"M12 [Adolscent Health]\",\"54\",\"NA\",\"0\",\"54\"],[\"Chandigarh\",\"Chandigarh\",\"zone4 Polyclinic 45\",\"2019-2020\",\"February\",\"14.8.6\",\"Number of blood units issued\",\"M14 [Patient Services]\",\"0\",\"NA\",\"NA\",\"0\"],[\"Chandigarh\",\"Chandigarh\",\"zone4 Polyclinic 45\",\"2019-2020\",\"February\",\"8.14\",\"Number of Centchroman (weekly) pill strips distributed\",\"M8 [Family Planning]\",\"15\",\"NA\",\"0\",\"15\"],[\"Chandigarh\",\"Chandigarh\",\"zone4 Polyclinic 45\",\"2019-2020\",\"February\",\"8.2.4\",\"Number of Post Abortion sterilizations (within 7 days of spontaneous or surgical abortion) conducted\",\"M8 [Family Planning]\",\"5\",\"NA\",\"5\",\"0\"],[\"Chandigarh\",\"Chandigarh\",\"zone1 GMSH-16\",\"2019-2020\",\"February\",\"8.1.1\",\"Number of Non Scalpel Vasectomy (NSV) \\/ Conventional Vasectomy conducted\",\"M8 [Family Planning]\",\"6\",\"NA\",\"6\",\"NA\"],[\"Chandigarh\",\"Chandigarh\",\"zone1 GMSH-16\",\"2019-2020\",\"February\",\"1.3.1.a\",\"Out of the new cases of PW with hypertension detected, cases managed at institution\",\"M1 [Ante Natal Care (ANC)]\",\"166\",\"NA\",\"166\",\"0\"],[\"Chandigarh\",\"Chandigarh\",\"zone1 GMSH-16\",\"2019-2020\",\"February\",\"14.20\",\"Patient Satisfaction Score of the facility in percentage (from Mera Aspatal)\",\"M14 [Patient Services]\",\"67\",\"NA\",\"67\",\"NA\"],[\"Chandigarh\",\"Chandigarh\",\"zone1 GMSH-16\",\"2019-2020\",\"February\",\"14.16\",\"Number of Anganwadi centres\\/ UPHCs reported to have conducted Village Health & Nutrition Day (VHNDs)\\/ Urban Health & Nutrition Day (UHNDs)\\/ Outreach \\/ Special Outreach\",\"M14 [Patient Services]\",\"1\",\"NA\",\"NA\",\"1\"],[\"Chandigarh\",\"Chandigarh\",\"zone2 CHC-22\",\"2019-2020\",\"February\",\"2.2.2\",\"Number of newborns received 6 HBNC\\u00a0 visits after Institutional Delivery\",\"M2 [Deliveries]\",\"213\",\"NA\",\"NA\",\"213\"],[\"Chandigarh\",\"Chandigarh\",\"zone2 CHC-22\",\"2019-2020\",\"February\",\"10.5\",\"Childhood Diseases - Pertussis\",\"M10 [Number of cases of Childhood Diseases (0-5 years)]\",\"0\",\"NA\",\"NA\",\"0\"],[\"Chandigarh\",\"Chandigarh\",\"zone2 CHC-22\",\"2019-2020\",\"February\",\"14.8.2\",\"Out of Operation major, Gynecology- Hysterectomy surgeries\",\"M14 [Patient Services]\",\"0\",\"NA\",\"NA\",\"0\"],[\"Chandigarh\",\"Chandigarh\",\"zone2 CHC-22\",\"2019-2020\",\"February\",\"14.9.2\",\"Inpatient Deaths - Female\",\"M14 [Patient Services]\",\"0\",\"NA\",\"NA\",\"0\"],[\"Chandigarh\",\"Chandigarh\",\"zone2 CHC-22\",\"2019-2020\",\"February\",\"16.4.3\",\"Number of Child Deaths (1 -5 years) due to Fever related\",\"M16 [Details of deaths reported with probable causes:]\",\"NA\",\"NA\",\"NA\",\"NA\"],[\"Chandigarh\",\"Chandigarh\",\"zone2 CHC-22\",\"2019-2020\",\"February\",\"16.5.2\",\"Number of Maternal Deaths due to High fever\",\"M16 [Details of deaths reported with probable causes:]\",\"NA\",\"NA\",\"NA\",\"NA\"],[\"Chandigarh\",\"Chandigarh\",\"zone3 Mani-Majra\",\"2019-2020\",\"February\",\"8.9\",\"Injectable Contraceptive-Antara Program- Second Dose\",\"M8 [Family Planning]\",\"22\",\"NA\",\"NA\",\"22\"],[\"Chandigarh\",\"Chandigarh\",\"zone3 Mani-Majra\",\"2019-2020\",\"February\",\"9.1.4\",\"Child immunisation - DPT2\",\"M9 [CHILD IMMUNISATION]\",\"0\",\"NA\",\"NA\",\"0\"],[\"Chandigarh\",\"Chandigarh\",\"zone3 Mani-Majra\",\"2019-2020\",\"February\",\"1.2.1\",\"Number of PW given\\u00a0TT1\",\"M1 [Ante Natal Care (ANC)]\",\"439\",\"NA\",\"NA\",\"439\"],[\"Chandigarh\",\"Chandigarh\",\"zone3 Mani-Majra\",\"2019-2020\",\"February\",\"12.1.2.b\",\"Out of registered, Boys received clinical services\",\"M12 [Adolscent Health]\",\"36\",\"NA\",\"NA\",\"36\"],[\"Chandigarh\",\"Chandigarh\",\"zone3 Mani-Majra\",\"2019-2020\",\"February\",\"11.1.1.c\",\"Malaria (Microscopy Tests ) - Plasmodium Falciparum test positive\",\"M11 [NVBDCP]\",\"0\",\"NA\",\"NA\",\"0\"],[\"Chandigarh\",\"Chandigarh\",\"zone3 Mani-Majra\",\"2019-2020\",\"February\",\"15.3.4.c\",\"Number of Female (Non ANC)STI\\/RTI attendees tested for syphilis\",\"M15 [Laboratory Testing]\",\"163\",\"NA\",\"NA\",\"163\"],[\"Chandigarh\",\"Chandigarh\",\"zone3 Mani-Majra\",\"2019-2020\",\"February\",\"16.4.3\",\"Number of Child Deaths (1 -5 years) due to Fever related\",\"M16 [Details of deaths reported with probable causes:]\",\"0\",\"NA\",\"NA\",\"0\"],[\"Chandigarh\",\"Chandigarh\",\"zone4 Polyclinic 45\",\"2019-2020\",\"February\",\"14.12.5\",\"Number of newborns admitted in SNCU - referred by ASHA\",\"M14 [Patient Services]\",\"NA\",\"NA\",\"NA\",\"NA\"],[\"Chandigarh\",\"Chandigarh\",\"zone1 GMSH-16\",\"2019-2020\",\"February\",\"1.2.4\",\"Number of PW given 180 Iron Folic Acid (IFA) tablets\",\"M1 [Ante Natal Care (ANC)]\",\"1528\",\"NA\",\"1356\",\"172\"],[\"Chandigarh\",\"Chandigarh\",\"zone4 Polyclinic 45\",\"2019-2020\",\"February\",\"16.7.8\",\"Number of Adolscent \\/ Adult deaths due to Neurological disease including strokes\",\"M16 [Details of deaths reported with probable causes:]\",\"0\",\"NA\",\"0\",\"0\"],[\"Chandigarh\",\"Chandigarh\",\"zone1 GMSH-16\",\"2019-2020\",\"February\",\"9.10\",\"Number of children (12-59 months) provided Albendazole\",\"M9 [CHILD IMMUNISATION]\",\"293\",\"NA\",\"231\",\"62\"],[\"Chandigarh\",\"Chandigarh\",\"zone1 GMSH-16\",\"2019-2020\",\"February\",\"9.11\",\"Number of severely underweight children provided Health Checkup (0-5 yrs)\",\"M9 [CHILD IMMUNISATION]\",\"152\",\"NA\",\"141\",\"11\"],[\"Chandigarh\",\"Chandigarh\",\"zone1 GMSH-16\",\"2019-2020\",\"February\",\"9.1.11\",\"Child immunisation - OPV2\",\"M9 [CHILD IMMUNISATION]\",\"329\",\"NA\",\"139\",\"190\"],[\"Chandigarh\",\"Chandigarh\",\"zone1 GMSH-16\",\"2019-2020\",\"February\",\"8.17.6\",\"Deaths following female sterilization\",\"M8 [Family Planning]\",\"0\",\"NA\",\"0\",\"NA\"],[\"Chandigarh\",\"Chandigarh\",\"zone1 GMSH-16\",\"2019-2020\",\"February\",\"9.7.1\",\"Immunisation sessions planned\",\"M9 [CHILD IMMUNISATION]\",\"217\",\"NA\",\"87\",\"130\"],[\"Chandigarh\",\"Chandigarh\",\"zone1 GMSH-16\",\"2019-2020\",\"February\",\"9.5.4\",\"Children more than 16 years received TT16\",\"M9 [CHILD IMMUNISATION]\",\"59\",\"NA\",\"10\",\"49\"],[\"Chandigarh\",\"Chandigarh\",\"zone1 GMSH-16\",\"2019-2020\",\"February\",\"9.6.2\",\"Number of cases of AEFI - Death\",\"M9 [CHILD IMMUNISATION]\",\"0\",\"NA\",\"0\",\"0\"],[\"Chandigarh\",\"Chandigarh\",\"zone1 GMSH-16\",\"2019-2020\",\"February\",\"14.4.6\",\"Inpatient - Pyrexia of unknown origin (PUO)\",\"M14 [Patient Services]\",\"83\",\"NA\",\"83\",\"NA\"],[\"Chandigarh\",\"Chandigarh\",\"zone1 GMSH-16\",\"2019-2020\",\"February\",\"16.4.2\",\"Number of Child Deaths (1 -5 years) due to Diarrhoea\",\"M16 [Details of deaths reported with probable causes:]\",\"0\",\"NA\",\"0\",\"NA\"],[\"Chandigarh\",\"Chandigarh\",\"zone1 GMSH-16\",\"2019-2020\",\"February\",\"16.2.3\",\"Infant Deaths up to 4 weeks due to Other causes\",\"M16 [Details of deaths reported with probable causes:]\",\"20\",\"NA\",\"20\",\"NA\"],[\"Chandigarh\",\"Chandigarh\",\"zone1 GMSH-16\",\"2019-2020\",\"February\",\"16.7.3\",\"Number of Adolscent \\/ Adult deaths due to Respiratory diseases including infections (other than TB)\",\"M16 [Details of deaths reported with probable causes:]\",\"9\",\"NA\",\"9\",\"NA\"],[\"Chandigarh\",\"Chandigarh\",\"zone2 CHC-22\",\"2019-2020\",\"February\",\"10.6\",\"Childhood Diseases - Tetanus Neonatorum\",\"M10 [Number of cases of Childhood Diseases (0-5 years)]\",\"0\",\"NA\",\"NA\",\"0\"],[\"Chandigarh\",\"Chandigarh\",\"zone2 CHC-22\",\"2019-2020\",\"February\",\"16.7.3\",\"Number of Adolscent \\/ Adult deaths due to Respiratory diseases including infections (other than TB)\",\"M16 [Details of deaths reported with probable causes:]\",\"NA\",\"NA\",\"NA\",\"NA\"],[\"Chandigarh\",\"Chandigarh\",\"zone3 Mani-Majra\",\"2019-2020\",\"February\",\"1.2.3\",\"Number of PW given\\u00a0TT Booster\",\"M1 [Ante Natal Care (ANC)]\",\"125\",\"NA\",\"NA\",\"125\"],[\"Chandigarh\",\"Chandigarh\",\"zone3 Mani-Majra\",\"2019-2020\",\"February\",\"13.1\",\"Number of on-going DOTS patients registered\",\"M13 [Directly Observed Treatment, Short-course (DOTS)]\",\"110\",\"NA\",\"NA\",\"110\"],[\"Chandigarh\",\"Chandigarh\",\"zone4 Polyclinic 45\",\"2019-2020\",\"February\",\"1.4.3\",\"Number of PW having Hb level<7 (tested cases)\",\"M1 [Ante Natal Care (ANC)]\",\"10\",\"NA\",\"0\",\"10\"],[\"Chandigarh\",\"Chandigarh\",\"zone4 Polyclinic 45\",\"2019-2020\",\"February\",\"9.6.1\",\"Number of cases of AEFI - Abscess\",\"M9 [CHILD IMMUNISATION]\",\"0\",\"NA\",\"0\",\"0\"],[\"Chandigarh\",\"Chandigarh\",\"zone4 Polyclinic 45\",\"2019-2020\",\"February\",\"14.1.1\",\"Outpatient - Diabetes\",\"M14 [Patient Services]\",\"866\",\"NA\",\"192\",\"674\"],[\"Chandigarh\",\"Chandigarh\",\"zone4 Polyclinic 45\",\"2019-2020\",\"February\",\"11.2.3\",\"Post-kala-azar dermal leishmaniasis (PKDL) cases\",\"M11 [NVBDCP]\",\"0\",\"NA\",\"NA\",\"0\"],[\"Chandigarh\",\"Chandigarh\",\"zone4 Polyclinic 45\",\"2019-2020\",\"February\",\"14.8.3\",\"Major Surgeries excluding Obstetrics, Gynaecology and Opthalmology etc.\",\"M14 [Patient Services]\",\"NA\",\"NA\",\"NA\",\"NA\"],[\"Chandigarh\",\"Chandigarh\",\"zone2 CHC-22\",\"2019-2020\",\"February\",\"1.2.2\",\"Number of PW given\\u00a0TT2\",\"M1 [Ante Natal Care (ANC)]\",\"242\",\"NA\",\"NA\",\"242\"],[\"Chandigarh\",\"Chandigarh\",\"zone2 CHC-22\",\"2019-2020\",\"February\",\"1.6.1.b\",\"Out of above, number of PW found sero positive for syphilis\",\"M1 [Ante Natal Care (ANC)]\",\"NA\",\"NA\",\"NA\",\"NA\"],[\"Chandigarh\",\"Chandigarh\",\"zone2 CHC-22\",\"2019-2020\",\"February\",\"12.1.3.a\",\"Out of registered, Girls received counselling\",\"M12 [Adolscent Health]\",\"73\",\"NA\",\"NA\",\"73\"],[\"Chandigarh\",\"Chandigarh\",\"zone2 CHC-22\",\"2019-2020\",\"February\",\"9.5.1\",\"Child immunisation - Typhoid\",\"M9 [CHILD IMMUNISATION]\",\"15\",\"NA\",\"NA\",\"15\"],[\"Chandigarh\",\"Chandigarh\",\"zone2 CHC-22\",\"2019-2020\",\"February\",\"9.7.3\",\"Number of Immunisation sessions where ASHAs were present\",\"M9 [CHILD IMMUNISATION]\",\"0\",\"NA\",\"NA\",\"0\"],[\"Chandigarh\",\"Chandigarh\",\"zone2 CHC-22\",\"2019-2020\",\"February\",\"9.1.18\",\"Child immunisation - Inactivated Polio Vaccine 2 (IPV 2)\",\"M9 [CHILD IMMUNISATION]\",\"354\",\"NA\",\"NA\",\"354\"],[\"Chandigarh\",\"Chandigarh\",\"zone2 CHC-22\",\"2019-2020\",\"February\",\"14.20\",\"Patient Satisfaction Score of the facility in percentage (from Mera Aspatal)\",\"M14 [Patient Services]\",\"NA\",\"NA\",\"NA\",\"NA\"],[\"Chandigarh\",\"Chandigarh\",\"zone3 Mani-Majra\",\"2019-2020\",\"February\",\"10.3\",\"Childhood Diseases - Sepsis\",\"M10 [Number of cases of Childhood Diseases (0-5 years)]\",\"2\",\"NA\",\"NA\",\"2\"],[\"Chandigarh\",\"Chandigarh\",\"zone4 Polyclinic 45\",\"2019-2020\",\"February\",\"1.6.2.a\",\"Number of pregnant women tested  for Syphilis\",\"M1 [Ante Natal Care (ANC)]\",\"435\",\"NA\",\"55\",\"380\"],[\"Chandigarh\",\"Chandigarh\",\"zone4 Polyclinic 45\",\"2019-2020\",\"February\",\"2.1.1.a\",\"Number of Home Deliveries attended by Skill Birth Attendant(SBA) (Doctor\\/Nurse\\/ANM)\",\"M2 [Deliveries]\",\"0\",\"NA\",\"NA\",\"0\"],[\"Chandigarh\",\"Chandigarh\",\"zone4 Polyclinic 45\",\"2019-2020\",\"February\",\"4.3.3\",\"Number of women provided with post abortion\\/ MTP contraception\",\"M4 [Pregnancy outcome & details of new-born]\",\"4\",\"NA\",\"4\",\"0\"],[\"Chandigarh\",\"Chandigarh\",\"zone4 Polyclinic 45\",\"2019-2020\",\"February\",\"7.1.2\",\"New RTI\\/STI cases identified - Female\",\"M7 [Reproductive Tract Infections\\/Sexually Transmitted Infections (RTI\\/STI) Cases]\",\"147\",\"NA\",\"0\",\"147\"],[\"Chandigarh\",\"Chandigarh\",\"zone4 Polyclinic 45\",\"2019-2020\",\"February\",\"9.4.4\",\"Child immunisation - OPV Booster\",\"M9 [CHILD IMMUNISATION]\",\"454\",\"NA\",\"5\",\"449\"],[\"Chandigarh\",\"Chandigarh\",\"zone4 Polyclinic 45\",\"2019-2020\",\"February\",\"9.2.4.a\",\"Children aged between 9 and 11 months fully immunized- Male\",\"M9 [CHILD IMMUNISATION]\",\"169\",\"NA\",\"4\",\"165\"],[\"Chandigarh\",\"Chandigarh\",\"zone4 Polyclinic 45\",\"2019-2020\",\"February\",\"13.1\",\"Number of on-going DOTS patients registered\",\"M13 [Directly Observed Treatment, Short-course (DOTS)]\",\"168\",\"NA\",\"0\",\"168\"],[\"Chandigarh\",\"Chandigarh\",\"zone4 Polyclinic 45\",\"2019-2020\",\"February\",\"14.3.1.a\",\"Inpatient (Male)- Children<18yrs\",\"M14 [Patient Services]\",\"171\",\"NA\",\"120\",\"51\"],[\"Chandigarh\",\"Chandigarh\",\"zone4 Polyclinic 45\",\"2019-2020\",\"February\",\"14.18\",\"Blood Units Issued on replacement (Family Donors to be considered as replacement donations)\",\"M14 [Patient Services]\",\"0\",\"NA\",\"0\",\"NA\"],[\"Chandigarh\",\"Chandigarh\",\"zone4 Polyclinic 45\",\"2019-2020\",\"February\",\"16.3.5\",\"Number of Infant Deaths (1 -12 months) due to Others\",\"M16 [Details of deaths reported with probable causes:]\",\"0\",\"NA\",\"0\",\"0\"],[\"Chandigarh\",\"Chandigarh\",\"zone1 GMSH-16\",\"2019-2020\",\"February\",\"1.2.2\",\"Number of PW given\\u00a0TT2\",\"M1 [Ante Natal Care (ANC)]\",\"651\",\"NA\",\"548\",\"103\"],[\"Chandigarh\",\"Chandigarh\",\"zone1 GMSH-16\",\"2019-2020\",\"February\",\"1.6.1.b\",\"Out of above, number of PW found sero positive for syphilis\",\"M1 [Ante Natal Care (ANC)]\",\"NA\",\"NA\",\"NA\",\"NA\"],[\"Chandigarh\",\"Chandigarh\",\"zone1 GMSH-16\",\"2019-2020\",\"February\",\"14.11\",\"Number of Admission in NBSU ( New Born Stabilisation Unit)\",\"M14 [Patient Services]\",\"0\",\"NA\",\"0\",\"NA\"],[\"Chandigarh\",\"Chandigarh\",\"zone2 CHC-22\",\"2019-2020\",\"February\",\"1.2.3\",\"Number of PW given\\u00a0TT Booster\",\"M1 [Ante Natal Care (ANC)]\",\"42\",\"NA\",\"NA\",\"42\"],[\"Chandigarh\",\"Chandigarh\",\"zone2 CHC-22\",\"2019-2020\",\"February\",\"9.3.3\",\"Child immunisation - JE 1st dose\",\"M9 [CHILD IMMUNISATION]\",\"0\",\"NA\",\"NA\",\"0\"],[\"Chandigarh\",\"Chandigarh\",\"zone2 CHC-22\",\"2019-2020\",\"February\",\"9.9\",\"Number of children (6-59 months) provided 8-10 doses (1ml) of IFA syrup (Bi weekly)\",\"M9 [CHILD IMMUNISATION]\",\"0\",\"NA\",\"NA\",\"0\"],[\"Chandigarh\",\"Chandigarh\",\"zone2 CHC-22\",\"2019-2020\",\"February\",\"4.3.1.a\",\"MTP up to 12 weeks of pregnancy\",\"M4 [Pregnancy outcome & details of new-born]\",\"39\",\"NA\",\"NA\",\"39\"],[\"Chandigarh\",\"Chandigarh\",\"zone2 CHC-22\",\"2019-2020\",\"February\",\"16.4.4\",\"Number of Child Deaths (1 -5 years) due to Measles\",\"M16 [Details of deaths reported with probable causes:]\",\"NA\",\"NA\",\"NA\",\"NA\"],[\"Chandigarh\",\"Chandigarh\",\"zone3 Mani-Majra\",\"2019-2020\",\"February\",\"4.1.1.a\",\"Live Birth - Male\",\"M4 [Pregnancy outcome & details of new-born]\",\"90\",\"NA\",\"NA\",\"90\"],[\"Chandigarh\",\"Chandigarh\",\"zone3 Mani-Majra\",\"2019-2020\",\"February\",\"1.6.2.b\",\"Number of pregnant women tested found sero positive for Syphilis\",\"M1 [Ante Natal Care (ANC)]\",\"0\",\"NA\",\"NA\",\"0\"],[\"Chandigarh\",\"Chandigarh\",\"zone3 Mani-Majra\",\"2019-2020\",\"February\",\"10.12\",\"Childhood Diseases - Diarrhoea treated in Inpatients\",\"M10 [Number of cases of Childhood Diseases (0-5 years)]\",\"1\",\"NA\",\"NA\",\"1\"],[\"Chandigarh\",\"Chandigarh\",\"zone3 Mani-Majra\",\"2019-2020\",\"February\",\"9.2.1\",\"Child immunisation (9-11months) - Measles & Rubella (MR)- 1st Dose\",\"M9 [CHILD IMMUNISATION]\",\"293\",\"NA\",\"NA\",\"293\"],[\"Chandigarh\",\"Chandigarh\",\"zone4 Polyclinic 45\",\"2019-2020\",\"February\",\"1.3.1\",\"New cases of PW with hypertension detected\",\"M1 [Ante Natal Care (ANC)]\",\"7\",\"NA\",\"3\",\"4\"],[\"Chandigarh\",\"Chandigarh\",\"zone3 Mani-Majra\",\"2019-2020\",\"February\",\"14.10\",\"In-Patient Head Count at midnight\",\"M14 [Patient Services]\",\"3204\",\"NA\",\"NA\",\"3204\"],[\"Chandigarh\",\"Chandigarh\",\"zone3 Mani-Majra\",\"2019-2020\",\"February\",\"16.3.5\",\"Number of Infant Deaths (1 -12 months) due to Others\",\"M16 [Details of deaths reported with probable causes:]\",\"0\",\"NA\",\"NA\",\"0\"],[\"Chandigarh\",\"Chandigarh\",\"zone4 Polyclinic 45\",\"2019-2020\",\"February\",\"9.1.17\",\"Child immunisation - Inactivated Polio Vaccine 1 (IPV 1)\",\"M9 [CHILD IMMUNISATION]\",\"364\",\"NA\",\"8\",\"356\"],[\"Chandigarh\",\"Chandigarh\",\"zone4 Polyclinic 45\",\"2019-2020\",\"February\",\"8.2.3\",\"Number of Postpartum sterilizations (within 7 days of delivery by minilap or concurrent with caesarean section) conducted\",\"M8 [Family Planning]\",\"4\",\"NA\",\"4\",\"0\"],[\"Chandigarh\",\"Chandigarh\",\"zone4 Polyclinic 45\",\"2019-2020\",\"February\",\"16.4.3\",\"Number of Child Deaths (1 -5 years) due to Fever related\",\"M16 [Details of deaths reported with probable causes:]\",\"0\",\"NA\",\"0\",\"0\"],[\"Chandigarh\",\"Chandigarh\",\"zone4 Polyclinic 45\",\"2019-2020\",\"February\",\"16.2.3\",\"Infant Deaths up to 4 weeks due to Other causes\",\"M16 [Details of deaths reported with probable causes:]\",\"0\",\"NA\",\"0\",\"0\"],[\"Chandigarh\",\"Chandigarh\",\"zone4 Polyclinic 45\",\"2019-2020\",\"February\",\"15.3.3.b\",\"Out of the above, number screened positive\",\"M15 [Laboratory Testing]\",\"0\",\"NA\",\"0\",\"0\"],[\"Chandigarh\",\"Chandigarh\",\"zone1 GMSH-16\",\"2019-2020\",\"February\",\"9.1.4\",\"Child immunisation - DPT2\",\"M9 [CHILD IMMUNISATION]\",\"1\",\"NA\",\"0\",\"1\"],[\"Chandigarh\",\"Chandigarh\",\"zone1 GMSH-16\",\"2019-2020\",\"February\",\"9.1.20\",\"Child immunisation - Rotavirus 2\",\"M9 [CHILD IMMUNISATION]\",\"329\",\"NA\",\"139\",\"190\"],[\"Chandigarh\",\"Chandigarh\",\"zone1 GMSH-16\",\"2019-2020\",\"February\",\"9.1.6\",\"Child immunisation - Pentavalent 1\",\"M9 [CHILD IMMUNISATION]\",\"404\",\"NA\",\"232\",\"172\"],[\"Chandigarh\",\"Chandigarh\",\"zone1 GMSH-16\",\"2019-2020\",\"February\",\"9.4.3\",\"Child immunisation - DPT 1st Booster\",\"M9 [CHILD IMMUNISATION]\",\"241\",\"NA\",\"46\",\"195\"],[\"Chandigarh\",\"Chandigarh\",\"zone1 GMSH-16\",\"2019-2020\",\"February\",\"15.3.4.b\",\"Number of Male STI\\/RTI attendees found sero Positive for syphilis\",\"M15 [Laboratory Testing]\",\"7\",\"NA\",\"7\",\"0\"],[\"Chandigarh\",\"Chandigarh\",\"zone1 GMSH-16\",\"2019-2020\",\"February\",\"10.2\",\"Childhood Diseases - Asthma\",\"M10 [Number of cases of Childhood Diseases (0-5 years)]\",\"260\",\"NA\",\"258\",\"2\"],[\"Chandigarh\",\"Chandigarh\",\"zone1 GMSH-16\",\"2019-2020\",\"February\",\"16.2.2\",\"Infant Deaths up to 4 weeks due to Asphyxia\",\"M16 [Details of deaths reported with probable causes:]\",\"2\",\"NA\",\"2\",\"NA\"],[\"Chandigarh\",\"Chandigarh\",\"zone1 GMSH-16\",\"2019-2020\",\"February\",\"16.7.8\",\"Number of Adolscent \\/ Adult deaths due to Neurological disease including strokes\",\"M16 [Details of deaths reported with probable causes:]\",\"8\",\"NA\",\"8\",\"NA\"],[\"Chandigarh\",\"Chandigarh\",\"zone2 CHC-22\",\"2019-2020\",\"February\",\"9.2.1\",\"Child immunisation (9-11months) - Measles & Rubella (MR)- 1st Dose\",\"M9 [CHILD IMMUNISATION]\",\"313\",\"NA\",\"NA\",\"313\"],[\"Chandigarh\",\"Chandigarh\",\"zone2 CHC-22\",\"2019-2020\",\"February\",\"10.10\",\"Childhood Diseases - Malaria\",\"M10 [Number of cases of Childhood Diseases (0-5 years)]\",\"0\",\"NA\",\"NA\",\"0\"],[\"Chandigarh\",\"Chandigarh\",\"zone2 CHC-22\",\"2019-2020\",\"February\",\"12.1.2.a\",\"Out of registered, Girls received clinical services\",\"M12 [Adolscent Health]\",\"173\",\"NA\",\"NA\",\"173\"],[\"Chandigarh\",\"Chandigarh\",\"zone2 CHC-22\",\"2019-2020\",\"February\",\"11.1.1.b\",\"Malaria (Microscopy Tests ) - Plasmodium Vivax test positive\",\"M11 [NVBDCP]\",\"0\",\"NA\",\"NA\",\"0\"],[\"Chandigarh\",\"Chandigarh\",\"zone2 CHC-22\",\"2019-2020\",\"February\",\"14.11\",\"Number of Admission in NBSU ( New Born Stabilisation Unit)\",\"M14 [Patient Services]\",\"104\",\"NA\",\"NA\",\"104\"],[\"Chandigarh\",\"Chandigarh\",\"zone2 CHC-22\",\"2019-2020\",\"February\",\"15.3.1.a\",\"Male HIV - Number Tested\",\"M15 [Laboratory Testing]\",\"257\",\"NA\",\"NA\",\"257\"],[\"Chandigarh\",\"Chandigarh\",\"zone3 Mani-Majra\",\"2019-2020\",\"February\",\"8.7\",\"Number of complications following IUCD Insertion\",\"M8 [Family Planning]\",\"0\",\"NA\",\"NA\",\"0\"],[\"Chandigarh\",\"Chandigarh\",\"zone2 CHC-22\",\"2019-2020\",\"February\",\"16.8.3\",\"Number of Deaths due to Kala Azar\",\"M16 [Details of deaths reported with probable causes:]\",\"NA\",\"NA\",\"NA\",\"NA\"],[\"Chandigarh\",\"Chandigarh\",\"zone3 Mani-Majra\",\"2019-2020\",\"February\",\"8.17.5\",\"Deaths following male sterilization\",\"M8 [Family Planning]\",\"0\",\"NA\",\"NA\",\"0\"],[\"Chandigarh\",\"Chandigarh\",\"zone3 Mani-Majra\",\"2019-2020\",\"February\",\"9.1.3\",\"Child immunisation - DPT1\",\"M9 [CHILD IMMUNISATION]\",\"0\",\"NA\",\"NA\",\"0\"],[\"Chandigarh\",\"Chandigarh\",\"zone3 Mani-Majra\",\"2019-2020\",\"February\",\"14.1.8\",\"Outpatient - Dental\",\"M14 [Patient Services]\",\"2811\",\"NA\",\"NA\",\"2811\"],[\"Chandigarh\",\"Chandigarh\",\"zone3 Mani-Majra\",\"2019-2020\",\"February\",\"14.1.4\",\"Outpatient - Acute Heart Diseases\",\"M14 [Patient Services]\",\"22\",\"NA\",\"NA\",\"22\"],[\"Chandigarh\",\"Chandigarh\",\"zone3 Mani-Majra\",\"2019-2020\",\"February\",\"10.1\",\"Childhood Diseases - Pneumonia\",\"M10 [Number of cases of Childhood Diseases (0-5 years)]\",\"41\",\"NA\",\"NA\",\"41\"],[\"Chandigarh\",\"Chandigarh\",\"zone3 Mani-Majra\",\"2019-2020\",\"February\",\"15.2.2\",\"Out of the total number of Hb tests done, Number having Hb < 7 mg\",\"M15 [Laboratory Testing]\",\"60\",\"NA\",\"NA\",\"60\"],[\"Chandigarh\",\"Chandigarh\",\"zone3 Mani-Majra\",\"2019-2020\",\"February\",\"14.16\",\"Number of Anganwadi centres\\/ UPHCs reported to have conducted Village Health & Nutrition Day (VHNDs)\\/ Urban Health & Nutrition Day (UHNDs)\\/ Outreach \\/ Special Outreach\",\"M14 [Patient Services]\",\"NA\",\"NA\",\"NA\",\"NA\"],[\"Chandigarh\",\"Chandigarh\",\"zone3 Mani-Majra\",\"2019-2020\",\"February\",\"14.19\",\"Total number of blood units issued in year\",\"M14 [Patient Services]\",\"NA\",\"NA\",\"NA\",\"NA\"],[\"Chandigarh\",\"Chandigarh\",\"zone4 Polyclinic 45\",\"2019-2020\",\"February\",\"8.9\",\"Injectable Contraceptive-Antara Program- Second Dose\",\"M8 [Family Planning]\",\"20\",\"NA\",\"0\",\"20\"],[\"Chandigarh\",\"Chandigarh\",\"zone4 Polyclinic 45\",\"2019-2020\",\"February\",\"6.2\",\"Women receiving 1st post partum checkup between 48 hours and 14 days\",\"M6 [Post Natal Care (PNC)]\",\"0\",\"NA\",\"0\",\"0\"],[\"Chandigarh\",\"Chandigarh\",\"zone4 Polyclinic 45\",\"2019-2020\",\"February\",\"9.1.13\",\"Child immunisation - Hepatitis-B0 (Birth Dose)\",\"M9 [CHILD IMMUNISATION]\",\"119\",\"NA\",\"30\",\"89\"],[\"Chandigarh\",\"Chandigarh\",\"zone4 Polyclinic 45\",\"2019-2020\",\"February\",\"9.5.1\",\"Child immunisation - Typhoid\",\"M9 [CHILD IMMUNISATION]\",\"0\",\"NA\",\"0\",\"0\"],[\"Chandigarh\",\"Chandigarh\",\"zone4 Polyclinic 45\",\"2019-2020\",\"February\",\"12.1.2.b\",\"Out of registered, Boys received clinical services\",\"M12 [Adolscent Health]\",\"30\",\"NA\",\"0\",\"30\"],[\"Chandigarh\",\"Chandigarh\",\"zone4 Polyclinic 45\",\"2019-2020\",\"February\",\"10.8\",\"Childhood Diseases - Acute Flaccid Paralysis(AFP)\",\"M10 [Number of cases of Childhood Diseases (0-5 years)]\",\"0\",\"NA\",\"0\",\"0\"],[\"Chandigarh\",\"Chandigarh\",\"zone4 Polyclinic 45\",\"2019-2020\",\"February\",\"15.3.1.b\",\"Male HIV - Number Positive\",\"M15 [Laboratory Testing]\",\"1\",\"NA\",\"0\",\"1\"],[\"Chandigarh\",\"Chandigarh\",\"zone4 Polyclinic 45\",\"2019-2020\",\"February\",\"16.3.1\",\"Number of Infant Deaths (1 -12 months) due to Pneumonia\",\"M16 [Details of deaths reported with probable causes:]\",\"0\",\"NA\",\"0\",\"0\"],[\"Chandigarh\",\"Chandigarh\",\"zone1 GMSH-16\",\"2019-2020\",\"February\",\"14.17\",\"Stock out rate of essential Drugs\",\"M14 [Patient Services]\",\"8\",\"NA\",\"8\",\"NA\"],[\"Chandigarh\",\"Chandigarh\",\"zone1 GMSH-16\",\"2019-2020\",\"February\",\"11.1.1.b\",\"Malaria (Microscopy Tests ) - Plasmodium Vivax test positive\",\"M11 [NVBDCP]\",\"0\",\"NA\",\"0\",\"0\"],[\"Chandigarh\",\"Chandigarh\",\"zone2 CHC-22\",\"2019-2020\",\"February\",\"12.1.2.b\",\"Out of registered, Boys received clinical services\",\"M12 [Adolscent Health]\",\"131\",\"NA\",\"NA\",\"131\"],[\"Chandigarh\",\"Chandigarh\",\"zone2 CHC-22\",\"2019-2020\",\"February\",\"9.8.3\",\"Child immunisation - Vitamin A Dose - 9\",\"M9 [CHILD IMMUNISATION]\",\"118\",\"NA\",\"NA\",\"118\"],[\"Chandigarh\",\"Chandigarh\",\"zone2 CHC-22\",\"2019-2020\",\"February\",\"14.6.4\",\"Emergency - Snake Bite\",\"M14 [Patient Services]\",\"0\",\"NA\",\"NA\",\"0\"],[\"Chandigarh\",\"Chandigarh\",\"zone2 CHC-22\",\"2019-2020\",\"February\",\"15.5.2\",\"Radiology - Ultrasonography (USG)\",\"M15 [Laboratory Testing]\",\"NA\",\"NA\",\"NA\",\"NA\"],[\"Chandigarh\",\"Chandigarh\",\"zone3 Mani-Majra\",\"2019-2020\",\"February\",\"1.5.2\",\"Number of PW tested positive for GDM\",\"M1 [Ante Natal Care (ANC)]\",\"11\",\"NA\",\"NA\",\"11\"],[\"Chandigarh\",\"Chandigarh\",\"zone3 Mani-Majra\",\"2019-2020\",\"February\",\"1.6.1.a\",\"Number of PW tested using POC test for Syphilis\",\"M1 [Ante Natal Care (ANC)]\",\"NA\",\"NA\",\"NA\",\"NA\"],[\"Chandigarh\",\"Chandigarh\",\"zone3 Mani-Majra\",\"2019-2020\",\"February\",\"9.7.1\",\"Immunisation sessions planned\",\"M9 [CHILD IMMUNISATION]\",\"122\",\"NA\",\"NA\",\"122\"],[\"Chandigarh\",\"Chandigarh\",\"zone3 Mani-Majra\",\"2019-2020\",\"February\",\"15.2.1\",\"Number of Hb tests conducted\",\"M15 [Laboratory Testing]\",\"4340\",\"NA\",\"NA\",\"4340\"],[\"Chandigarh\",\"Chandigarh\",\"zone3 Mani-Majra\",\"2019-2020\",\"February\",\"14.4.7\",\"Inpatient - Diarrhea with dehydration\",\"M14 [Patient Services]\",\"25\",\"NA\",\"NA\",\"25\"],[\"Chandigarh\",\"Chandigarh\",\"zone3 Mani-Majra\",\"2019-2020\",\"February\",\"16.8.4\",\"Number of Deaths due to Dengue\",\"M16 [Details of deaths reported with probable causes:]\",\"0\",\"NA\",\"NA\",\"0\"],[\"Chandigarh\",\"Chandigarh\",\"zone4 Polyclinic 45\",\"2019-2020\",\"February\",\"9.1.10\",\"Child immunisation - OPV1\",\"M9 [CHILD IMMUNISATION]\",\"364\",\"NA\",\"8\",\"356\"],[\"Chandigarh\",\"Chandigarh\",\"zone4 Polyclinic 45\",\"2019-2020\",\"February\",\"9.1.19\",\"Child immunisation - Rotavirus 1\",\"M9 [CHILD IMMUNISATION]\",\"364\",\"NA\",\"8\",\"356\"],[\"Chandigarh\",\"Chandigarh\",\"zone4 Polyclinic 45\",\"2019-2020\",\"February\",\"14.4.1\",\"Inpatient - Malaria\",\"M14 [Patient Services]\",\"0\",\"NA\",\"0\",\"0\"],[\"Chandigarh\",\"Chandigarh\",\"zone4 Polyclinic 45\",\"2019-2020\",\"February\",\"16.4.1\",\"Number of Child Deaths (1 -5 years) due to Pneumonia\",\"M16 [Details of deaths reported with probable causes:]\",\"0\",\"NA\",\"0\",\"0\"],[\"Chandigarh\",\"Chandigarh\",\"zone4 Polyclinic 45\",\"2019-2020\",\"February\",\"16.7.10\",\"Number of Adolscent \\/ Adult deaths due to Suicide\",\"M16 [Details of deaths reported with probable causes:]\",\"0\",\"NA\",\"0\",\"0\"],[\"Chandigarh\",\"Chandigarh\",\"zone1 GMSH-16\",\"2019-2020\",\"February\",\"9.3.3\",\"Child immunisation - JE 1st dose\",\"M9 [CHILD IMMUNISATION]\",\"0\",\"NA\",\"0\",\"NA\"],[\"Chandigarh\",\"Chandigarh\",\"zone1 GMSH-16\",\"2019-2020\",\"February\",\"9.8.3\",\"Child immunisation - Vitamin A Dose - 9\",\"M9 [CHILD IMMUNISATION]\",\"136\",\"NA\",\"13\",\"123\"],[\"Chandigarh\",\"Chandigarh\",\"zone1 GMSH-16\",\"2019-2020\",\"February\",\"14.8.1\",\"Operation major (General and spinal anaesthesia)\",\"M14 [Patient Services]\",\"4733\",\"NA\",\"4733\",\"NA\"],[\"Chandigarh\",\"Chandigarh\",\"zone1 GMSH-16\",\"2019-2020\",\"February\",\"14.8.6\",\"Number of blood units issued\",\"M14 [Patient Services]\",\"513\",\"NA\",\"513\",\"NA\"],[\"Chandigarh\",\"Chandigarh\",\"zone1 GMSH-16\",\"2019-2020\",\"February\",\"14.4.4\",\"Inpatient - Asthma, Chronic Obstructive Pulmonary Disease (COPD), Respiratory infections\",\"M14 [Patient Services]\",\"148\",\"NA\",\"148\",\"NA\"],[\"Chandigarh\",\"Chandigarh\",\"zone1 GMSH-16\",\"2019-2020\",\"February\",\"14.4.5\",\"Inpatient - Tuberculosis\",\"M14 [Patient Services]\",\"93\",\"NA\",\"93\",\"NA\"],[\"Chandigarh\",\"Chandigarh\",\"zone1 GMSH-16\",\"2019-2020\",\"February\",\"14.14.2\",\"Number of children discharged with target weight gain from the NRCs\",\"M14 [Patient Services]\",\"9\",\"NA\",\"9\",\"NA\"],[\"Chandigarh\",\"Chandigarh\",\"zone2 CHC-22\",\"2019-2020\",\"February\",\"9.1.20\",\"Child immunisation - Rotavirus 2\",\"M9 [CHILD IMMUNISATION]\",\"324\",\"NA\",\"NA\",\"324\"],[\"Chandigarh\",\"Chandigarh\",\"zone2 CHC-22\",\"2019-2020\",\"February\",\"9.1.4\",\"Child immunisation - DPT2\",\"M9 [CHILD IMMUNISATION]\",\"2\",\"NA\",\"NA\",\"2\"],[\"Chandigarh\",\"Chandigarh\",\"zone2 CHC-22\",\"2019-2020\",\"February\",\"9.1.10\",\"Child immunisation - OPV1\",\"M9 [CHILD IMMUNISATION]\",\"349\",\"NA\",\"NA\",\"349\"],[\"Chandigarh\",\"Chandigarh\",\"zone2 CHC-22\",\"2019-2020\",\"February\",\"8.14\",\"Number of Centchroman (weekly) pill strips distributed\",\"M8 [Family Planning]\",\"12\",\"NA\",\"NA\",\"12\"],[\"Chandigarh\",\"Chandigarh\",\"zone2 CHC-22\",\"2019-2020\",\"February\",\"15.3.1.b\",\"Male HIV - Number Positive\",\"M15 [Laboratory Testing]\",\"3\",\"NA\",\"NA\",\"3\"],[\"Chandigarh\",\"Chandigarh\",\"zone3 Mani-Majra\",\"2019-2020\",\"February\",\"1.5.3\",\"Number of PW given insulin out of total tested positive for GDM\",\"M1 [Ante Natal Care (ANC)]\",\"0\",\"NA\",\"NA\",\"0\"],[\"Chandigarh\",\"Chandigarh\",\"zone3 Mani-Majra\",\"2019-2020\",\"February\",\"7.2.2\",\"RTI\\/STI for which treatment initiated -Female\",\"M7 [Reproductive Tract Infections\\/Sexually Transmitted Infections (RTI\\/STI) Cases]\",\"220\",\"NA\",\"NA\",\"220\"],[\"Chandigarh\",\"Chandigarh\",\"zone3 Mani-Majra\",\"2019-2020\",\"February\",\"5.1\",\"Number of cases of pregnant women with Obstetric Complications attended (Antepartum haemorrhage (APH), Post-Partum Hemorrhage (PPH), Sepsis, Eclampsia and others)\",\"M5 [Complicated Pregnancies]\",\"1\",\"NA\",\"NA\",\"1\"],[\"Chandigarh\",\"Chandigarh\",\"zone3 Mani-Majra\",\"2019-2020\",\"February\",\"9.6.1\",\"Number of cases of AEFI - Abscess\",\"M9 [CHILD IMMUNISATION]\",\"0\",\"NA\",\"NA\",\"0\"],[\"Chandigarh\",\"Chandigarh\",\"zone3 Mani-Majra\",\"2019-2020\",\"February\",\"11.1.2.c\",\"Malaria (RDT) - Plamodium Falciparum test positive\",\"M11 [NVBDCP]\",\"0\",\"NA\",\"NA\",\"0\"],[\"Chandigarh\",\"Chandigarh\",\"zone3 Mani-Majra\",\"2019-2020\",\"February\",\"14.3.2.a\",\"Inpatient (Female)- Children<18yrs\",\"M14 [Patient Services]\",\"82\",\"NA\",\"NA\",\"82\"],[\"Chandigarh\",\"Chandigarh\",\"zone4 Polyclinic 45\",\"2019-2020\",\"February\",\"14.3.2.b\",\"Inpatient (Female)- Adults\",\"M14 [Patient Services]\",\"472\",\"NA\",\"130\",\"342\"],[\"Chandigarh\",\"Chandigarh\",\"zone4 Polyclinic 45\",\"2019-2020\",\"February\",\"14.14.2\",\"Number of children discharged with target weight gain from the NRCs\",\"M14 [Patient Services]\",\"0\",\"NA\",\"0\",\"0\"],[\"Chandigarh\",\"Chandigarh\",\"zone4 Polyclinic 45\",\"2019-2020\",\"February\",\"15.5.2\",\"Radiology - Ultrasonography (USG)\",\"M15 [Laboratory Testing]\",\"0\",\"NA\",\"0\",\"NA\"],[\"Chandigarh\",\"Chandigarh\",\"zone1 GMSH-16\",\"2019-2020\",\"February\",\"1.5.3\",\"Number of PW given insulin out of total tested positive for GDM\",\"M1 [Ante Natal Care (ANC)]\",\"0\",\"NA\",\"0\",\"0\"],[\"Chandigarh\",\"Chandigarh\",\"zone4 Polyclinic 45\",\"2019-2020\",\"February\",\"10.14\",\"Childhood Diseases - Severe Acute Malnutrition (SAM)\",\"M10 [Number of cases of Childhood Diseases (0-5 years)]\",\"2\",\"NA\",\"2\",\"0\"],[\"Chandigarh\",\"Chandigarh\",\"zone1 GMSH-16\",\"2019-2020\",\"February\",\"4.1.1.b\",\"Live Birth - Female\",\"M4 [Pregnancy outcome & details of new-born]\",\"792\",\"NA\",\"792\",\"0\"],[\"Chandigarh\",\"Chandigarh\",\"zone1 GMSH-16\",\"2019-2020\",\"February\",\"9.8.1\",\"Child immunisation - Vitamin A Dose - 1\",\"M9 [CHILD IMMUNISATION]\",\"193\",\"NA\",\"54\",\"139\"],[\"Chandigarh\",\"Chandigarh\",\"zone1 GMSH-16\",\"2019-2020\",\"February\",\"9.1.8\",\"Child immunisation - Pentavalent 3\",\"M9 [CHILD IMMUNISATION]\",\"334\",\"NA\",\"151\",\"183\"],[\"Chandigarh\",\"Chandigarh\",\"zone1 GMSH-16\",\"2019-2020\",\"February\",\"14.1.2\",\"Outpatient - Hypertension\",\"M14 [Patient Services]\",\"879\",\"NA\",\"712\",\"167\"],[\"Chandigarh\",\"Chandigarh\",\"zone1 GMSH-16\",\"2019-2020\",\"February\",\"14.12.4\",\"Outborn - Female\",\"M14 [Patient Services]\",\"10\",\"NA\",\"10\",\"NA\"],[\"Chandigarh\",\"Chandigarh\",\"zone2 CHC-22\",\"2019-2020\",\"February\",\"9.1.12\",\"Child immunisation - OPV3\",\"M9 [CHILD IMMUNISATION]\",\"359\",\"NA\",\"NA\",\"359\"],[\"Chandigarh\",\"Chandigarh\",\"zone2 CHC-22\",\"2019-2020\",\"February\",\"8.1.1\",\"Number of Non Scalpel Vasectomy (NSV) \\/ Conventional Vasectomy conducted\",\"M8 [Family Planning]\",\"0\",\"NA\",\"NA\",\"0\"],[\"Chandigarh\",\"Chandigarh\",\"zone2 CHC-22\",\"2019-2020\",\"February\",\"2.1.3\",\"Number of newborns received 7 Home Based Newborn Care (HBNC) visits in case of Home delivery\",\"M2 [Deliveries]\",\"0\",\"NA\",\"NA\",\"0\"],[\"Chandigarh\",\"Chandigarh\",\"zone2 CHC-22\",\"2019-2020\",\"February\",\"14.15\",\"Number of Rogi Kalyan Samiti (RKS) meetings held\",\"M14 [Patient Services]\",\"NA\",\"NA\",\"NA\",\"NA\"],[\"Chandigarh\",\"Chandigarh\",\"zone2 CHC-22\",\"2019-2020\",\"February\",\"16.1\",\"Infant deaths within 24 hrs(1 to 23 Hrs) of birth\",\"M16 [Details of deaths reported with probable causes:]\",\"NA\",\"NA\",\"NA\",\"NA\"],[\"Chandigarh\",\"Chandigarh\",\"zone2 CHC-22\",\"2019-2020\",\"February\",\"14.1.1\",\"Outpatient - Diabetes\",\"M14 [Patient Services]\",\"1074\",\"NA\",\"NA\",\"1074\"],[\"Chandigarh\",\"Chandigarh\",\"zone2 CHC-22\",\"2019-2020\",\"February\",\"16.7.5\",\"Number of Adolscent \\/ Adult deaths due to HIV\\/AIDS\",\"M16 [Details of deaths reported with probable causes:]\",\"NA\",\"NA\",\"NA\",\"NA\"],[\"Chandigarh\",\"Chandigarh\",\"zone2 CHC-22\",\"2019-2020\",\"February\",\"8.15\",\"Number of Emergency Contraceptive Pills (ECP) given\",\"M8 [Family Planning]\",\"23\",\"NA\",\"NA\",\"23\"],[\"Chandigarh\",\"Chandigarh\",\"zone3 Mani-Majra\",\"2019-2020\",\"February\",\"5.2\",\"Number of Complicated pregnancies treated with Blood Transfusion\",\"M5 [Complicated Pregnancies]\",\"1\",\"NA\",\"NA\",\"1\"],[\"Chandigarh\",\"Chandigarh\",\"zone3 Mani-Majra\",\"2019-2020\",\"February\",\"11.1.2.b\",\"Malaria (RDT) - Plasmodium Vivax test positive\",\"M11 [NVBDCP]\",\"0\",\"NA\",\"NA\",\"0\"],[\"Chandigarh\",\"Chandigarh\",\"zone3 Mani-Majra\",\"2019-2020\",\"February\",\"11.4.1\",\"Tests Conducted for JE\",\"M11 [NVBDCP]\",\"NA\",\"NA\",\"NA\",\"NA\"],[\"Chandigarh\",\"Chandigarh\",\"zone3 Mani-Majra\",\"2019-2020\",\"February\",\"14.1.1\",\"Outpatient - Diabetes\",\"M14 [Patient Services]\",\"738\",\"NA\",\"NA\",\"738\"],[\"Chandigarh\",\"Chandigarh\",\"zone3 Mani-Majra\",\"2019-2020\",\"February\",\"14.4.4\",\"Inpatient - Asthma, Chronic Obstructive Pulmonary Disease (COPD), Respiratory infections\",\"M14 [Patient Services]\",\"3\",\"NA\",\"NA\",\"3\"],[\"Chandigarh\",\"Chandigarh\",\"zone4 Polyclinic 45\",\"2019-2020\",\"February\",\"1.1.1\",\"Out of the total ANC registered, number registered within 1st trimester (within 12 weeks)\",\"M1 [Ante Natal Care (ANC)]\",\"583\",\"NA\",\"47\",\"536\"],[\"Chandigarh\",\"Chandigarh\",\"zone3 Mani-Majra\",\"2019-2020\",\"February\",\"16.5.1\",\"Number of Maternal Deaths due to Bleeding\",\"M16 [Details of deaths reported with probable causes:]\",\"0\",\"NA\",\"NA\",\"0\"],[\"Chandigarh\",\"Chandigarh\",\"zone3 Mani-Majra\",\"2019-2020\",\"February\",\"16.5.6\",\"Number of Maternal Deaths due to Other Causes (including causes not known)\",\"M16 [Details of deaths reported with probable causes:]\",\"0\",\"NA\",\"NA\",\"0\"],[\"Chandigarh\",\"Chandigarh\",\"zone4 Polyclinic 45\",\"2019-2020\",\"February\",\"6.4\",\"Number of mothers provided 360 Calcium tablets after delivery\",\"M6 [Post Natal Care (PNC)]\",\"355\",\"NA\",\"30\",\"325\"],[\"Chandigarh\",\"Chandigarh\",\"zone4 Polyclinic 45\",\"2019-2020\",\"February\",\"8.3\",\"Number of Interval IUCD Insertions (excluding PPIUCD and PAIUCD)\",\"M8 [Family Planning]\",\"52\",\"NA\",\"0\",\"52\"],[\"Chandigarh\",\"Chandigarh\",\"zone4 Polyclinic 45\",\"2019-2020\",\"February\",\"9.11\",\"Number of severely underweight children provided Health Checkup (0-5 yrs)\",\"M9 [CHILD IMMUNISATION]\",\"4\",\"NA\",\"4\",\"0\"],[\"Chandigarh\",\"Chandigarh\",\"zone4 Polyclinic 45\",\"2019-2020\",\"February\",\"16.6\",\"Total Facility Based Maternal Death Reviews (FBMDR) done\",\"M16 [Details of deaths reported with probable causes:]\",\"0\",\"NA\",\"0\",\"0\"],[\"Chandigarh\",\"Chandigarh\",\"zone4 Polyclinic 45\",\"2019-2020\",\"February\",\"16.8.6\",\"Number of Deaths due to Japanese  Encephalitis (JE)\",\"M16 [Details of deaths reported with probable causes:]\",\"0\",\"NA\",\"0\",\"0\"],[\"Chandigarh\",\"Chandigarh\",\"zone4 Polyclinic 45\",\"2019-2020\",\"February\",\"15.3.3.c\",\"Out of the above number screened positive, number confirmed with HIV infection at Integrated Counselling and Testing Centre (ICTC)\",\"M15 [Laboratory Testing]\",\"0\",\"NA\",\"NA\",\"0\"],[\"Chandigarh\",\"Chandigarh\",\"zone1 GMSH-16\",\"2019-2020\",\"February\",\"9.1.3\",\"Child immunisation - DPT1\",\"M9 [CHILD IMMUNISATION]\",\"0\",\"NA\",\"0\",\"0\"],[\"Chandigarh\",\"Chandigarh\",\"zone1 GMSH-16\",\"2019-2020\",\"February\",\"9.5.3\",\"Children more than 10 years received TT10\",\"M9 [CHILD IMMUNISATION]\",\"137\",\"NA\",\"63\",\"74\"],[\"Chandigarh\",\"Chandigarh\",\"zone1 GMSH-16\",\"2019-2020\",\"February\",\"10.1\",\"Childhood Diseases - Pneumonia\",\"M10 [Number of cases of Childhood Diseases (0-5 years)]\",\"288\",\"NA\",\"262\",\"26\"],[\"Chandigarh\",\"Chandigarh\",\"zone1 GMSH-16\",\"2019-2020\",\"February\",\"14.3.3\",\"Number of Left Against Medical Advice (LAMA) cases\",\"M14 [Patient Services]\",\"459\",\"NA\",\"459\",\"NA\"],[\"Chandigarh\",\"Chandigarh\",\"zone1 GMSH-16\",\"2019-2020\",\"February\",\"14.4.1\",\"Inpatient - Malaria\",\"M14 [Patient Services]\",\"0\",\"NA\",\"0\",\"NA\"],[\"Chandigarh\",\"Chandigarh\",\"zone1 GMSH-16\",\"2019-2020\",\"February\",\"16.5.5\",\"Number of Maternal Deaths due to Severe hypertesnion\\/fits\",\"M16 [Details of deaths reported with probable causes:]\",\"0\",\"NA\",\"0\",\"NA\"],[\"Chandigarh\",\"Chandigarh\",\"zone2 CHC-22\",\"2019-2020\",\"February\",\"2.1.1.a\",\"Number of Home Deliveries attended by Skill Birth Attendant(SBA) (Doctor\\/Nurse\\/ANM)\",\"M2 [Deliveries]\",\"0\",\"NA\",\"NA\",\"0\"],[\"Chandigarh\",\"Chandigarh\",\"zone2 CHC-22\",\"2019-2020\",\"February\",\"8.2.3\",\"Number of Postpartum sterilizations (within 7 days of delivery by minilap or concurrent with caesarean section) conducted\",\"M8 [Family Planning]\",\"6\",\"NA\",\"NA\",\"6\"],[\"Chandigarh\",\"Chandigarh\",\"zone2 CHC-22\",\"2019-2020\",\"February\",\"1.5.2\",\"Number of PW tested positive for GDM\",\"M1 [Ante Natal Care (ANC)]\",\"9\",\"NA\",\"NA\",\"9\"],[\"Chandigarh\",\"Chandigarh\",\"zone2 CHC-22\",\"2019-2020\",\"February\",\"10.7\",\"Childhood Diseases - Tuberculosis (TB)\",\"M10 [Number of cases of Childhood Diseases (0-5 years)]\",\"0\",\"NA\",\"NA\",\"0\"],[\"Chandigarh\",\"Chandigarh\",\"zone2 CHC-22\",\"2019-2020\",\"February\",\"9.6.3\",\"Number of cases of AEFI - Others\",\"M9 [CHILD IMMUNISATION]\",\"1\",\"NA\",\"NA\",\"1\"],[\"Chandigarh\",\"Chandigarh\",\"zone2 CHC-22\",\"2019-2020\",\"February\",\"16.7.10\",\"Number of Adolscent \\/ Adult deaths due to Suicide\",\"M16 [Details of deaths reported with probable causes:]\",\"NA\",\"NA\",\"NA\",\"NA\"],[\"Chandigarh\",\"Chandigarh\",\"zone2 CHC-22\",\"2019-2020\",\"February\",\"16.7.14\",\"Number of Adolscent \\/ Adult deaths due to Causes not known\",\"M16 [Details of deaths reported with probable causes:]\",\"NA\",\"NA\",\"NA\",\"NA\"],[\"Chandigarh\",\"Chandigarh\",\"zone2 CHC-22\",\"2019-2020\",\"February\",\"14.9.1\",\"Inpatient Deaths - Male\",\"M14 [Patient Services]\",\"0\",\"NA\",\"NA\",\"0\"],[\"Chandigarh\",\"Chandigarh\",\"zone3 Mani-Majra\",\"2019-2020\",\"February\",\"1.2.7\",\"Number of PW received 4 or more ANC check ups\",\"M1 [Ante Natal Care (ANC)]\",\"401\",\"NA\",\"NA\",\"401\"],[\"Chandigarh\",\"Chandigarh\",\"zone3 Mani-Majra\",\"2019-2020\",\"February\",\"14.8.7\",\"Number of blood transfusions done\",\"M14 [Patient Services]\",\"8\",\"NA\",\"NA\",\"8\"],[\"Chandigarh\",\"Chandigarh\",\"zone3 Mani-Majra\",\"2019-2020\",\"February\",\"14.4.8\",\"Inpatient - Hepatitis\",\"M14 [Patient Services]\",\"6\",\"NA\",\"NA\",\"6\"],[\"Chandigarh\",\"Chandigarh\",\"zone3 Mani-Majra\",\"2019-2020\",\"February\",\"14.13\",\"Number of deaths occurring at SNCU\",\"M14 [Patient Services]\",\"0\",\"NA\",\"NA\",\"0\"],[\"Chandigarh\",\"Chandigarh\",\"zone3 Mani-Majra\",\"2019-2020\",\"February\",\"15.4.2\",\"Widal tests - Number Positive\",\"M15 [Laboratory Testing]\",\"28\",\"NA\",\"NA\",\"28\"],[\"Chandigarh\",\"Chandigarh\",\"zone4 Polyclinic 45\",\"2019-2020\",\"February\",\"1.6.2.e\",\"Number of babies treated for congenital Syphilis\",\"M1 [Ante Natal Care (ANC)]\",\"0\",\"NA\",\"0\",\"0\"],[\"Chandigarh\",\"Chandigarh\",\"zone3 Mani-Majra\",\"2019-2020\",\"February\",\"16.7.7\",\"Number of Adolscent \\/ Adult deaths due to Cancer\",\"M16 [Details of deaths reported with probable causes:]\",\"0\",\"NA\",\"NA\",\"0\"],[\"Chandigarh\",\"Chandigarh\",\"zone3 Mani-Majra\",\"2019-2020\",\"February\",\"16.7.8\",\"Number of Adolscent \\/ Adult deaths due to Neurological disease including strokes\",\"M16 [Details of deaths reported with probable causes:]\",\"0\",\"NA\",\"NA\",\"0\"],[\"Chandigarh\",\"Chandigarh\",\"zone4 Polyclinic 45\",\"2019-2020\",\"February\",\"9.7.3\",\"Number of Immunisation sessions where ASHAs were present\",\"M9 [CHILD IMMUNISATION]\",\"0\",\"NA\",\"NA\",\"0\"],[\"Chandigarh\",\"Chandigarh\",\"zone4 Polyclinic 45\",\"2019-2020\",\"February\",\"10.2\",\"Childhood Diseases - Asthma\",\"M10 [Number of cases of Childhood Diseases (0-5 years)]\",\"12\",\"NA\",\"9\",\"3\"],[\"Chandigarh\",\"Chandigarh\",\"zone4 Polyclinic 45\",\"2019-2020\",\"February\",\"14.20\",\"Patient Satisfaction Score of the facility in percentage (from Mera Aspatal)\",\"M14 [Patient Services]\",\"0\",\"NA\",\"0\",\"NA\"],[\"Chandigarh\",\"Chandigarh\",\"zone1 GMSH-16\",\"2019-2020\",\"February\",\"12.1.1.a\",\"Girls registered in AFHC\",\"M12 [Adolscent Health]\",\"123\",\"NA\",\"52\",\"71\"],[\"Chandigarh\",\"Chandigarh\",\"zone1 GMSH-16\",\"2019-2020\",\"February\",\"8.17.3\",\"Failures following male sterilization\",\"M8 [Family Planning]\",\"0\",\"NA\",\"0\",\"NA\"],[\"Chandigarh\",\"Chandigarh\",\"zone1 GMSH-16\",\"2019-2020\",\"February\",\"5.1\",\"Number of cases of pregnant women with Obstetric Complications attended (Antepartum haemorrhage (APH), Post-Partum Hemorrhage (PPH), Sepsis, Eclampsia and others)\",\"M5 [Complicated Pregnancies]\",\"447\",\"NA\",\"447\",\"NA\"],[\"Chandigarh\",\"Chandigarh\",\"zone1 GMSH-16\",\"2019-2020\",\"February\",\"15.2.2\",\"Out of the total number of Hb tests done, Number having Hb < 7 mg\",\"M15 [Laboratory Testing]\",\"4503\",\"NA\",\"4502\",\"1\"],[\"Chandigarh\",\"Chandigarh\",\"zone1 GMSH-16\",\"2019-2020\",\"February\",\"15.3.4.d\",\"Number of Female (Non ANC) STI\\/RTI attendees found sero Positive for syphilis\",\"M15 [Laboratory Testing]\",\"0\",\"NA\",\"0\",\"0\"],[\"Chandigarh\",\"Chandigarh\",\"zone1 GMSH-16\",\"2019-2020\",\"February\",\"16.2.1\",\"Infant Deaths up to 4 weeks due to Sepsis\",\"M16 [Details of deaths reported with probable causes:]\",\"5\",\"NA\",\"5\",\"NA\"],[\"Chandigarh\",\"Chandigarh\",\"zone2 CHC-22\",\"2019-2020\",\"February\",\"6.3\",\"Number of mothers provided full course of 180 IFA tablets after delivery\",\"M6 [Post Natal Care (PNC)]\",\"548\",\"NA\",\"NA\",\"548\"],[\"Chandigarh\",\"Chandigarh\",\"zone1 GMSH-16\",\"2019-2020\",\"February\",\"16.8.1\",\"Number of Deaths due to Malaria- Plasmodium Vivax\",\"M16 [Details of deaths reported with probable causes:]\",\"0\",\"NA\",\"0\",\"NA\"],[\"Chandigarh\",\"Chandigarh\",\"zone2 CHC-22\",\"2019-2020\",\"February\",\"8.4\",\"Number of Postpartum (within 48 hours of delivery) IUCD insertions\",\"M8 [Family Planning]\",\"17\",\"NA\",\"NA\",\"17\"],[\"Chandigarh\",\"Chandigarh\",\"zone2 CHC-22\",\"2019-2020\",\"February\",\"9.1.14\",\"Child immunisation - Hepatitis-B1\",\"M9 [CHILD IMMUNISATION]\",\"0\",\"NA\",\"NA\",\"0\"],[\"Chandigarh\",\"Chandigarh\",\"zone2 CHC-22\",\"2019-2020\",\"February\",\"11.1.2.b\",\"Malaria (RDT) - Plasmodium Vivax test positive\",\"M11 [NVBDCP]\",\"0\",\"NA\",\"NA\",\"0\"],[\"Chandigarh\",\"Chandigarh\",\"zone2 CHC-22\",\"2019-2020\",\"February\",\"14.12.1\",\"Special Newborn Care Unit (SNCU Admissions) - Inborn Male\",\"M14 [Patient Services]\",\"NA\",\"NA\",\"NA\",\"NA\"],[\"Chandigarh\",\"Chandigarh\",\"zone3 Mani-Majra\",\"2019-2020\",\"February\",\"1.3.1.a\",\"Out of the new cases of PW with hypertension detected, cases managed at institution\",\"M1 [Ante Natal Care (ANC)]\",\"8\",\"NA\",\"NA\",\"8\"],[\"Chandigarh\",\"Chandigarh\",\"zone3 Mani-Majra\",\"2019-2020\",\"February\",\"6.4\",\"Number of mothers provided 360 Calcium tablets after delivery\",\"M6 [Post Natal Care (PNC)]\",\"380\",\"NA\",\"NA\",\"380\"],[\"Chandigarh\",\"Chandigarh\",\"zone3 Mani-Majra\",\"2019-2020\",\"February\",\"14.2.1\",\"Allopathic- Outpatient attendance\",\"M14 [Patient Services]\",\"55174\",\"NA\",\"NA\",\"55174\"],[\"Chandigarh\",\"Chandigarh\",\"zone3 Mani-Majra\",\"2019-2020\",\"February\",\"16.3.4\",\"Number of Infant Deaths (1 -12 months) due to Measles\",\"M16 [Details of deaths reported with probable causes:]\",\"0\",\"NA\",\"NA\",\"0\"],[\"Chandigarh\",\"Chandigarh\",\"zone3 Mani-Majra\",\"2019-2020\",\"February\",\"15.3.3.a\",\"Number of pregnant women screened for HIV\",\"M15 [Laboratory Testing]\",\"485\",\"NA\",\"NA\",\"485\"],[\"Chandigarh\",\"Chandigarh\",\"zone3 Mani-Majra\",\"2019-2020\",\"February\",\"14.9.1\",\"Inpatient Deaths - Male\",\"M14 [Patient Services]\",\"0\",\"NA\",\"NA\",\"0\"],[\"Chandigarh\",\"Chandigarh\",\"zone3 Mani-Majra\",\"2019-2020\",\"February\",\"16.7.6\",\"Number of Adolscent \\/ Adult deaths due to Heart disease\\/Hypertension related\",\"M16 [Details of deaths reported with probable causes:]\",\"0\",\"NA\",\"NA\",\"0\"],[\"Chandigarh\",\"Chandigarh\",\"zone4 Polyclinic 45\",\"2019-2020\",\"February\",\"1.6.1.b\",\"Out of above, number of PW found sero positive for syphilis\",\"M1 [Ante Natal Care (ANC)]\",\"NA\",\"NA\",\"NA\",\"NA\"],[\"Chandigarh\",\"Chandigarh\",\"zone1 GMSH-16\",\"2019-2020\",\"February\",\"1.6.2.a\",\"Number of pregnant women tested  for Syphilis\",\"M1 [Ante Natal Care (ANC)]\",\"1558\",\"NA\",\"1496\",\"62\"],[\"Chandigarh\",\"Chandigarh\",\"zone1 GMSH-16\",\"2019-2020\",\"February\",\"2.1.1.a\",\"Number of Home Deliveries attended by Skill Birth Attendant(SBA) (Doctor\\/Nurse\\/ANM)\",\"M2 [Deliveries]\",\"0\",\"NA\",\"NA\",\"0\"],[\"Chandigarh\",\"Chandigarh\",\"zone1 GMSH-16\",\"2019-2020\",\"February\",\"9.2.4.a\",\"Children aged between 9 and 11 months fully immunized- Male\",\"M9 [CHILD IMMUNISATION]\",\"117\",\"NA\",\"44\",\"73\"],[\"Chandigarh\",\"Chandigarh\",\"zone1 GMSH-16\",\"2019-2020\",\"February\",\"14.9.1\",\"Inpatient Deaths - Male\",\"M14 [Patient Services]\",\"257\",\"NA\",\"257\",\"NA\"],[\"Chandigarh\",\"Chandigarh\",\"zone1 GMSH-16\",\"2019-2020\",\"February\",\"14.8.2\",\"Out of Operation major, Gynecology- Hysterectomy surgeries\",\"M14 [Patient Services]\",\"6\",\"NA\",\"6\",\"NA\"],[\"Chandigarh\",\"Chandigarh\",\"zone1 GMSH-16\",\"2019-2020\",\"February\",\"16.3.5\",\"Number of Infant Deaths (1 -12 months) due to Others\",\"M16 [Details of deaths reported with probable causes:]\",\"45\",\"NA\",\"45\",\"NA\"],[\"Chandigarh\",\"Chandigarh\",\"zone1 GMSH-16\",\"2019-2020\",\"February\",\"14.3.1.a\",\"Inpatient (Male)- Children<18yrs\",\"M14 [Patient Services]\",\"1988\",\"NA\",\"1988\",\"NA\"],[\"Chandigarh\",\"Chandigarh\",\"zone1 GMSH-16\",\"2019-2020\",\"February\",\"14.6.1\",\"Emergency - Trauma ( accident, injury, poisoning etc)\",\"M14 [Patient Services]\",\"631\",\"NA\",\"631\",\"NA\"],[\"Chandigarh\",\"Chandigarh\",\"zone1 GMSH-16\",\"2019-2020\",\"February\",\"16.8.2\",\"Number of Deaths due to Malaria- Plasmodium Falciparum\",\"M16 [Details of deaths reported with probable causes:]\",\"0\",\"NA\",\"0\",\"NA\"],[\"Chandigarh\",\"Chandigarh\",\"zone2 CHC-22\",\"2019-2020\",\"February\",\"8.10\",\"Injectable Contraceptive-Antara Program- Third Dose\",\"M8 [Family Planning]\",\"7\",\"NA\",\"NA\",\"7\"],[\"Chandigarh\",\"Chandigarh\",\"zone2 CHC-22\",\"2019-2020\",\"February\",\"9.1.11\",\"Child immunisation - OPV2\",\"M9 [CHILD IMMUNISATION]\",\"331\",\"NA\",\"NA\",\"331\"],[\"Chandigarh\",\"Chandigarh\",\"zone3 Mani-Majra\",\"2019-2020\",\"February\",\"1.2.4\",\"Number of PW given 180 Iron Folic Acid (IFA) tablets\",\"M1 [Ante Natal Care (ANC)]\",\"420\",\"NA\",\"NA\",\"420\"],[\"Chandigarh\",\"Chandigarh\",\"zone3 Mani-Majra\",\"2019-2020\",\"February\",\"14.3.1.a\",\"Inpatient (Male)- Children<18yrs\",\"M14 [Patient Services]\",\"121\",\"NA\",\"NA\",\"121\"],[\"Chandigarh\",\"Chandigarh\",\"zone3 Mani-Majra\",\"2019-2020\",\"February\",\"16.7.13\",\"Number of Adolscent \\/ Adult deaths due to Known Chronic Disease\",\"M16 [Details of deaths reported with probable causes:]\",\"0\",\"NA\",\"NA\",\"0\"],[\"Chandigarh\",\"Chandigarh\",\"zone4 Polyclinic 45\",\"2019-2020\",\"February\",\"3.1.1\",\"C-sections, performed at night (8 PM- 8 AM)\",\"M3 [Number of Caesarean (C-Section) deliveries]\",\"3\",\"NA\",\"1\",\"2\"],[\"Chandigarh\",\"Chandigarh\",\"zone4 Polyclinic 45\",\"2019-2020\",\"February\",\"14.2.1\",\"Allopathic- Outpatient attendance\",\"M14 [Patient Services]\",\"61607\",\"NA\",\"16170\",\"45437\"],[\"Chandigarh\",\"Chandigarh\",\"zone4 Polyclinic 45\",\"2019-2020\",\"February\",\"8.13\",\"Number of Condom pieces distributed\",\"M8 [Family Planning]\",\"41740\",\"NA\",\"380\",\"41360\"],[\"Chandigarh\",\"Chandigarh\",\"zone4 Polyclinic 45\",\"2019-2020\",\"February\",\"16.7.13\",\"Number of Adolscent \\/ Adult deaths due to Known Chronic Disease\",\"M16 [Details of deaths reported with probable causes:]\",\"0\",\"NA\",\"0\",\"0\"],[\"Chandigarh\",\"Chandigarh\",\"zone4 Polyclinic 45\",\"2019-2020\",\"February\",\"16.8.2\",\"Number of Deaths due to Malaria- Plasmodium Falciparum\",\"M16 [Details of deaths reported with probable causes:]\",\"0\",\"NA\",\"0\",\"0\"],[\"Chandigarh\",\"Chandigarh\",\"zone1 GMSH-16\",\"2019-2020\",\"February\",\"4.2\",\"Abortion (spontaneous)\",\"M4 [Pregnancy outcome & details of new-born]\",\"71\",\"NA\",\"71\",\"0\"],[\"Chandigarh\",\"Chandigarh\",\"zone1 GMSH-16\",\"2019-2020\",\"February\",\"14.2.2\",\"Ayush - Outpatient attendance\",\"M14 [Patient Services]\",\"3027\",\"NA\",\"461\",\"2566\"],[\"Chandigarh\",\"Chandigarh\",\"zone1 GMSH-16\",\"2019-2020\",\"February\",\"10.6\",\"Childhood Diseases - Tetanus Neonatorum\",\"M10 [Number of cases of Childhood Diseases (0-5 years)]\",\"0\",\"NA\",\"0\",\"0\"],[\"Chandigarh\",\"Chandigarh\",\"zone1 GMSH-16\",\"2019-2020\",\"February\",\"14.1.1\",\"Outpatient - Diabetes\",\"M14 [Patient Services]\",\"1247\",\"NA\",\"1101\",\"146\"],[\"Chandigarh\",\"Chandigarh\",\"zone1 GMSH-16\",\"2019-2020\",\"February\",\"12.1.3.b\",\"Out of registered, Boys received counselling\",\"M12 [Adolscent Health]\",\"89\",\"NA\",\"43\",\"46\"],[\"Chandigarh\",\"Chandigarh\",\"zone1 GMSH-16\",\"2019-2020\",\"February\",\"15.3.2.b\",\"Female Non ANC HIV - Number Positive\",\"M15 [Laboratory Testing]\",\"6\",\"NA\",\"6\",\"0\"],[\"Chandigarh\",\"Chandigarh\",\"zone1 GMSH-16\",\"2019-2020\",\"February\",\"16.7.11\",\"Number of Adolscent \\/ Adult deaths due to Animal bites and stings\",\"M16 [Details of deaths reported with probable causes:]\",\"0\",\"NA\",\"0\",\"NA\"],[\"Chandigarh\",\"Chandigarh\",\"zone2 CHC-22\",\"2019-2020\",\"February\",\"8.17.1\",\"Complications following male sterilization\",\"M8 [Family Planning]\",\"0\",\"NA\",\"NA\",\"0\"],[\"Chandigarh\",\"Chandigarh\",\"zone2 CHC-22\",\"2019-2020\",\"February\",\"14.4.7\",\"Inpatient - Diarrhea with dehydration\",\"M14 [Patient Services]\",\"4\",\"NA\",\"NA\",\"4\"],[\"Chandigarh\",\"Chandigarh\",\"zone2 CHC-22\",\"2019-2020\",\"February\",\"14.1.8\",\"Outpatient - Dental\",\"M14 [Patient Services]\",\"3048\",\"NA\",\"NA\",\"3048\"],[\"Chandigarh\",\"Chandigarh\",\"zone2 CHC-22\",\"2019-2020\",\"February\",\"15.3.3.a\",\"Number of pregnant women screened for HIV\",\"M15 [Laboratory Testing]\",\"456\",\"NA\",\"NA\",\"456\"],[\"Chandigarh\",\"Chandigarh\",\"zone2 CHC-22\",\"2019-2020\",\"February\",\"14.8.3\",\"Major Surgeries excluding Obstetrics, Gynaecology and Opthalmology etc.\",\"M14 [Patient Services]\",\"NA\",\"NA\",\"NA\",\"NA\"],[\"Chandigarh\",\"Chandigarh\",\"zone2 CHC-22\",\"2019-2020\",\"February\",\"16.7.4\",\"Number of Adolscent \\/ Adult deaths due to Other Fever Related\",\"M16 [Details of deaths reported with probable causes:]\",\"NA\",\"NA\",\"NA\",\"NA\"],[\"Chandigarh\",\"Chandigarh\",\"zone2 CHC-22\",\"2019-2020\",\"February\",\"16.7.9\",\"Number of Adolscent \\/ Adult deaths due to Accidents\\/Burn cases\",\"M16 [Details of deaths reported with probable causes:]\",\"NA\",\"NA\",\"NA\",\"NA\"],[\"Chandigarh\",\"Chandigarh\",\"zone2 CHC-22\",\"2019-2020\",\"February\",\"16.8.4\",\"Number of Deaths due to Dengue\",\"M16 [Details of deaths reported with probable causes:]\",\"NA\",\"NA\",\"NA\",\"NA\"],[\"Chandigarh\",\"Chandigarh\",\"zone3 Mani-Majra\",\"2019-2020\",\"February\",\"4.1.2\",\"Number of Pre term newborns ( < 37 weeks of pregnancy)\",\"M4 [Pregnancy outcome & details of new-born]\",\"12\",\"NA\",\"NA\",\"12\"],[\"Chandigarh\",\"Chandigarh\",\"zone3 Mani-Majra\",\"2019-2020\",\"February\",\"3.1.1\",\"C-sections, performed at night (8 PM- 8 AM)\",\"M3 [Number of Caesarean (C-Section) deliveries]\",\"0\",\"NA\",\"NA\",\"0\"],[\"Chandigarh\",\"Chandigarh\",\"zone3 Mani-Majra\",\"2019-2020\",\"February\",\"9.1.15\",\"Child immunisation - Hepatitis-B2\",\"M9 [CHILD IMMUNISATION]\",\"0\",\"NA\",\"NA\",\"0\"],[\"Chandigarh\",\"Chandigarh\",\"zone3 Mani-Majra\",\"2019-2020\",\"February\",\"9.2.3\",\"Child immunisation (9-11months) - JE 1st dose\",\"M9 [CHILD IMMUNISATION]\",\"NA\",\"NA\",\"NA\",\"NA\"],[\"Chandigarh\",\"Chandigarh\",\"zone3 Mani-Majra\",\"2019-2020\",\"February\",\"9.8.1\",\"Child immunisation - Vitamin A Dose - 1\",\"M9 [CHILD IMMUNISATION]\",\"212\",\"NA\",\"NA\",\"212\"],[\"Chandigarh\",\"Chandigarh\",\"zone3 Mani-Majra\",\"2019-2020\",\"February\",\"9.8.2\",\"Child immunisation - Vitamin A Dose - 5\",\"M9 [CHILD IMMUNISATION]\",\"283\",\"NA\",\"NA\",\"283\"],[\"Chandigarh\",\"Chandigarh\",\"zone3 Mani-Majra\",\"2019-2020\",\"February\",\"10.4\",\"Childhood Diseases - Diphtheria\",\"M10 [Number of cases of Childhood Diseases (0-5 years)]\",\"0\",\"NA\",\"NA\",\"0\"],[\"Chandigarh\",\"Chandigarh\",\"zone4 Polyclinic 45\",\"2019-2020\",\"February\",\"8.2.1\",\"Number of Laparoscopic sterilizations (excluding post abortion) conducted\",\"M8 [Family Planning]\",\"0\",\"NA\",\"0\",\"0\"],[\"Chandigarh\",\"Chandigarh\",\"zone3 Mani-Majra\",\"2019-2020\",\"February\",\"16.7.14\",\"Number of Adolscent \\/ Adult deaths due to Causes not known\",\"M16 [Details of deaths reported with probable causes:]\",\"0\",\"NA\",\"NA\",\"0\"],[\"Chandigarh\",\"Chandigarh\",\"zone4 Polyclinic 45\",\"2019-2020\",\"February\",\"9.10\",\"Number of children (12-59 months) provided Albendazole\",\"M9 [CHILD IMMUNISATION]\",\"483\",\"NA\",\"38\",\"445\"],[\"Chandigarh\",\"Chandigarh\",\"zone4 Polyclinic 45\",\"2019-2020\",\"February\",\"9.3.1\",\"Child immunisation - Measles & Rubella (MR)- 1st Dose\",\"M9 [CHILD IMMUNISATION]\",\"10\",\"NA\",\"NA\",\"10\"],[\"Chandigarh\",\"Chandigarh\",\"zone4 Polyclinic 45\",\"2019-2020\",\"February\",\"14.1.5\",\"Outpatient - Mental illness\",\"M14 [Patient Services]\",\"7\",\"NA\",\"2\",\"5\"],[\"Chandigarh\",\"Chandigarh\",\"zone1 GMSH-16\",\"2019-2020\",\"February\",\"1.6.2.e\",\"Number of babies treated for congenital Syphilis\",\"M1 [Ante Natal Care (ANC)]\",\"0\",\"NA\",\"0\",\"0\"],[\"Chandigarh\",\"Chandigarh\",\"zone4 Polyclinic 45\",\"2019-2020\",\"February\",\"15.3.4.d\",\"Number of Female (Non ANC) STI\\/RTI attendees found sero Positive for syphilis\",\"M15 [Laboratory Testing]\",\"0\",\"NA\",\"0\",\"0\"],[\"Chandigarh\",\"Chandigarh\",\"zone1 GMSH-16\",\"2019-2020\",\"February\",\"9.1.14\",\"Child immunisation - Hepatitis-B1\",\"M9 [CHILD IMMUNISATION]\",\"72\",\"NA\",\"72\",\"NA\"],[\"Chandigarh\",\"Chandigarh\",\"zone1 GMSH-16\",\"2019-2020\",\"February\",\"14.4.2\",\"Inpatient - Dengue\",\"M14 [Patient Services]\",\"0\",\"NA\",\"0\",\"NA\"],[\"Chandigarh\",\"Chandigarh\",\"zone1 GMSH-16\",\"2019-2020\",\"February\",\"14.12.3\",\"Outborn \\u2013 Male\",\"M14 [Patient Services]\",\"13\",\"NA\",\"13\",\"NA\"],[\"Chandigarh\",\"Chandigarh\",\"zone1 GMSH-16\",\"2019-2020\",\"February\",\"11.1.2.b\",\"Malaria (RDT) - Plasmodium Vivax test positive\",\"M11 [NVBDCP]\",\"0\",\"NA\",\"0\",\"NA\"],[\"Chandigarh\",\"Chandigarh\",\"zone2 CHC-22\",\"2019-2020\",\"February\",\"1.2.7\",\"Number of PW received 4 or more ANC check ups\",\"M1 [Ante Natal Care (ANC)]\",\"698\",\"NA\",\"NA\",\"698\"],[\"Chandigarh\",\"Chandigarh\",\"zone1 GMSH-16\",\"2019-2020\",\"February\",\"16.7.7\",\"Number of Adolscent \\/ Adult deaths due to Cancer\",\"M16 [Details of deaths reported with probable causes:]\",\"28\",\"NA\",\"28\",\"NA\"],[\"Chandigarh\",\"Chandigarh\",\"zone2 CHC-22\",\"2019-2020\",\"February\",\"4.2\",\"Abortion (spontaneous)\",\"M4 [Pregnancy outcome & details of new-born]\",\"43\",\"NA\",\"NA\",\"43\"],[\"Chandigarh\",\"Chandigarh\",\"zone2 CHC-22\",\"2019-2020\",\"February\",\"9.1.15\",\"Child immunisation - Hepatitis-B2\",\"M9 [CHILD IMMUNISATION]\",\"0\",\"NA\",\"NA\",\"0\"],[\"Chandigarh\",\"Chandigarh\",\"zone2 CHC-22\",\"2019-2020\",\"February\",\"9.2.3\",\"Child immunisation (9-11months) - JE 1st dose\",\"M9 [CHILD IMMUNISATION]\",\"0\",\"NA\",\"NA\",\"0\"],[\"Chandigarh\",\"Chandigarh\",\"zone2 CHC-22\",\"2019-2020\",\"February\",\"14.16\",\"Number of Anganwadi centres\\/ UPHCs reported to have conducted Village Health & Nutrition Day (VHNDs)\\/ Urban Health & Nutrition Day (UHNDs)\\/ Outreach \\/ Special Outreach\",\"M14 [Patient Services]\",\"NA\",\"NA\",\"NA\",\"NA\"],[\"Chandigarh\",\"Chandigarh\",\"zone2 CHC-22\",\"2019-2020\",\"February\",\"14.19\",\"Total number of blood units issued in year\",\"M14 [Patient Services]\",\"NA\",\"NA\",\"NA\",\"NA\"],[\"Chandigarh\",\"Chandigarh\",\"zone2 CHC-22\",\"2019-2020\",\"February\",\"14.5\",\"Patients registered at Emergency Department\",\"M14 [Patient Services]\",\"62\",\"NA\",\"NA\",\"62\"],[\"Chandigarh\",\"Chandigarh\",\"zone2 CHC-22\",\"2019-2020\",\"February\",\"15.4.2\",\"Widal tests - Number Positive\",\"M15 [Laboratory Testing]\",\"13\",\"NA\",\"NA\",\"13\"],[\"Chandigarh\",\"Chandigarh\",\"zone2 CHC-22\",\"2019-2020\",\"February\",\"15.3.4.c\",\"Number of Female (Non ANC)STI\\/RTI attendees tested for syphilis\",\"M15 [Laboratory Testing]\",\"27\",\"NA\",\"NA\",\"27\"],[\"Chandigarh\",\"Chandigarh\",\"zone3 Mani-Majra\",\"2019-2020\",\"February\",\"1.6.2.c\",\"Number of syphilis positive pregnant women treated for Syphilis\",\"M1 [Ante Natal Care (ANC)]\",\"0\",\"NA\",\"NA\",\"0\"],[\"Chandigarh\",\"Chandigarh\",\"zone2 CHC-22\",\"2019-2020\",\"February\",\"8.13\",\"Number of Condom pieces distributed\",\"M8 [Family Planning]\",\"32260\",\"NA\",\"NA\",\"32260\"],[\"Chandigarh\",\"Chandigarh\",\"zone3 Mani-Majra\",\"2019-2020\",\"February\",\"2.2.1\",\"Out of total institutional deliveries number of women discharged within 48 hours of delivery\",\"M2 [Deliveries]\",\"0\",\"NA\",\"NA\",\"0\"],[\"Chandigarh\",\"Chandigarh\",\"zone2 CHC-22\",\"2019-2020\",\"February\",\"16.7.1\",\"Number of Adolscent \\/ Adult deaths due to Diarrhoeal diseases\",\"M16 [Details of deaths reported with probable causes:]\",\"NA\",\"NA\",\"NA\",\"NA\"],[\"Chandigarh\",\"Chandigarh\",\"zone2 CHC-22\",\"2019-2020\",\"February\",\"16.5.1\",\"Number of Maternal Deaths due to Bleeding\",\"M16 [Details of deaths reported with probable causes:]\",\"NA\",\"NA\",\"NA\",\"NA\"],[\"Chandigarh\",\"Chandigarh\",\"zone3 Mani-Majra\",\"2019-2020\",\"February\",\"7.2.1\",\"RTI\\/STI for which treatment initiated - Male\",\"M7 [Reproductive Tract Infections\\/Sexually Transmitted Infections (RTI\\/STI) Cases]\",\"41\",\"NA\",\"NA\",\"41\"],[\"Chandigarh\",\"Chandigarh\",\"zone3 Mani-Majra\",\"2019-2020\",\"February\",\"9.1.13\",\"Child immunisation - Hepatitis-B0 (Birth Dose)\",\"M9 [CHILD IMMUNISATION]\",\"150\",\"NA\",\"NA\",\"150\"],[\"Chandigarh\",\"Chandigarh\",\"zone3 Mani-Majra\",\"2019-2020\",\"February\",\"8.5\",\"Number of Post Abortion (within 12 days of spontaneous or surgical abortion) IUCD insertions\",\"M8 [Family Planning]\",\"0\",\"NA\",\"NA\",\"0\"],[\"Chandigarh\",\"Chandigarh\",\"zone3 Mani-Majra\",\"2019-2020\",\"February\",\"10.11\",\"Childhood Diseases - Diarrhoea\",\"M10 [Number of cases of Childhood Diseases (0-5 years)]\",\"139\",\"NA\",\"NA\",\"139\"],[\"Chandigarh\",\"Chandigarh\",\"zone3 Mani-Majra\",\"2019-2020\",\"February\",\"14.8.3\",\"Major Surgeries excluding Obstetrics, Gynaecology and Opthalmology etc.\",\"M14 [Patient Services]\",\"NA\",\"NA\",\"NA\",\"NA\"],[\"Chandigarh\",\"Chandigarh\",\"zone3 Mani-Majra\",\"2019-2020\",\"February\",\"14.20\",\"Patient Satisfaction Score of the facility in percentage (from Mera Aspatal)\",\"M14 [Patient Services]\",\"NA\",\"NA\",\"NA\",\"NA\"],[\"Chandigarh\",\"Chandigarh\",\"zone3 Mani-Majra\",\"2019-2020\",\"February\",\"16.8.3\",\"Number of Deaths due to Kala Azar\",\"M16 [Details of deaths reported with probable causes:]\",\"0\",\"NA\",\"NA\",\"0\"],[\"Chandigarh\",\"Chandigarh\",\"zone4 Polyclinic 45\",\"2019-2020\",\"February\",\"8.1.1\",\"Number of Non Scalpel Vasectomy (NSV) \\/ Conventional Vasectomy conducted\",\"M8 [Family Planning]\",\"0\",\"NA\",\"0\",\"0\"],[\"Chandigarh\",\"Chandigarh\",\"zone4 Polyclinic 45\",\"2019-2020\",\"February\",\"4.4.3\",\"Number of Newborns breast fed within 1 hour of birth\\u00a0\",\"M4 [Pregnancy outcome & details of new-born]\",\"117\",\"NA\",\"29\",\"88\"],[\"Chandigarh\",\"Chandigarh\",\"zone4 Polyclinic 45\",\"2019-2020\",\"February\",\"8.7\",\"Number of complications following IUCD Insertion\",\"M8 [Family Planning]\",\"0\",\"NA\",\"0\",\"0\"],[\"Chandigarh\",\"Chandigarh\",\"zone4 Polyclinic 45\",\"2019-2020\",\"February\",\"9.1.12\",\"Child immunisation - OPV3\",\"M9 [CHILD IMMUNISATION]\",\"418\",\"NA\",\"9\",\"409\"],[\"Chandigarh\",\"Chandigarh\",\"zone4 Polyclinic 45\",\"2019-2020\",\"February\",\"14.12.3\",\"Outborn \\u2013 Male\",\"M14 [Patient Services]\",\"NA\",\"NA\",\"NA\",\"NA\"],[\"Chandigarh\",\"Chandigarh\",\"zone4 Polyclinic 45\",\"2019-2020\",\"February\",\"10.6\",\"Childhood Diseases - Tetanus Neonatorum\",\"M10 [Number of cases of Childhood Diseases (0-5 years)]\",\"0\",\"NA\",\"0\",\"0\"],[\"Chandigarh\",\"Chandigarh\",\"zone4 Polyclinic 45\",\"2019-2020\",\"February\",\"11.2.1\",\"Kala Azar (RDT) - Tests Conducted\",\"M11 [NVBDCP]\",\"0\",\"NA\",\"NA\",\"0\"],[\"Chandigarh\",\"Chandigarh\",\"zone4 Polyclinic 45\",\"2019-2020\",\"February\",\"14.1.7\",\"Outpatient - Ophthalmic Related\",\"M14 [Patient Services]\",\"1348\",\"NA\",\"NA\",\"1348\"],[\"Chandigarh\",\"Chandigarh\",\"zone4 Polyclinic 45\",\"2019-2020\",\"February\",\"16.3.4\",\"Number of Infant Deaths (1 -12 months) due to Measles\",\"M16 [Details of deaths reported with probable causes:]\",\"0\",\"NA\",\"0\",\"0\"],[\"Chandigarh\",\"Chandigarh\",\"zone4 Polyclinic 45\",\"2019-2020\",\"February\",\"16.7.6\",\"Number of Adolscent \\/ Adult deaths due to Heart disease\\/Hypertension related\",\"M16 [Details of deaths reported with probable causes:]\",\"0\",\"NA\",\"0\",\"0\"],[\"Chandigarh\",\"Chandigarh\",\"zone1 GMSH-16\",\"2019-2020\",\"February\",\"9.3.1\",\"Child immunisation - Measles & Rubella (MR)- 1st Dose\",\"M9 [CHILD IMMUNISATION]\",\"0\",\"NA\",\"0\",\"0\"],[\"Chandigarh\",\"Chandigarh\",\"zone1 GMSH-16\",\"2019-2020\",\"February\",\"14.3.2.a\",\"Inpatient (Female)- Children<18yrs\",\"M14 [Patient Services]\",\"1355\",\"NA\",\"1355\",\"NA\"],[\"Chandigarh\",\"Chandigarh\",\"zone1 GMSH-16\",\"2019-2020\",\"February\",\"10.9\",\"Childhood Diseases - Measles\",\"M10 [Number of cases of Childhood Diseases (0-5 years)]\",\"1\",\"NA\",\"1\",\"0\"],[\"Chandigarh\",\"Chandigarh\",\"zone1 GMSH-16\",\"2019-2020\",\"February\",\"16.8.4\",\"Number of Deaths due to Dengue\",\"M16 [Details of deaths reported with probable causes:]\",\"0\",\"NA\",\"0\",\"NA\"],[\"Chandigarh\",\"Chandigarh\",\"zone2 CHC-22\",\"2019-2020\",\"February\",\"8.7\",\"Number of complications following IUCD Insertion\",\"M8 [Family Planning]\",\"1\",\"NA\",\"NA\",\"1\"],[\"Chandigarh\",\"Chandigarh\",\"zone2 CHC-22\",\"2019-2020\",\"February\",\"16.8.5\",\"Number of Deaths due to Acute Encephelitis Syndrome (AES)\",\"M16 [Details of deaths reported with probable causes:]\",\"NA\",\"NA\",\"NA\",\"NA\"],[\"Chandigarh\",\"Chandigarh\",\"zone2 CHC-22\",\"2019-2020\",\"February\",\"16.7.7\",\"Number of Adolscent \\/ Adult deaths due to Cancer\",\"M16 [Details of deaths reported with probable causes:]\",\"NA\",\"NA\",\"NA\",\"NA\"],[\"Chandigarh\",\"Chandigarh\",\"zone2 CHC-22\",\"2019-2020\",\"February\",\"16.2.1\",\"Infant Deaths up to 4 weeks due to Sepsis\",\"M16 [Details of deaths reported with probable causes:]\",\"NA\",\"NA\",\"NA\",\"NA\"],[\"Chandigarh\",\"Chandigarh\",\"zone3 Mani-Majra\",\"2019-2020\",\"February\",\"8.10\",\"Injectable Contraceptive-Antara Program- Third Dose\",\"M8 [Family Planning]\",\"10\",\"NA\",\"NA\",\"10\"],[\"Chandigarh\",\"Chandigarh\",\"zone3 Mani-Majra\",\"2019-2020\",\"February\",\"9.6.3\",\"Number of cases of AEFI - Others\",\"M9 [CHILD IMMUNISATION]\",\"0\",\"NA\",\"NA\",\"0\"],[\"Chandigarh\",\"Chandigarh\",\"zone3 Mani-Majra\",\"2019-2020\",\"February\",\"14.17\",\"Stock out rate of essential Drugs\",\"M14 [Patient Services]\",\"NA\",\"NA\",\"NA\",\"NA\"],[\"Chandigarh\",\"Chandigarh\",\"zone3 Mani-Majra\",\"2019-2020\",\"February\",\"14.3.3\",\"Number of Left Against Medical Advice (LAMA) cases\",\"M14 [Patient Services]\",\"20\",\"NA\",\"NA\",\"20\"],[\"Chandigarh\",\"Chandigarh\",\"zone3 Mani-Majra\",\"2019-2020\",\"February\",\"10.13\",\"Children admitted with upper respiratory infections\",\"M10 [Number of cases of Childhood Diseases (0-5 years)]\",\"0\",\"NA\",\"NA\",\"0\"],[\"Chandigarh\",\"Chandigarh\",\"zone4 Polyclinic 45\",\"2019-2020\",\"February\",\"1.4.1\",\"Number of PW tested for Haemoglobin (Hb ) 4 or more than 4 times for respective ANCs\",\"M1 [Ante Natal Care (ANC)]\",\"440\",\"NA\",\"12\",\"428\"],[\"Chandigarh\",\"Chandigarh\",\"zone3 Mani-Majra\",\"2019-2020\",\"February\",\"16.7.2\",\"Number of Adolscent \\/ Adult deaths due to Tuberculosis\",\"M16 [Details of deaths reported with probable causes:]\",\"0\",\"NA\",\"NA\",\"0\"],[\"Chandigarh\",\"Chandigarh\",\"zone4 Polyclinic 45\",\"2019-2020\",\"February\",\"14.1.2\",\"Outpatient - Hypertension\",\"M14 [Patient Services]\",\"1204\",\"NA\",\"249\",\"955\"],[\"Chandigarh\",\"Chandigarh\",\"zone4 Polyclinic 45\",\"2019-2020\",\"February\",\"14.5\",\"Patients registered at Emergency Department\",\"M14 [Patient Services]\",\"7303\",\"NA\",\"1713\",\"5590\"],[\"Chandigarh\",\"Chandigarh\",\"zone4 Polyclinic 45\",\"2019-2020\",\"February\",\"14.6.2\",\"Emergency - Burn\",\"M14 [Patient Services]\",\"0\",\"NA\",\"0\",\"0\"],[\"Chandigarh\",\"Chandigarh\",\"zone1 GMSH-16\",\"2019-2020\",\"February\",\"9.1.1\",\"Child immunisation - Vitamin K1 (Birth Dose)\",\"M9 [CHILD IMMUNISATION]\",\"1620\",\"NA\",\"1620\",\"NA\"],[\"Chandigarh\",\"Chandigarh\",\"zone1 GMSH-16\",\"2019-2020\",\"February\",\"15.3.2.a\",\"Female Non ANC HIV - Number Tested\",\"M15 [Laboratory Testing]\",\"1469\",\"NA\",\"1417\",\"52\"],[\"Chandigarh\",\"Chandigarh\",\"zone1 GMSH-16\",\"2019-2020\",\"February\",\"14.1.9\",\"Outpatient - Oncology\",\"M14 [Patient Services]\",\"6261\",\"NA\",\"6261\",\"NA\"],[\"Chandigarh\",\"Chandigarh\",\"zone2 CHC-22\",\"2019-2020\",\"February\",\"1.5.3\",\"Number of PW given insulin out of total tested positive for GDM\",\"M1 [Ante Natal Care (ANC)]\",\"0\",\"NA\",\"NA\",\"0\"],[\"Chandigarh\",\"Chandigarh\",\"zone1 GMSH-16\",\"2019-2020\",\"February\",\"16.7.1\",\"Number of Adolscent \\/ Adult deaths due to Diarrhoeal diseases\",\"M16 [Details of deaths reported with probable causes:]\",\"1\",\"NA\",\"1\",\"NA\"],[\"Chandigarh\",\"Chandigarh\",\"zone1 GMSH-16\",\"2019-2020\",\"February\",\"16.7.9\",\"Number of Adolscent \\/ Adult deaths due to Accidents\\/Burn cases\",\"M16 [Details of deaths reported with probable causes:]\",\"16\",\"NA\",\"16\",\"NA\"],[\"Chandigarh\",\"Chandigarh\",\"zone2 CHC-22\",\"2019-2020\",\"February\",\"9.3.1\",\"Child immunisation - Measles & Rubella (MR)- 1st Dose\",\"M9 [CHILD IMMUNISATION]\",\"0\",\"NA\",\"NA\",\"0\"],[\"Chandigarh\",\"Chandigarh\",\"zone2 CHC-22\",\"2019-2020\",\"February\",\"9.4.5\",\"Child immunisation - Measles, Mumps, Rubella (MMR) Vaccine\",\"M9 [CHILD IMMUNISATION]\",\"0\",\"NA\",\"NA\",\"0\"],[\"Chandigarh\",\"Chandigarh\",\"zone2 CHC-22\",\"2019-2020\",\"February\",\"16.7.12\",\"Number of Adolscent \\/ Adult deaths due to Known Acute Disease\",\"M16 [Details of deaths reported with probable causes:]\",\"NA\",\"NA\",\"NA\",\"NA\"],[\"Chandigarh\",\"Chandigarh\",\"zone2 CHC-22\",\"2019-2020\",\"February\",\"11.1.1.a\",\"Total Blood Smears Examined for Malaria\",\"M11 [NVBDCP]\",\"523\",\"NA\",\"NA\",\"523\"],[\"Chandigarh\",\"Chandigarh\",\"zone2 CHC-22\",\"2019-2020\",\"February\",\"11.1.2.c\",\"Malaria (RDT) - Plamodium Falciparum test positive\",\"M11 [NVBDCP]\",\"0\",\"NA\",\"NA\",\"0\"],[\"Chandigarh\",\"Chandigarh\",\"zone2 CHC-22\",\"2019-2020\",\"February\",\"11.1.2.a\",\"RDT conducted for Malaria\",\"M11 [NVBDCP]\",\"0\",\"NA\",\"NA\",\"0\"],[\"Chandigarh\",\"Chandigarh\",\"zone2 CHC-22\",\"2019-2020\",\"February\",\"14.3.2.a\",\"Inpatient (Female)- Children<18yrs\",\"M14 [Patient Services]\",\"187\",\"NA\",\"NA\",\"187\"],[\"Chandigarh\",\"Chandigarh\",\"zone2 CHC-22\",\"2019-2020\",\"February\",\"14.12.5\",\"Number of newborns admitted in SNCU - referred by ASHA\",\"M14 [Patient Services]\",\"NA\",\"NA\",\"NA\",\"NA\"],[\"Chandigarh\",\"Chandigarh\",\"zone3 Mani-Majra\",\"2019-2020\",\"February\",\"3.1\",\"Total C -Section deliveries performed\",\"M3 [Number of Caesarean (C-Section) deliveries]\",\"12\",\"NA\",\"NA\",\"12\"],[\"Chandigarh\",\"Chandigarh\",\"zone3 Mani-Majra\",\"2019-2020\",\"February\",\"9.1.10\",\"Child immunisation - OPV1\",\"M9 [CHILD IMMUNISATION]\",\"342\",\"NA\",\"NA\",\"342\"],[\"Chandigarh\",\"Chandigarh\",\"zone3 Mani-Majra\",\"2019-2020\",\"February\",\"14.14.1\",\"Number of children admitted in NRC\",\"M14 [Patient Services]\",\"0\",\"NA\",\"NA\",\"0\"],[\"Chandigarh\",\"Chandigarh\",\"zone4 Polyclinic 45\",\"2019-2020\",\"February\",\"14.9.2\",\"Inpatient Deaths - Female\",\"M14 [Patient Services]\",\"0\",\"NA\",\"0\",\"0\"],[\"Chandigarh\",\"Chandigarh\",\"zone4 Polyclinic 45\",\"2019-2020\",\"February\",\"15.1\",\"Number of Lab Tests done\",\"M15 [Laboratory Testing]\",\"73767\",\"NA\",\"19018\",\"54749\"],[\"Chandigarh\",\"Chandigarh\",\"zone4 Polyclinic 45\",\"2019-2020\",\"February\",\"8.15\",\"Number of Emergency Contraceptive Pills (ECP) given\",\"M8 [Family Planning]\",\"33\",\"NA\",\"0\",\"33\"],[\"Chandigarh\",\"Chandigarh\",\"zone1 GMSH-16\",\"2019-2020\",\"February\",\"4.3.2.b\",\"Post Abortion\\/ MTP Complications Treated\",\"M4 [Pregnancy outcome & details of new-born]\",\"0\",\"NA\",\"0\",\"NA\"],[\"Chandigarh\",\"Chandigarh\",\"zone1 GMSH-16\",\"2019-2020\",\"February\",\"4.3.2.a\",\"Post Abortion\\/ MTP Complications Identified\",\"M4 [Pregnancy outcome & details of new-born]\",\"0\",\"NA\",\"0\",\"NA\"],[\"Chandigarh\",\"Chandigarh\",\"zone1 GMSH-16\",\"2019-2020\",\"February\",\"9.2.2\",\"Child immunisation (9-11months) - Measles 1st dose\",\"M9 [CHILD IMMUNISATION]\",\"0\",\"NA\",\"0\",\"NA\"],[\"Chandigarh\",\"Chandigarh\",\"zone1 GMSH-16\",\"2019-2020\",\"February\",\"1.4.1\",\"Number of PW tested for Haemoglobin (Hb ) 4 or more than 4 times for respective ANCs\",\"M1 [Ante Natal Care (ANC)]\",\"1182\",\"NA\",\"1007\",\"175\"],[\"Chandigarh\",\"Chandigarh\",\"zone1 GMSH-16\",\"2019-2020\",\"February\",\"8.16\",\"Number of Pregnancy Test Kits (PTK) used\",\"M8 [Family Planning]\",\"768\",\"NA\",\"598\",\"170\"],[\"Chandigarh\",\"Chandigarh\",\"zone1 GMSH-16\",\"2019-2020\",\"February\",\"16.7.14\",\"Number of Adolscent \\/ Adult deaths due to Causes not known\",\"M16 [Details of deaths reported with probable causes:]\",\"12\",\"NA\",\"12\",\"NA\"],[\"Chandigarh\",\"Chandigarh\",\"zone2 CHC-22\",\"2019-2020\",\"February\",\"9.1.9\",\"Child immunisation - OPV 0 (Birth Dose)\",\"M9 [CHILD IMMUNISATION]\",\"342\",\"NA\",\"NA\",\"342\"],[\"Chandigarh\",\"Chandigarh\",\"zone2 CHC-22\",\"2019-2020\",\"February\",\"9.1.3\",\"Child immunisation - DPT1\",\"M9 [CHILD IMMUNISATION]\",\"4\",\"NA\",\"NA\",\"4\"],[\"Chandigarh\",\"Chandigarh\",\"zone2 CHC-22\",\"2019-2020\",\"February\",\"14.8.1\",\"Operation major (General and spinal anaesthesia)\",\"M14 [Patient Services]\",\"9\",\"NA\",\"NA\",\"9\"],[\"Chandigarh\",\"Chandigarh\",\"zone2 CHC-22\",\"2019-2020\",\"February\",\"14.4.1\",\"Inpatient - Malaria\",\"M14 [Patient Services]\",\"0\",\"NA\",\"NA\",\"0\"],[\"Chandigarh\",\"Chandigarh\",\"zone2 CHC-22\",\"2019-2020\",\"February\",\"16.4.1\",\"Number of Child Deaths (1 -5 years) due to Pneumonia\",\"M16 [Details of deaths reported with probable causes:]\",\"NA\",\"NA\",\"NA\",\"NA\"],[\"Chandigarh\",\"Chandigarh\",\"zone3 Mani-Majra\",\"2019-2020\",\"February\",\"1.2.5\",\"Number of PW given 360 Calcium tablets\",\"M1 [Ante Natal Care (ANC)]\",\"420\",\"NA\",\"NA\",\"420\"],[\"Chandigarh\",\"Chandigarh\",\"zone3 Mani-Majra\",\"2019-2020\",\"February\",\"10.6\",\"Childhood Diseases - Tetanus Neonatorum\",\"M10 [Number of cases of Childhood Diseases (0-5 years)]\",\"0\",\"NA\",\"NA\",\"0\"],[\"Chandigarh\",\"Chandigarh\",\"zone3 Mani-Majra\",\"2019-2020\",\"February\",\"10.5\",\"Childhood Diseases - Pertussis\",\"M10 [Number of cases of Childhood Diseases (0-5 years)]\",\"0\",\"NA\",\"NA\",\"0\"],[\"Chandigarh\",\"Chandigarh\",\"zone4 Polyclinic 45\",\"2019-2020\",\"February\",\"1.3.2\",\"Number of Eclampsia cases managed during delivery\",\"M1 [Ante Natal Care (ANC)]\",\"0\",\"NA\",\"0\",\"0\"],[\"Chandigarh\",\"Chandigarh\",\"zone3 Mani-Majra\",\"2019-2020\",\"February\",\"14.8.2\",\"Out of Operation major, Gynecology- Hysterectomy surgeries\",\"M14 [Patient Services]\",\"0\",\"NA\",\"NA\",\"0\"],[\"Chandigarh\",\"Chandigarh\",\"zone4 Polyclinic 45\",\"2019-2020\",\"February\",\"10.1\",\"Childhood Diseases - Pneumonia\",\"M10 [Number of cases of Childhood Diseases (0-5 years)]\",\"94\",\"NA\",\"50\",\"44\"],[\"Chandigarh\",\"Chandigarh\",\"zone4 Polyclinic 45\",\"2019-2020\",\"February\",\"11.1.1.a\",\"Total Blood Smears Examined for Malaria\",\"M11 [NVBDCP]\",\"931\",\"NA\",\"109\",\"822\"],[\"Chandigarh\",\"Chandigarh\",\"zone4 Polyclinic 45\",\"2019-2020\",\"February\",\"11.1.1.b\",\"Malaria (Microscopy Tests ) - Plasmodium Vivax test positive\",\"M11 [NVBDCP]\",\"0\",\"NA\",\"NA\",\"0\"],[\"Chandigarh\",\"Chandigarh\",\"zone1 GMSH-16\",\"2019-2020\",\"February\",\"9.1.18\",\"Child immunisation - Inactivated Polio Vaccine 2 (IPV 2)\",\"M9 [CHILD IMMUNISATION]\",\"334\",\"NA\",\"151\",\"183\"],[\"Chandigarh\",\"Chandigarh\",\"zone1 GMSH-16\",\"2019-2020\",\"February\",\"8.10\",\"Injectable Contraceptive-Antara Program- Third Dose\",\"M8 [Family Planning]\",\"12\",\"NA\",\"6\",\"6\"],[\"Chandigarh\",\"Chandigarh\",\"zone1 GMSH-16\",\"2019-2020\",\"February\",\"10.4\",\"Childhood Diseases - Diphtheria\",\"M10 [Number of cases of Childhood Diseases (0-5 years)]\",\"1\",\"NA\",\"1\",\"0\"],[\"Chandigarh\",\"Chandigarh\",\"zone1 GMSH-16\",\"2019-2020\",\"February\",\"16.1\",\"Infant deaths within 24 hrs(1 to 23 Hrs) of birth\",\"M16 [Details of deaths reported with probable causes:]\",\"0\",\"NA\",\"0\",\"NA\"],[\"Chandigarh\",\"Chandigarh\",\"zone2 CHC-22\",\"2019-2020\",\"February\",\"1.6.2.c\",\"Number of syphilis positive pregnant women treated for Syphilis\",\"M1 [Ante Natal Care (ANC)]\",\"0\",\"NA\",\"NA\",\"0\"],[\"Chandigarh\",\"Chandigarh\",\"zone2 CHC-22\",\"2019-2020\",\"February\",\"10.11\",\"Childhood Diseases - Diarrhoea\",\"M10 [Number of cases of Childhood Diseases (0-5 years)]\",\"54\",\"NA\",\"NA\",\"54\"],[\"Chandigarh\",\"Chandigarh\",\"zone2 CHC-22\",\"2019-2020\",\"February\",\"8.2.2\",\"Number of Interval Mini-lap (other than post-partum and post abortion) sterilizations conducted\",\"M8 [Family Planning]\",\"0\",\"NA\",\"NA\",\"0\"],[\"Chandigarh\",\"Chandigarh\",\"zone2 CHC-22\",\"2019-2020\",\"February\",\"9.4.6\",\"Number of children more than 16 months of age who received Japanese Encephalitis (JE) vaccine\",\"M9 [CHILD IMMUNISATION]\",\"0\",\"NA\",\"NA\",\"0\"],[\"Chandigarh\",\"Chandigarh\",\"zone2 CHC-22\",\"2019-2020\",\"February\",\"11.4.2\",\"Tests Positive for JE\",\"M11 [NVBDCP]\",\"NA\",\"NA\",\"NA\",\"NA\"],[\"Chandigarh\",\"Chandigarh\",\"zone3 Mani-Majra\",\"2019-2020\",\"February\",\"1.1\",\"Total number of pregnant women registered for ANC\",\"M1 [Ante Natal Care (ANC)]\",\"567\",\"NA\",\"NA\",\"567\"],[\"Chandigarh\",\"Chandigarh\",\"zone2 CHC-22\",\"2019-2020\",\"February\",\"16.8.2\",\"Number of Deaths due to Malaria- Plasmodium Falciparum\",\"M16 [Details of deaths reported with probable causes:]\",\"NA\",\"NA\",\"NA\",\"NA\"],[\"Chandigarh\",\"Chandigarh\",\"zone3 Mani-Majra\",\"2019-2020\",\"February\",\"9.1.17\",\"Child immunisation - Inactivated Polio Vaccine 1 (IPV 1)\",\"M9 [CHILD IMMUNISATION]\",\"342\",\"NA\",\"NA\",\"342\"],[\"Chandigarh\",\"Chandigarh\",\"zone3 Mani-Majra\",\"2019-2020\",\"February\",\"9.1.20\",\"Child immunisation - Rotavirus 2\",\"M9 [CHILD IMMUNISATION]\",\"347\",\"NA\",\"NA\",\"347\"],[\"Chandigarh\",\"Chandigarh\",\"zone3 Mani-Majra\",\"2019-2020\",\"February\",\"12.1.1.a\",\"Girls registered in AFHC\",\"M12 [Adolscent Health]\",\"38\",\"NA\",\"NA\",\"38\"],[\"Chandigarh\",\"Chandigarh\",\"zone4 Polyclinic 45\",\"2019-2020\",\"February\",\"8.8\",\"Injectable Contraceptive-Antara Program- First Dose\",\"M8 [Family Planning]\",\"44\",\"NA\",\"0\",\"44\"],[\"Chandigarh\",\"Chandigarh\",\"zone4 Polyclinic 45\",\"2019-2020\",\"February\",\"15.3.4.b\",\"Number of Male STI\\/RTI attendees found sero Positive for syphilis\",\"M15 [Laboratory Testing]\",\"0\",\"NA\",\"0\",\"0\"],[\"Chandigarh\",\"Chandigarh\",\"zone4 Polyclinic 45\",\"2019-2020\",\"February\",\"15.2.1\",\"Number of Hb tests conducted\",\"M15 [Laboratory Testing]\",\"5037\",\"NA\",\"1289\",\"3748\"],[\"Chandigarh\",\"Chandigarh\",\"zone4 Polyclinic 45\",\"2019-2020\",\"February\",\"15.2.2\",\"Out of the total number of Hb tests done, Number having Hb < 7 mg\",\"M15 [Laboratory Testing]\",\"47\",\"NA\",\"23\",\"24\"],[\"Chandigarh\",\"Chandigarh\",\"zone4 Polyclinic 45\",\"2019-2020\",\"February\",\"16.8.4\",\"Number of Deaths due to Dengue\",\"M16 [Details of deaths reported with probable causes:]\",\"0\",\"NA\",\"0\",\"0\"],[\"Chandigarh\",\"Chandigarh\",\"zone1 GMSH-16\",\"2019-2020\",\"February\",\"8.4\",\"Number of Postpartum (within 48 hours of delivery) IUCD insertions\",\"M8 [Family Planning]\",\"24\",\"NA\",\"24\",\"NA\"],[\"Chandigarh\",\"Chandigarh\",\"zone1 GMSH-16\",\"2019-2020\",\"February\",\"9.6.3\",\"Number of cases of AEFI - Others\",\"M9 [CHILD IMMUNISATION]\",\"2\",\"NA\",\"2\",\"0\"],[\"Chandigarh\",\"Chandigarh\",\"zone1 GMSH-16\",\"2019-2020\",\"February\",\"9.7.2\",\"Immunisation sessions held\",\"M9 [CHILD IMMUNISATION]\",\"217\",\"NA\",\"87\",\"130\"],[\"Chandigarh\",\"Chandigarh\",\"zone1 GMSH-16\",\"2019-2020\",\"February\",\"14.4.8\",\"Inpatient - Hepatitis\",\"M14 [Patient Services]\",\"32\",\"NA\",\"32\",\"NA\"],[\"Chandigarh\",\"Chandigarh\",\"zone1 GMSH-16\",\"2019-2020\",\"February\",\"14.2.1\",\"Allopathic- Outpatient attendance\",\"M14 [Patient Services]\",\"350127\",\"NA\",\"325351\",\"24776\"],[\"Chandigarh\",\"Chandigarh\",\"zone1 GMSH-16\",\"2019-2020\",\"February\",\"8.13\",\"Number of Condom pieces distributed\",\"M8 [Family Planning]\",\"29672\",\"NA\",\"10160\",\"19512\"],[\"Chandigarh\",\"Chandigarh\",\"zone2 CHC-22\",\"2019-2020\",\"February\",\"8.17.4\",\"Failures following female sterilization\",\"M8 [Family Planning]\",\"0\",\"NA\",\"NA\",\"0\"],[\"Chandigarh\",\"Chandigarh\",\"zone2 CHC-22\",\"2019-2020\",\"February\",\"9.4.4\",\"Child immunisation - OPV Booster\",\"M9 [CHILD IMMUNISATION]\",\"349\",\"NA\",\"NA\",\"349\"],[\"Chandigarh\",\"Chandigarh\",\"zone2 CHC-22\",\"2019-2020\",\"February\",\"9.5.3\",\"Children more than 10 years received TT10\",\"M9 [CHILD IMMUNISATION]\",\"143\",\"NA\",\"NA\",\"143\"],[\"Chandigarh\",\"Chandigarh\",\"zone2 CHC-22\",\"2019-2020\",\"February\",\"9.2.4.a\",\"Children aged between 9 and 11 months fully immunized- Male\",\"M9 [CHILD IMMUNISATION]\",\"167\",\"NA\",\"NA\",\"167\"],[\"Chandigarh\",\"Chandigarh\",\"zone2 CHC-22\",\"2019-2020\",\"February\",\"9.11\",\"Number of severely underweight children provided Health Checkup (0-5 yrs)\",\"M9 [CHILD IMMUNISATION]\",\"6\",\"NA\",\"NA\",\"6\"],[\"Chandigarh\",\"Chandigarh\",\"zone2 CHC-22\",\"2019-2020\",\"February\",\"11.1.1.c\",\"Malaria (Microscopy Tests ) - Plasmodium Falciparum test positive\",\"M11 [NVBDCP]\",\"0\",\"NA\",\"NA\",\"0\"],[\"Chandigarh\",\"Chandigarh\",\"zone2 CHC-22\",\"2019-2020\",\"February\",\"10.13\",\"Children admitted with upper respiratory infections\",\"M10 [Number of cases of Childhood Diseases (0-5 years)]\",\"0\",\"NA\",\"NA\",\"0\"],[\"Chandigarh\",\"Chandigarh\",\"zone2 CHC-22\",\"2019-2020\",\"February\",\"16.3.5\",\"Number of Infant Deaths (1 -12 months) due to Others\",\"M16 [Details of deaths reported with probable causes:]\",\"NA\",\"NA\",\"NA\",\"NA\"],[\"Chandigarh\",\"Chandigarh\",\"zone2 CHC-22\",\"2019-2020\",\"February\",\"16.5.5\",\"Number of Maternal Deaths due to Severe hypertesnion\\/fits\",\"M16 [Details of deaths reported with probable causes:]\",\"NA\",\"NA\",\"NA\",\"NA\"],[\"Chandigarh\",\"Chandigarh\",\"zone3 Mani-Majra\",\"2019-2020\",\"February\",\"9.1.11\",\"Child immunisation - OPV2\",\"M9 [CHILD IMMUNISATION]\",\"347\",\"NA\",\"NA\",\"347\"],[\"Chandigarh\",\"Chandigarh\",\"zone2 CHC-22\",\"2019-2020\",\"February\",\"15.3.4.d\",\"Number of Female (Non ANC) STI\\/RTI attendees found sero Positive for syphilis\",\"M15 [Laboratory Testing]\",\"0\",\"NA\",\"NA\",\"0\"],[\"Chandigarh\",\"Chandigarh\",\"zone3 Mani-Majra\",\"2019-2020\",\"February\",\"1.6.2.a\",\"Number of pregnant women tested  for Syphilis\",\"M1 [Ante Natal Care (ANC)]\",\"462\",\"NA\",\"NA\",\"462\"],[\"Chandigarh\",\"Chandigarh\",\"zone3 Mani-Majra\",\"2019-2020\",\"February\",\"1.2.8\",\"Number of PW given ANC Corticosteroids in Pre Term Labour\",\"M1 [Ante Natal Care (ANC)]\",\"10\",\"NA\",\"NA\",\"10\"],[\"Chandigarh\",\"Chandigarh\",\"zone3 Mani-Majra\",\"2019-2020\",\"February\",\"9.11\",\"Number of severely underweight children provided Health Checkup (0-5 yrs)\",\"M9 [CHILD IMMUNISATION]\",\"4\",\"NA\",\"NA\",\"4\"],[\"Chandigarh\",\"Chandigarh\",\"zone3 Mani-Majra\",\"2019-2020\",\"February\",\"9.3.1\",\"Child immunisation - Measles & Rubella (MR)- 1st Dose\",\"M9 [CHILD IMMUNISATION]\",\"2\",\"NA\",\"NA\",\"2\"],[\"Chandigarh\",\"Chandigarh\",\"zone3 Mani-Majra\",\"2019-2020\",\"February\",\"9.3.2\",\"Child immunisation - Measles-1st dose\",\"M9 [CHILD IMMUNISATION]\",\"NA\",\"NA\",\"NA\",\"NA\"],[\"Chandigarh\",\"Chandigarh\",\"zone3 Mani-Majra\",\"2019-2020\",\"February\",\"8.13\",\"Number of Condom pieces distributed\",\"M8 [Family Planning]\",\"34580\",\"NA\",\"NA\",\"34580\"],[\"Chandigarh\",\"Chandigarh\",\"zone4 Polyclinic 45\",\"2019-2020\",\"February\",\"2.2.2\",\"Number of newborns received 6 HBNC\\u00a0 visits after Institutional Delivery\",\"M2 [Deliveries]\",\"361\",\"NA\",\"NA\",\"361\"],[\"Chandigarh\",\"Chandigarh\",\"zone4 Polyclinic 45\",\"2019-2020\",\"February\",\"8.17.5\",\"Deaths following male sterilization\",\"M8 [Family Planning]\",\"0\",\"NA\",\"0\",\"0\"],[\"Chandigarh\",\"Chandigarh\",\"zone4 Polyclinic 45\",\"2019-2020\",\"February\",\"10.11\",\"Childhood Diseases - Diarrhoea\",\"M10 [Number of cases of Childhood Diseases (0-5 years)]\",\"300\",\"NA\",\"78\",\"222\"],[\"Chandigarh\",\"Chandigarh\",\"zone4 Polyclinic 45\",\"2019-2020\",\"February\",\"10.5\",\"Childhood Diseases - Pertussis\",\"M10 [Number of cases of Childhood Diseases (0-5 years)]\",\"0\",\"NA\",\"0\",\"0\"],[\"Chandigarh\",\"Chandigarh\",\"zone4 Polyclinic 45\",\"2019-2020\",\"February\",\"15.3.4.a\",\"Number of Male STI\\/RTI attendees tested for syphilis\",\"M15 [Laboratory Testing]\",\"10\",\"NA\",\"0\",\"10\"],[\"Chandigarh\",\"Chandigarh\",\"zone4 Polyclinic 45\",\"2019-2020\",\"February\",\"16.5.1\",\"Number of Maternal Deaths due to Bleeding\",\"M16 [Details of deaths reported with probable causes:]\",\"0\",\"NA\",\"0\",\"0\"],[\"Chandigarh\",\"Chandigarh\",\"zone4 Polyclinic 45\",\"2019-2020\",\"February\",\"16.7.5\",\"Number of Adolscent \\/ Adult deaths due to HIV\\/AIDS\",\"M16 [Details of deaths reported with probable causes:]\",\"0\",\"NA\",\"0\",\"0\"],[\"Chandigarh\",\"Chandigarh\",\"zone4 Polyclinic 45\",\"2019-2020\",\"February\",\"16.7.4\",\"Number of Adolscent \\/ Adult deaths due to Other Fever Related\",\"M16 [Details of deaths reported with probable causes:]\",\"0\",\"NA\",\"0\",\"0\"],[\"Chandigarh\",\"Chandigarh\",\"zone1 GMSH-16\",\"2019-2020\",\"February\",\"2.1.1.b\",\"Number of Home Deliveries attended by Non SBA (Trained Birth Attendant(TBA) \\/Relatives\\/etc.)\",\"M2 [Deliveries]\",\"0\",\"NA\",\"NA\",\"0\"],[\"Chandigarh\",\"Chandigarh\",\"zone1 GMSH-16\",\"2019-2020\",\"February\",\"6.3\",\"Number of mothers provided full course of 180 IFA tablets after delivery\",\"M6 [Post Natal Care (PNC)]\",\"647\",\"NA\",\"479\",\"168\"],[\"Chandigarh\",\"Chandigarh\",\"zone1 GMSH-16\",\"2019-2020\",\"February\",\"9.1.15\",\"Child immunisation - Hepatitis-B2\",\"M9 [CHILD IMMUNISATION]\",\"11\",\"NA\",\"11\",\"NA\"],[\"Chandigarh\",\"Chandigarh\",\"zone1 GMSH-16\",\"2019-2020\",\"February\",\"9.1.16\",\"Child immunisation - Hepatitis-B3\",\"M9 [CHILD IMMUNISATION]\",\"2\",\"NA\",\"2\",\"NA\"],[\"Chandigarh\",\"Chandigarh\",\"zone1 GMSH-16\",\"2019-2020\",\"February\",\"10.7\",\"Childhood Diseases - Tuberculosis (TB)\",\"M10 [Number of cases of Childhood Diseases (0-5 years)]\",\"2\",\"NA\",\"2\",\"0\"],[\"Chandigarh\",\"Chandigarh\",\"zone1 GMSH-16\",\"2019-2020\",\"February\",\"11.3.1\",\"Dengue - RDT Test Positive\",\"M11 [NVBDCP]\",\"191\",\"NA\",\"191\",\"NA\"],[\"Chandigarh\",\"Chandigarh\",\"zone1 GMSH-16\",\"2019-2020\",\"February\",\"10.10\",\"Childhood Diseases - Malaria\",\"M10 [Number of cases of Childhood Diseases (0-5 years)]\",\"0\",\"NA\",\"0\",\"0\"],[\"Chandigarh\",\"Chandigarh\",\"zone2 CHC-22\",\"2019-2020\",\"February\",\"1.2.8\",\"Number of PW given ANC Corticosteroids in Pre Term Labour\",\"M1 [Ante Natal Care (ANC)]\",\"25\",\"NA\",\"NA\",\"25\"],[\"Chandigarh\",\"Chandigarh\",\"zone2 CHC-22\",\"2019-2020\",\"February\",\"1.3.2\",\"Number of Eclampsia cases managed during delivery\",\"M1 [Ante Natal Care (ANC)]\",\"0\",\"NA\",\"NA\",\"0\"],[\"Chandigarh\",\"Chandigarh\",\"zone1 GMSH-16\",\"2019-2020\",\"February\",\"15.5.1\",\"Radiology - X-ray\",\"M15 [Laboratory Testing]\",\"34580\",\"NA\",\"34580\",\"NA\"],[\"Chandigarh\",\"Chandigarh\",\"zone2 CHC-22\",\"2019-2020\",\"February\",\"6.1\",\"Women receiving 1st post partum checkup within 48 hours of home delivery\",\"M6 [Post Natal Care (PNC)]\",\"0\",\"NA\",\"NA\",\"0\"],[\"Chandigarh\",\"Chandigarh\",\"zone1 GMSH-16\",\"2019-2020\",\"February\",\"16.7.13\",\"Number of Adolscent \\/ Adult deaths due to Known Chronic Disease\",\"M16 [Details of deaths reported with probable causes:]\",\"5\",\"NA\",\"5\",\"NA\"],[\"Chandigarh\",\"Chandigarh\",\"zone2 CHC-22\",\"2019-2020\",\"February\",\"8.2.1\",\"Number of Laparoscopic sterilizations (excluding post abortion) conducted\",\"M8 [Family Planning]\",\"3\",\"NA\",\"NA\",\"3\"],[\"Chandigarh\",\"Chandigarh\",\"zone2 CHC-22\",\"2019-2020\",\"February\",\"10.12\",\"Childhood Diseases - Diarrhoea treated in Inpatients\",\"M10 [Number of cases of Childhood Diseases (0-5 years)]\",\"0\",\"NA\",\"NA\",\"0\"],[\"Chandigarh\",\"Chandigarh\",\"zone2 CHC-22\",\"2019-2020\",\"February\",\"12.1.1.b\",\"Boys registered in AFHC\",\"M12 [Adolscent Health]\",\"135\",\"NA\",\"NA\",\"135\"],[\"Chandigarh\",\"Chandigarh\",\"zone2 CHC-22\",\"2019-2020\",\"February\",\"15.2.2\",\"Out of the total number of Hb tests done, Number having Hb < 7 mg\",\"M15 [Laboratory Testing]\",\"4\",\"NA\",\"NA\",\"4\"],[\"Chandigarh\",\"Chandigarh\",\"zone3 Mani-Majra\",\"2019-2020\",\"February\",\"8.2.1\",\"Number of Laparoscopic sterilizations (excluding post abortion) conducted\",\"M8 [Family Planning]\",\"9\",\"NA\",\"NA\",\"9\"],[\"Chandigarh\",\"Chandigarh\",\"zone3 Mani-Majra\",\"2019-2020\",\"February\",\"6.3\",\"Number of mothers provided full course of 180 IFA tablets after delivery\",\"M6 [Post Natal Care (PNC)]\",\"380\",\"NA\",\"NA\",\"380\"],[\"Chandigarh\",\"Chandigarh\",\"zone3 Mani-Majra\",\"2019-2020\",\"February\",\"9.1.9\",\"Child immunisation - OPV 0 (Birth Dose)\",\"M9 [CHILD IMMUNISATION]\",\"151\",\"NA\",\"NA\",\"151\"],[\"Chandigarh\",\"Chandigarh\",\"zone3 Mani-Majra\",\"2019-2020\",\"February\",\"16.8.6\",\"Number of Deaths due to Japanese  Encephalitis (JE)\",\"M16 [Details of deaths reported with probable causes:]\",\"0\",\"NA\",\"NA\",\"0\"],[\"Chandigarh\",\"Chandigarh\",\"zone4 Polyclinic 45\",\"2019-2020\",\"February\",\"15.3.3.a\",\"Number of pregnant women screened for HIV\",\"M15 [Laboratory Testing]\",\"435\",\"NA\",\"55\",\"380\"],[\"Chandigarh\",\"Chandigarh\",\"zone4 Polyclinic 45\",\"2019-2020\",\"February\",\"14.6.1\",\"Emergency - Trauma ( accident, injury, poisoning etc)\",\"M14 [Patient Services]\",\"0\",\"NA\",\"0\",\"0\"],[\"Chandigarh\",\"Chandigarh\",\"zone1 GMSH-16\",\"2019-2020\",\"February\",\"1.4.3\",\"Number of PW having Hb level<7 (tested cases)\",\"M1 [Ante Natal Care (ANC)]\",\"15\",\"NA\",\"15\",\"0\"],[\"Chandigarh\",\"Chandigarh\",\"zone1 GMSH-16\",\"2019-2020\",\"February\",\"1.2.5\",\"Number of PW given 360 Calcium tablets\",\"M1 [Ante Natal Care (ANC)]\",\"1530\",\"NA\",\"1356\",\"174\"],[\"Chandigarh\",\"Chandigarh\",\"zone4 Polyclinic 45\",\"2019-2020\",\"February\",\"16.8.1\",\"Number of Deaths due to Malaria- Plasmodium Vivax\",\"M16 [Details of deaths reported with probable causes:]\",\"0\",\"NA\",\"0\",\"0\"],[\"Chandigarh\",\"Chandigarh\",\"zone4 Polyclinic 45\",\"2019-2020\",\"February\",\"16.5.6\",\"Number of Maternal Deaths due to Other Causes (including causes not known)\",\"M16 [Details of deaths reported with probable causes:]\",\"0\",\"NA\",\"0\",\"0\"],[\"Chandigarh\",\"Chandigarh\",\"zone1 GMSH-16\",\"2019-2020\",\"February\",\"9.2.1\",\"Child immunisation (9-11months) - Measles & Rubella (MR)- 1st Dose\",\"M9 [CHILD IMMUNISATION]\",\"219\",\"NA\",\"78\",\"141\"],[\"Chandigarh\",\"Chandigarh\",\"zone1 GMSH-16\",\"2019-2020\",\"February\",\"9.1.19\",\"Child immunisation - Rotavirus 1\",\"M9 [CHILD IMMUNISATION]\",\"404\",\"NA\",\"232\",\"172\"],[\"Chandigarh\",\"Chandigarh\",\"zone1 GMSH-16\",\"2019-2020\",\"February\",\"16.3.2\",\"Number of Infant Deaths (1 -12 months) due to Diarrhoea\",\"M16 [Details of deaths reported with probable causes:]\",\"0\",\"NA\",\"0\",\"NA\"],[\"Chandigarh\",\"Chandigarh\",\"zone2 CHC-22\",\"2019-2020\",\"February\",\"3.1\",\"Total C -Section deliveries performed\",\"M3 [Number of Caesarean (C-Section) deliveries]\",\"73\",\"NA\",\"NA\",\"73\"],[\"Chandigarh\",\"Chandigarh\",\"zone2 CHC-22\",\"2019-2020\",\"February\",\"14.6.1\",\"Emergency - Trauma ( accident, injury, poisoning etc)\",\"M14 [Patient Services]\",\"NA\",\"NA\",\"NA\",\"NA\"],[\"Chandigarh\",\"Chandigarh\",\"zone3 Mani-Majra\",\"2019-2020\",\"February\",\"14.12.5\",\"Number of newborns admitted in SNCU - referred by ASHA\",\"M14 [Patient Services]\",\"0\",\"NA\",\"NA\",\"0\"],[\"Chandigarh\",\"Chandigarh\",\"zone3 Mani-Majra\",\"2019-2020\",\"February\",\"14.9.2\",\"Inpatient Deaths - Female\",\"M14 [Patient Services]\",\"1\",\"NA\",\"NA\",\"1\"],[\"Chandigarh\",\"Chandigarh\",\"zone3 Mani-Majra\",\"2019-2020\",\"February\",\"14.1.3\",\"Outpatient - Stroke (Paralysis)\",\"M14 [Patient Services]\",\"5\",\"NA\",\"NA\",\"5\"],[\"Chandigarh\",\"Chandigarh\",\"zone4 Polyclinic 45\",\"2019-2020\",\"February\",\"1.2.4\",\"Number of PW given 180 Iron Folic Acid (IFA) tablets\",\"M1 [Ante Natal Care (ANC)]\",\"440\",\"NA\",\"19\",\"421\"],[\"Chandigarh\",\"Chandigarh\",\"zone4 Polyclinic 45\",\"2019-2020\",\"February\",\"1.2.8\",\"Number of PW given ANC Corticosteroids in Pre Term Labour\",\"M1 [Ante Natal Care (ANC)]\",\"15\",\"NA\",\"0\",\"15\"],[\"Chandigarh\",\"Chandigarh\",\"zone4 Polyclinic 45\",\"2019-2020\",\"February\",\"6.1\",\"Women receiving 1st post partum checkup within 48 hours of home delivery\",\"M6 [Post Natal Care (PNC)]\",\"1\",\"NA\",\"0\",\"1\"],[\"Chandigarh\",\"Chandigarh\",\"zone3 Mani-Majra\",\"2019-2020\",\"February\",\"16.7.1\",\"Number of Adolscent \\/ Adult deaths due to Diarrhoeal diseases\",\"M16 [Details of deaths reported with probable causes:]\",\"0\",\"NA\",\"NA\",\"0\"],[\"Chandigarh\",\"Chandigarh\",\"zone4 Polyclinic 45\",\"2019-2020\",\"February\",\"9.6.2\",\"Number of cases of AEFI - Death\",\"M9 [CHILD IMMUNISATION]\",\"0\",\"NA\",\"0\",\"0\"],[\"Chandigarh\",\"Chandigarh\",\"zone4 Polyclinic 45\",\"2019-2020\",\"February\",\"12.1.1.a\",\"Girls registered in AFHC\",\"M12 [Adolscent Health]\",\"59\",\"NA\",\"0\",\"59\"],[\"Chandigarh\",\"Chandigarh\",\"zone4 Polyclinic 45\",\"2019-2020\",\"February\",\"11.3.2\",\"Dengue - Enzyme- Linked Immuno Sorbent Assay (ELISA) Test Positive\",\"M11 [NVBDCP]\",\"0\",\"NA\",\"0\",\"NA\"],[\"Chandigarh\",\"Chandigarh\",\"zone1 GMSH-16\",\"2019-2020\",\"February\",\"1.2.3\",\"Number of PW given\\u00a0TT Booster\",\"M1 [Ante Natal Care (ANC)]\",\"116\",\"NA\",\"67\",\"49\"],[\"Chandigarh\",\"Chandigarh\",\"zone4 Polyclinic 45\",\"2019-2020\",\"February\",\"10.13\",\"Children admitted with upper respiratory infections\",\"M10 [Number of cases of Childhood Diseases (0-5 years)]\",\"0\",\"NA\",\"0\",\"0\"],[\"Chandigarh\",\"Chandigarh\",\"zone4 Polyclinic 45\",\"2019-2020\",\"February\",\"16.3.3\",\"Number of Infant Deaths (1 -12 months) due to Fever related\",\"M16 [Details of deaths reported with probable causes:]\",\"0\",\"NA\",\"0\",\"0\"],[\"Chandigarh\",\"Chandigarh\",\"zone1 GMSH-16\",\"2019-2020\",\"February\",\"2.2.1\",\"Out of total institutional deliveries number of women discharged within 48 hours of delivery\",\"M2 [Deliveries]\",\"720\",\"NA\",\"720\",\"NA\"],[\"Chandigarh\",\"Chandigarh\",\"zone1 GMSH-16\",\"2019-2020\",\"February\",\"4.1.3\",\"Still Birth\",\"M4 [Pregnancy outcome & details of new-born]\",\"48\",\"NA\",\"48\",\"0\"],[\"Chandigarh\",\"Chandigarh\",\"zone1 GMSH-16\",\"2019-2020\",\"February\",\"11.4.1\",\"Tests Conducted for JE\",\"M11 [NVBDCP]\",\"0\",\"NA\",\"0\",\"NA\"],[\"Chandigarh\",\"Chandigarh\",\"zone1 GMSH-16\",\"2019-2020\",\"February\",\"10.8\",\"Childhood Diseases - Acute Flaccid Paralysis(AFP)\",\"M10 [Number of cases of Childhood Diseases (0-5 years)]\",\"1\",\"NA\",\"0\",\"1\"],[\"Chandigarh\",\"Chandigarh\",\"zone1 GMSH-16\",\"2019-2020\",\"February\",\"16.4.5\",\"Number of Child Deaths (1 -5 years) due to Others\",\"M16 [Details of deaths reported with probable causes:]\",\"23\",\"NA\",\"23\",\"NA\"],[\"Chandigarh\",\"Chandigarh\",\"zone2 CHC-22\",\"2019-2020\",\"February\",\"8.17.6\",\"Deaths following female sterilization\",\"M8 [Family Planning]\",\"0\",\"NA\",\"NA\",\"0\"],[\"Chandigarh\",\"Chandigarh\",\"zone2 CHC-22\",\"2019-2020\",\"February\",\"11.2.3\",\"Post-kala-azar dermal leishmaniasis (PKDL) cases\",\"M11 [NVBDCP]\",\"NA\",\"NA\",\"NA\",\"NA\"],[\"Chandigarh\",\"Chandigarh\",\"zone2 CHC-22\",\"2019-2020\",\"February\",\"1.2.5\",\"Number of PW given 360 Calcium tablets\",\"M1 [Ante Natal Care (ANC)]\",\"619\",\"NA\",\"NA\",\"619\"],[\"Chandigarh\",\"Chandigarh\",\"zone2 CHC-22\",\"2019-2020\",\"February\",\"14.1.6\",\"Outpatient - Epilepsy\",\"M14 [Patient Services]\",\"3\",\"NA\",\"NA\",\"3\"],[\"Chandigarh\",\"Chandigarh\",\"zone2 CHC-22\",\"2019-2020\",\"February\",\"14.6.7\",\"Emergency - CVA ( Cerebovascular Disease)\",\"M14 [Patient Services]\",\"0\",\"NA\",\"NA\",\"0\"],[\"Chandigarh\",\"Chandigarh\",\"zone3 Mani-Majra\",\"2019-2020\",\"February\",\"4.3.2.a\",\"Post Abortion\\/ MTP Complications Identified\",\"M4 [Pregnancy outcome & details of new-born]\",\"0\",\"NA\",\"NA\",\"0\"],[\"Chandigarh\",\"Chandigarh\",\"zone3 Mani-Majra\",\"2019-2020\",\"February\",\"4.3.1.b\",\"MTP more than 12 weeks of pregnancy\",\"M4 [Pregnancy outcome & details of new-born]\",\"0\",\"NA\",\"NA\",\"0\"],[\"Chandigarh\",\"Chandigarh\",\"zone3 Mani-Majra\",\"2019-2020\",\"February\",\"11.1.1.a\",\"Total Blood Smears Examined for Malaria\",\"M11 [NVBDCP]\",\"1014\",\"NA\",\"NA\",\"1014\"],[\"Chandigarh\",\"Chandigarh\",\"zone4 Polyclinic 45\",\"2019-2020\",\"February\",\"1.4.4\",\"Number of PW having severe anaemia (Hb<7) treated\",\"M1 [Ante Natal Care (ANC)]\",\"9\",\"NA\",\"0\",\"9\"],[\"Chandigarh\",\"Chandigarh\",\"zone3 Mani-Majra\",\"2019-2020\",\"February\",\"16.5.2\",\"Number of Maternal Deaths due to High fever\",\"M16 [Details of deaths reported with probable causes:]\",\"0\",\"NA\",\"NA\",\"0\"],[\"Chandigarh\",\"Chandigarh\",\"zone3 Mani-Majra\",\"2019-2020\",\"February\",\"16.7.3\",\"Number of Adolscent \\/ Adult deaths due to Respiratory diseases including infections (other than TB)\",\"M16 [Details of deaths reported with probable causes:]\",\"0\",\"NA\",\"NA\",\"0\"],[\"Chandigarh\",\"Chandigarh\",\"zone4 Polyclinic 45\",\"2019-2020\",\"February\",\"2.2.1\",\"Out of total institutional deliveries number of women discharged within 48 hours of delivery\",\"M2 [Deliveries]\",\"10\",\"NA\",\"10\",\"0\"],[\"Chandigarh\",\"Chandigarh\",\"zone4 Polyclinic 45\",\"2019-2020\",\"February\",\"9.1.6\",\"Child immunisation - Pentavalent 1\",\"M9 [CHILD IMMUNISATION]\",\"364\",\"NA\",\"8\",\"356\"],[\"Chandigarh\",\"Chandigarh\",\"zone4 Polyclinic 45\",\"2019-2020\",\"February\",\"9.4.3\",\"Child immunisation - DPT 1st Booster\",\"M9 [CHILD IMMUNISATION]\",\"454\",\"NA\",\"5\",\"449\"],[\"Chandigarh\",\"Chandigarh\",\"zone4 Polyclinic 45\",\"2019-2020\",\"February\",\"9.2.4.b\",\"Children aged between 9 and 11 months fully immunized - Female\",\"M9 [CHILD IMMUNISATION]\",\"184\",\"NA\",\"3\",\"181\"],[\"Chandigarh\",\"Chandigarh\",\"zone4 Polyclinic 45\",\"2019-2020\",\"February\",\"11.4.1\",\"Tests Conducted for JE\",\"M11 [NVBDCP]\",\"NA\",\"NA\",\"NA\",\"NA\"],[\"Chandigarh\",\"Chandigarh\",\"zone1 GMSH-16\",\"2019-2020\",\"February\",\"1.1.1\",\"Out of the total ANC registered, number registered within 1st trimester (within 12 weeks)\",\"M1 [Ante Natal Care (ANC)]\",\"821\",\"NA\",\"634\",\"187\"],[\"Chandigarh\",\"Chandigarh\",\"zone4 Polyclinic 45\",\"2019-2020\",\"February\",\"16.4.5\",\"Number of Child Deaths (1 -5 years) due to Others\",\"M16 [Details of deaths reported with probable causes:]\",\"0\",\"NA\",\"0\",\"0\"],[\"Chandigarh\",\"Chandigarh\",\"zone1 GMSH-16\",\"2019-2020\",\"February\",\"2.2\",\"Number of Institutional Deliveries conducted (Including C-Sections)\",\"M2 [Deliveries]\",\"1644\",\"NA\",\"1644\",\"NA\"],[\"Chandigarh\",\"Chandigarh\",\"zone1 GMSH-16\",\"2019-2020\",\"February\",\"8.17.4\",\"Failures following female sterilization\",\"M8 [Family Planning]\",\"0\",\"NA\",\"0\",\"NA\"],[\"Chandigarh\",\"Chandigarh\",\"zone1 GMSH-16\",\"2019-2020\",\"February\",\"16.8.3\",\"Number of Deaths due to Kala Azar\",\"M16 [Details of deaths reported with probable causes:]\",\"0\",\"NA\",\"0\",\"NA\"],[\"Chandigarh\",\"Chandigarh\",\"zone2 CHC-22\",\"2019-2020\",\"February\",\"1.2.4\",\"Number of PW given 180 Iron Folic Acid (IFA) tablets\",\"M1 [Ante Natal Care (ANC)]\",\"616\",\"NA\",\"NA\",\"616\"],[\"Chandigarh\",\"Chandigarh\",\"zone1 GMSH-16\",\"2019-2020\",\"February\",\"10.13\",\"Children admitted with upper respiratory infections\",\"M10 [Number of cases of Childhood Diseases (0-5 years)]\",\"82\",\"NA\",\"82\",\"NA\"],[\"Chandigarh\",\"Chandigarh\",\"zone1 GMSH-16\",\"2019-2020\",\"February\",\"14.14.1\",\"Number of children admitted in NRC\",\"M14 [Patient Services]\",\"17\",\"NA\",\"17\",\"NA\"],[\"Chandigarh\",\"Chandigarh\",\"zone1 GMSH-16\",\"2019-2020\",\"February\",\"16.3.3\",\"Number of Infant Deaths (1 -12 months) due to Fever related\",\"M16 [Details of deaths reported with probable causes:]\",\"0\",\"NA\",\"0\",\"NA\"],[\"Chandigarh\",\"Chandigarh\",\"zone2 CHC-22\",\"2019-2020\",\"February\",\"2.2.1\",\"Out of total institutional deliveries number of women discharged within 48 hours of delivery\",\"M2 [Deliveries]\",\"0\",\"NA\",\"NA\",\"0\"],[\"Chandigarh\",\"Chandigarh\",\"zone2 CHC-22\",\"2019-2020\",\"February\",\"14.17\",\"Stock out rate of essential Drugs\",\"M14 [Patient Services]\",\"NA\",\"NA\",\"NA\",\"NA\"],[\"Chandigarh\",\"Chandigarh\",\"zone2 CHC-22\",\"2019-2020\",\"February\",\"14.4.4\",\"Inpatient - Asthma, Chronic Obstructive Pulmonary Disease (COPD), Respiratory infections\",\"M14 [Patient Services]\",\"0\",\"NA\",\"NA\",\"0\"],[\"Chandigarh\",\"Chandigarh\",\"zone2 CHC-22\",\"2019-2020\",\"February\",\"11.4.1\",\"Tests Conducted for JE\",\"M11 [NVBDCP]\",\"NA\",\"NA\",\"NA\",\"NA\"],[\"Chandigarh\",\"Chandigarh\",\"zone2 CHC-22\",\"2019-2020\",\"February\",\"10.14\",\"Childhood Diseases - Severe Acute Malnutrition (SAM)\",\"M10 [Number of cases of Childhood Diseases (0-5 years)]\",\"6\",\"NA\",\"NA\",\"6\"],[\"Chandigarh\",\"Chandigarh\",\"zone3 Mani-Majra\",\"2019-2020\",\"February\",\"1.6.2.d\",\"Number of babies diagnosed with  Congenital Syphilis\",\"M1 [Ante Natal Care (ANC)]\",\"0\",\"NA\",\"NA\",\"0\"],[\"Chandigarh\",\"Chandigarh\",\"zone3 Mani-Majra\",\"2019-2020\",\"February\",\"1.6.2.e\",\"Number of babies treated for congenital Syphilis\",\"M1 [Ante Natal Care (ANC)]\",\"0\",\"NA\",\"NA\",\"0\"],[\"Chandigarh\",\"Chandigarh\",\"zone3 Mani-Majra\",\"2019-2020\",\"February\",\"2.1.2\",\"Number of PW given Tablet Misoprostol during home delivery\",\"M2 [Deliveries]\",\"NA\",\"NA\",\"NA\",\"NA\"],[\"Chandigarh\",\"Chandigarh\",\"zone3 Mani-Majra\",\"2019-2020\",\"February\",\"6.1\",\"Women receiving 1st post partum checkup within 48 hours of home delivery\",\"M6 [Post Natal Care (PNC)]\",\"1\",\"NA\",\"NA\",\"1\"],[\"Chandigarh\",\"Chandigarh\",\"zone3 Mani-Majra\",\"2019-2020\",\"February\",\"9.1.2\",\"Child immunisation - BCG\",\"M9 [CHILD IMMUNISATION]\",\"153\",\"NA\",\"NA\",\"153\"],[\"Chandigarh\",\"Chandigarh\",\"zone4 Polyclinic 45\",\"2019-2020\",\"February\",\"9.1.20\",\"Child immunisation - Rotavirus 2\",\"M9 [CHILD IMMUNISATION]\",\"376\",\"NA\",\"6\",\"370\"],[\"Chandigarh\",\"Chandigarh\",\"zone1 GMSH-16\",\"2019-2020\",\"February\",\"4.1.2\",\"Number of Pre term newborns ( < 37 weeks of pregnancy)\",\"M4 [Pregnancy outcome & details of new-born]\",\"191\",\"NA\",\"191\",\"0\"],[\"Chandigarh\",\"Chandigarh\",\"zone1 GMSH-16\",\"2019-2020\",\"February\",\"2.1.3\",\"Number of newborns received 7 Home Based Newborn Care (HBNC) visits in case of Home delivery\",\"M2 [Deliveries]\",\"0\",\"NA\",\"NA\",\"0\"],[\"Chandigarh\",\"Chandigarh\",\"zone1 GMSH-16\",\"2019-2020\",\"February\",\"4.3.1.a\",\"MTP up to 12 weeks of pregnancy\",\"M4 [Pregnancy outcome & details of new-born]\",\"46\",\"NA\",\"46\",\"NA\"],[\"Chandigarh\",\"Chandigarh\",\"zone1 GMSH-16\",\"2019-2020\",\"February\",\"9.1.10\",\"Child immunisation - OPV1\",\"M9 [CHILD IMMUNISATION]\",\"404\",\"NA\",\"232\",\"172\"],[\"Chandigarh\",\"Chandigarh\",\"zone1 GMSH-16\",\"2019-2020\",\"February\",\"9.4.6\",\"Number of children more than 16 months of age who received Japanese Encephalitis (JE) vaccine\",\"M9 [CHILD IMMUNISATION]\",\"0\",\"NA\",\"0\",\"NA\"],[\"Chandigarh\",\"Chandigarh\",\"zone1 GMSH-16\",\"2019-2020\",\"February\",\"10.3\",\"Childhood Diseases - Sepsis\",\"M10 [Number of cases of Childhood Diseases (0-5 years)]\",\"5\",\"NA\",\"5\",\"0\"],[\"Chandigarh\",\"Chandigarh\",\"zone1 GMSH-16\",\"2019-2020\",\"February\",\"14.3.2.b\",\"Inpatient (Female)- Adults\",\"M14 [Patient Services]\",\"4458\",\"NA\",\"4458\",\"NA\"],[\"Chandigarh\",\"Chandigarh\",\"zone1 GMSH-16\",\"2019-2020\",\"February\",\"14.6.4\",\"Emergency - Snake Bite\",\"M14 [Patient Services]\",\"1\",\"NA\",\"1\",\"NA\"],[\"Chandigarh\",\"Chandigarh\",\"zone1 GMSH-16\",\"2019-2020\",\"February\",\"14.15\",\"Number of Rogi Kalyan Samiti (RKS) meetings held\",\"M14 [Patient Services]\",\"0\",\"NA\",\"0\",\"0\"],[\"Chandigarh\",\"Chandigarh\",\"zone1 GMSH-16\",\"2019-2020\",\"February\",\"15.3.1.a\",\"Male HIV - Number Tested\",\"M15 [Laboratory Testing]\",\"2075\",\"NA\",\"2038\",\"37\"],[\"Chandigarh\",\"Chandigarh\",\"zone1 GMSH-16\",\"2019-2020\",\"February\",\"16.4.4\",\"Number of Child Deaths (1 -5 years) due to Measles\",\"M16 [Details of deaths reported with probable causes:]\",\"0\",\"NA\",\"0\",\"NA\"],[\"Chandigarh\",\"Chandigarh\",\"zone2 CHC-22\",\"2019-2020\",\"February\",\"6.4\",\"Number of mothers provided 360 Calcium tablets after delivery\",\"M6 [Post Natal Care (PNC)]\",\"548\",\"NA\",\"NA\",\"548\"],[\"Chandigarh\",\"Chandigarh\",\"zone2 CHC-22\",\"2019-2020\",\"February\",\"8.5\",\"Number of Post Abortion (within 12 days of spontaneous or surgical abortion) IUCD insertions\",\"M8 [Family Planning]\",\"3\",\"NA\",\"NA\",\"3\"],[\"Chandigarh\",\"Chandigarh\",\"zone2 CHC-22\",\"2019-2020\",\"February\",\"1.1.1\",\"Out of the total ANC registered, number registered within 1st trimester (within 12 weeks)\",\"M1 [Ante Natal Care (ANC)]\",\"508\",\"NA\",\"NA\",\"508\"],[\"Chandigarh\",\"Chandigarh\",\"zone2 CHC-22\",\"2019-2020\",\"February\",\"10.2\",\"Childhood Diseases - Asthma\",\"M10 [Number of cases of Childhood Diseases (0-5 years)]\",\"1\",\"NA\",\"NA\",\"1\"],[\"Chandigarh\",\"Chandigarh\",\"zone3 Mani-Majra\",\"2019-2020\",\"February\",\"1.4.1\",\"Number of PW tested for Haemoglobin (Hb ) 4 or more than 4 times for respective ANCs\",\"M1 [Ante Natal Care (ANC)]\",\"430\",\"NA\",\"NA\",\"430\"],[\"Chandigarh\",\"Chandigarh\",\"zone2 CHC-22\",\"2019-2020\",\"February\",\"16.2.2\",\"Infant Deaths up to 4 weeks due to Asphyxia\",\"M16 [Details of deaths reported with probable causes:]\",\"NA\",\"NA\",\"NA\",\"NA\"],[\"Chandigarh\",\"Chandigarh\",\"zone2 CHC-22\",\"2019-2020\",\"February\",\"16.4.5\",\"Number of Child Deaths (1 -5 years) due to Others\",\"M16 [Details of deaths reported with probable causes:]\",\"NA\",\"NA\",\"NA\",\"NA\"],[\"Chandigarh\",\"Chandigarh\",\"zone2 CHC-22\",\"2019-2020\",\"February\",\"16.5.4\",\"Number of Maternal Deaths due to Obstructed\\/prolonged labour\",\"M16 [Details of deaths reported with probable causes:]\",\"NA\",\"NA\",\"NA\",\"NA\"],[\"Chandigarh\",\"Chandigarh\",\"zone3 Mani-Majra\",\"2019-2020\",\"February\",\"9.1.21\",\"Child immunisation - Rotavirus 3\",\"M9 [CHILD IMMUNISATION]\",\"441\",\"NA\",\"NA\",\"441\"],[\"Chandigarh\",\"Chandigarh\",\"zone3 Mani-Majra\",\"2019-2020\",\"February\",\"16.7.12\",\"Number of Adolscent \\/ Adult deaths due to Known Acute Disease\",\"M16 [Details of deaths reported with probable causes:]\",\"0\",\"NA\",\"NA\",\"0\"],[\"Chandigarh\",\"Chandigarh\",\"zone3 Mani-Majra\",\"2019-2020\",\"February\",\"15.3.2.a\",\"Female Non ANC HIV - Number Tested\",\"M15 [Laboratory Testing]\",\"441\",\"NA\",\"NA\",\"441\"],[\"Chandigarh\",\"Chandigarh\",\"zone4 Polyclinic 45\",\"2019-2020\",\"February\",\"2.1.3\",\"Number of newborns received 7 Home Based Newborn Care (HBNC) visits in case of Home delivery\",\"M2 [Deliveries]\",\"2\",\"NA\",\"NA\",\"2\"],[\"Chandigarh\",\"Chandigarh\",\"zone4 Polyclinic 45\",\"2019-2020\",\"February\",\"2.2\",\"Number of Institutional Deliveries conducted (Including C-Sections)\",\"M2 [Deliveries]\",\"120\",\"NA\",\"30\",\"90\"],[\"Chandigarh\",\"Chandigarh\",\"zone4 Polyclinic 45\",\"2019-2020\",\"February\",\"4.3.1.a\",\"MTP up to 12 weeks of pregnancy\",\"M4 [Pregnancy outcome & details of new-born]\",\"12\",\"NA\",\"4\",\"8\"],[\"Chandigarh\",\"Chandigarh\",\"zone4 Polyclinic 45\",\"2019-2020\",\"February\",\"9.4.6\",\"Number of children more than 16 months of age who received Japanese Encephalitis (JE) vaccine\",\"M9 [CHILD IMMUNISATION]\",\"0\",\"NA\",\"NA\",\"0\"],[\"Chandigarh\",\"Chandigarh\",\"zone4 Polyclinic 45\",\"2019-2020\",\"February\",\"9.3.3\",\"Child immunisation - JE 1st dose\",\"M9 [CHILD IMMUNISATION]\",\"0\",\"NA\",\"NA\",\"0\"],[\"Chandigarh\",\"Chandigarh\",\"zone4 Polyclinic 45\",\"2019-2020\",\"February\",\"9.9\",\"Number of children (6-59 months) provided 8-10 doses (1ml) of IFA syrup (Bi weekly)\",\"M9 [CHILD IMMUNISATION]\",\"5\",\"NA\",\"NA\",\"5\"],[\"Chandigarh\",\"Chandigarh\",\"zone4 Polyclinic 45\",\"2019-2020\",\"February\",\"10.3\",\"Childhood Diseases - Sepsis\",\"M10 [Number of cases of Childhood Diseases (0-5 years)]\",\"13\",\"NA\",\"4\",\"9\"],[\"Chandigarh\",\"Chandigarh\",\"zone4 Polyclinic 45\",\"2019-2020\",\"February\",\"14.6.4\",\"Emergency - Snake Bite\",\"M14 [Patient Services]\",\"0\",\"NA\",\"0\",\"0\"]]}'\n",
    "import json\n",
    "#jsonDataAsPythonValue = json.loads(stringOfJsonData)\n",
    "#print(jsonDataAsPythonValue)\n",
    "#convertedjson = json.dumps({'Name':'Suman','Marks':90,'Marks1':97,'Grade':'A'})\n",
    "#convertedjson\n"
   ]
  },
  {
   "cell_type": "code",
   "execution_count": 22,
   "metadata": {},
   "outputs": [
    {
     "name": "stdout",
     "output_type": "stream",
     "text": [
      "Class  Game     Gender\n",
      "10     Chess    M         2\n",
      "       Cricket  M         2\n",
      "       Hockey   F         2\n",
      "                M         2\n",
      "11     Chess    F         2\n",
      "       Cricket  M         4\n",
      "12     Chess    F         2\n",
      "       Cricket  F         2\n",
      "       Hockey   F         2\n",
      "                M         4\n",
      "dtype: int64\n"
     ]
    }
   ],
   "source": [
    "\n",
    "g=df.groupby([\"Class\",\"Game\",\"Gender\"]).size()\n",
    "print(g)\n",
    "#from matplotlib import pyplot as plt\n",
    "#plt.bar(g.index,g.values)\n",
    "\n"
   ]
  },
  {
   "cell_type": "code",
   "execution_count": 78,
   "metadata": {},
   "outputs": [
    {
     "data": {
      "text/html": [
       "<div>\n",
       "<style scoped>\n",
       "    .dataframe tbody tr th:only-of-type {\n",
       "        vertical-align: middle;\n",
       "    }\n",
       "\n",
       "    .dataframe tbody tr th {\n",
       "        vertical-align: top;\n",
       "    }\n",
       "\n",
       "    .dataframe thead th {\n",
       "        text-align: right;\n",
       "    }\n",
       "</style>\n",
       "<table border=\"1\" class=\"dataframe\">\n",
       "  <thead>\n",
       "    <tr style=\"text-align: right;\">\n",
       "      <th></th>\n",
       "      <th>RollNo</th>\n",
       "      <th>Name</th>\n",
       "      <th>Game</th>\n",
       "      <th>Gender</th>\n",
       "      <th>Marks</th>\n",
       "    </tr>\n",
       "    <tr>\n",
       "      <th>Class</th>\n",
       "      <th></th>\n",
       "      <th></th>\n",
       "      <th></th>\n",
       "      <th></th>\n",
       "      <th></th>\n",
       "    </tr>\n",
       "  </thead>\n",
       "  <tbody>\n",
       "    <tr>\n",
       "      <th>10</th>\n",
       "      <td>8</td>\n",
       "      <td>8</td>\n",
       "      <td>8</td>\n",
       "      <td>8</td>\n",
       "      <td>8</td>\n",
       "    </tr>\n",
       "    <tr>\n",
       "      <th>11</th>\n",
       "      <td>6</td>\n",
       "      <td>6</td>\n",
       "      <td>6</td>\n",
       "      <td>6</td>\n",
       "      <td>6</td>\n",
       "    </tr>\n",
       "    <tr>\n",
       "      <th>12</th>\n",
       "      <td>10</td>\n",
       "      <td>10</td>\n",
       "      <td>10</td>\n",
       "      <td>10</td>\n",
       "      <td>10</td>\n",
       "    </tr>\n",
       "  </tbody>\n",
       "</table>\n",
       "</div>"
      ],
      "text/plain": [
       "       RollNo  Name  Game  Gender  Marks\n",
       "Class                                   \n",
       "10          8     8     8       8      8\n",
       "11          6     6     6       6      6\n",
       "12         10    10    10      10     10"
      ]
     },
     "execution_count": 78,
     "metadata": {},
     "output_type": "execute_result"
    }
   ],
   "source": [
    "df.groupby([\"Class\"]).count()\n"
   ]
  },
  {
   "cell_type": "code",
   "execution_count": 11,
   "metadata": {},
   "outputs": [
    {
     "data": {
      "text/html": [
       "<div>\n",
       "<style scoped>\n",
       "    .dataframe tbody tr th:only-of-type {\n",
       "        vertical-align: middle;\n",
       "    }\n",
       "\n",
       "    .dataframe tbody tr th {\n",
       "        vertical-align: top;\n",
       "    }\n",
       "\n",
       "    .dataframe thead th {\n",
       "        text-align: right;\n",
       "    }\n",
       "</style>\n",
       "<table border=\"1\" class=\"dataframe\">\n",
       "  <thead>\n",
       "    <tr style=\"text-align: right;\">\n",
       "      <th></th>\n",
       "      <th>RollNo</th>\n",
       "      <th>Name</th>\n",
       "      <th>Class</th>\n",
       "      <th>Game</th>\n",
       "      <th>Gender</th>\n",
       "      <th>Marks</th>\n",
       "    </tr>\n",
       "  </thead>\n",
       "  <tbody>\n",
       "    <tr>\n",
       "      <th>1</th>\n",
       "      <td>10002</td>\n",
       "      <td>rahul</td>\n",
       "      <td>10</td>\n",
       "      <td>Hockey</td>\n",
       "      <td>F</td>\n",
       "      <td>88</td>\n",
       "    </tr>\n",
       "    <tr>\n",
       "      <th>10</th>\n",
       "      <td>10011</td>\n",
       "      <td>manish</td>\n",
       "      <td>12</td>\n",
       "      <td>Hockey</td>\n",
       "      <td>F</td>\n",
       "      <td>58</td>\n",
       "    </tr>\n",
       "    <tr>\n",
       "      <th>13</th>\n",
       "      <td>10014</td>\n",
       "      <td>sushil</td>\n",
       "      <td>10</td>\n",
       "      <td>Hockey</td>\n",
       "      <td>F</td>\n",
       "      <td>88</td>\n",
       "    </tr>\n",
       "    <tr>\n",
       "      <th>22</th>\n",
       "      <td>10023</td>\n",
       "      <td>arti</td>\n",
       "      <td>12</td>\n",
       "      <td>Hockey</td>\n",
       "      <td>F</td>\n",
       "      <td>58</td>\n",
       "    </tr>\n",
       "  </tbody>\n",
       "</table>\n",
       "</div>"
      ],
      "text/plain": [
       "    RollNo    Name  Class    Game Gender  Marks\n",
       "1    10002   rahul     10  Hockey      F     88\n",
       "10   10011  manish     12  Hockey      F     58\n",
       "13   10014  sushil     10  Hockey      F     88\n",
       "22   10023    arti     12  Hockey      F     58"
      ]
     },
     "execution_count": 11,
     "metadata": {},
     "output_type": "execute_result"
    }
   ],
   "source": [
    "df[df['Class'] == 10].count()\n",
    "df[df['Class'] == 11].count()\n",
    "g = df.groupby(\"Class\")\n",
    "g.groups[10]\n",
    "\n",
    "dfhockey_females = df[(df[\"Game\"]==\"Hockey\") & (df[\"Gender\"]==\"F\") ]\n",
    "dfcricket=df[df[\"Game\"]==\"Cricket\"]\n",
    "\n",
    "dfhockey_females\n"
   ]
  },
  {
   "cell_type": "code",
   "execution_count": 39,
   "metadata": {},
   "outputs": [
    {
     "data": {
      "text/plain": [
       "{('Chess', 'F'): [5, 8, 17, 20], ('Chess', 'M'): [9, 21], ('Cricket', 'F'): [6, 18], ('Cricket', 'M'): [0, 2, 3, 12, 14, 15], ('Hockey', 'F'): [1, 10, 13, 22], ('Hockey', 'M'): [4, 7, 11, 16, 19, 23]}"
      ]
     },
     "execution_count": 39,
     "metadata": {},
     "output_type": "execute_result"
    }
   ],
   "source": [
    "g= df.groupby([\"Game\",\"Gender\"])\n",
    "g.groups"
   ]
  },
  {
   "cell_type": "code",
   "execution_count": 32,
   "metadata": {},
   "outputs": [
    {
     "data": {
      "text/plain": [
       "14"
      ]
     },
     "execution_count": 32,
     "metadata": {},
     "output_type": "execute_result"
    }
   ],
   "source": [
    "df[['Gender','Marks']]\n",
    "cnntmalefem = df['Gender'].value_counts()\n",
    "cnntmalefem['M']\n",
    "\n",
    "\n"
   ]
  },
  {
   "cell_type": "code",
   "execution_count": 12,
   "metadata": {},
   "outputs": [
    {
     "data": {
      "text/plain": [
       "{('M', 'Chess'): [9, 21], ('M', 'Cricket'): [0, 2, 3, 12, 14, 15], ('M', 'Hockey'): [4, 7, 11, 16, 19, 23]}"
      ]
     },
     "execution_count": 12,
     "metadata": {},
     "output_type": "execute_result"
    }
   ],
   "source": [
    "df[df[\"Gender\"]==\"M\"].groupby([\"Gender\",\"Game\"]).groups\n",
    "\n",
    "#select gender,game count(*) from class where gender=\"M\" group by gender,game"
   ]
  },
  {
   "cell_type": "code",
   "execution_count": 41,
   "metadata": {},
   "outputs": [
    {
     "data": {
      "text/plain": [
       "12    10\n",
       "10     8\n",
       "11     6\n",
       "Name: Class, dtype: int64"
      ]
     },
     "execution_count": 41,
     "metadata": {},
     "output_type": "execute_result"
    }
   ],
   "source": [
    "df['Class'].value_counts()"
   ]
  },
  {
   "cell_type": "code",
   "execution_count": null,
   "metadata": {},
   "outputs": [],
   "source": [
    "grouped = df.groupby(\"Class\")"
   ]
  },
  {
   "cell_type": "code",
   "execution_count": null,
   "metadata": {},
   "outputs": [],
   "source": [
    "grouped.groups"
   ]
  },
  {
   "cell_type": "code",
   "execution_count": null,
   "metadata": {},
   "outputs": [],
   "source": [
    "grouped.groups[10].size"
   ]
  },
  {
   "cell_type": "code",
   "execution_count": 24,
   "metadata": {},
   "outputs": [
    {
     "data": {
      "text/plain": [
       "Game\n",
       "Chess      52.333333\n",
       "Cricket    90.500000\n",
       "Hockey     69.200000\n",
       "Name: Marks, dtype: float64"
      ]
     },
     "execution_count": 24,
     "metadata": {},
     "output_type": "execute_result"
    }
   ],
   "source": [
    "#Q find the average marks obtained gamewise \n",
    "grouped= df.groupby(\"Game\")[\"Marks\"].mean()\n",
    "grouped\n",
    "\n",
    "\n",
    "sql\n",
    "\n",
    "select average(marks) from student group by game\n"
   ]
  },
  {
   "cell_type": "code",
   "execution_count": 42,
   "metadata": {},
   "outputs": [
    {
     "data": {
      "text/plain": [
       "Gender  Game   \n",
       "F       Chess      4\n",
       "        Hockey     4\n",
       "        Cricket    2\n",
       "M       Cricket    6\n",
       "        Hockey     6\n",
       "        Chess      2\n",
       "Name: Game, dtype: int64"
      ]
     },
     "execution_count": 42,
     "metadata": {},
     "output_type": "execute_result"
    }
   ],
   "source": [
    "df.groupby('Gender').Game.value_counts()\n",
    "\n",
    "select gender,game,count(*) from student group by gender, game"
   ]
  },
  {
   "cell_type": "code",
   "execution_count": 20,
   "metadata": {},
   "outputs": [],
   "source": [
    "a=df.groupby('Gender').size()"
   ]
  },
  {
   "cell_type": "code",
   "execution_count": null,
   "metadata": {},
   "outputs": [],
   "source": []
  },
  {
   "cell_type": "code",
   "execution_count": 28,
   "metadata": {},
   "outputs": [
    {
     "data": {
      "text/plain": [
       "Class  Game   \n",
       "10     Chess      2\n",
       "       Cricket    2\n",
       "       Hockey     4\n",
       "11     Chess      2\n",
       "       Cricket    4\n",
       "12     Chess      2\n",
       "       Cricket    2\n",
       "       Hockey     6\n",
       "dtype: int64"
      ]
     },
     "execution_count": 28,
     "metadata": {},
     "output_type": "execute_result"
    }
   ],
   "source": [
    "g1 = df.groupby([\"Class\", \"Game\" ]).size()\n",
    "g1"
   ]
  },
  {
   "cell_type": "code",
   "execution_count": 72,
   "metadata": {},
   "outputs": [
    {
     "data": {
      "text/plain": [
       "Class  Game     Gender\n",
       "10     Chess    M         2\n",
       "       Cricket  M         2\n",
       "       Hockey   F         2\n",
       "                M         2\n",
       "11     Chess    F         2\n",
       "       Cricket  M         4\n",
       "12     Chess    F         2\n",
       "       Cricket  F         2\n",
       "       Hockey   F         2\n",
       "                M         4\n",
       "dtype: int64"
      ]
     },
     "execution_count": 72,
     "metadata": {},
     "output_type": "execute_result"
    }
   ],
   "source": [
    "g1 = df.groupby([\"Class\", \"Game\",'Gender' ]).size()\n",
    "#g1[\"Marks\"].agg(sum)\n",
    "g1\n",
    "#g1.plot(kind=\"bar\")"
   ]
  },
  {
   "cell_type": "code",
   "execution_count": 79,
   "metadata": {},
   "outputs": [],
   "source": [
    "g1 = df.groupby([ \"Game\",'Gender','Class' ])\n",
    "#g1[\"Marks\"].agg(marks)\n"
   ]
  },
  {
   "cell_type": "code",
   "execution_count": 80,
   "metadata": {},
   "outputs": [
    {
     "data": {
      "text/plain": [
       "<AxesSubplot:xlabel='Game,Gender'>"
      ]
     },
     "execution_count": 80,
     "metadata": {},
     "output_type": "execute_result"
    },
    {
     "data": {
      "image/png": "[encoded data removed]",
      "text/plain": [
       "<Figure size 432x288 with 1 Axes>"
      ]
     },
     "metadata": {
      "needs_background": "light"
     },
     "output_type": "display_data"
    }
   ],
   "source": [
    "s=g1[\"Class\"].size()\n",
    "s\n",
    "s.plot(kind=\"bar\", color=['red','blue','cyan'])"
   ]
  },
  {
   "cell_type": "code",
   "execution_count": 50,
   "metadata": {},
   "outputs": [
    {
     "data": {
      "text/plain": [
       "Class  Game   \n",
       "10     Chess      2\n",
       "       Cricket    2\n",
       "       Hockey     4\n",
       "11     Chess      2\n",
       "       Cricket    4\n",
       "12     Chess      2\n",
       "       Cricket    2\n",
       "       Hockey     6\n",
       "dtype: int64"
      ]
     },
     "execution_count": 50,
     "metadata": {},
     "output_type": "execute_result"
    }
   ],
   "source": [
    "g1 = df.groupby([\"Class\", \"Game\" ]).size()\n",
    "\n",
    "g1"
   ]
  },
  {
   "cell_type": "code",
   "execution_count": 26,
   "metadata": {},
   "outputs": [
    {
     "name": "stdout",
     "output_type": "stream",
     "text": [
      "<class 'pandas.core.series.Series'>\n"
     ]
    },
    {
     "data": {
      "text/plain": [
       "<AxesSubplot:xlabel='Class'>"
      ]
     },
     "execution_count": 26,
     "metadata": {},
     "output_type": "execute_result"
    },
    {
     "data": {
      "image/png": "[encoded data removed]",
      "text/plain": [
       "<Figure size 432x288 with 1 Axes>"
      ]
     },
     "metadata": {
      "needs_background": "light"
     },
     "output_type": "display_data"
    }
   ],
   "source": [
    "g3=df.groupby(\"Class\")\n",
    "s=g3['Class'].size()\n",
    "print(type(s))\n",
    "s.plot(kind=\"bar\")"
   ]
  },
  {
   "cell_type": "code",
   "execution_count": null,
   "metadata": {},
   "outputs": [],
   "source": [
    "df['Class'].value_counts()"
   ]
  },
  {
   "cell_type": "code",
   "execution_count": null,
   "metadata": {},
   "outputs": [],
   "source": [
    "g=df.groupby(\"Class\").groups"
   ]
  },
  {
   "cell_type": "code",
   "execution_count": null,
   "metadata": {},
   "outputs": [],
   "source": [
    "g.values()"
   ]
  },
  {
   "cell_type": "code",
   "execution_count": null,
   "metadata": {},
   "outputs": [],
   "source": [
    "for key,value in g.items():\n",
    "    print(key, \"  \", value)"
   ]
  },
  {
   "cell_type": "code",
   "execution_count": null,
   "metadata": {},
   "outputs": [],
   "source": [
    "g=df.groupby(\"Class\")\n",
    "print(type(g))\n",
    "print(g.groups[11].size)\n",
    "print(g.groups[10].size)\n",
    "print(g.groups[12].size)"
   ]
  },
  {
   "cell_type": "code",
   "execution_count": 75,
   "metadata": {},
   "outputs": [
    {
     "data": {
      "text/plain": [
       "Game     Class  Gender\n",
       "Chess    10     M          92\n",
       "         11     F          68\n",
       "         12     F         154\n",
       "Cricket  10     M         198\n",
       "         11     M         352\n",
       "         12     F         174\n",
       "Hockey   10     F         176\n",
       "                M         152\n",
       "         12     F         116\n",
       "                M         248\n",
       "Name: Marks, dtype: int64"
      ]
     },
     "execution_count": 75,
     "metadata": {},
     "output_type": "execute_result"
    }
   ],
   "source": [
    "gameclassgender = df.groupby([\"Game\", \"Class\", \"Gender\"])\n",
    "#gameclassgender[\"Marks\"].agg(sum)\n",
    "gameclassgender[\"Marks\"].agg(sum)"
   ]
  },
  {
   "cell_type": "code",
   "execution_count": 14,
   "metadata": {},
   "outputs": [
    {
     "data": {
      "text/plain": [
       "Game     Class  Gender\n",
       "Chess    10     M          92\n",
       "         11     F          68\n",
       "         12     F         154\n",
       "Cricket  10     M         198\n",
       "         11     M         352\n",
       "         12     F         174\n",
       "Hockey   10     F         176\n",
       "                M         152\n",
       "         12     F         116\n",
       "                M         248\n",
       "Name: Marks, dtype: int64"
      ]
     },
     "execution_count": 14,
     "metadata": {},
     "output_type": "execute_result"
    }
   ],
   "source": [
    "classgame = df.groupby([\"Game\", \"Class\", \"Gender\"])\n",
    "classgame[\"Marks\"].agg(sum)\n"
   ]
  },
  {
   "cell_type": "code",
   "execution_count": 15,
   "metadata": {},
   "outputs": [
    {
     "name": "stdout",
     "output_type": "stream",
     "text": [
      "Game     Class  Gender\n",
      "Chess    10     M         2\n",
      "         11     F         2\n",
      "         12     F         2\n",
      "Cricket  10     M         2\n",
      "         11     M         4\n",
      "         12     F         2\n",
      "Hockey   10     F         2\n",
      "                M         2\n",
      "         12     F         2\n",
      "                M         4\n",
      "Name: Class, dtype: int64\n"
     ]
    },
    {
     "data": {
      "text/plain": [
       "<AxesSubplot:xlabel='Game,Class,Gender'>"
      ]
     },
     "execution_count": 15,
     "metadata": {},
     "output_type": "execute_result"
    },
    {
     "data": {
      "image/png": "[encoded data removed]",
      "text/plain": [
       "<Figure size 432x288 with 1 Axes>"
      ]
     },
     "metadata": {
      "needs_background": "light"
     },
     "output_type": "display_data"
    }
   ],
   "source": [
    "cnt =classgame['Class'].size()\n",
    "print(cnt)\n",
    "cnt.plot(kind=\"bar\")"
   ]
  },
  {
   "cell_type": "code",
   "execution_count": 17,
   "metadata": {},
   "outputs": [
    {
     "name": "stdout",
     "output_type": "stream",
     "text": [
      "Game     Class  Gender\n",
      "Chess    10     M         2\n",
      "         11     F         2\n",
      "         12     F         2\n",
      "Cricket  10     M         2\n",
      "         11     M         4\n",
      "         12     F         2\n",
      "Hockey   10     F         2\n",
      "                M         2\n",
      "         12     F         2\n",
      "                M         4\n",
      "dtype: int64\n"
     ]
    },
    {
     "data": {
      "text/plain": [
       "<AxesSubplot:xlabel='Game,Class,Gender'>"
      ]
     },
     "execution_count": 17,
     "metadata": {},
     "output_type": "execute_result"
    },
    {
     "data": {
      "image/png": "[encoded data removed]",
      "text/plain": [
       "<Figure size 432x288 with 1 Axes>"
      ]
     },
     "metadata": {
      "needs_background": "light"
     },
     "output_type": "display_data"
    }
   ],
   "source": [
    "s=classgame[['Game', 'Class','Gender']].size()\n",
    "print(s)\n",
    "s.plot(kind=\"bar\")"
   ]
  },
  {
   "cell_type": "code",
   "execution_count": 81,
   "metadata": {},
   "outputs": [
    {
     "name": "stdout",
     "output_type": "stream",
     "text": [
      "[0 1 2 3 4]\n",
      "[0.2, 1.2, 2.2, 3.2, 4.2]\n",
      "[0.4, 1.4, 2.4000000000000004, 3.4000000000000004, 4.4]\n"
     ]
    }
   ],
   "source": [
    "x=[\"USA\", \"Russia\", \"Germany\", \"China\", \"Ghana\"]\n",
    "import matplotlib.pyplot as plt\n",
    "import pylab as pl\n",
    "w=0.2\n",
    "bar1=np.arange(len(x))\n",
    "bar2=[ i+w for i in bar1]\n",
    "bar3=[ i+w for i in bar2]\n",
    "print(bar1)\n",
    "print(bar2)\n",
    "print(bar3)"
   ]
  },
  {
   "cell_type": "code",
   "execution_count": 84,
   "metadata": {},
   "outputs": [
    {
     "data": {
      "text/plain": [
       "array([0, 1, 2, 3, 4, 5, 6, 7, 8, 9])"
      ]
     },
     "execution_count": 84,
     "metadata": {},
     "output_type": "execute_result"
    }
   ],
   "source": [
    "bar1=np.arange(10)\n",
    "bar1"
   ]
  },
  {
   "cell_type": "code",
   "execution_count": 82,
   "metadata": {},
   "outputs": [
    {
     "data": {
      "text/plain": [
       "([<matplotlib.axis.XTick at 0x154843e6a90>,\n",
       "  <matplotlib.axis.XTick at 0x154843e6a60>,\n",
       "  <matplotlib.axis.XTick at 0x154843ead90>,\n",
       "  <matplotlib.axis.XTick at 0x15483fc8850>,\n",
       "  <matplotlib.axis.XTick at 0x15483f9d0a0>],\n",
       " [Text(0.2, 0, 'USA'),\n",
       "  Text(1.2, 0, 'Russia'),\n",
       "  Text(2.2, 0, 'Germany'),\n",
       "  Text(3.2, 0, 'China'),\n",
       "  Text(4.2, 0, 'Ghana')])"
      ]
     },
     "execution_count": 82,
     "metadata": {},
     "output_type": "execute_result"
    },
    {
     "data": {
      "image/png": "[encoded data removed]",
      "text/plain": [
       "<Figure size 576x288 with 1 Axes>"
      ]
     },
     "metadata": {
      "needs_background": "light"
     },
     "output_type": "display_data"
    }
   ],
   "source": [
    "x=[\"USA\", \"Russia\", \"Germany\", \"China\", \"Ghana\"]\n",
    "import matplotlib.pyplot as plt\n",
    "import pylab as pl\n",
    "w=0.2\n",
    "bar1=np.arange(len(x))\n",
    "bar2=[ i+w for i in bar1]\n",
    "bar3=[ i+w for i in bar2]\n",
    "\n",
    "gold=[40,10,20,30,45]\n",
    "silver=[30,20,10,5,34]\n",
    "bronze=[78,34,23,56,45]\n",
    "\n",
    "plt.figure(figsize=(8,4))\n",
    "plt.bar(bar1, gold,0.2 ,label=\"Gold\")\n",
    "plt.bar(bar2, silver, 0.2, label=\"Silver\")\n",
    "plt.bar(bar3, bronze, 0.2,label =\"Bronze\")\n",
    "\n",
    "plt.xlabel(\"Countries\")\n",
    "plt.ylabel(\"Medals\")\n",
    "plt.title(\"Countries and Medals\")\n",
    "plt.legend()\n",
    "plt.xticks(bar1+w,x)\n"
   ]
  },
  {
   "cell_type": "code",
   "execution_count": 21,
   "metadata": {},
   "outputs": [
    {
     "data": {
      "text/html": [
       "<div>\n",
       "<style scoped>\n",
       "    .dataframe tbody tr th:only-of-type {\n",
       "        vertical-align: middle;\n",
       "    }\n",
       "\n",
       "    .dataframe tbody tr th {\n",
       "        vertical-align: top;\n",
       "    }\n",
       "\n",
       "    .dataframe thead th {\n",
       "        text-align: right;\n",
       "    }\n",
       "</style>\n",
       "<table border=\"1\" class=\"dataframe\">\n",
       "  <thead>\n",
       "    <tr style=\"text-align: right;\">\n",
       "      <th></th>\n",
       "      <th>RollNo</th>\n",
       "      <th>Name</th>\n",
       "      <th>Class</th>\n",
       "      <th>Game</th>\n",
       "      <th>Gender</th>\n",
       "      <th>Marks</th>\n",
       "    </tr>\n",
       "  </thead>\n",
       "  <tbody>\n",
       "    <tr>\n",
       "      <th>0</th>\n",
       "      <td>10001</td>\n",
       "      <td>abc</td>\n",
       "      <td>10</td>\n",
       "      <td>Cricket</td>\n",
       "      <td>M</td>\n",
       "      <td>99</td>\n",
       "    </tr>\n",
       "    <tr>\n",
       "      <th>3</th>\n",
       "      <td>10004</td>\n",
       "      <td>anu</td>\n",
       "      <td>11</td>\n",
       "      <td>Cricket</td>\n",
       "      <td>M</td>\n",
       "      <td>99</td>\n",
       "    </tr>\n",
       "    <tr>\n",
       "      <th>12</th>\n",
       "      <td>10013</td>\n",
       "      <td>rqtyui</td>\n",
       "      <td>10</td>\n",
       "      <td>Cricket</td>\n",
       "      <td>M</td>\n",
       "      <td>99</td>\n",
       "    </tr>\n",
       "    <tr>\n",
       "      <th>15</th>\n",
       "      <td>10016</td>\n",
       "      <td>rajeev</td>\n",
       "      <td>11</td>\n",
       "      <td>Cricket</td>\n",
       "      <td>M</td>\n",
       "      <td>99</td>\n",
       "    </tr>\n",
       "  </tbody>\n",
       "</table>\n",
       "</div>"
      ],
      "text/plain": [
       "    RollNo    Name  Class     Game Gender  Marks\n",
       "0    10001     abc     10  Cricket      M     99\n",
       "3    10004     anu     11  Cricket      M     99\n",
       "12   10013  rqtyui     10  Cricket      M     99\n",
       "15   10016  rajeev     11  Cricket      M     99"
      ]
     },
     "execution_count": 21,
     "metadata": {},
     "output_type": "execute_result"
    }
   ],
   "source": [
    "df.loc[ df['Marks']>90,:]"
   ]
  },
  {
   "cell_type": "markdown",
   "metadata": {},
   "source": [
    "Q Extract the dta of students where marks > 80"
   ]
  },
  {
   "cell_type": "code",
   "execution_count": null,
   "metadata": {},
   "outputs": [],
   "source": [
    "#FILTERING\n",
    "#Q see the data of male students having marks > 80 and playing cricket "
   ]
  },
  {
   "cell_type": "code",
   "execution_count": 22,
   "metadata": {},
   "outputs": [
    {
     "data": {
      "text/html": [
       "<div>\n",
       "<style scoped>\n",
       "    .dataframe tbody tr th:only-of-type {\n",
       "        vertical-align: middle;\n",
       "    }\n",
       "\n",
       "    .dataframe tbody tr th {\n",
       "        vertical-align: top;\n",
       "    }\n",
       "\n",
       "    .dataframe thead th {\n",
       "        text-align: right;\n",
       "    }\n",
       "</style>\n",
       "<table border=\"1\" class=\"dataframe\">\n",
       "  <thead>\n",
       "    <tr style=\"text-align: right;\">\n",
       "      <th></th>\n",
       "      <th>Class</th>\n",
       "      <th>Gender</th>\n",
       "    </tr>\n",
       "  </thead>\n",
       "  <tbody>\n",
       "    <tr>\n",
       "      <th>0</th>\n",
       "      <td>10</td>\n",
       "      <td>M</td>\n",
       "    </tr>\n",
       "    <tr>\n",
       "      <th>2</th>\n",
       "      <td>11</td>\n",
       "      <td>M</td>\n",
       "    </tr>\n",
       "    <tr>\n",
       "      <th>3</th>\n",
       "      <td>11</td>\n",
       "      <td>M</td>\n",
       "    </tr>\n",
       "    <tr>\n",
       "      <th>6</th>\n",
       "      <td>12</td>\n",
       "      <td>F</td>\n",
       "    </tr>\n",
       "    <tr>\n",
       "      <th>12</th>\n",
       "      <td>10</td>\n",
       "      <td>M</td>\n",
       "    </tr>\n",
       "    <tr>\n",
       "      <th>14</th>\n",
       "      <td>11</td>\n",
       "      <td>M</td>\n",
       "    </tr>\n",
       "    <tr>\n",
       "      <th>15</th>\n",
       "      <td>11</td>\n",
       "      <td>M</td>\n",
       "    </tr>\n",
       "    <tr>\n",
       "      <th>18</th>\n",
       "      <td>12</td>\n",
       "      <td>F</td>\n",
       "    </tr>\n",
       "  </tbody>\n",
       "</table>\n",
       "</div>"
      ],
      "text/plain": [
       "    Class Gender\n",
       "0      10      M\n",
       "2      11      M\n",
       "3      11      M\n",
       "6      12      F\n",
       "12     10      M\n",
       "14     11      M\n",
       "15     11      M\n",
       "18     12      F"
      ]
     },
     "execution_count": 22,
     "metadata": {},
     "output_type": "execute_result"
    }
   ],
   "source": [
    "c1=df[((df[\"Gender\"]==\"M\") & (df[\"Marks\"]>80)) | (df[\"Game\"]==\"Cricket\")] [[\"Class\",\"Gender\"]]\n",
    "c1"
   ]
  },
  {
   "cell_type": "code",
   "execution_count": 77,
   "metadata": {},
   "outputs": [
    {
     "data": {
      "text/html": [
       "<div>\n",
       "<style scoped>\n",
       "    .dataframe tbody tr th:only-of-type {\n",
       "        vertical-align: middle;\n",
       "    }\n",
       "\n",
       "    .dataframe tbody tr th {\n",
       "        vertical-align: top;\n",
       "    }\n",
       "\n",
       "    .dataframe thead th {\n",
       "        text-align: right;\n",
       "    }\n",
       "</style>\n",
       "<table border=\"1\" class=\"dataframe\">\n",
       "  <thead>\n",
       "    <tr style=\"text-align: right;\">\n",
       "      <th></th>\n",
       "      <th>RollNo</th>\n",
       "      <th>Name</th>\n",
       "      <th>Class</th>\n",
       "      <th>Game</th>\n",
       "      <th>Gender</th>\n",
       "      <th>Marks</th>\n",
       "    </tr>\n",
       "  </thead>\n",
       "  <tbody>\n",
       "    <tr>\n",
       "      <th>6</th>\n",
       "      <td>10007</td>\n",
       "      <td>tina</td>\n",
       "      <td>12</td>\n",
       "      <td>Cricket</td>\n",
       "      <td>F</td>\n",
       "      <td>87</td>\n",
       "    </tr>\n",
       "    <tr>\n",
       "      <th>18</th>\n",
       "      <td>10019</td>\n",
       "      <td>jini</td>\n",
       "      <td>12</td>\n",
       "      <td>Cricket</td>\n",
       "      <td>F</td>\n",
       "      <td>87</td>\n",
       "    </tr>\n",
       "  </tbody>\n",
       "</table>\n",
       "</div>"
      ],
      "text/plain": [
       "    RollNo  Name  Class     Game Gender  Marks\n",
       "6    10007  tina     12  Cricket      F     87\n",
       "18   10019  jini     12  Cricket      F     87"
      ]
     },
     "execution_count": 77,
     "metadata": {},
     "output_type": "execute_result"
    }
   ],
   "source": [
    "#Q see the data of male students having marks > 80 and playing cricket \n",
    "\n",
    "c1= df[(df['Class']==12)&(df[\"Gender\"]=='F')&(df['Game']==\"Cricket\")]\n",
    "c1"
   ]
  },
  {
   "cell_type": "code",
   "execution_count": 29,
   "metadata": {},
   "outputs": [
    {
     "data": {
      "text/plain": [
       "array([  198, 20014,    20], dtype=int64)"
      ]
     },
     "execution_count": 29,
     "metadata": {},
     "output_type": "execute_result"
    }
   ],
   "source": [
    "c1= df[(df[\"Class\"]==10)&(df['Game']==\"Cricket\")].sum()\n",
    "k=df[(df['Class'] == 10) & (df['Game']==\"Cricket\")][[\"Marks\",\"RollNo\",\"Class\"]].sum()\n",
    "k\n",
    "k.values\n",
    "\n"
   ]
  },
  {
   "cell_type": "code",
   "execution_count": 105,
   "metadata": {},
   "outputs": [
    {
     "name": "stdout",
     "output_type": "stream",
     "text": [
      "Game\n",
      "Chess       6\n",
      "Cricket     8\n",
      "Hockey     10\n",
      "dtype: int64\n"
     ]
    }
   ],
   "source": [
    "group = df.groupby('Game').size()\n",
    "print(group)"
   ]
  },
  {
   "cell_type": "markdown",
   "metadata": {},
   "source": [
    "#f[(df['Marks']>80)  |   (df[\"Gender\"]=='M') ]\n",
    "\n",
    "Q find count of Males playing Hockey\n",
    "Q Find the sum of marks of students of 10th class playing cricket\n",
    "Q Find gamewise count of students\n",
    "Q Find gamewise and genderwise count of students\n",
    "Crickeet M   5\n",
    "Cricket  F   2\n",
    "Hockey\n"
   ]
  },
  {
   "cell_type": "code",
   "execution_count": 125,
   "metadata": {},
   "outputs": [
    {
     "data": {
      "text/plain": [
       "<matplotlib.axes._subplots.AxesSubplot at 0x1b6ab264940>"
      ]
     },
     "execution_count": 125,
     "metadata": {},
     "output_type": "execute_result"
    },
    {
     "data": {
      "image/png": "[encoded data removed]",
      "text/plain": [
       "<matplotlib.figure.Figure at 0x1b6ab1ca780>"
      ]
     },
     "metadata": {},
     "output_type": "display_data"
    }
   ],
   "source": [
    "df.groupby(\"Gender\").Game.value_counts()\n",
    "df.groupby([\"Game\",\"Gender\"]).size().plot(kind=\"bar\")\n"
   ]
  },
  {
   "cell_type": "code",
   "execution_count": 109,
   "metadata": {},
   "outputs": [
    {
     "data": {
      "text/html": [
       "<div>\n",
       "<style scoped>\n",
       "    .dataframe tbody tr th:only-of-type {\n",
       "        vertical-align: middle;\n",
       "    }\n",
       "\n",
       "    .dataframe tbody tr th {\n",
       "        vertical-align: top;\n",
       "    }\n",
       "\n",
       "    .dataframe thead th {\n",
       "        text-align: right;\n",
       "    }\n",
       "</style>\n",
       "<table border=\"1\" class=\"dataframe\">\n",
       "  <thead>\n",
       "    <tr style=\"text-align: right;\">\n",
       "      <th></th>\n",
       "      <th></th>\n",
       "      <th>RollNo</th>\n",
       "      <th>Name</th>\n",
       "      <th>Class</th>\n",
       "      <th>Marks</th>\n",
       "    </tr>\n",
       "    <tr>\n",
       "      <th>Game</th>\n",
       "      <th>Gender</th>\n",
       "      <th></th>\n",
       "      <th></th>\n",
       "      <th></th>\n",
       "      <th></th>\n",
       "    </tr>\n",
       "  </thead>\n",
       "  <tbody>\n",
       "    <tr>\n",
       "      <th rowspan=\"2\" valign=\"top\">Chess</th>\n",
       "      <th>F</th>\n",
       "      <td>4</td>\n",
       "      <td>4</td>\n",
       "      <td>4</td>\n",
       "      <td>4</td>\n",
       "    </tr>\n",
       "    <tr>\n",
       "      <th>M</th>\n",
       "      <td>2</td>\n",
       "      <td>2</td>\n",
       "      <td>2</td>\n",
       "      <td>2</td>\n",
       "    </tr>\n",
       "    <tr>\n",
       "      <th rowspan=\"2\" valign=\"top\">Cricket</th>\n",
       "      <th>F</th>\n",
       "      <td>2</td>\n",
       "      <td>2</td>\n",
       "      <td>2</td>\n",
       "      <td>2</td>\n",
       "    </tr>\n",
       "    <tr>\n",
       "      <th>M</th>\n",
       "      <td>6</td>\n",
       "      <td>6</td>\n",
       "      <td>6</td>\n",
       "      <td>6</td>\n",
       "    </tr>\n",
       "    <tr>\n",
       "      <th rowspan=\"2\" valign=\"top\">Hockey</th>\n",
       "      <th>F</th>\n",
       "      <td>4</td>\n",
       "      <td>4</td>\n",
       "      <td>4</td>\n",
       "      <td>4</td>\n",
       "    </tr>\n",
       "    <tr>\n",
       "      <th>M</th>\n",
       "      <td>6</td>\n",
       "      <td>6</td>\n",
       "      <td>6</td>\n",
       "      <td>6</td>\n",
       "    </tr>\n",
       "  </tbody>\n",
       "</table>\n",
       "</div>"
      ],
      "text/plain": [
       "                RollNo  Name  Class  Marks\n",
       "Game    Gender                            \n",
       "Chess   F            4     4      4      4\n",
       "        M            2     2      2      2\n",
       "Cricket F            2     2      2      2\n",
       "        M            6     6      6      6\n",
       "Hockey  F            4     4      4      4\n",
       "        M            6     6      6      6"
      ]
     },
     "execution_count": 109,
     "metadata": {},
     "output_type": "execute_result"
    }
   ],
   "source": [
    "group=df.groupby([\"Game\",\"Gender\"]).count()\n",
    "group\n",
    "\n",
    "\n",
    "#select count(*), Game, Gender from student group by game, gender"
   ]
  },
  {
   "cell_type": "code",
   "execution_count": null,
   "metadata": {},
   "outputs": [],
   "source": [
    "g=df.groupby(['Game','Gender']).groups\n",
    "\n",
    "for gm,gender in g:\n",
    "    print(gm,\"  \", gender)\n",
    "    \n"
   ]
  },
  {
   "cell_type": "code",
   "execution_count": 25,
   "metadata": {},
   "outputs": [
    {
     "name": "stdout",
     "output_type": "stream",
     "text": [
      "<class 'pandas.core.series.Series'>\n"
     ]
    },
    {
     "data": {
      "text/plain": [
       "<AxesSubplot:xlabel='Class'>"
      ]
     },
     "execution_count": 25,
     "metadata": {},
     "output_type": "execute_result"
    },
    {
     "data": {
      "image/png": "[encoded data removed]",
      "text/plain": [
       "<Figure size 432x288 with 1 Axes>"
      ]
     },
     "metadata": {
      "needs_background": "light"
     },
     "output_type": "display_data"
    }
   ],
   "source": [
    "g3=df.groupby(\"Class\")\n",
    "s=g3['Class'].size()\n",
    "print(type(s))\n",
    "s.plot(kind=\"bar\")"
   ]
  },
  {
   "cell_type": "code",
   "execution_count": null,
   "metadata": {},
   "outputs": [],
   "source": [
    "grouped = df.groupby(\"Class\")\n",
    "grouped.groups"
   ]
  },
  {
   "cell_type": "code",
   "execution_count": null,
   "metadata": {},
   "outputs": [],
   "source": [
    "grouped[\"Marks\"].agg(sum)"
   ]
  },
  {
   "cell_type": "code",
   "execution_count": null,
   "metadata": {},
   "outputs": [],
   "source": [
    "grouped = df.groupby([\"Class\", \"Game\"])\n",
    "grouped.groups\n",
    "grouped[\"Marks\"].agg(sum)"
   ]
  },
  {
   "cell_type": "code",
   "execution_count": null,
   "metadata": {},
   "outputs": [],
   "source": [
    "\n",
    "Class\n",
    "10    Chess   678\n",
    "10    Cricket 567\n",
    "10    Hockey   345\n",
    "11    Chess\n",
    "11    Cricket\n",
    "11    Hockey\n",
    "12"
   ]
  },
  {
   "cell_type": "code",
   "execution_count": null,
   "metadata": {},
   "outputs": [],
   "source": [
    "for k,v in grouped:\n",
    "    print(k)\n",
    "    print(v)"
   ]
  },
  {
   "cell_type": "code",
   "execution_count": null,
   "metadata": {},
   "outputs": [],
   "source": [
    "d={11:'a', 21:'b', 31:'c'}\n",
    "d"
   ]
  },
  {
   "cell_type": "code",
   "execution_count": null,
   "metadata": {},
   "outputs": [],
   "source": [
    "for k,v in d.items():\n",
    "    print(k)\n",
    "    print(v)"
   ]
  },
  {
   "cell_type": "code",
   "execution_count": null,
   "metadata": {},
   "outputs": [],
   "source": []
  },
  {
   "cell_type": "code",
   "execution_count": null,
   "metadata": {},
   "outputs": [],
   "source": []
  },
  {
   "cell_type": "code",
   "execution_count": null,
   "metadata": {},
   "outputs": [],
   "source": [
    "k=df.loc[4 : , 'Class': 'Gender']\n",
    "k\n",
    "\n",
    "df['Game'].unique()\n",
    "\n",
    "#grouping and counting\n"
   ]
  },
  {
   "cell_type": "code",
   "execution_count": null,
   "metadata": {},
   "outputs": [],
   "source": [
    "d=df['Game'].value_counts()\n",
    "d\n",
    "#select count(*) from student group by game"
   ]
  },
  {
   "cell_type": "code",
   "execution_count": null,
   "metadata": {},
   "outputs": [],
   "source": [
    "grouped=df.groupby(\"Class\")\n",
    "print(type(grouped))\n",
    "grouped.groups\n",
    "#dictionary\n"
   ]
  },
  {
   "cell_type": "code",
   "execution_count": null,
   "metadata": {},
   "outputs": [],
   "source": [
    "g12=grouped.groups[12].size\n"
   ]
  },
  {
   "cell_type": "code",
   "execution_count": null,
   "metadata": {},
   "outputs": [],
   "source": [
    "for k,v in grouped:\n",
    "    print(k)\n",
    "    print(v)\n",
    "    print(v.shape)\n",
    "    print(type(v))"
   ]
  },
  {
   "cell_type": "code",
   "execution_count": null,
   "metadata": {},
   "outputs": [],
   "source": [
    "grouped=df.groupby(\"Game\")\n",
    "grouped.groups\n",
    "grouped[\"Marks\"].agg(sum)\n"
   ]
  },
  {
   "cell_type": "code",
   "execution_count": null,
   "metadata": {},
   "outputs": [],
   "source": [
    "classgame =df.groupby([ 'Game','Class' ])\n",
    "classgame[\"Marks\"].agg(sum)\n",
    "\n",
    "#select sum(marks),game,class from student group by game,class"
   ]
  },
  {
   "cell_type": "code",
   "execution_count": null,
   "metadata": {},
   "outputs": [],
   "source": [
    "classgame =df.groupby([ 'Class','Game' ])\n",
    "classgame.groups"
   ]
  },
  {
   "cell_type": "code",
   "execution_count": null,
   "metadata": {},
   "outputs": [],
   "source": [
    "s=grouped[\"Class\"].size()\n",
    "print(s)\n",
    "s.plot(kind=\"bar\")\n"
   ]
  },
  {
   "cell_type": "code",
   "execution_count": null,
   "metadata": {},
   "outputs": [],
   "source": [
    "classgame=df.groupby([ 'Game','Class' ])\n",
    "s=classgame[[ 'Game','Class' ]].size()\n",
    "print(s)\n",
    "s.plot(kind=\"bar\")"
   ]
  },
  {
   "cell_type": "code",
   "execution_count": null,
   "metadata": {},
   "outputs": [],
   "source": [
    "import matplotlib.pyplot as plt\n",
    "plt.figure(1)                     # the first figure\n",
    "plt.subplot(331)             # the first subplot in the first figure\n",
    "plt.hist(df.Class)\n",
    "\n",
    "plt.subplot(332)            # the second subplot in the first figure\n",
    "plt.hist(df.Marks)\n",
    "\n",
    "plt.subplot(333)            # the second subplot in the first figure\n",
    "plt.hist(df.Class)\n",
    "\n",
    "plt.subplot(334)            # the second subplot in the first figure\n",
    "plt.hist(df.Marks)\n",
    "plt.subplot(335)            # the second subplot in the first figure\n",
    "plt.hist(df.Marks)\n",
    "plt.subplot(336)            # the second subplot in the first figure\n",
    "plt.hist(df.Marks)\n",
    "\n"
   ]
  },
  {
   "cell_type": "code",
   "execution_count": null,
   "metadata": {},
   "outputs": [],
   "source": [
    "                     # a second figure\n",
    "from matplotlib import pyplot  as plt\n",
    "plt.hist(df.Gender)"
   ]
  },
  {
   "cell_type": "code",
   "execution_count": null,
   "metadata": {},
   "outputs": [],
   "source": [
    "grouped = df.groupby(\"Class\")\n",
    "grouped"
   ]
  },
  {
   "cell_type": "code",
   "execution_count": null,
   "metadata": {},
   "outputs": [],
   "source": [
    "grouped.groups\n"
   ]
  },
  {
   "cell_type": "code",
   "execution_count": null,
   "metadata": {},
   "outputs": [],
   "source": [
    "grouped.size()"
   ]
  },
  {
   "cell_type": "code",
   "execution_count": null,
   "metadata": {},
   "outputs": [],
   "source": [
    "df[\"Class\"].value_counts(dropna=False)\n"
   ]
  },
  {
   "cell_type": "code",
   "execution_count": null,
   "metadata": {},
   "outputs": [],
   "source": [
    "for name, group in grouped:\n",
    "    print(name)\n",
    "    print(group.shape)\n",
    "    print(type(group))\n",
    "    print(group)"
   ]
  },
  {
   "cell_type": "code",
   "execution_count": null,
   "metadata": {},
   "outputs": [],
   "source": [
    "student=grouped[\"Class\"].size()\n",
    "student=grouped[\"Marks\"].agg(np.sum)\n",
    "student\n"
   ]
  },
  {
   "cell_type": "code",
   "execution_count": null,
   "metadata": {},
   "outputs": [],
   "source": [
    "x = isinstance(\"Hello\", (float, int, str, list, dict, tuple))\n",
    "x"
   ]
  },
  {
   "cell_type": "code",
   "execution_count": null,
   "metadata": {},
   "outputs": [],
   "source": [
    "student=grouped[\"Marks\"].agg(np.sum)\n",
    "type(student)\n",
    "student"
   ]
  },
  {
   "cell_type": "code",
   "execution_count": null,
   "metadata": {},
   "outputs": [],
   "source": [
    "student.plot(kind=\"bar\")"
   ]
  },
  {
   "cell_type": "code",
   "execution_count": null,
   "metadata": {},
   "outputs": [],
   "source": [
    "st=df.groupby([\"Class\",\"Game\",\"Gender\"])\n",
    "\n",
    "s=st[[ 'Class','Game','Gender']].size()\n",
    "print(s)\n",
    "s.plot(kind=\"bar\")\n"
   ]
  },
  {
   "cell_type": "code",
   "execution_count": null,
   "metadata": {},
   "outputs": [],
   "source": [
    "s.plot(kind=\"hist\")\n",
    "#grouped.agg(np.mean)"
   ]
  },
  {
   "cell_type": "code",
   "execution_count": null,
   "metadata": {},
   "outputs": [],
   "source": [
    "g1=df.groupby(\"Class\")"
   ]
  },
  {
   "cell_type": "code",
   "execution_count": null,
   "metadata": {},
   "outputs": [],
   "source": [
    "g1"
   ]
  },
  {
   "cell_type": "code",
   "execution_count": null,
   "metadata": {},
   "outputs": [],
   "source": [
    "g1.boxplot()"
   ]
  },
  {
   "cell_type": "code",
   "execution_count": null,
   "metadata": {},
   "outputs": [],
   "source": [
    "import numpy as np\n",
    "import pandas as pd \n",
    "\n",
    "\n",
    "import pylab as pl\n",
    "import seaborn as sns\n",
    "import matplotlib.pyplot as plt\n",
    "import pylab as pl\n",
    "w=0.2\n",
    "x=[\"USA\", \"RUSSIA\", \"GERMANY\", \"CHINA\", \"GHANA\"]\n",
    "gold=[40,10,30,20,40]\n",
    "silver=[100,40,34,58,120]\n",
    "bronze=[200,100,250,120,90]\n",
    "\n",
    "bar1=np.arange(len(x))\n",
    "bar2=[i+w for i in bar1]\n",
    "print(bar2)\n",
    "bar3=[i+w for i in bar2]\n",
    "print(bar3)\n",
    "pl.figure(figsize=(12,5))\n",
    "plt.bar(bar1, gold, w , label=\"gold\")\n",
    "plt.bar(bar2, silver, w , label=\"silver\")\n",
    "plt.bar(bar3, gold, w , label=\"bronze\")\n",
    "\n",
    "plt.xlabel(\"Countries\")\n",
    "plt.ylabel(\"Medals\")\n",
    "plt.title(\"Countries and Medals\")\n",
    "plt.legend()\n",
    "#to have it in the centre of two bars  \n",
    "#The xticks() and yticks() function takes a list object as argument.\n",
    "plt.xticks(bar1+w, x)"
   ]
  },
  {
   "cell_type": "code",
   "execution_count": null,
   "metadata": {},
   "outputs": [],
   "source": []
  },
  {
   "cell_type": "code",
   "execution_count": null,
   "metadata": {},
   "outputs": [],
   "source": []
  }
 ],
 "metadata": {
  "kernelspec": {
   "display_name": "Python 3 (ipykernel)",
   "language": "python",
   "name": "python3"
  },
  "language_info": {
   "codemirror_mode": {
    "name": "ipython",
    "version": 3
   },
   "file_extension": ".py",
   "mimetype": "text/x-python",
   "name": "python",
   "nbconvert_exporter": "python",
   "pygments_lexer": "ipython3",
   "version": "3.9.7"
  }
 },
 "nbformat": 4,
 "nbformat_minor": 2
}
